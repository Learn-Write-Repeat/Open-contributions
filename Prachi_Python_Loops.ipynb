{
 "cells": [
  {
   "cell_type": "markdown",
   "metadata": {},
   "source": [
    "How to use conditional statements?"
   ]
  },
  {
   "cell_type": "markdown",
   "metadata": {},
   "source": [
    "## 1.for loops:"
   ]
  },
  {
   "cell_type": "markdown",
   "metadata": {},
   "source": [
    "Till the time the expression has a value and the conditions are satisfied for loop is executed , when the expression has reached it's last value , the control comes out of for loop.<br>\n",
    "After the for statement, we have indentations for all the lines of code present inside the for block. This indentation helps a user to understand , which python lines are inside the for block.\n",
    "\n",
    "Let us take some examples of for loops:"
   ]
  },
  {
   "cell_type": "markdown",
   "metadata": {},
   "source": [
    "<ul>\n",
    "<li><b><i>For loop for lists</i></b></li>\n",
    "    </ul>"
   ]
  },
  {
   "cell_type": "code",
   "execution_count": 3,
   "metadata": {},
   "outputs": [
    {
     "name": "stdout",
     "output_type": "stream",
     "text": [
      "dragonfruit\n",
      "custard apple\n",
      "mango\n"
     ]
    }
   ],
   "source": [
    "fruits=[\"dragonfruit\",\"custard apple\",\"mango\"]\n",
    "for i in fruits:\n",
    "    print(i)"
   ]
  },
  {
   "cell_type": "markdown",
   "metadata": {},
   "source": [
    "Here , we are iterating over the list of name fruits. First time 'i' takes the value of fruits[0] , next time i=fruits[1] , and finally i becomes fruits[2]. And , inside the loop we are printing 'i'. So, the values of the list is printed one by one.\n"
   ]
  },
  {
   "cell_type": "code",
   "execution_count": 4,
   "metadata": {},
   "outputs": [
    {
     "name": "stdout",
     "output_type": "stream",
     "text": [
      "triangle\n",
      "square\n",
      "rectangle\n"
     ]
    }
   ],
   "source": [
    "shapes=[\"triangle\",\"square\",\"rectangle\"]\n",
    "for s in shapes:\n",
    "    print(s)"
   ]
  },
  {
   "cell_type": "code",
   "execution_count": 5,
   "metadata": {
    "scrolled": true
   },
   "outputs": [
    {
     "ename": "SyntaxError",
     "evalue": "invalid syntax (<ipython-input-5-d51f1edd98ca>, line 2)",
     "output_type": "error",
     "traceback": [
      "\u001b[1;36m  File \u001b[1;32m\"<ipython-input-5-d51f1edd98ca>\"\u001b[1;36m, line \u001b[1;32m2\u001b[0m\n\u001b[1;33m    for s in shapes\u001b[0m\n\u001b[1;37m                   ^\u001b[0m\n\u001b[1;31mSyntaxError\u001b[0m\u001b[1;31m:\u001b[0m invalid syntax\n"
     ]
    }
   ],
   "source": [
    "shapes=[\"triangle\",\"square\",\"rectangle\"]\n",
    "for s in shapes\n",
    "    print(s)"
   ]
  },
  {
   "cell_type": "markdown",
   "metadata": {},
   "source": [
    "Importance of colon(:)!"
   ]
  },
  {
   "cell_type": "markdown",
   "metadata": {},
   "source": [
    "<ul>\n",
    "<li><b><i>For loop for numbers</i></b></li>\n",
    "    </ul>"
   ]
  },
  {
   "cell_type": "code",
   "execution_count": 6,
   "metadata": {},
   "outputs": [
    {
     "name": "stdout",
     "output_type": "stream",
     "text": [
      "0\n",
      "1\n",
      "2\n",
      "3\n",
      "4\n",
      "5\n",
      "6\n",
      "7\n",
      "8\n",
      "9\n"
     ]
    }
   ],
   "source": [
    "for i in range(10):\n",
    "    print(i)"
   ]
  },
  {
   "cell_type": "markdown",
   "metadata": {},
   "source": [
    "range starts from 0 , and goes till n-1(where n is the specified number)"
   ]
  },
  {
   "cell_type": "code",
   "execution_count": 8,
   "metadata": {},
   "outputs": [
    {
     "name": "stdout",
     "output_type": "stream",
     "text": [
      "5\n",
      "10\n",
      "15\n",
      "20\n",
      "25\n",
      "30\n",
      "35\n",
      "40\n",
      "45\n",
      "50\n",
      "55\n"
     ]
    }
   ],
   "source": [
    "for i in range(5,60,5):\n",
    "    print(i)"
   ]
  },
  {
   "cell_type": "markdown",
   "metadata": {},
   "source": [
    "<ul>\n",
    "<li><b><i>For loop for tuples</i></b></li>\n",
    "    </ul>"
   ]
  },
  {
   "cell_type": "code",
   "execution_count": 9,
   "metadata": {},
   "outputs": [
    {
     "name": "stdout",
     "output_type": "stream",
     "text": [
      "blue\n",
      "yellow\n",
      "red\n"
     ]
    }
   ],
   "source": [
    "colours=(\"blue\",\"yellow\",\"red\")\n",
    "for c in colours:\n",
    "    print(c)"
   ]
  },
  {
   "cell_type": "markdown",
   "metadata": {},
   "source": [
    "Here , colours is a tuple. \n",
    "We are iterating ober a tuple.\n",
    "Each time the value of c changes with each iteraton and the new value is printed.\n",
    "Firstly , c is \"blue\".\n",
    "After the first iteration the value of c becomes \"red\".\n",
    "After the second iteration the value of c becomes \"yellow\".\n",
    "And in each iteration the value of c is printed."
   ]
  },
  {
   "cell_type": "code",
   "execution_count": 11,
   "metadata": {},
   "outputs": [
    {
     "name": "stdout",
     "output_type": "stream",
     "text": [
      "name\n",
      "age\n",
      "id\n"
     ]
    }
   ],
   "source": [
    "character = (\"name\",\"age\",\"id\")\n",
    "for a in character:\n",
    "    print(a)"
   ]
  },
  {
   "cell_type": "code",
   "execution_count": 12,
   "metadata": {},
   "outputs": [
    {
     "name": "stdout",
     "output_type": "stream",
     "text": [
      "5 10\n",
      "20 40\n"
     ]
    }
   ],
   "source": [
    "a=((5,10),(20,40))\n",
    "for c,d in a:\n",
    "    print(c,d)"
   ]
  },
  {
   "cell_type": "markdown",
   "metadata": {},
   "source": [
    "And we can keep playing with this!"
   ]
  },
  {
   "cell_type": "markdown",
   "metadata": {},
   "source": [
    "<ul>\n",
    "<li><b><i>For loop for sets</i></b></li>\n",
    "    </ul>"
   ]
  },
  {
   "cell_type": "code",
   "execution_count": 13,
   "metadata": {},
   "outputs": [
    {
     "name": "stdout",
     "output_type": "stream",
     "text": [
      "8\n",
      "1\n",
      "11\n",
      "5\n"
     ]
    }
   ],
   "source": [
    "sets={1,5,11,8}\n",
    "for c in sets:\n",
    "    print(c)"
   ]
  },
  {
   "cell_type": "code",
   "execution_count": 14,
   "metadata": {},
   "outputs": [
    {
     "name": "stdout",
     "output_type": "stream",
     "text": [
      "0\n",
      "1\n",
      "33\n",
      "2\n",
      "5\n",
      "75\n",
      "25\n",
      "60\n"
     ]
    }
   ],
   "source": [
    "sets={60,5,1,0,75,1,25,33,60,2,0,75,25}\n",
    "for c in sets:\n",
    "    print(c)"
   ]
  },
  {
   "cell_type": "code",
   "execution_count": 15,
   "metadata": {},
   "outputs": [
    {
     "name": "stdout",
     "output_type": "stream",
     "text": [
      "custard apple\n",
      "banana\n",
      "apple\n",
      "mango\n"
     ]
    }
   ],
   "source": [
    "sets={\"apple\",\"banana\",\"custard apple\",\"mango\",\"apple\"}\n",
    "for i in sets:\n",
    "    print(i)\n"
   ]
  },
  {
   "cell_type": "markdown",
   "metadata": {},
   "source": [
    "<ul>\n",
    "<li><b><i>For loop for dictionaries</i></b></li>\n",
    "    </ul>"
   ]
  },
  {
   "cell_type": "code",
   "execution_count": 16,
   "metadata": {},
   "outputs": [
    {
     "name": "stdout",
     "output_type": "stream",
     "text": [
      "name\n",
      "year\n",
      "cgpa\n"
     ]
    }
   ],
   "source": [
    "dicts={\"name\":\"Prachi\",\"year\":\"1998\",\"cgpa\":\"9.23\"}\n",
    "for keys in dicts:\n",
    "    print(keys)"
   ]
  },
  {
   "cell_type": "code",
   "execution_count": 19,
   "metadata": {},
   "outputs": [
    {
     "name": "stdout",
     "output_type": "stream",
     "text": [
      "Prachi\n",
      "1998\n",
      "9.23\n"
     ]
    }
   ],
   "source": [
    "dicts={\"name\":\"Prachi\",\"year\":\"1998\",\"cgpa\":\"9.23\"}\n",
    "for keys in dicts:\n",
    "    print(dicts[keys])"
   ]
  },
  {
   "cell_type": "code",
   "execution_count": 21,
   "metadata": {},
   "outputs": [
    {
     "name": "stdout",
     "output_type": "stream",
     "text": [
      "name Prachi\n",
      "year 1998\n",
      "cgpa 9.23\n"
     ]
    }
   ],
   "source": [
    "dicts={\"name\":\"Prachi\",\"year\":\"1998\",\"cgpa\":\"9.23\"}\n",
    "for keys,values in dicts.items():\n",
    "    print(keys,values)"
   ]
  },
  {
   "cell_type": "code",
   "execution_count": 23,
   "metadata": {},
   "outputs": [
    {
     "name": "stdout",
     "output_type": "stream",
     "text": [
      "Prachi\n",
      "1998\n",
      "9.23\n"
     ]
    }
   ],
   "source": [
    "dicts={\"name\":\"Prachi\",\"year\":\"1998\",\"cgpa\":\"9.23\"}\n",
    "for keys in dicts.values():\n",
    "    print(keys)"
   ]
  },
  {
   "cell_type": "markdown",
   "metadata": {},
   "source": [
    "## 2.While loops"
   ]
  },
  {
   "cell_type": "code",
   "execution_count": 24,
   "metadata": {},
   "outputs": [
    {
     "name": "stdout",
     "output_type": "stream",
     "text": [
      "0\n",
      "1\n",
      "2\n",
      "3\n",
      "4\n"
     ]
    }
   ],
   "source": [
    "i=0\n",
    "while i<5:\n",
    "    print(i)\n",
    "    i=i+1"
   ]
  },
  {
   "cell_type": "code",
   "execution_count": 25,
   "metadata": {},
   "outputs": [
    {
     "name": "stdout",
     "output_type": "stream",
     "text": [
      "-5\n",
      "-4\n",
      "-3\n",
      "-2\n"
     ]
    }
   ],
   "source": [
    "i = -5\n",
    "while i<0:\n",
    "    print(i)\n",
    "    if i==-2:\n",
    "        break\n",
    "    i+=1"
   ]
  },
  {
   "cell_type": "code",
   "execution_count": 27,
   "metadata": {},
   "outputs": [
    {
     "name": "stdout",
     "output_type": "stream",
     "text": [
      "[0, 1, 5, 3, 8, 20]\n",
      "[0, 1, 5, 3, 8]\n",
      "[0, 1, 5, 3]\n",
      "[0, 1, 5]\n",
      "[0, 1]\n",
      "[0]\n"
     ]
    }
   ],
   "source": [
    "l=[0,1,5,3,8,20]\n",
    "while l:\n",
    "    print(l)\n",
    "    l.pop()"
   ]
  },
  {
   "cell_type": "code",
   "execution_count": 32,
   "metadata": {},
   "outputs": [
    {
     "name": "stdout",
     "output_type": "stream",
     "text": [
      "['*', '*', '*', '*', '*']\n",
      "['*', '*', '*', '*']\n",
      "['*', '*', '*']\n",
      "['*', '*']\n",
      "['*']\n"
     ]
    }
   ],
   "source": [
    "l=['*']*5\n",
    "while l:\n",
    "    print(l)\n",
    "    l.pop()"
   ]
  },
  {
   "cell_type": "code",
   "execution_count": 35,
   "metadata": {},
   "outputs": [
    {
     "name": "stdout",
     "output_type": "stream",
     "text": [
      "10\n"
     ]
    }
   ],
   "source": [
    "i=0\n",
    "sum=0\n",
    "while i<5:\n",
    "    sum+=i\n",
    "    i+=1\n",
    "print(sum)"
   ]
  },
  {
   "cell_type": "markdown",
   "metadata": {},
   "source": [
    "\n",
    "<p>\n",
    "\n",
    "*This contribution has been made by Prachi Agarwal. Contact me directly on my e-mail:agarwal.ashu.21@gmail.com . Or ping me at, https://www.instagram.com/prachi_diwan21/ .*\n",
    "\n",
    "</p>\n",
    "\n",
    "    \n"
   ]
  }
 ],
 "metadata": {
  "kernelspec": {
   "display_name": "Python 3",
   "language": "python",
   "name": "python3"
  },
  "language_info": {
   "codemirror_mode": {
    "name": "ipython",
    "version": 3
   },
   "file_extension": ".py",
   "mimetype": "text/x-python",
   "name": "python",
   "nbconvert_exporter": "python",
   "pygments_lexer": "ipython3",
   "version": "3.7.4"
  }
 },
 "nbformat": 4,
 "nbformat_minor": 2
}
