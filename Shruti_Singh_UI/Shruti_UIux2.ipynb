Content and user interfaces can be planned and assembled structured and modularly in a similar manner — comparable to bricks in a building block system. 
