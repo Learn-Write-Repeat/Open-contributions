{
  "nbformat": 4,
  "nbformat_minor": 0,
  "metadata": {
    "colab": {
      "name": "SharathChandrika_ML_Evaluationmetric.ipynb",
      "provenance": [],
      "collapsed_sections": []
    },
    "kernelspec": {
      "name": "python3",
      "display_name": "Python 3"
    }
  },
  "cells": [
    {
      "cell_type": "markdown",
      "metadata": {
        "id": "WryjM6R6onDD",
        "colab_type": "text"
      },
      "source": [
        "# Evaluation metrics"
      ]
    },
    {
      "cell_type": "markdown",
      "metadata": {
        "id": "LRdZcpHCpjbd",
        "colab_type": "text"
      },
      "source": [
        "*consider,* \n",
        "\n",
        "\n",
        "> **y_true = [1, 0, 1, 1, 0, 1],**\n",
        "**y_pred = [0, 0, 1, 1, 0, 1]**\n",
        "\n",
        "\n",
        "\n",
        "> *to compute confusion matrix ,precision_score,recall_score,f1_score,accuracy_score.*\n",
        "\n",
        "\n",
        "\n",
        "\n",
        "\n"
      ]
    },
    {
      "cell_type": "markdown",
      "metadata": {
        "id": "ma1OWbNwo1a-",
        "colab_type": "text"
      },
      "source": [
        "# 1. Confusion matrix\n"
      ]
    },
    {
      "cell_type": "code",
      "metadata": {
        "id": "eEf32OIFghIW",
        "colab_type": "code",
        "colab": {
          "base_uri": "https://localhost:8080/",
          "height": 51
        },
        "outputId": "e0d30f37-bd0b-441f-dfa9-6e059f771c7e"
      },
      "source": [
        "from sklearn.metrics import confusion_matrix\n",
        "y_true = [1, 0, 1, 1, 0, 1]\n",
        "y_pred = [0, 0, 1, 1, 0, 1]\n",
        "confusion_matrix(y_true, y_pred)"
      ],
      "execution_count": 1,
      "outputs": [
        {
          "output_type": "execute_result",
          "data": {
            "text/plain": [
              "array([[2, 0],\n",
              "       [1, 3]])"
            ]
          },
          "metadata": {
            "tags": []
          },
          "execution_count": 1
        }
      ]
    },
    {
      "cell_type": "markdown",
      "metadata": {
        "id": "Ag1fv0fCqDiF",
        "colab_type": "text"
      },
      "source": [
        "# 2. Precision Score"
      ]
    },
    {
      "cell_type": "code",
      "metadata": {
        "id": "mfpt4dsvolB5",
        "colab_type": "code",
        "colab": {
          "base_uri": "https://localhost:8080/",
          "height": 34
        },
        "outputId": "7f223129-e2f5-454e-cc02-cf857c97be13"
      },
      "source": [
        "from sklearn.metrics import precision_score\n",
        "y_true = [1, 0, 1, 1, 0, 1]\n",
        "y_pred = [0, 0, 1, 1, 0, 1]\n",
        "precision = precision_score(y_true, y_pred, average='binary')\n",
        "print('Precision: %.1f' % precision)"
      ],
      "execution_count": 2,
      "outputs": [
        {
          "output_type": "stream",
          "text": [
            "Precision: 1.0\n"
          ],
          "name": "stdout"
        }
      ]
    },
    {
      "cell_type": "markdown",
      "metadata": {
        "id": "bKhQtRXMqLSG",
        "colab_type": "text"
      },
      "source": [
        "# 3. Recall_score"
      ]
    },
    {
      "cell_type": "code",
      "metadata": {
        "id": "lDYRiBXkgtsk",
        "colab_type": "code",
        "colab": {
          "base_uri": "https://localhost:8080/",
          "height": 34
        },
        "outputId": "ba61f87f-33b9-4ab3-a597-613e9a809140"
      },
      "source": [
        "from sklearn.metrics import recall_score\n",
        "y_true = [1, 0, 1, 1, 0, 1]\n",
        "y_pred = [0, 0, 1, 1, 0, 1]\n",
        "recall = recall_score(y_true, y_pred, average='binary')\n",
        "print('Recall: %.1f' % recall)\n"
      ],
      "execution_count": 3,
      "outputs": [
        {
          "output_type": "stream",
          "text": [
            "Recall: 0.8\n"
          ],
          "name": "stdout"
        }
      ]
    },
    {
      "cell_type": "markdown",
      "metadata": {
        "id": "SYBdkXzNqbK7",
        "colab_type": "text"
      },
      "source": [
        "# 4. F1_Score"
      ]
    },
    {
      "cell_type": "code",
      "metadata": {
        "id": "zm3KC91djKHN",
        "colab_type": "code",
        "colab": {
          "base_uri": "https://localhost:8080/",
          "height": 34
        },
        "outputId": "c57b36f7-0236-434b-9027-add7b7122a7a"
      },
      "source": [
        "from sklearn.metrics import f1_score\n",
        "y_true = [1, 0, 1, 1, 0, 1]\n",
        "y_pred = [0, 0, 1, 1, 0, 1]\n",
        "score = f1_score(y_true, y_pred, average='binary')\n",
        "print('F-Measure: %.3f' % score)"
      ],
      "execution_count": 4,
      "outputs": [
        {
          "output_type": "stream",
          "text": [
            "F-Measure: 0.857\n"
          ],
          "name": "stdout"
        }
      ]
    },
    {
      "cell_type": "markdown",
      "metadata": {
        "id": "zJ_ZzzZJ99jF",
        "colab_type": "text"
      },
      "source": [
        "# 5.Accuracy Score"
      ]
    },
    {
      "cell_type": "code",
      "metadata": {
        "id": "NVCLKK1e-A77",
        "colab_type": "code",
        "colab": {
          "base_uri": "https://localhost:8080/",
          "height": 34
        },
        "outputId": "0697f37b-06b3-40b3-bddb-4bab7c41477e"
      },
      "source": [
        "from sklearn.metrics import accuracy_score\n",
        "y_true = [1, 0, 1, 1, 0, 1]\n",
        "y_pred = [0, 0, 1, 1, 0, 1]\n",
        "accuracy_score(y_true, y_pred)"
      ],
      "execution_count": 5,
      "outputs": [
        {
          "output_type": "execute_result",
          "data": {
            "text/plain": [
              "0.8333333333333334"
            ]
          },
          "metadata": {
            "tags": []
          },
          "execution_count": 5
        }
      ]
    },
    {
      "cell_type": "markdown",
      "metadata": {
        "id": "E8M9h1TvqgpG",
        "colab_type": "text"
      },
      "source": [
        "let us take y= [1,1,2,2] and scores=[0.1, 0.4, 0.35, 0.8] to calculate False Positive Rate,True Positive Rate,ROC curve"
      ]
    },
    {
      "cell_type": "code",
      "metadata": {
        "id": "sEAlHdqwmrs1",
        "colab_type": "code",
        "colab": {}
      },
      "source": [
        "import numpy as np\n",
        "from sklearn import metrics\n",
        "y = np.array([1, 1, 2, 2])\n",
        "scores = np.array([0.1, 0.4, 0.35, 0.8])\n",
        "fpr, tpr, thresholds = metrics.roc_curve(y, scores, pos_label=2)"
      ],
      "execution_count": 6,
      "outputs": []
    },
    {
      "cell_type": "markdown",
      "metadata": {
        "id": "nMOCAQ1ZrA4H",
        "colab_type": "text"
      },
      "source": [
        " # False Positive Rate"
      ]
    },
    {
      "cell_type": "code",
      "metadata": {
        "id": "AQP3cu3pm38u",
        "colab_type": "code",
        "colab": {
          "base_uri": "https://localhost:8080/",
          "height": 34
        },
        "outputId": "e5f422b2-54be-408c-ddc9-3cc2cf0301ef"
      },
      "source": [
        "fpr"
      ],
      "execution_count": 7,
      "outputs": [
        {
          "output_type": "execute_result",
          "data": {
            "text/plain": [
              "array([0. , 0. , 0.5, 0.5, 1. ])"
            ]
          },
          "metadata": {
            "tags": []
          },
          "execution_count": 7
        }
      ]
    },
    {
      "cell_type": "markdown",
      "metadata": {
        "id": "qKVPVMuVrGj7",
        "colab_type": "text"
      },
      "source": [
        "# True Positive Rate"
      ]
    },
    {
      "cell_type": "code",
      "metadata": {
        "id": "0MrXjJ_am5F9",
        "colab_type": "code",
        "colab": {
          "base_uri": "https://localhost:8080/",
          "height": 34
        },
        "outputId": "a79b1bf8-b321-4524-a103-c5d29af94bdd"
      },
      "source": [
        "tpr"
      ],
      "execution_count": 8,
      "outputs": [
        {
          "output_type": "execute_result",
          "data": {
            "text/plain": [
              "array([0. , 0.5, 0.5, 1. , 1. ])"
            ]
          },
          "metadata": {
            "tags": []
          },
          "execution_count": 8
        }
      ]
    },
    {
      "cell_type": "code",
      "metadata": {
        "id": "YPenwcKKm6ec",
        "colab_type": "code",
        "colab": {
          "base_uri": "https://localhost:8080/",
          "height": 34
        },
        "outputId": "347a4f3a-37bf-4294-bc9a-adae4542a71b"
      },
      "source": [
        "thresholds"
      ],
      "execution_count": 9,
      "outputs": [
        {
          "output_type": "execute_result",
          "data": {
            "text/plain": [
              "array([1.8 , 0.8 , 0.4 , 0.35, 0.1 ])"
            ]
          },
          "metadata": {
            "tags": []
          },
          "execution_count": 9
        }
      ]
    },
    {
      "cell_type": "markdown",
      "metadata": {
        "id": "WFJqSJrhrNHA",
        "colab_type": "text"
      },
      "source": [
        "## 6. ROC curve"
      ]
    },
    {
      "cell_type": "code",
      "metadata": {
        "id": "wivRmIPHm8ii",
        "colab_type": "code",
        "colab": {
          "base_uri": "https://localhost:8080/",
          "height": 295
        },
        "outputId": "9df24004-f9d8-45b8-8fa9-b2f4761d8d33"
      },
      "source": [
        "import matplotlib.pyplot as plt\n",
        "plt.plot(fpr,tpr, color = 'blue')\n",
        "plt.xlabel('False Positive Rate')\n",
        "plt.ylabel('True Positive Rate')\n",
        "plt.title('ROC')\n",
        "plt.show()"
      ],
      "execution_count": 10,
      "outputs": [
        {
          "output_type": "display_data",
          "data": {
            "image/png": "[encoded data removed]",
            "text/plain": [
              "<Figure size 432x288 with 1 Axes>"
            ]
          },
          "metadata": {
            "tags": [],
            "needs_background": "light"
          }
        }
      ]
    }
  ]
}