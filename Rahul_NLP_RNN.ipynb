{
 "cells": [
  {
   "cell_type": "markdown",
   "metadata": {},
   "source": [
    "### Recurrent Neural Networks with pytorch\n",
    "\n",
    "In this example we are going to see how we can implement RNN. In  the following code we will be using imdb data set to perform Sentiment analysis\n",
    "\n",
    "Before we get started we need to install pytorch \n",
    "Download pytorch with the following [LINK](https://pytorch.org/get-started/locally/)\n",
    "Also Go through [Rahul_NLP_RR.md]() for concepts of MD\n",
    "\n",
    "#### we will be using pytorch to impement basic RNN model\n",
    "\n",
    "Here we will be doing Sentiment analysis on IMDB data set, the output will either be 0 a negitive sentiment or 1 a positive sentiment.\n"
   ]
  },
  {
   "cell_type": "markdown",
   "metadata": {},
   "source": [
    "#### Our frist task is to import packeges that we are going to use\n",
    "\n",
    "We will be importing 2 Packages \n",
    "* torch\n",
    "* torchtext\n",
    "    * torchtext consists of data processing utilities and some popular datasets of naturl launguage\n",
    "\n",
    "One of the main concepts of TorchText is the Field. These define how your data should be processed. In our sentiment classification task the data consists of both the raw string of the review and the sentiment, either \"pos\" or \"neg\"."
   ]
  },
  {
   "cell_type": "code",
   "execution_count": 2,
   "metadata": {},
   "outputs": [],
   "source": [
    "import torch\n",
    "from torchtext import data\n",
    "\n",
    "torch.manual_seed(1234)\n",
    "torch.backends.cudnn.deterministic = True\n",
    "\n",
    "TEXT = data.Field()\n",
    "LABEL = data.LabelField(dtype = torch.float)"
   ]
  },
  {
   "cell_type": "markdown",
   "metadata": {},
   "source": [
    "#### Train test split\n",
    "\n",
    "Similar to deep learning where we split data into train and test data and in each as X and Y, where X had the data and Y had a label corresponding to that perticual data. Here we use the IMDB data set and split them into train and test.\n",
    "Here TEXT is similar to X and LABEL is similar to Y"
   ]
  },
  {
   "cell_type": "code",
   "execution_count": 4,
   "metadata": {},
   "outputs": [],
   "source": [
    "from torchtext import datasets\n",
    "\n",
    "train_data, test_data = datasets.IMDB.splits(TEXT, LABEL)"
   ]
  },
  {
   "cell_type": "code",
   "execution_count": 5,
   "metadata": {},
   "outputs": [
    {
     "name": "stdout",
     "output_type": "stream",
     "text": [
      "Number of training examples: 25000\n",
      "Number of testing examples: 25000\n"
     ]
    }
   ],
   "source": [
    "print(f'Number of training examples: {len(train_data)}')\n",
    "print(f'Number of testing examples: {len(test_data)}')"
   ]
  },
  {
   "cell_type": "code",
   "execution_count": 6,
   "metadata": {},
   "outputs": [
    {
     "name": "stdout",
     "output_type": "stream",
     "text": [
      "{'text': ['This', \"isn't\", 'the', 'comedic', 'Robin', 'Williams,', 'nor', 'is', 'it', 'the', 'quirky/insane', 'Robin', 'Williams', 'of', 'recent', 'thriller', 'fame.', 'This', 'is', 'a', 'hybrid', 'of', 'the', 'classic', 'drama', 'without', 'over-dramatization,', 'mixed', 'with', \"Robin's\", 'new', 'love', 'of', 'the', 'thriller.', 'But', 'this', \"isn't\", 'a', 'thriller,', 'per', 'se.', 'This', 'is', 'more', 'a', 'mystery/suspense', 'vehicle', 'through', 'which', 'Williams', 'attempts', 'to', 'locate', 'a', 'sick', 'boy', 'and', 'his', 'keeper.<br', '/><br', '/>Also', 'starring', 'Sandra', 'Oh', 'and', 'Rory', 'Culkin,', 'this', 'Suspense', 'Drama', 'plays', 'pretty', 'much', 'like', 'a', 'news', 'report,', 'until', \"William's\", 'character', 'gets', 'close', 'to', 'achieving', 'his', 'goal.<br', '/><br', '/>I', 'must', 'say', 'that', 'I', 'was', 'highly', 'entertained,', 'though', 'this', 'movie', 'fails', 'to', 'teach,', 'guide,', 'inspect,', 'or', 'amuse.', 'It', 'felt', 'more', 'like', 'I', 'was', 'watching', 'a', 'guy', '(Williams),', 'as', 'he', 'was', 'actually', 'performing', 'the', 'actions,', 'from', 'a', 'third', 'person', 'perspective.', 'In', 'other', 'words,', 'it', 'felt', 'real,', 'and', 'I', 'was', 'able', 'to', 'subscribe', 'to', 'the', 'premise', 'of', 'the', 'story.<br', '/><br', '/>All', 'in', 'all,', \"it's\", 'worth', 'a', 'watch,', 'though', \"it's\", 'definitely', 'not', 'Friday/Saturday', 'night', 'fare.<br', '/><br', '/>It', 'rates', 'a', '7.7/10', 'from...<br', '/><br', '/>the', 'Fiend', ':.'], 'label': 'pos'}\n"
     ]
    }
   ],
   "source": [
    "print(vars(train_data.examples[5]))"
   ]
  },
  {
   "cell_type": "markdown",
   "metadata": {},
   "source": [
    "### DEV / Validation set\n",
    "We will be splitting the training data into dev/validation sets\n",
    "\n",
    "Dev sets are used to verify which model works best on the data. \n",
    "\n",
    "There are many diffrent architectures in the RNNs and we need to find out what works best with our datasets and hence testing the model on large datasets will take a lot of time. This is where the dev set comes into picture\n",
    "If the current model dosen't work that well then we can try out LSTM RNN and many such model that provide better results.\n",
    "Since dev set consists small data sets it will be easy to implement the new changes in the model on it and validate which technique works best "
   ]
  },
  {
   "cell_type": "code",
   "execution_count": 7,
   "metadata": {},
   "outputs": [],
   "source": [
    "import random\n",
    "train_data, valid_data = train_data.split(random_state = random.seed(SEED))"
   ]
  },
  {
   "cell_type": "code",
   "execution_count": 8,
   "metadata": {},
   "outputs": [
    {
     "name": "stdout",
     "output_type": "stream",
     "text": [
      "No training samples: 17500\n",
      "No validation samples: 7500\n",
      "No testing samples: 25000\n"
     ]
    }
   ],
   "source": [
    "print(f'No training samples: {len(train_data)}')\n",
    "print(f'No validation samples: {len(valid_data)}')\n",
    "print(f'No testing samples: {len(test_data)}')"
   ]
  },
  {
   "attachments": {
    "img.png": {
     "image/png": "[encoded data removed]"
    }
   },
   "cell_type": "markdown",
   "metadata": {},
   "source": [
    "### Now we have to build a Vocab and we will be using One-hot Vector\n",
    "\n",
    "We do this as our RNN model cannot operate on strings. So we need to represent them in numbers. Each index is used to construct a one-hot vector for each word. A one-hot vector is a vector where all of the elements are 0, except one, which is 1, and dimensionality is the total number of unique words in your vocabulary, commonly denoted by *V*.\n",
    "\n",
    "The image below represents the one-hot vetor\n",
    "\n",
    "![img.png](attachment:img.png)"
   ]
  },
  {
   "cell_type": "code",
   "execution_count": 9,
   "metadata": {},
   "outputs": [],
   "source": [
    "Max_size_vcb = 25_000\n",
    "TEXT.build_vocab(train_data, max_size = Max_size_vcb)\n",
    "LABEL.build_vocab(train_data)"
   ]
  },
  {
   "cell_type": "code",
   "execution_count": 10,
   "metadata": {},
   "outputs": [
    {
     "name": "stdout",
     "output_type": "stream",
     "text": [
      "Unique tokens in TEXT vocabulary: 25002\n",
      "Unique tokens in LABEL vocabulary: 2\n"
     ]
    }
   ],
   "source": [
    "print(f\"Unique tokens in TEXT vocabulary: {len(TEXT.vocab)}\")\n",
    "print(f\"Unique tokens in LABEL vocabulary: {len(LABEL.vocab)}\")"
   ]
  },
  {
   "cell_type": "code",
   "execution_count": 11,
   "metadata": {},
   "outputs": [
    {
     "name": "stdout",
     "output_type": "stream",
     "text": [
      "[('the', 201637), ('a', 108267), ('and', 106782), ('of', 99982), ('to', 92808), ('is', 72305), ('in', 59801), ('I', 45880), ('that', 45107), ('this', 40094), ('it', 38059), ('/><br', 35752), ('was', 32706), ('as', 29668), ('with', 29022), ('for', 28896), ('The', 23668), ('but', 23604), ('on', 21550), ('movie', 21368)]\n"
     ]
    }
   ],
   "source": [
    "print(TEXT.vocab.freqs.most_common(20))"
   ]
  },
  {
   "cell_type": "code",
   "execution_count": 12,
   "metadata": {},
   "outputs": [
    {
     "name": "stdout",
     "output_type": "stream",
     "text": [
      "['<unk>', '<pad>', 'the', 'a', 'and', 'of', 'to', 'is', 'in', 'I']\n"
     ]
    }
   ],
   "source": [
    "print(TEXT.vocab.itos[:10])"
   ]
  },
  {
   "cell_type": "code",
   "execution_count": 13,
   "metadata": {},
   "outputs": [
    {
     "name": "stdout",
     "output_type": "stream",
     "text": [
      "defaultdict(None, {'neg': 0, 'pos': 1})\n"
     ]
    }
   ],
   "source": [
    "print(LABEL.vocab.stoi)"
   ]
  },
  {
   "cell_type": "code",
   "execution_count": null,
   "metadata": {},
   "outputs": [],
   "source": []
  },
  {
   "cell_type": "code",
   "execution_count": 27,
   "metadata": {},
   "outputs": [],
   "source": [
    "BATCH_SIZE = 64\n",
    "\n",
    "device = torch.device('cpu')\n",
    "\n",
    "train_iterator, valid_iterator, test_iterator = data.BucketIterator.splits(\n",
    "    (train_data, valid_data, test_data), \n",
    "    batch_size = BATCH_SIZE,\n",
    "    device = device)"
   ]
  },
  {
   "cell_type": "markdown",
   "metadata": {},
   "source": [
    "## Building our RNN model\n",
    "\n",
    "here we will be building simple RNN model and check how the model works with our datasets\n",
    "\n",
    "We Will be importing the neural networks lib from torch.\n",
    "     *(This lib consists built in RNN module and we will be using it)*\n",
    " If the module dosen't show good results then we can go with other RNN models such as LSTM-RNN etc..\n",
    "We can also use the bidirectional Rnn model\n",
    "\n",
    "#### In the code below \n",
    "* Here the RNN class is a sub-class of nn.Module \n",
    "* The three layers that we have initialized in the model are an embedding layer, our RNN, and a linear layer. All layers have their parameters initialized to random values\n",
    "    * The embedding layer is used to transform the One Hot vector into a dense embedding vector \n",
    "    * RNN which takes in our dense vector and the previous hidden state $h_{t-1}$, which it uses to calculate the next hidden state, $h_t$.\n",
    "*  The linear layer takes the final hidden state and feeds it through a fully connected layer, $f(h_T)$, transforming it to the correct output dimension.\n",
    "* The RNN returns 2 tensors, output and hidden. output is the concatenation of the hidden state from every time step, whereas hidden is simply the final hidden state. We verify this using the assert statement. "
   ]
  },
  {
   "cell_type": "code",
   "execution_count": 28,
   "metadata": {},
   "outputs": [],
   "source": [
    "import torch.nn as nn\n",
    "\n",
    "class RNN(nn.Module):\n",
    "    def __init__(self, input_dim, embedding_dim, hidden_dim, output_dim):\n",
    "        \n",
    "        super().__init__()\n",
    "        \n",
    "        self.embedding = nn.Embedding(input_dim, embedding_dim)\n",
    "        \n",
    "        self.rnn = nn.RNN(embedding_dim, hidden_dim)\n",
    "        \n",
    "        self.fc = nn.Linear(hidden_dim, output_dim)\n",
    "        \n",
    "    def forward(self, text):\n",
    "        \n",
    "        embedded = self.embedding(text)\n",
    "        \n",
    "        output, hidden = self.rnn(embedded)\n",
    "        \n",
    "        assert torch.equal(output[-1,:,:], hidden.squeeze(0))\n",
    "        \n",
    "        return self.fc(hidden.squeeze(0))"
   ]
  },
  {
   "cell_type": "code",
   "execution_count": 29,
   "metadata": {},
   "outputs": [],
   "source": [
    "INPUT_DIM = len(TEXT.vocab)\n",
    "EMBEDDING_DIM = 100\n",
    "HIDDEN_DIM = 256\n",
    "OUTPUT_DIM = 1\n",
    "\n",
    "model = RNN(INPUT_DIM, EMBEDDING_DIM, HIDDEN_DIM, OUTPUT_DIM)"
   ]
  },
  {
   "cell_type": "code",
   "execution_count": 30,
   "metadata": {},
   "outputs": [
    {
     "name": "stdout",
     "output_type": "stream",
     "text": [
      "The model has 2,592,105 trainable parameters\n"
     ]
    }
   ],
   "source": [
    "def count_parameters(model):\n",
    "    return sum(p.numel() for p in model.parameters() if p.requires_grad)\n",
    "\n",
    "print(f'The model has {count_parameters(model):,} trainable parameters')"
   ]
  },
  {
   "cell_type": "markdown",
   "metadata": {},
   "source": [
    "### Model optimization\n",
    "\n",
    "Similar to the backward prop perfomed in Deep learning by using optimization algoritmns such as *gradient descent*, *RMS prop*, \n",
    "*ADAM* here we are using *socastic gradient descent* \n",
    "\n",
    "For this we need to import the optim module from pytorch (click on the [LINK](www.pytorch.org) to know more)\n",
    "\n",
    "We need to specify the models parameters and the learning rate. I have used a learning rate of 0.001\n",
    "\n",
    "The function is fed to the sigmoid layer and then the output is generated between 0 and 1. if the output is greater than 0.5 then the output will be 1 else 0.\n",
    "\n",
    "### Cost function\n",
    "\n",
    "Our model has to output either 0 or 1. for this we need to use the sigmoid function, similar to the logestic regression performed by the DL model. Then we need to calculate the loss\n",
    "\n",
    "The 0 or 1 indecates if the model is positive or negitive sentiment\n",
    "\n",
    "Here we use *BCEwithLogitsLoss* to perfom both the sigmoid and calculate the loss using the Cross entropy"
   ]
  },
  {
   "cell_type": "code",
   "execution_count": 31,
   "metadata": {},
   "outputs": [],
   "source": [
    "import torch.optim as optim\n",
    "\n",
    "optimizer = optim.SGD(model.parameters(), lr=0.001)\n",
    "criterion = nn.BCEWithLogitsLoss()\n",
    "model = model.to(device)\n",
    "criterion = criterion.to(device)"
   ]
  },
  {
   "cell_type": "code",
   "execution_count": 34,
   "metadata": {},
   "outputs": [],
   "source": [
    "def accur(preds, y):\n",
    "    rounded_preds = torch.round(torch.sigmoid(preds))\n",
    "    correct = (rounded_preds == y).float() \n",
    "    acc = correct.sum() / len(correct)\n",
    "    return acc"
   ]
  },
  {
   "cell_type": "markdown",
   "metadata": {},
   "source": [
    "We feed the batch of sentences, batch.text, into the model. The squeeze is needed as the predictions are initially size [batch size, 1], and we need to remove the dimension of size 1 as PyTorch expects the predictions input to our criterion function to be of size [batch size].\n",
    "\n",
    "* The loss and accuracy are then calculated using our predictions and the labels, batch.label, with the loss being averaged over all examples in the batch.\n",
    "\n",
    "* We calculate the gradient of the parameters by loss.backward(), and then update the parameters using the gradients and optimizer algorithm with optimizer.step().\n",
    "\n",
    "* The loss and accuracy is accumulated across the epoch, the .item() method is used to extract a scalar from a tensor which only contains a single value."
   ]
  },
  {
   "cell_type": "code",
   "execution_count": 35,
   "metadata": {},
   "outputs": [],
   "source": [
    "def train(model, iterator, optimizer, criterion):\n",
    "    \n",
    "    epoch_loss = 0\n",
    "    epoch_acc = 0\n",
    "    \n",
    "    model.train()\n",
    "    \n",
    "    for batch in iterator:\n",
    "        \n",
    "        optimizer.zero_grad()\n",
    "                \n",
    "        predictions = model(batch.text).squeeze(1)\n",
    "        \n",
    "        loss = criterion(predictions, batch.label)\n",
    "        \n",
    "        acc = binary_accuracy(predictions, batch.label)\n",
    "        \n",
    "        loss.backward()\n",
    "        \n",
    "        optimizer.step()\n",
    "        \n",
    "        epoch_loss += loss.item()\n",
    "        epoch_acc += acc.item()\n",
    "        \n",
    "    return epoch_loss / len(iterator), epoch_acc / len(iterator)"
   ]
  },
  {
   "cell_type": "markdown",
   "metadata": {},
   "source": [
    "Dev is similar to the train function but we wont be updating the parameters\n",
    "model.eval() this turns off dropout and batch normalization.\n",
    "gradients are not calculated on PyTorch operations inside the with no_grad() block."
   ]
  },
  {
   "cell_type": "code",
   "execution_count": 36,
   "metadata": {},
   "outputs": [],
   "source": [
    "\n",
    "def dev(model, iterator, criterion):\n",
    "    \n",
    "    epoch_loss = 0\n",
    "    epoch_acc = 0\n",
    "    \n",
    "    model.eval()\n",
    "    \n",
    "    with torch.no_grad():\n",
    "    \n",
    "        for batch in iterator:\n",
    "\n",
    "            predictions = model(batch.text).squeeze(1)\n",
    "            \n",
    "            loss = criterion(predictions, batch.label)\n",
    "            \n",
    "            acc = accur(predictions, batch.label)\n",
    "\n",
    "            epoch_loss += loss.item()\n",
    "            epoch_acc += acc.item()\n",
    "        \n",
    "    return epoch_loss / len(iterator), epoch_acc / len(iterator)"
   ]
  },
  {
   "cell_type": "code",
   "execution_count": 37,
   "metadata": {},
   "outputs": [],
   "source": [
    "import time\n",
    "\n",
    "def epoch_time(start_time, end_time):\n",
    "    elapsed_time = end_time - start_time\n",
    "    elapsed_mins = int(elapsed_time / 60)\n",
    "    elapsed_secs = int(elapsed_time - (elapsed_mins * 60))\n",
    "    return elapsed_mins, elapsed_secs"
   ]
  },
  {
   "cell_type": "markdown",
   "metadata": {},
   "source": [
    "Now all we do is train the model with multiple itterations or epochs. \n",
    "In each step of training the model both the forward and the optimization takes place and the parameters get updated \n",
    "\n",
    "*Keep the epoch_count for 6 or above, I've only kept the count to one because it takes a lot of time to run on my device*"
   ]
  },
  {
   "cell_type": "code",
   "execution_count": 38,
   "metadata": {},
   "outputs": [
    {
     "name": "stdout",
     "output_type": "stream",
     "text": [
      "Epoch: 01 | Epoch Time: 5m 13s\n",
      "\tTrain Loss: 0.694 | Train Acc: 50.27%\n",
      "\t Val. Loss: 0.695 |  Val. Acc: 49.22%\n"
     ]
    }
   ],
   "source": [
    "\n",
    "Epoch_count = 1\n",
    "\n",
    "best_valid_loss = float('inf')\n",
    "\n",
    "for epoch in range(Epoch_count):\n",
    "\n",
    "    start_time = time.time()\n",
    "    \n",
    "    train_loss, train_acc = train(model, train_iterator, optimizer, criterion)\n",
    "    valid_loss, valid_acc = dev(model, valid_iterator, criterion)\n",
    "    \n",
    "    end_time = time.time()\n",
    "\n",
    "    epoch_mins, epoch_secs = epoch_time(start_time, end_time)\n",
    "    \n",
    "    if valid_loss < best_valid_loss:\n",
    "        best_valid_loss = valid_loss\n",
    "        torch.save(model.state_dict(), 'tut1-model.pt')\n",
    "    \n",
    "    print(f'Epoch: {epoch+1:02} | Epoch Time: {epoch_mins}m {epoch_secs}s')\n",
    "    print(f'\\tTrain Loss: {train_loss:.3f} | Train Acc: {train_acc*100:.2f}%')\n",
    "    print(f'\\t Val. Loss: {valid_loss:.3f} |  Val. Acc: {valid_acc*100:.2f}%')"
   ]
  },
  {
   "cell_type": "markdown",
   "metadata": {},
   "source": [
    "### Conclusion \n",
    "\n",
    "We can observe that our model is not doing well on the training set, this shows that the is Bias and we need to reduce the bias \n",
    "this can be done by:\n",
    "* providing more data to the training set\n",
    "* Using LSTM-RNN insted of basic RNN\n",
    "* Regularization for improving the accuracy of the dev/velidation set\n",
    "* Using Bidirectional RNN\n",
    "\n",
    "By implementing all of this to our model we will be able to improve its performance "
   ]
  },
  {
   "cell_type": "code",
   "execution_count": null,
   "metadata": {},
   "outputs": [],
   "source": []
  }
 ],
 "metadata": {
  "kernelspec": {
   "display_name": "Python 3",
   "language": "python",
   "name": "python3"
  },
  "language_info": {
   "codemirror_mode": {
    "name": "ipython",
    "version": 3
   },
   "file_extension": ".py",
   "mimetype": "text/x-python",
   "name": "python",
   "nbconvert_exporter": "python",
   "pygments_lexer": "ipython3",
   "version": "3.8.3"
  }
 },
 "nbformat": 4,
 "nbformat_minor": 4
}
