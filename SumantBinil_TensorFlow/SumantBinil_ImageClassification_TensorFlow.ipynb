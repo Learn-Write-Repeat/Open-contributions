{
 "cells": [
  {
   "cell_type": "markdown",
   "metadata": {
    "id": "r2VMHFz8waVc"
   },
   "source": [
    "# Model to Classify Chest X-ray images "
   ]
  },
  {
   "cell_type": "markdown",
   "metadata": {
    "id": "l25Xe2DFwpjh"
   },
   "source": [
    "## Environment Set-up in Colab\n",
    "Importing the required libraries"
   ]
  },
  {
   "cell_type": "code",
   "execution_count": 1,
   "metadata": {
    "id": "pP5lveXGuxR2"
   },
   "outputs": [],
   "source": [
    "import tensorflow as tf\n",
    "from tensorflow.keras.applications import MobileNetV2\n",
    "\n",
    "from sklearn.metrics import classification_report\n",
    "import numpy as np\n",
    "import matplotlib.pyplot as plt"
   ]
  },
  {
   "cell_type": "markdown",
   "metadata": {
    "id": "TtYOnnkn50Fw"
   },
   "source": [
    "Connecting to Google Drive to access the data."
   ]
  },
  {
   "cell_type": "code",
   "execution_count": 2,
   "metadata": {
    "colab": {
     "base_uri": "https://localhost:8080/"
    },
    "id": "trrlG-0WyfAF",
    "outputId": "719a4589-7152-4e13-87f8-92c500456481"
   },
   "outputs": [
    {
     "name": "stdout",
     "output_type": "stream",
     "text": [
      "Mounted at /content/gdrive\n"
     ]
    }
   ],
   "source": [
    "from google.colab import drive\n",
    "drive.mount('/content/gdrive')"
   ]
  },
  {
   "cell_type": "markdown",
   "metadata": {
    "id": "OQ7B6STQ5q4g"
   },
   "source": [
    "## Building the model"
   ]
  },
  {
   "cell_type": "code",
   "execution_count": 3,
   "metadata": {
    "colab": {
     "base_uri": "https://localhost:8080/"
    },
    "id": "YmgepqDZiSzi",
    "outputId": "c1c84ae5-3007-4f7d-a18e-68e66a9ecebe"
   },
   "outputs": [
    {
     "name": "stdout",
     "output_type": "stream",
     "text": [
      "Downloading data from https://storage.googleapis.com/tensorflow/keras-applications/mobilenet_v2/mobilenet_v2_weights_tf_dim_ordering_tf_kernels_1.0_224_no_top.h5\n",
      "9412608/9406464 [==============================] - 0s 0us/step\n"
     ]
    }
   ],
   "source": [
    " #Import the MobileNetV2 model and discard the 1000 neuron fully-connected layer at the top of the network.\n",
    "base_model= MobileNetV2(weights='imagenet',include_top=False, input_shape=(224,224,3)) \n",
    "\n",
    "#Freeze the layers from MobileNetV2 backbone, since it is already trained on the imagenet data and is only being used as a feature extractor \n",
    "#(transfer learning).\n",
    "for layer in base_model.layers:\n",
    "    layer.trainable=False\n",
    "\n",
    "#add dense layers to perform the classification\n",
    "model = tf.keras.models.Sequential()\n",
    "model.add(base_model)\n",
    "model.add(tf.keras.layers.GlobalAveragePooling2D())\n",
    "model.add(tf.keras.layers.Dense(128, activation = 'relu')) #dense layer 1\n",
    "model.add(tf.keras.layers.Dense(1, activation='sigmoid')) #final classificaton layer with sigmoid activation\n",
    "\n"
   ]
  },
  {
   "cell_type": "markdown",
   "metadata": {
    "id": "dvkyNJQ-8mkG"
   },
   "source": [
    "Preparing the training data as an image data generator object. The data is accessed from the directory where it is stored. "
   ]
  },
  {
   "cell_type": "code",
   "execution_count": 31,
   "metadata": {
    "colab": {
     "base_uri": "https://localhost:8080/"
    },
    "id": "KrOfG1v3rXMJ",
    "outputId": "7d3f0472-7014-48d1-95db-9a5a4ddfa485"
   },
   "outputs": [
    {
     "name": "stdout",
     "output_type": "stream",
     "text": [
      "Found 5216 images belonging to 2 classes.\n",
      "Found 16 images belonging to 2 classes.\n"
     ]
    }
   ],
   "source": [
    "train_datagen=tf.keras.preprocessing.image.ImageDataGenerator(preprocessing_function=tf.keras.applications.mobilenet_v2.preprocess_input)\n",
    "\n",
    "val_datagen=tf.keras.preprocessing.image.ImageDataGenerator(preprocessing_function=tf.keras.applications.mobilenet_v2.preprocess_input)\n",
    "\n",
    "train_generator=train_datagen.flow_from_directory('gdrive/MyDrive/chest_xray/train',\n",
    "                                                 target_size=(224,224),\n",
    "                                                 color_mode='rgb',\n",
    "                                                 batch_size=10,\n",
    "                                                 class_mode='binary',\n",
    "                                                 shuffle=True)\n",
    "\n",
    "val_generator=val_datagen.flow_from_directory('gdrive/MyDrive/chest_xray/val',\n",
    "                                                 target_size=(224,224),\n",
    "                                                 color_mode='rgb',\n",
    "                                                 batch_size=10,\n",
    "                                                 class_mode='binary',\n",
    "                                                 shuffle=False)"
   ]
  },
  {
   "cell_type": "markdown",
   "metadata": {
    "id": "7OpPNfDR-wyk"
   },
   "source": [
    "Using Adam as optimization method, binary_crossentropy as loss function and accuracy as metrics the model is compiled."
   ]
  },
  {
   "cell_type": "code",
   "execution_count": 5,
   "metadata": {
    "colab": {
     "base_uri": "https://localhost:8080/"
    },
    "id": "4PtQGKqdk-Qc",
    "outputId": "7f446343-2db4-428a-ea1a-610191023a84"
   },
   "outputs": [
    {
     "name": "stdout",
     "output_type": "stream",
     "text": [
      "Model: \"sequential\"\n",
      "_________________________________________________________________\n",
      "Layer (type)                 Output Shape              Param #   \n",
      "=================================================================\n",
      "mobilenetv2_1.00_224 (Functi (None, 7, 7, 1280)        2257984   \n",
      "_________________________________________________________________\n",
      "global_average_pooling2d (Gl (None, 1280)              0         \n",
      "_________________________________________________________________\n",
      "dense (Dense)                (None, 128)               163968    \n",
      "_________________________________________________________________\n",
      "dense_1 (Dense)              (None, 1)                 129       \n",
      "=================================================================\n",
      "Total params: 2,422,081\n",
      "Trainable params: 164,097\n",
      "Non-trainable params: 2,257,984\n",
      "_________________________________________________________________\n"
     ]
    }
   ],
   "source": [
    "model.compile(optimizer='adam', loss='binary_crossentropy', metrics=['accuracy'])\n",
    "model.summary()"
   ]
  },
  {
   "cell_type": "markdown",
   "metadata": {
    "id": "WZpKvIVp-8qk"
   },
   "source": [
    "## Training the Model"
   ]
  },
  {
   "cell_type": "code",
   "execution_count": 6,
   "metadata": {
    "colab": {
     "base_uri": "https://localhost:8080/"
    },
    "id": "Svsdf7dilJnq",
    "outputId": "cfbe476b-aa4e-410a-b0bb-7c6768e33667"
   },
   "outputs": [
    {
     "name": "stdout",
     "output_type": "stream",
     "text": [
      "Epoch 1/5\n",
      "522/522 [==============================] - 1531s 3s/step - loss: 0.1109 - accuracy: 0.9576 - val_loss: 0.2229 - val_accuracy: 0.9375\n",
      "Epoch 2/5\n",
      "522/522 [==============================] - 62s 118ms/step - loss: 0.0569 - accuracy: 0.9795 - val_loss: 0.0814 - val_accuracy: 1.0000\n",
      "Epoch 3/5\n",
      "522/522 [==============================] - 61s 117ms/step - loss: 0.0564 - accuracy: 0.9787 - val_loss: 0.3208 - val_accuracy: 0.8750\n",
      "Epoch 4/5\n",
      "522/522 [==============================] - 61s 117ms/step - loss: 0.0354 - accuracy: 0.9883 - val_loss: 0.2585 - val_accuracy: 0.8750\n",
      "Epoch 5/5\n",
      "522/522 [==============================] - 61s 116ms/step - loss: 0.0363 - accuracy: 0.9862 - val_loss: 0.0283 - val_accuracy: 1.0000\n"
     ]
    }
   ],
   "source": [
    "log_file = model.fit(train_generator, epochs=5, validation_data=val_generator, batch_size=10)"
   ]
  },
  {
   "cell_type": "markdown",
   "metadata": {
    "id": "wVVLPhS10oGQ"
   },
   "source": [
    "### Visualizing training and validation loss and accuracy"
   ]
  },
  {
   "cell_type": "code",
   "execution_count": 63,
   "metadata": {
    "colab": {
     "base_uri": "https://localhost:8080/",
     "height": 350
    },
    "id": "d0gh0u-O0hMr",
    "outputId": "793190ce-adee-496b-b0d2-fe5c387e716f"
   },
   "outputs": [
    {
     "data": {
      "image/png": "[encoded data removed]",
      "text/plain": [
       "<Figure size 720x360 with 2 Axes>"
      ]
     },
     "metadata": {
      "needs_background": "light",
      "tags": []
     },
     "output_type": "display_data"
    }
   ],
   "source": [
    "plt.figure(figsize=(10,5))\n",
    "plt.subplot(1,2,1)\n",
    "plt.plot(log_file.history['accuracy'], '-bo', label='Train Accuracy')\n",
    "plt.plot(log_file.history['val_accuracy'], '-r*', label='Validation Accuracy')\n",
    "plt.title('Training and Validation Accuracy')\n",
    "plt.ylabel('Accuracy')\n",
    "plt.xlabel('Epoch #')\n",
    "plt.legend(loc='lower right')\n",
    "\n",
    "plt.subplot(1,2,2)\n",
    "plt.plot(log_file.history['loss'], '-bo', label='Train Loss')\n",
    "plt.plot(log_file.history['val_loss'], '-r*', label='Validation Loss')\n",
    "plt.title('Training and Validation Loss')\n",
    "plt.ylabel('Loss')\n",
    "plt.xlabel('Epoch #')\n",
    "plt.legend(loc='upper right')\n",
    "\n",
    "plt.show()"
   ]
  },
  {
   "cell_type": "markdown",
   "metadata": {
    "id": "7cySrq6a_VHF"
   },
   "source": [
    "## Testing Results\n"
   ]
  },
  {
   "cell_type": "code",
   "execution_count": 20,
   "metadata": {
    "colab": {
     "base_uri": "https://localhost:8080/"
    },
    "id": "vBUp06Cu_uUk",
    "outputId": "bf333491-5ceb-4123-c118-d50cdae7b03e"
   },
   "outputs": [
    {
     "name": "stdout",
     "output_type": "stream",
     "text": [
      "Found 624 images belonging to 2 classes.\n"
     ]
    }
   ],
   "source": [
    "test_datagen=tf.keras.preprocessing.image.ImageDataGenerator(preprocessing_function=tf.keras.applications.mobilenet_v2.preprocess_input) #included in our dependencies\n",
    "\n",
    "test_generator=test_datagen.flow_from_directory('gdrive/MyDrive/chest_xray/test',\n",
    "                                                 target_size=(224,224),\n",
    "                                                 color_mode='rgb',\n",
    "                                                 batch_size=10,\n",
    "                                                 class_mode='binary',\n",
    "                                                 shuffle=False)"
   ]
  },
  {
   "cell_type": "code",
   "execution_count": 61,
   "metadata": {
    "colab": {
     "base_uri": "https://localhost:8080/",
     "height": 319
    },
    "id": "VuQhMgUpthXl",
    "outputId": "06bef207-626a-4d02-811b-2d9822107c1f"
   },
   "outputs": [
    {
     "data": {
      "image/png": "[encoded data removed]",
      "text/plain": [
       "<Figure size 360x360 with 1 Axes>"
      ]
     },
     "metadata": {
      "tags": []
     },
     "output_type": "display_data"
    }
   ],
   "source": [
    "y_test = test_generator.labels\n",
    "classes , counts = np.unique(y_test, return_counts=True)\n",
    "\n",
    "plt.figure(figsize=(5,5))\n",
    "plt.pie(counts,labels=['Normal','Pneumonia'], autopct=\"%.1f%%\")\n",
    "plt.title('Distribution of Test Data')\n",
    "plt.show()"
   ]
  },
  {
   "cell_type": "markdown",
   "metadata": {
    "id": "x_QdDD1qzejA"
   },
   "source": [
    "The test data is imbalanced. Hence the performance of the algorithm is judged based on precision, recall and f1 score."
   ]
  },
  {
   "cell_type": "code",
   "execution_count": 65,
   "metadata": {
    "colab": {
     "base_uri": "https://localhost:8080/"
    },
    "id": "Xf_4udBZpadn",
    "outputId": "84c1fb77-848a-4b92-ce18-384a063dd3dc"
   },
   "outputs": [
    {
     "name": "stdout",
     "output_type": "stream",
     "text": [
      "              precision    recall  f1-score   support\n",
      "\n",
      "           0       0.96      0.63      0.76       234\n",
      "           1       0.82      0.98      0.89       390\n",
      "\n",
      "    accuracy                           0.85       624\n",
      "   macro avg       0.89      0.81      0.83       624\n",
      "weighted avg       0.87      0.85      0.84       624\n",
      "\n"
     ]
    }
   ],
   "source": [
    "preds = model.predict(test_generator)\n",
    "y_pred = list()\n",
    "for prob in preds:\n",
    "    if prob >= 0.5:\n",
    "        y_pred.append(1)\n",
    "    else:\n",
    "        y_pred.append(0)\n",
    "print(classification_report(y_test, y_pred))"
   ]
  },
  {
   "cell_type": "markdown",
   "metadata": {
    "id": "TckVBLF8Oe7_"
   },
   "source": [
    "## Saving the model weights"
   ]
  },
  {
   "cell_type": "code",
   "execution_count": 64,
   "metadata": {
    "colab": {
     "base_uri": "https://localhost:8080/"
    },
    "id": "3rnUXFo9MX37",
    "outputId": "4510dec1-f167-4a8d-a71f-08bd73e983cb"
   },
   "outputs": [
    {
     "name": "stderr",
     "output_type": "stream",
     "text": [
      "/usr/local/lib/python3.7/dist-packages/tensorflow/python/keras/utils/generic_utils.py:497: CustomMaskWarning: Custom mask layers require a config and must override get_config. When loading, the custom mask layer must be passed to the custom_objects argument.\n",
      "  category=CustomMaskWarning)\n"
     ]
    }
   ],
   "source": [
    "tf.keras.models.save_model(model,'/model/XrayClassification.h5')"
   ]
  },
  {
   "cell_type": "code",
   "execution_count": null,
   "metadata": {
    "id": "UcaRdi3p1imL"
   },
   "outputs": [],
   "source": []
  }
 ],
 "metadata": {
  "accelerator": "GPU",
  "colab": {
   "collapsed_sections": [],
   "name": "SumantBinil_ImageClassification_TensorFlow_V2.ipynb",
   "provenance": []
  },
  "kernelspec": {
   "display_name": "Python 3",
   "language": "python",
   "name": "python3"
  },
  "language_info": {
   "codemirror_mode": {
    "name": "ipython",
    "version": 3
   },
   "file_extension": ".py",
   "mimetype": "text/x-python",
   "name": "python",
   "nbconvert_exporter": "python",
   "pygments_lexer": "ipython3",
   "version": "3.9.1"
  }
 },
 "nbformat": 4,
 "nbformat_minor": 4
}
