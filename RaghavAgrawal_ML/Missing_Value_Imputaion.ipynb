{
 "cells": [
  {
   "cell_type": "markdown",
   "metadata": {},
   "source": [
    "# DevIncept"
   ]
  },
  {
   "cell_type": "markdown",
   "metadata": {},
   "source": [
    "## All Techniques For Missing Value Imputation"
   ]
  },
  {
   "cell_type": "markdown",
   "metadata": {},
   "source": [
    "### Data Imputation\n",
    "Data Imputation is an act of replacing the missing data with some statistical measures of missing values.\n",
    "Datasets may have missing values and this cause problem to many Machine learning algorithms\n",
    "\n",
    "**The treatment of missing values is necessary for following reasons:-**\n",
    "- Missing value affects the distribution of data\n",
    "- Missing value affects the complexity and accuracy of machine learning model\n",
    "- Without treating Missing values we cannot perform the mathematical computation on data\n",
    "\n",
    "As such, It's good practice to identify and replace the missing values prior to modelling and prediction task to avoid such parameters to occur during your Machine Learning journey. So, let's deep dive and learn all the techniques which can be used in different cases to treat missing values.\n"
   ]
  },
  {
   "cell_type": "markdown",
   "metadata": {},
   "source": [
    "## Missing Data Imputation Techniques\n",
    "We’re going to dive into techniques that apply to numerical and categorical variables, and also I will tell the techniques which are applied on both and when to use which technique with benifits and limitations.\n",
    "\n",
    "The dataset I am going is use is Titanic Dataset which you can easily found on Kaggle or download from <a><link rel=\"stylesheet\" href=\"https://www.kaggle.com/c/titanic/data\" target=\"_blank\">here</a>\n",
    "\n",
    "**Numerical**\n",
    "* Mean, Median imputation\n",
    "* Arbitrary Value Imputaion\n",
    "* End of Distribution\n",
    "\n",
    "**Categorical**\n",
    "* Frequent category imputaion\n",
    "* Add a missing category\n",
    "\n",
    "**Both**\n",
    "* Random Sampling Imputation\n",
    "* Add a Missing Indicator\n",
    "* Complete Case Analysis"
   ]
  },
  {
   "cell_type": "code",
   "execution_count": 1,
   "metadata": {},
   "outputs": [],
   "source": [
    "# first import the libraries\n",
    "import numpy as np\n",
    "import pandas as pd\n",
    "import matplotlib.pyplot as plt\n",
    "import seaborn as sns"
   ]
  },
  {
   "cell_type": "code",
   "execution_count": 2,
   "metadata": {},
   "outputs": [
    {
     "data": {
      "text/html": [
       "<div>\n",
       "<style scoped>\n",
       "    .dataframe tbody tr th:only-of-type {\n",
       "        vertical-align: middle;\n",
       "    }\n",
       "\n",
       "    .dataframe tbody tr th {\n",
       "        vertical-align: top;\n",
       "    }\n",
       "\n",
       "    .dataframe thead th {\n",
       "        text-align: right;\n",
       "    }\n",
       "</style>\n",
       "<table border=\"1\" class=\"dataframe\">\n",
       "  <thead>\n",
       "    <tr style=\"text-align: right;\">\n",
       "      <th></th>\n",
       "      <th>PassengerId</th>\n",
       "      <th>Survived</th>\n",
       "      <th>Pclass</th>\n",
       "      <th>Name</th>\n",
       "      <th>Sex</th>\n",
       "      <th>Age</th>\n",
       "      <th>SibSp</th>\n",
       "      <th>Parch</th>\n",
       "      <th>Ticket</th>\n",
       "      <th>Fare</th>\n",
       "      <th>Cabin</th>\n",
       "      <th>Embarked</th>\n",
       "    </tr>\n",
       "  </thead>\n",
       "  <tbody>\n",
       "    <tr>\n",
       "      <th>0</th>\n",
       "      <td>1</td>\n",
       "      <td>0</td>\n",
       "      <td>3</td>\n",
       "      <td>Braund, Mr. Owen Harris</td>\n",
       "      <td>male</td>\n",
       "      <td>22.0</td>\n",
       "      <td>1</td>\n",
       "      <td>0</td>\n",
       "      <td>A/5 21171</td>\n",
       "      <td>7.2500</td>\n",
       "      <td>NaN</td>\n",
       "      <td>S</td>\n",
       "    </tr>\n",
       "    <tr>\n",
       "      <th>1</th>\n",
       "      <td>2</td>\n",
       "      <td>1</td>\n",
       "      <td>1</td>\n",
       "      <td>Cumings, Mrs. John Bradley (Florence Briggs Th...</td>\n",
       "      <td>female</td>\n",
       "      <td>38.0</td>\n",
       "      <td>1</td>\n",
       "      <td>0</td>\n",
       "      <td>PC 17599</td>\n",
       "      <td>71.2833</td>\n",
       "      <td>C85</td>\n",
       "      <td>C</td>\n",
       "    </tr>\n",
       "    <tr>\n",
       "      <th>2</th>\n",
       "      <td>3</td>\n",
       "      <td>1</td>\n",
       "      <td>3</td>\n",
       "      <td>Heikkinen, Miss. Laina</td>\n",
       "      <td>female</td>\n",
       "      <td>26.0</td>\n",
       "      <td>0</td>\n",
       "      <td>0</td>\n",
       "      <td>STON/O2. 3101282</td>\n",
       "      <td>7.9250</td>\n",
       "      <td>NaN</td>\n",
       "      <td>S</td>\n",
       "    </tr>\n",
       "    <tr>\n",
       "      <th>3</th>\n",
       "      <td>4</td>\n",
       "      <td>1</td>\n",
       "      <td>1</td>\n",
       "      <td>Futrelle, Mrs. Jacques Heath (Lily May Peel)</td>\n",
       "      <td>female</td>\n",
       "      <td>35.0</td>\n",
       "      <td>1</td>\n",
       "      <td>0</td>\n",
       "      <td>113803</td>\n",
       "      <td>53.1000</td>\n",
       "      <td>C123</td>\n",
       "      <td>S</td>\n",
       "    </tr>\n",
       "    <tr>\n",
       "      <th>4</th>\n",
       "      <td>5</td>\n",
       "      <td>0</td>\n",
       "      <td>3</td>\n",
       "      <td>Allen, Mr. William Henry</td>\n",
       "      <td>male</td>\n",
       "      <td>35.0</td>\n",
       "      <td>0</td>\n",
       "      <td>0</td>\n",
       "      <td>373450</td>\n",
       "      <td>8.0500</td>\n",
       "      <td>NaN</td>\n",
       "      <td>S</td>\n",
       "    </tr>\n",
       "  </tbody>\n",
       "</table>\n",
       "</div>"
      ],
      "text/plain": [
       "   PassengerId  Survived  Pclass  \\\n",
       "0            1         0       3   \n",
       "1            2         1       1   \n",
       "2            3         1       3   \n",
       "3            4         1       1   \n",
       "4            5         0       3   \n",
       "\n",
       "                                                Name     Sex   Age  SibSp  \\\n",
       "0                            Braund, Mr. Owen Harris    male  22.0      1   \n",
       "1  Cumings, Mrs. John Bradley (Florence Briggs Th...  female  38.0      1   \n",
       "2                             Heikkinen, Miss. Laina  female  26.0      0   \n",
       "3       Futrelle, Mrs. Jacques Heath (Lily May Peel)  female  35.0      1   \n",
       "4                           Allen, Mr. William Henry    male  35.0      0   \n",
       "\n",
       "   Parch            Ticket     Fare Cabin Embarked  \n",
       "0      0         A/5 21171   7.2500   NaN        S  \n",
       "1      0          PC 17599  71.2833   C85        C  \n",
       "2      0  STON/O2. 3101282   7.9250   NaN        S  \n",
       "3      0            113803  53.1000  C123        S  \n",
       "4      0            373450   8.0500   NaN        S  "
      ]
     },
     "execution_count": 2,
     "metadata": {},
     "output_type": "execute_result"
    }
   ],
   "source": [
    "#load datset\n",
    "data = pd.read_csv('datasets/Titanic.csv')\n",
    "data.head()"
   ]
  },
  {
   "cell_type": "code",
   "execution_count": 3,
   "metadata": {},
   "outputs": [
    {
     "data": {
      "text/plain": [
       "PassengerId      0\n",
       "Survived         0\n",
       "Pclass           0\n",
       "Name             0\n",
       "Sex              0\n",
       "Age            177\n",
       "SibSp            0\n",
       "Parch            0\n",
       "Ticket           0\n",
       "Fare             0\n",
       "Cabin          687\n",
       "Embarked         2\n",
       "dtype: int64"
      ]
     },
     "execution_count": 3,
     "metadata": {},
     "output_type": "execute_result"
    }
   ],
   "source": [
    "# finding missing values\n",
    "data.isnull().sum()  #or data.isna().sum()"
   ]
  },
  {
   "cell_type": "markdown",
   "metadata": {},
   "source": [
    "* Here Age is a numeric column so we will take this column to perform missing value imputaion techniques for numeric variable "
   ]
  },
  {
   "cell_type": "markdown",
   "metadata": {},
   "source": [
    "## 1) Mean, Median Imputation\n",
    "Mean or Median Imputation consist of replacing the missing values with statistical mean or median of variable\n",
    "- if the variable follows the normal distribution then mean and median is normally the same\n",
    "- if there is skewed data then, it's better to use median or for using mean you should transform the variable first into normal form.\n",
    "\n",
    "you can use this technique when data is missing completly at random and percentage of missing data is less then 5%"
   ]
  },
  {
   "cell_type": "code",
   "execution_count": 4,
   "metadata": {},
   "outputs": [
    {
     "data": {
      "image/png": "[encoded data removed]",
      "text/plain": [
       "<Figure size 432x288 with 1 Axes>"
      ]
     },
     "metadata": {
      "needs_background": "light"
     },
     "output_type": "display_data"
    }
   ],
   "source": [
    "# let's see the distribution of AGE variable\n",
    "sns.distplot(data['Age'], hist=False)\n",
    "plt.show()"
   ]
  },
  {
   "cell_type": "code",
   "execution_count": 5,
   "metadata": {},
   "outputs": [
    {
     "data": {
      "text/plain": [
       "28.0"
      ]
     },
     "execution_count": 5,
     "metadata": {},
     "output_type": "execute_result"
    }
   ],
   "source": [
    "# here we have Age as approximate normally distributed.\n",
    "median = data['Age'].median()\n",
    "median"
   ]
  },
  {
   "cell_type": "code",
   "execution_count": 6,
   "metadata": {},
   "outputs": [],
   "source": [
    "#fill the missing values\n",
    "data['Age_median'] = data['Age'].fillna(median)"
   ]
  },
  {
   "cell_type": "code",
   "execution_count": 7,
   "metadata": {},
   "outputs": [
    {
     "data": {
      "image/png": "[encoded data removed]",
      "text/plain": [
       "<Figure size 432x288 with 1 Axes>"
      ]
     },
     "metadata": {
      "needs_background": "light"
     },
     "output_type": "display_data"
    }
   ],
   "source": [
    "# let's compare the shape\n",
    "sns.distplot(data['Age'], hist=False, color='green')\n",
    "sns.distplot(data['Age_median'], hist=False, color='red')\n",
    "plt.show()"
   ]
  },
  {
   "cell_type": "markdown",
   "metadata": {},
   "source": [
    "* the shape is infront of us and it's completly normally distributed.\n",
    "\n",
    "**ADVANTAGES**\n",
    "* Easy to impliment\n",
    "* fast way of obtaining complete dataset\n",
    "* canbe used in production\n",
    "\n",
    "**DISADVANTAGES**\n",
    "* It distorts the distribution and variance of original variable\n",
    "* distorts the covariance with remaining dataset variable"
   ]
  },
  {
   "cell_type": "markdown",
   "metadata": {},
   "source": [
    "## 2) Arbitrary Value Imputation\n",
    "Arbitrary Value Imputation consist of replacing the NULL value manually towards the edge lower or upper means the arbitrary value should be different from mean or median and not within the normal values of variable\n",
    "\n",
    "we can use arbitrary value as 0,99,100 or -1 in case of positive distribution"
   ]
  },
  {
   "cell_type": "code",
   "execution_count": 8,
   "metadata": {},
   "outputs": [],
   "source": [
    "data['Age'+'Zeros'] = data['Age'].fillna(0)\n",
    "#or\n",
    "data['Age'+'Hund'] = data['Age'].fillna(100)"
   ]
  },
  {
   "cell_type": "markdown",
   "metadata": {},
   "source": [
    "**ADVANTAGES**\n",
    "* Easy to impliment\n",
    "* captures the importance of missing values\n",
    "\n",
    "**DISADVANTAGES**\n",
    "* It distorts the distribution of original variable\n",
    "* higher the percentage of NA, higher is distortion\n",
    "* if arbitary value is choosen to far then it may create outliers"
   ]
  },
  {
   "cell_type": "markdown",
   "metadata": {},
   "source": [
    "## 3) End of Distribution\n",
    "Most of the observations (~99%) of a normally-distributed variable lie within the mean plus/minus three times standard deviations—for that the `selected value = mean ± 3 ×standard deviations.`\n",
    "\n",
    "Skewed distributions The general approach is to calculate the quantiles, and then the inter-quantile range (IQR), as follows: IQR = 75th Quantile –25th Quantile.\n",
    "\n",
    "`Upper limit = 75th Quantile + IQR ×3.\n",
    " Lower limit = 25th Quantile - IQR ×3.`\n",
    "\n",
    "So the selected value for imputation is the previously calculated upper limit or the lower limit."
   ]
  },
  {
   "cell_type": "code",
   "execution_count": 9,
   "metadata": {},
   "outputs": [
    {
     "name": "stdout",
     "output_type": "stream",
     "text": [
      "73.27860964406094\n"
     ]
    }
   ],
   "source": [
    "# in case of age we have more values under 3rd std so we can use extreme IQR\n",
    "extreme = data['Age'].mean() + 3*data['Age'].std() \n",
    "print(extreme)\n",
    "\n",
    "data['Age'+'_end'] = data['Age'].fillna(extreme)"
   ]
  },
  {
   "cell_type": "code",
   "execution_count": 10,
   "metadata": {},
   "outputs": [
    {
     "name": "stdout",
     "output_type": "stream",
     "text": [
      "17.875\n",
      "upper limit:  91.625\n",
      "lower limit:  -33.5\n"
     ]
    }
   ],
   "source": [
    "IQR = data['Age'].quantile(0.75) - data['Age'].quantile(0.25)\n",
    "print(IQR)\n",
    "upper = data['Age'].quantile(0.75) + IQR * 3\n",
    "lower = data['Age'].quantile(0.25) - IQR * 3\n",
    "print(\"upper limit: \",upper)\n",
    "print(\"lower limit: \",lower)"
   ]
  },
  {
   "cell_type": "markdown",
   "metadata": {},
   "source": [
    "**ADVANTAGES**\n",
    "* Provide importance to missing data as it segregate them out from the meaningful data\n",
    "* It can be used in Production.\n",
    "\n",
    "**DISADVANTAGES**\n",
    "* It distorts the distribution of original variable"
   ]
  },
  {
   "cell_type": "markdown",
   "metadata": {},
   "source": [
    "## 4) Frequent Category Imputation\n",
    "Frequent category imputaion or **mode imputaion** consist of replacing the missing values with the most occuring value in data\n",
    "\n",
    "This method is suitable for Numerical and Categorical both but practically it's mostly used for categorical variables "
   ]
  },
  {
   "cell_type": "code",
   "execution_count": 11,
   "metadata": {},
   "outputs": [
    {
     "name": "stdout",
     "output_type": "stream",
     "text": [
      "len of categorical features:  5\n"
     ]
    }
   ],
   "source": [
    "categorical_features = [feature for feature in data.columns if data[feature].dtype == 'O']\n",
    "print(\"len of categorical features: \",len(categorical_features))"
   ]
  },
  {
   "cell_type": "code",
   "execution_count": 12,
   "metadata": {},
   "outputs": [
    {
     "data": {
      "text/plain": [
       "Name          0\n",
       "Sex           0\n",
       "Ticket        0\n",
       "Cabin       687\n",
       "Embarked      2\n",
       "dtype: int64"
      ]
     },
     "execution_count": 12,
     "metadata": {},
     "output_type": "execute_result"
    }
   ],
   "source": [
    "data[categorical_features].isnull().sum()"
   ]
  },
  {
   "cell_type": "code",
   "execution_count": 13,
   "metadata": {},
   "outputs": [
    {
     "data": {
      "text/plain": [
       "'S'"
      ]
     },
     "execution_count": 13,
     "metadata": {},
     "output_type": "execute_result"
    }
   ],
   "source": [
    "#data['Embarked'].value_counts()\n",
    "data['Embarked'].mode()[0]"
   ]
  },
  {
   "cell_type": "code",
   "execution_count": 14,
   "metadata": {},
   "outputs": [],
   "source": [
    "def impute_freq_cat(df,variable):\n",
    "    freq_cat = df[variable].value_counts().index[0]\n",
    "    df[variable].fillna(freq_cat,inplace=True)\n",
    "    \n",
    "impute_freq_cat(data,'Embarked')"
   ]
  },
  {
   "cell_type": "markdown",
   "metadata": {},
   "source": [
    "**ADVANTAGES**\n",
    "* easy to impliment\n",
    "* can be used in production\n",
    "\n",
    "**DISADVANTAGES**\n",
    "* Distorts the relation of most frequent label with other values\n",
    "* if there is more missing value, then it may lead to over-representation of frequent lebel."
   ]
  },
  {
   "cell_type": "markdown",
   "metadata": {},
   "source": [
    "## 5) Missing Category Imputaion\n",
    "Missing category imputation refers to adding a additional(new) category label to missing data like Unknown, None, Missing or any. Thus, we create a new label or category by filling the missing observations with a Missing category.\n",
    "\n",
    "The technique is most widely used method for imputing missing values in categorical variables"
   ]
  },
  {
   "cell_type": "code",
   "execution_count": 15,
   "metadata": {},
   "outputs": [],
   "source": [
    "data['Cabin'] = data['Cabin'].fillna(\"Missing\")"
   ]
  },
  {
   "cell_type": "markdown",
   "metadata": {},
   "source": [
    "**ADVANTAGE**\n",
    "* The technique helps to capture and give the importance to Missing values\n",
    "* Easy to impliment\n",
    "* No assumptions is made on data\n",
    "\n",
    "**DISADVANTAGES**\n",
    "* there is not any kind of change or increase in corelation because importance is provided to Missing values and we want in respect to target variable\n",
    "* If there is small amount of missing values then adding a new category is like, just adding a rare label to data"
   ]
  },
  {
   "cell_type": "markdown",
   "metadata": {},
   "source": [
    "## 6) Random Sample Imputation\n",
    "Random Sample Imputation consist of taking random observation from pool of available data and replace it in place of missing fields\n",
    "**The method is suitable for Numerical as well Categorical Variable**"
   ]
  },
  {
   "cell_type": "code",
   "execution_count": 16,
   "metadata": {},
   "outputs": [
    {
     "data": {
      "text/plain": [
       "355    28.0\n",
       "Name: Age, dtype: float64"
      ]
     },
     "execution_count": 16,
     "metadata": {},
     "output_type": "execute_result"
    }
   ],
   "source": [
    "data.Age.sample()\n",
    "# everytime we run it we get a random value"
   ]
  },
  {
   "cell_type": "code",
   "execution_count": 17,
   "metadata": {},
   "outputs": [],
   "source": [
    "#function for random sample imputation\n",
    "def imputeNan(df,variable):\n",
    "    df[variable+'_random'] = df[variable]\n",
    "    random_sample = df['Age'].dropna().sample(df[variable].isna().sum(), random_state=1)\n",
    "    \n",
    "    random_sample.index = df[df[variable].isnull()].index\n",
    "    df.loc[df[variable].isnull(), variable + '_random'] = random_sample\n",
    "    \n",
    "imputeNan(data,'Age')"
   ]
  },
  {
   "cell_type": "markdown",
   "metadata": {},
   "source": [
    "**ADVANTAGES**\n",
    "* It preserves the variance of variable\n",
    "* It can be used in production\n",
    "\n",
    "**DISADVANTAGES**\n",
    "* If there are lot of missing values then, relationship may get distorted between imputed variable and target variable\n",
    "* Memory is massive for deployment, as we need to store the original training set to extract values from, and replace the missing values with the randomly selected values."
   ]
  },
  {
   "cell_type": "markdown",
   "metadata": {},
   "source": [
    "## 7) Add a Missing Indicator to NAN\n",
    "A missing Indicator is an additional binary variable that indicate whether the data is missing for an observation 1 or not 0. The goal here is to capture observations where data is missing.\n",
    "\n",
    "The method is used when data is missing completly at random\n",
    "\n",
    "The method is suitable for bot Numerical and categorcal variable"
   ]
  },
  {
   "cell_type": "code",
   "execution_count": 18,
   "metadata": {},
   "outputs": [],
   "source": [
    "data['Cabin_Nan'] = np.where(data['Cabin'].isnull(),1,0)"
   ]
  },
  {
   "cell_type": "markdown",
   "metadata": {},
   "source": [
    "wherever data is missing it will highlight with 1 and other with 0.\n",
    "**ADVANTAGES**\n",
    "* Easy to impliment\n",
    "* Provide importance to missing data\n",
    "* can be used in production\n",
    "\n",
    "**DISADVANTAGES**\n",
    "* many missing indicator may end up being identical or very highly corelated."
   ]
  },
  {
   "cell_type": "markdown",
   "metadata": {},
   "source": [
    "## Complete Case Analysis\n",
    "The method is very simple and consist of simply discarding the missing values if available in any variable. In CCA we only keed the information that are available to us, except that all the values are excluded from dataset.\n",
    "\n",
    "The method is used for Numerical and Categorical data"
   ]
  },
  {
   "cell_type": "code",
   "execution_count": 19,
   "metadata": {},
   "outputs": [],
   "source": [
    "data.dropna(inplace=True)"
   ]
  },
  {
   "cell_type": "markdown",
   "metadata": {},
   "source": [
    "**ADVANTAGES**\n",
    "* No data manipulation is required\n",
    "* easy to impliment\n",
    "* Preserve the distribution of data\n",
    "\n",
    "**DISADVANTAGES**\n",
    "* It can exclude significant fraction of original dataset(If missing data is significant)\n",
    "* When using this method in production, the model can’t know how to handle missing data.\n",
    "* CCA can create a biased dataset if the complete cases differ from the original data."
   ]
  },
  {
   "cell_type": "markdown",
   "metadata": {},
   "source": [
    "**We have explored multiple methods for handling missing data with their advantages and limitation of each technique.I hope now we are capable to handle the different situation of missing data. what's left is to try these methods on your dataset.**\n",
    "\n",
    "# Thank You!"
   ]
  }
 ],
 "metadata": {
  "kernelspec": {
   "display_name": "Python 3",
   "language": "python",
   "name": "python3"
  },
  "language_info": {
   "codemirror_mode": {
    "name": "ipython",
    "version": 3
   },
   "file_extension": ".py",
   "mimetype": "text/x-python",
   "name": "python",
   "nbconvert_exporter": "python",
   "pygments_lexer": "ipython3",
   "version": "3.8.2"
  }
 },
 "nbformat": 4,
 "nbformat_minor": 4
}
