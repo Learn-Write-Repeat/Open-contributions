{
 "cells": [
  {
   "cell_type": "markdown",
   "metadata": {},
   "source": [
    "**OPENCV BASICS**\n",
    "\n",
    "***Displaying a single image***"
   ]
  },
  {
   "cell_type": "code",
   "execution_count": 1,
   "metadata": {},
   "outputs": [
    {
     "data": {
      "text/plain": [
       "-1"
      ]
     },
     "execution_count": 1,
     "metadata": {},
     "output_type": "execute_result"
    }
   ],
   "source": [
    "#import Opencv library\n",
    "import cv2\n",
    "#Read and store the image to img1 variable\n",
    "img1 = cv2.imread('F:/is setup/image python/earth-globe.jpg')\n",
    "#Resizing the image to required ratio\n",
    "resize = cv2.resize(img1, (640, 480))\n",
    "#Display the image through the window\n",
    "cv2.imshow(\"Output\" , resize)\n",
    "#Image stays on the window until a key on the keyboard is pressed\n",
    "cv2.waitKey(0)"
   ]
  },
  {
   "cell_type": "markdown",
   "metadata": {},
   "source": [
    "***Loading and displaying multiple image***\n",
    "\n"
   ]
  },
  {
   "cell_type": "code",
   "execution_count": 2,
   "metadata": {},
   "outputs": [
    {
     "data": {
      "text/plain": [
       "-1"
      ]
     },
     "execution_count": 2,
     "metadata": {},
     "output_type": "execute_result"
    }
   ],
   "source": [
    "#import Opencv library\n",
    "import cv2\n",
    "#import Numpy library\n",
    "import numpy as np\n",
    "#Read First Image\n",
    "image_1=cv2.imread('F:/is setup/image python/earth-globe.jpg')\n",
    "#Read Second Image\n",
    "image_2=cv2.imread('F:/wallpapers/wallpaper07.jpg')\n",
    "#resize the image to required ratio\n",
    "resize1 = cv2.resize(image_1, (640, 480)) \n",
    "resize2 = cv2.resize(image_2, (640, 480)) \n",
    "#display the image through the window \n",
    "cv2.imshow('bgr',resize1)\n",
    "cv2.imshow('rgb',resize2)\n",
    "#concatanate image Horizontally\n",
    "img_concate_Hori=np.concatenate((resize1,resize2),axis=1)\n",
    "#concatanate image Vertically\n",
    "img_concate_Verti=np.concatenate((resize1,resize2),axis=0)\n",
    "cv2.imshow('concatenated_Hori',img_concate_Hori)\n",
    "cv2.imshow('concatenated_Verti',img_concate_Verti)\n",
    "#Image stays on the window until a key on the keyboard is pressed\n",
    "cv2.waitKey(0)"
   ]
  },
  {
   "cell_type": "code",
   "execution_count": null,
   "metadata": {},
   "outputs": [],
   "source": []
  }
 ],
 "metadata": {
  "kernelspec": {
   "display_name": "Python 3",
   "language": "python",
   "name": "python3"
  },
  "language_info": {
   "codemirror_mode": {
    "name": "ipython",
    "version": 3
   },
   "file_extension": ".py",
   "mimetype": "text/x-python",
   "name": "python",
   "nbconvert_exporter": "python",
   "pygments_lexer": "ipython3",
   "version": "3.8.3"
  }
 },
 "nbformat": 4,
 "nbformat_minor": 4
}
