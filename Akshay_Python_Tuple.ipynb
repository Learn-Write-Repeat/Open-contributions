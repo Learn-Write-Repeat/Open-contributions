{
 "cells": [
  {
   "cell_type": "markdown",
   "metadata": {},
   "source": [
    "# Here we will learn about Tuple Practically"
   ]
  },
  {
   "cell_type": "markdown",
   "metadata": {},
   "source": [
    "## Accessing Tuple"
   ]
  },
  {
   "cell_type": "code",
   "execution_count": 3,
   "metadata": {},
   "outputs": [
    {
     "name": "stdout",
     "output_type": "stream",
     "text": [
      "tuple1[0]:  2\n"
     ]
    }
   ],
   "source": [
    "# Indexing Tuple\n",
    "\n",
    "tuple1 = (2,4,6,1,4,0)\n",
    "\n",
    "print (\"tuple1[0]: \", tuple1[0])"
   ]
  },
  {
   "cell_type": "code",
   "execution_count": 5,
   "metadata": {},
   "outputs": [
    {
     "name": "stdout",
     "output_type": "stream",
     "text": [
      "tuple1[-1]:  tony\n"
     ]
    }
   ],
   "source": [
    "# Negative Indexing Tuple\n",
    "\n",
    "tuple1 = ('akash','sammy','tony')\n",
    "\n",
    "print(\"tuple1[-1]: \",tuple1[-1])"
   ]
  },
  {
   "cell_type": "code",
   "execution_count": 7,
   "metadata": {},
   "outputs": [
    {
     "name": "stdout",
     "output_type": "stream",
     "text": [
      "('joshi', 'ryan', 'joey')\n",
      "('simmi', 'joshi')\n"
     ]
    }
   ],
   "source": [
    "# Slicing Tuple\n",
    "\n",
    "tuple1 = ('jhon','simmi','joshi','ryan','joey')\n",
    "\n",
    "print(tuple1[2:])\n",
    "print(tuple1[1:3])"
   ]
  },
  {
   "cell_type": "markdown",
   "metadata": {},
   "source": [
    "## Updating Tuple"
   ]
  },
  {
   "cell_type": "code",
   "execution_count": 9,
   "metadata": {},
   "outputs": [
    {
     "name": "stdout",
     "output_type": "stream",
     "text": [
      "(91, 6, 6, 21, 66, 1, 10)\n"
     ]
    }
   ],
   "source": [
    "\n",
    "tuple1 = (91,6,6,21)\n",
    "tuple2 = (66,1,10)\n",
    "\n",
    "#Updating Tuple is not possible so we can new tuple to update\n",
    "tuple3 = tuple1 + tuple2\n",
    "\n",
    "print(tuple3)"
   ]
  },
  {
   "cell_type": "markdown",
   "metadata": {},
   "source": [
    "## Deleting Tuple"
   ]
  },
  {
   "cell_type": "code",
   "execution_count": 10,
   "metadata": {},
   "outputs": [
    {
     "name": "stdout",
     "output_type": "stream",
     "text": [
      "('p', 'r', 'o', 'g', 'r', 'a', 'm', 'm', 'i', 'n', 'g')\n"
     ]
    },
    {
     "ename": "NameError",
     "evalue": "name 'tuple1' is not defined",
     "output_type": "error",
     "traceback": [
      "\u001b[1;31m---------------------------------------------------------------------------\u001b[0m",
      "\u001b[1;31mNameError\u001b[0m                                 Traceback (most recent call last)",
      "\u001b[1;32m<ipython-input-10-ffc185644594>\u001b[0m in \u001b[0;36m<module>\u001b[1;34m\u001b[0m\n\u001b[0;32m      7\u001b[0m \u001b[1;33m\u001b[0m\u001b[0m\n\u001b[0;32m      8\u001b[0m \u001b[1;32mdel\u001b[0m \u001b[0mtuple1\u001b[0m\u001b[1;33m\u001b[0m\u001b[1;33m\u001b[0m\u001b[0m\n\u001b[1;32m----> 9\u001b[1;33m \u001b[0mprint\u001b[0m\u001b[1;33m(\u001b[0m\u001b[0mtuple1\u001b[0m\u001b[1;33m)\u001b[0m \u001b[1;31m#it will give error as tuple is deleted at this stage\u001b[0m\u001b[1;33m\u001b[0m\u001b[1;33m\u001b[0m\u001b[0m\n\u001b[0m",
      "\u001b[1;31mNameError\u001b[0m: name 'tuple1' is not defined"
     ]
    }
   ],
   "source": [
    "tuple1 = ('p','r','o','g','r','a','m','m','i','n','g')\n",
    "\n",
    "#tuple object doesn't support item deletion\n",
    "#We can delete whole tuple\n",
    "\n",
    "print(tuple1)\n",
    "\n",
    "del tuple1\n",
    "print(tuple1) #it will give error as tuple is deleted at this stage "
   ]
  },
  {
   "cell_type": "markdown",
   "metadata": {},
   "source": [
    "## Tuple Methods"
   ]
  },
  {
   "cell_type": "code",
   "execution_count": 17,
   "metadata": {},
   "outputs": [
    {
     "name": "stdout",
     "output_type": "stream",
     "text": [
      "Count method:  1\n",
      "Index method:  4\n",
      "length tuple:  6\n",
      "max tuple:  y\n",
      "min tuple:  h\n"
     ]
    }
   ],
   "source": [
    "tuple1 = ('p', 'y', 't', 'h', 'o','n')\n",
    "\n",
    "print(\"Count method: \",tuple1.count('p')) \n",
    "print(\"Index method: \",tuple1.index('o')) \n",
    "print(\"length tuple: \",len(tuple1))\n",
    "print(\"max tuple: \",max(tuple1))\n",
    "print(\"min tuple: \",min(tuple1))"
   ]
  },
  {
   "cell_type": "markdown",
   "metadata": {},
   "source": [
    "## Iterating through tuple"
   ]
  },
  {
   "cell_type": "code",
   "execution_count": 19,
   "metadata": {},
   "outputs": [
    {
     "name": "stdout",
     "output_type": "stream",
     "text": [
      "p\n",
      "y\n",
      "t\n",
      "h\n",
      "o\n",
      "n\n"
     ]
    }
   ],
   "source": [
    "tuple1 = ('p', 'y', 't', 'h', 'o','n')\n",
    "for item in tuple1:\n",
    "    print(item)"
   ]
  }
 ],
 "metadata": {
  "kernelspec": {
   "display_name": "Python 3",
   "language": "python",
   "name": "python3"
  },
  "language_info": {
   "codemirror_mode": {
    "name": "ipython",
    "version": 3
   },
   "file_extension": ".py",
   "mimetype": "text/x-python",
   "name": "python",
   "nbconvert_exporter": "python",
   "pygments_lexer": "ipython3",
   "version": "3.8.3"
  }
 },
 "nbformat": 4,
 "nbformat_minor": 4
}
