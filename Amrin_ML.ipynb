{
 "cells": [
  {
   "cell_type": "markdown",
   "metadata": {},
   "source": [
    "# Regression Intuitions"
   ]
  },
  {
   "cell_type": "markdown",
   "metadata": {},
   "source": [
    "\n",
    "***Simple Linear Regression:*** A Simple linear equation models a function such that if we give any x to it, it will predict a value y , where both x and y are input and output variables respectively. These are numerical and continuous values. It is the most simple and well known algorithm used in machine learning.\n",
    "\n",
    "**y = mx + c**\n",
    "\n",
    "***Multiple Linear Regression:*** A multiple linear equation models a function such that if we give more than one feature variable like x1 x2 ….xi to it, it will predict the target output value y .\n",
    "\n",
    "**yi=β0+β1xi1+β2xi2+...+βpxip+ϵ ;** where, for i=n observations:\n",
    "\n",
    "*We are using multiple linear regression model:*\n",
    "\n",
    "​"
   ]
  },
  {
   "cell_type": "markdown",
   "metadata": {},
   "source": [
    "# Importing the libraries"
   ]
  },
  {
   "cell_type": "code",
   "execution_count": 122,
   "metadata": {},
   "outputs": [],
   "source": [
    "import numpy as np\n",
    "import pandas as pd\n",
    "import matplotlib.pyplot as plt"
   ]
  },
  {
   "cell_type": "markdown",
   "metadata": {},
   "source": [
    "# Importing the dataset"
   ]
  },
  {
   "cell_type": "code",
   "execution_count": 123,
   "metadata": {},
   "outputs": [
    {
     "data": {
      "text/html": [
       "<div>\n",
       "<style scoped>\n",
       "    .dataframe tbody tr th:only-of-type {\n",
       "        vertical-align: middle;\n",
       "    }\n",
       "\n",
       "    .dataframe tbody tr th {\n",
       "        vertical-align: top;\n",
       "    }\n",
       "\n",
       "    .dataframe thead th {\n",
       "        text-align: right;\n",
       "    }\n",
       "</style>\n",
       "<table border=\"1\" class=\"dataframe\">\n",
       "  <thead>\n",
       "    <tr style=\"text-align: right;\">\n",
       "      <th></th>\n",
       "      <th>R&amp;D Spend</th>\n",
       "      <th>Administration</th>\n",
       "      <th>Marketing Spend</th>\n",
       "      <th>State</th>\n",
       "      <th>Profit</th>\n",
       "    </tr>\n",
       "  </thead>\n",
       "  <tbody>\n",
       "    <tr>\n",
       "      <th>0</th>\n",
       "      <td>165349.20</td>\n",
       "      <td>136897.80</td>\n",
       "      <td>471784.10</td>\n",
       "      <td>New York</td>\n",
       "      <td>192261.83</td>\n",
       "    </tr>\n",
       "    <tr>\n",
       "      <th>1</th>\n",
       "      <td>162597.70</td>\n",
       "      <td>151377.59</td>\n",
       "      <td>443898.53</td>\n",
       "      <td>California</td>\n",
       "      <td>191792.06</td>\n",
       "    </tr>\n",
       "    <tr>\n",
       "      <th>2</th>\n",
       "      <td>153441.51</td>\n",
       "      <td>101145.55</td>\n",
       "      <td>407934.54</td>\n",
       "      <td>Florida</td>\n",
       "      <td>191050.39</td>\n",
       "    </tr>\n",
       "    <tr>\n",
       "      <th>3</th>\n",
       "      <td>144372.41</td>\n",
       "      <td>118671.85</td>\n",
       "      <td>383199.62</td>\n",
       "      <td>New York</td>\n",
       "      <td>182901.99</td>\n",
       "    </tr>\n",
       "    <tr>\n",
       "      <th>4</th>\n",
       "      <td>142107.34</td>\n",
       "      <td>91391.77</td>\n",
       "      <td>366168.42</td>\n",
       "      <td>Florida</td>\n",
       "      <td>166187.94</td>\n",
       "    </tr>\n",
       "  </tbody>\n",
       "</table>\n",
       "</div>"
      ],
      "text/plain": [
       "   R&D Spend  Administration  Marketing Spend       State     Profit\n",
       "0  165349.20       136897.80        471784.10    New York  192261.83\n",
       "1  162597.70       151377.59        443898.53  California  191792.06\n",
       "2  153441.51       101145.55        407934.54     Florida  191050.39\n",
       "3  144372.41       118671.85        383199.62    New York  182901.99\n",
       "4  142107.34        91391.77        366168.42     Florida  166187.94"
      ]
     },
     "execution_count": 123,
     "metadata": {},
     "output_type": "execute_result"
    }
   ],
   "source": [
    "df = pd.read_csv('50_Startups.csv')\n",
    "df.head()"
   ]
  },
  {
   "cell_type": "code",
   "execution_count": 124,
   "metadata": {},
   "outputs": [
    {
     "data": {
      "text/plain": [
       "50"
      ]
     },
     "execution_count": 124,
     "metadata": {},
     "output_type": "execute_result"
    }
   ],
   "source": [
    "len(df)"
   ]
  },
  {
   "cell_type": "code",
   "execution_count": 125,
   "metadata": {},
   "outputs": [
    {
     "data": {
      "text/plain": [
       "(50, 5)"
      ]
     },
     "execution_count": 125,
     "metadata": {},
     "output_type": "execute_result"
    }
   ],
   "source": [
    "df.shape"
   ]
  },
  {
   "cell_type": "markdown",
   "metadata": {},
   "source": [
    "# Plotting the dataset"
   ]
  },
  {
   "cell_type": "code",
   "execution_count": 126,
   "metadata": {},
   "outputs": [
    {
     "data": {
      "image/png": "[encoded data removed]",
      "text/plain": [
       "<Figure size 432x288 with 1 Axes>"
      ]
     },
     "metadata": {
      "needs_background": "light"
     },
     "output_type": "display_data"
    }
   ],
   "source": [
    "plt.scatter(df['Marketing Spend'], df['Profit'])\n",
    "#plt.plot(X_train, regressor.predict(X_train), color = 'blue')\n",
    "plt.title('Marketing Spend vs Profit')\n",
    "plt.xlabel('Marketing Spend')\n",
    "plt.ylabel('Profit')\n",
    "plt.show()\n"
   ]
  },
  {
   "cell_type": "code",
   "execution_count": 127,
   "metadata": {},
   "outputs": [
    {
     "data": {
      "image/png": "[encoded data removed]",
      "text/plain": [
       "<Figure size 432x288 with 1 Axes>"
      ]
     },
     "metadata": {
      "needs_background": "light"
     },
     "output_type": "display_data"
    }
   ],
   "source": [
    "plt.scatter(df['R&D Spend'], df['Profit'])\n",
    "#plt.plot(X_train, regressor.predict(X_train), color = 'blue')\n",
    "plt.title('R&D Spend vs Profit')\n",
    "plt.xlabel('R&D Spend')\n",
    "plt.ylabel('Profit')\n",
    "plt.show()\n"
   ]
  },
  {
   "cell_type": "code",
   "execution_count": 128,
   "metadata": {},
   "outputs": [
    {
     "data": {
      "image/png": "[encoded data removed]",
      "text/plain": [
       "<Figure size 432x288 with 1 Axes>"
      ]
     },
     "metadata": {
      "needs_background": "light"
     },
     "output_type": "display_data"
    }
   ],
   "source": [
    "plt.scatter(df['Administration'], df['Profit'])\n",
    "#plt.plot(X_train, regressor.predict(X_train), color = 'blue')\n",
    "plt.title('Administration vs Profit')\n",
    "plt.xlabel('Administration')\n",
    "plt.ylabel('Profit')\n",
    "plt.show()\n"
   ]
  },
  {
   "cell_type": "code",
   "execution_count": 129,
   "metadata": {},
   "outputs": [
    {
     "data": {
      "text/plain": [
       "Text(0.5, 0, 'State')"
      ]
     },
     "execution_count": 129,
     "metadata": {},
     "output_type": "execute_result"
    },
    {
     "data": {
      "image/png": "[encoded data removed]",
      "text/plain": [
       "<Figure size 720x360 with 1 Axes>"
      ]
     },
     "metadata": {
      "needs_background": "light"
     },
     "output_type": "display_data"
    }
   ],
   "source": [
    "ax = df.groupby(['State'])['Profit'].mean().plot.bar(\n",
    "    figsize = (10,5))\n",
    "ax.set_title(\"Average profit for different states where the startups operate\")\n",
    "\n",
    "ax.set_xlabel(\"State\")\n",
    "ax.set_xlabel(\"State\")"
   ]
  },
  {
   "cell_type": "code",
   "execution_count": null,
   "metadata": {},
   "outputs": [],
   "source": []
  },
  {
   "cell_type": "code",
   "execution_count": 130,
   "metadata": {},
   "outputs": [
    {
     "data": {
      "text/plain": [
       "New York      17\n",
       "California    17\n",
       "Florida       16\n",
       "Name: State, dtype: int64"
      ]
     },
     "execution_count": 130,
     "metadata": {},
     "output_type": "execute_result"
    }
   ],
   "source": [
    "df.State.value_counts()"
   ]
  },
  {
   "cell_type": "code",
   "execution_count": 131,
   "metadata": {},
   "outputs": [],
   "source": [
    "df['NewYork_State'] = np.where(df['State']=='New York',1,0)\n",
    "df['California_State'] = np.where(df['State']=='California',1,0)\n",
    "df['Florida_State'] = np.where(df['State']=='Florida',1,0)\n",
    "\n",
    "df.drop(columns=['State'],axis=1,inplace=True)"
   ]
  },
  {
   "cell_type": "code",
   "execution_count": 132,
   "metadata": {},
   "outputs": [
    {
     "data": {
      "text/html": [
       "<div>\n",
       "<style scoped>\n",
       "    .dataframe tbody tr th:only-of-type {\n",
       "        vertical-align: middle;\n",
       "    }\n",
       "\n",
       "    .dataframe tbody tr th {\n",
       "        vertical-align: top;\n",
       "    }\n",
       "\n",
       "    .dataframe thead th {\n",
       "        text-align: right;\n",
       "    }\n",
       "</style>\n",
       "<table border=\"1\" class=\"dataframe\">\n",
       "  <thead>\n",
       "    <tr style=\"text-align: right;\">\n",
       "      <th></th>\n",
       "      <th>R&amp;D Spend</th>\n",
       "      <th>Administration</th>\n",
       "      <th>Marketing Spend</th>\n",
       "      <th>Profit</th>\n",
       "      <th>NewYork_State</th>\n",
       "      <th>California_State</th>\n",
       "      <th>Florida_State</th>\n",
       "    </tr>\n",
       "  </thead>\n",
       "  <tbody>\n",
       "    <tr>\n",
       "      <th>0</th>\n",
       "      <td>165349.20</td>\n",
       "      <td>136897.80</td>\n",
       "      <td>471784.10</td>\n",
       "      <td>192261.83</td>\n",
       "      <td>1</td>\n",
       "      <td>0</td>\n",
       "      <td>0</td>\n",
       "    </tr>\n",
       "    <tr>\n",
       "      <th>1</th>\n",
       "      <td>162597.70</td>\n",
       "      <td>151377.59</td>\n",
       "      <td>443898.53</td>\n",
       "      <td>191792.06</td>\n",
       "      <td>0</td>\n",
       "      <td>1</td>\n",
       "      <td>0</td>\n",
       "    </tr>\n",
       "    <tr>\n",
       "      <th>2</th>\n",
       "      <td>153441.51</td>\n",
       "      <td>101145.55</td>\n",
       "      <td>407934.54</td>\n",
       "      <td>191050.39</td>\n",
       "      <td>0</td>\n",
       "      <td>0</td>\n",
       "      <td>1</td>\n",
       "    </tr>\n",
       "    <tr>\n",
       "      <th>3</th>\n",
       "      <td>144372.41</td>\n",
       "      <td>118671.85</td>\n",
       "      <td>383199.62</td>\n",
       "      <td>182901.99</td>\n",
       "      <td>1</td>\n",
       "      <td>0</td>\n",
       "      <td>0</td>\n",
       "    </tr>\n",
       "    <tr>\n",
       "      <th>4</th>\n",
       "      <td>142107.34</td>\n",
       "      <td>91391.77</td>\n",
       "      <td>366168.42</td>\n",
       "      <td>166187.94</td>\n",
       "      <td>0</td>\n",
       "      <td>0</td>\n",
       "      <td>1</td>\n",
       "    </tr>\n",
       "  </tbody>\n",
       "</table>\n",
       "</div>"
      ],
      "text/plain": [
       "   R&D Spend  Administration  Marketing Spend     Profit  NewYork_State  \\\n",
       "0  165349.20       136897.80        471784.10  192261.83              1   \n",
       "1  162597.70       151377.59        443898.53  191792.06              0   \n",
       "2  153441.51       101145.55        407934.54  191050.39              0   \n",
       "3  144372.41       118671.85        383199.62  182901.99              1   \n",
       "4  142107.34        91391.77        366168.42  166187.94              0   \n",
       "\n",
       "   California_State  Florida_State  \n",
       "0                 0              0  \n",
       "1                 1              0  \n",
       "2                 0              1  \n",
       "3                 0              0  \n",
       "4                 0              1  "
      ]
     },
     "execution_count": 132,
     "metadata": {},
     "output_type": "execute_result"
    }
   ],
   "source": [
    "df.head()"
   ]
  },
  {
   "cell_type": "code",
   "execution_count": 133,
   "metadata": {},
   "outputs": [],
   "source": [
    "dependent_variable = 'Profit'"
   ]
  },
  {
   "cell_type": "code",
   "execution_count": 134,
   "metadata": {},
   "outputs": [
    {
     "data": {
      "text/plain": [
       "['R&D Spend',\n",
       " 'Administration',\n",
       " 'Marketing Spend',\n",
       " 'NewYork_State',\n",
       " 'California_State',\n",
       " 'Florida_State']"
      ]
     },
     "execution_count": 134,
     "metadata": {},
     "output_type": "execute_result"
    }
   ],
   "source": [
    "independent_variables = df.columns.tolist()\n",
    "independent_variables.remove(dependent_variable)\n",
    "independent_variables"
   ]
  },
  {
   "cell_type": "code",
   "execution_count": 135,
   "metadata": {},
   "outputs": [],
   "source": [
    "X = df[independent_variables].values\n",
    "y = df[dependent_variable].values"
   ]
  },
  {
   "cell_type": "code",
   "execution_count": 136,
   "metadata": {},
   "outputs": [
    {
     "name": "stdout",
     "output_type": "stream",
     "text": [
      "[[1.6534920e+05 1.3689780e+05 4.7178410e+05 1.0000000e+00 0.0000000e+00\n",
      "  0.0000000e+00]\n",
      " [1.6259770e+05 1.5137759e+05 4.4389853e+05 0.0000000e+00 1.0000000e+00\n",
      "  0.0000000e+00]\n",
      " [1.5344151e+05 1.0114555e+05 4.0793454e+05 0.0000000e+00 0.0000000e+00\n",
      "  1.0000000e+00]\n",
      " [1.4437241e+05 1.1867185e+05 3.8319962e+05 1.0000000e+00 0.0000000e+00\n",
      "  0.0000000e+00]\n",
      " [1.4210734e+05 9.1391770e+04 3.6616842e+05 0.0000000e+00 0.0000000e+00\n",
      "  1.0000000e+00]\n",
      " [1.3187690e+05 9.9814710e+04 3.6286136e+05 1.0000000e+00 0.0000000e+00\n",
      "  0.0000000e+00]\n",
      " [1.3461546e+05 1.4719887e+05 1.2771682e+05 0.0000000e+00 1.0000000e+00\n",
      "  0.0000000e+00]\n",
      " [1.3029813e+05 1.4553006e+05 3.2387668e+05 0.0000000e+00 0.0000000e+00\n",
      "  1.0000000e+00]\n",
      " [1.2054252e+05 1.4871895e+05 3.1161329e+05 1.0000000e+00 0.0000000e+00\n",
      "  0.0000000e+00]\n",
      " [1.2333488e+05 1.0867917e+05 3.0498162e+05 0.0000000e+00 1.0000000e+00\n",
      "  0.0000000e+00]\n",
      " [1.0191308e+05 1.1059411e+05 2.2916095e+05 0.0000000e+00 0.0000000e+00\n",
      "  1.0000000e+00]\n",
      " [1.0067196e+05 9.1790610e+04 2.4974455e+05 0.0000000e+00 1.0000000e+00\n",
      "  0.0000000e+00]\n",
      " [9.3863750e+04 1.2732038e+05 2.4983944e+05 0.0000000e+00 0.0000000e+00\n",
      "  1.0000000e+00]\n",
      " [9.1992390e+04 1.3549507e+05 2.5266493e+05 0.0000000e+00 1.0000000e+00\n",
      "  0.0000000e+00]\n",
      " [1.1994324e+05 1.5654742e+05 2.5651292e+05 0.0000000e+00 0.0000000e+00\n",
      "  1.0000000e+00]\n",
      " [1.1452361e+05 1.2261684e+05 2.6177623e+05 1.0000000e+00 0.0000000e+00\n",
      "  0.0000000e+00]\n",
      " [7.8013110e+04 1.2159755e+05 2.6434606e+05 0.0000000e+00 1.0000000e+00\n",
      "  0.0000000e+00]\n",
      " [9.4657160e+04 1.4507758e+05 2.8257431e+05 1.0000000e+00 0.0000000e+00\n",
      "  0.0000000e+00]\n",
      " [9.1749160e+04 1.1417579e+05 2.9491957e+05 0.0000000e+00 0.0000000e+00\n",
      "  1.0000000e+00]\n",
      " [8.6419700e+04 1.5351411e+05 0.0000000e+00 1.0000000e+00 0.0000000e+00\n",
      "  0.0000000e+00]\n",
      " [7.6253860e+04 1.1386730e+05 2.9866447e+05 0.0000000e+00 1.0000000e+00\n",
      "  0.0000000e+00]\n",
      " [7.8389470e+04 1.5377343e+05 2.9973729e+05 1.0000000e+00 0.0000000e+00\n",
      "  0.0000000e+00]\n",
      " [7.3994560e+04 1.2278275e+05 3.0331926e+05 0.0000000e+00 0.0000000e+00\n",
      "  1.0000000e+00]\n",
      " [6.7532530e+04 1.0575103e+05 3.0476873e+05 0.0000000e+00 0.0000000e+00\n",
      "  1.0000000e+00]\n",
      " [7.7044010e+04 9.9281340e+04 1.4057481e+05 1.0000000e+00 0.0000000e+00\n",
      "  0.0000000e+00]\n",
      " [6.4664710e+04 1.3955316e+05 1.3796262e+05 0.0000000e+00 1.0000000e+00\n",
      "  0.0000000e+00]\n",
      " [7.5328870e+04 1.4413598e+05 1.3405007e+05 0.0000000e+00 0.0000000e+00\n",
      "  1.0000000e+00]\n",
      " [7.2107600e+04 1.2786455e+05 3.5318381e+05 1.0000000e+00 0.0000000e+00\n",
      "  0.0000000e+00]\n",
      " [6.6051520e+04 1.8264556e+05 1.1814820e+05 0.0000000e+00 0.0000000e+00\n",
      "  1.0000000e+00]\n",
      " [6.5605480e+04 1.5303206e+05 1.0713838e+05 1.0000000e+00 0.0000000e+00\n",
      "  0.0000000e+00]\n",
      " [6.1994480e+04 1.1564128e+05 9.1131240e+04 0.0000000e+00 0.0000000e+00\n",
      "  1.0000000e+00]\n",
      " [6.1136380e+04 1.5270192e+05 8.8218230e+04 1.0000000e+00 0.0000000e+00\n",
      "  0.0000000e+00]\n",
      " [6.3408860e+04 1.2921961e+05 4.6085250e+04 0.0000000e+00 1.0000000e+00\n",
      "  0.0000000e+00]\n",
      " [5.5493950e+04 1.0305749e+05 2.1463481e+05 0.0000000e+00 0.0000000e+00\n",
      "  1.0000000e+00]\n",
      " [4.6426070e+04 1.5769392e+05 2.1079767e+05 0.0000000e+00 1.0000000e+00\n",
      "  0.0000000e+00]\n",
      " [4.6014020e+04 8.5047440e+04 2.0551764e+05 1.0000000e+00 0.0000000e+00\n",
      "  0.0000000e+00]\n",
      " [2.8663760e+04 1.2705621e+05 2.0112682e+05 0.0000000e+00 0.0000000e+00\n",
      "  1.0000000e+00]\n",
      " [4.4069950e+04 5.1283140e+04 1.9702942e+05 0.0000000e+00 1.0000000e+00\n",
      "  0.0000000e+00]\n",
      " [2.0229590e+04 6.5947930e+04 1.8526510e+05 1.0000000e+00 0.0000000e+00\n",
      "  0.0000000e+00]\n",
      " [3.8558510e+04 8.2982090e+04 1.7499930e+05 0.0000000e+00 1.0000000e+00\n",
      "  0.0000000e+00]\n",
      " [2.8754330e+04 1.1854605e+05 1.7279567e+05 0.0000000e+00 1.0000000e+00\n",
      "  0.0000000e+00]\n",
      " [2.7892920e+04 8.4710770e+04 1.6447071e+05 0.0000000e+00 0.0000000e+00\n",
      "  1.0000000e+00]\n",
      " [2.3640930e+04 9.6189630e+04 1.4800111e+05 0.0000000e+00 1.0000000e+00\n",
      "  0.0000000e+00]\n",
      " [1.5505730e+04 1.2738230e+05 3.5534170e+04 1.0000000e+00 0.0000000e+00\n",
      "  0.0000000e+00]\n",
      " [2.2177740e+04 1.5480614e+05 2.8334720e+04 0.0000000e+00 1.0000000e+00\n",
      "  0.0000000e+00]\n",
      " [1.0002300e+03 1.2415304e+05 1.9039300e+03 1.0000000e+00 0.0000000e+00\n",
      "  0.0000000e+00]\n",
      " [1.3154600e+03 1.1581621e+05 2.9711446e+05 0.0000000e+00 0.0000000e+00\n",
      "  1.0000000e+00]\n",
      " [0.0000000e+00 1.3542692e+05 0.0000000e+00 0.0000000e+00 1.0000000e+00\n",
      "  0.0000000e+00]\n",
      " [5.4205000e+02 5.1743150e+04 0.0000000e+00 1.0000000e+00 0.0000000e+00\n",
      "  0.0000000e+00]\n",
      " [0.0000000e+00 1.1698380e+05 4.5173060e+04 0.0000000e+00 1.0000000e+00\n",
      "  0.0000000e+00]]\n",
      "[192261.83 191792.06 191050.39 182901.99 166187.94 156991.12 156122.51\n",
      " 155752.6  152211.77 149759.96 146121.95 144259.4  141585.52 134307.35\n",
      " 132602.65 129917.04 126992.93 125370.37 124266.9  122776.86 118474.03\n",
      " 111313.02 110352.25 108733.99 108552.04 107404.34 105733.54 105008.31\n",
      " 103282.38 101004.64  99937.59  97483.56  97427.84  96778.92  96712.8\n",
      "  96479.51  90708.19  89949.14  81229.06  81005.76  78239.91  77798.83\n",
      "  71498.49  69758.98  65200.33  64926.08  49490.75  42559.73  35673.41\n",
      "  14681.4 ]\n"
     ]
    }
   ],
   "source": [
    "print(X)\n",
    "print(y)"
   ]
  },
  {
   "cell_type": "markdown",
   "metadata": {},
   "source": [
    "# Splitting the dataset"
   ]
  },
  {
   "cell_type": "code",
   "execution_count": 137,
   "metadata": {},
   "outputs": [],
   "source": [
    "from sklearn.model_selection import train_test_split\n",
    "X_train, X_test, y_train, y_test = train_test_split(X, y, test_size = 1/3, random_state = 0)"
   ]
  },
  {
   "cell_type": "code",
   "execution_count": 138,
   "metadata": {},
   "outputs": [
    {
     "data": {
      "text/plain": [
       "array([[0.00327821, 0.00444355, 0.        , 1.        , 0.        ,\n",
       "        0.        ],\n",
       "       [0.39676926, 0.98286294, 0.22709197, 1.        , 0.        ,\n",
       "        0.        ],\n",
       "       [0.69261666, 0.68906137, 0.55486446, 1.        , 0.        ,\n",
       "        0.        ],\n",
       "       [0.37493063, 0.62167963, 0.19316302, 0.        , 0.        ,\n",
       "        1.        ]])"
      ]
     },
     "execution_count": 138,
     "metadata": {},
     "output_type": "execute_result"
    }
   ],
   "source": [
    "from sklearn.preprocessing import MinMaxScaler\n",
    "sc = MinMaxScaler()\n",
    "X_train = sc.fit_transform(X_train)\n",
    "X_test = sc.transform(X_test)\n",
    "#print(X_train)\n",
    "#print(X_test)\n",
    "X_train[1:5]"
   ]
  },
  {
   "cell_type": "markdown",
   "metadata": {},
   "source": [
    "# Multiple Linear Regression Model"
   ]
  },
  {
   "cell_type": "code",
   "execution_count": 139,
   "metadata": {},
   "outputs": [
    {
     "data": {
      "text/plain": [
       "LinearRegression()"
      ]
     },
     "execution_count": 139,
     "metadata": {},
     "output_type": "execute_result"
    }
   ],
   "source": [
    "from sklearn.linear_model import LinearRegression\n",
    "regressor = LinearRegression()\n",
    "regressor.fit(X_train, y_train)"
   ]
  },
  {
   "cell_type": "code",
   "execution_count": 140,
   "metadata": {},
   "outputs": [],
   "source": [
    "y_pred = regressor.predict(X_test)"
   ]
  },
  {
   "cell_type": "code",
   "execution_count": 141,
   "metadata": {},
   "outputs": [
    {
     "data": {
      "text/plain": [
       "102"
      ]
     },
     "execution_count": 141,
     "metadata": {},
     "output_type": "execute_result"
    }
   ],
   "source": [
    "X_test.size\n"
   ]
  },
  {
   "cell_type": "code",
   "execution_count": 142,
   "metadata": {},
   "outputs": [
    {
     "data": {
      "text/plain": [
       "17"
      ]
     },
     "execution_count": 142,
     "metadata": {},
     "output_type": "execute_result"
    }
   ],
   "source": [
    "y_pred.size"
   ]
  },
  {
   "cell_type": "code",
   "execution_count": 143,
   "metadata": {},
   "outputs": [
    {
     "data": {
      "text/plain": [
       "198"
      ]
     },
     "execution_count": 143,
     "metadata": {},
     "output_type": "execute_result"
    }
   ],
   "source": [
    "X_train.size\n"
   ]
  },
  {
   "cell_type": "code",
   "execution_count": 144,
   "metadata": {},
   "outputs": [
    {
     "data": {
      "text/plain": [
       "33"
      ]
     },
     "execution_count": 144,
     "metadata": {},
     "output_type": "execute_result"
    }
   ],
   "source": [
    "y_train.size"
   ]
  },
  {
   "cell_type": "code",
   "execution_count": 145,
   "metadata": {},
   "outputs": [
    {
     "data": {
      "text/plain": [
       "17"
      ]
     },
     "execution_count": 145,
     "metadata": {},
     "output_type": "execute_result"
    }
   ],
   "source": [
    "y_test.size"
   ]
  },
  {
   "cell_type": "code",
   "execution_count": 146,
   "metadata": {},
   "outputs": [
    {
     "data": {
      "text/plain": [
       "array([[0.39946683, 1.26892014, 0.25042853, 0.        , 0.        ,\n",
       "        1.        ],\n",
       "       [0.60884455, 0.39128957, 0.52936195, 0.        , 1.        ,\n",
       "        0.        ],\n",
       "       [0.61635061, 0.57292553, 0.48573267, 0.        , 0.        ,\n",
       "        1.        ],\n",
       "       [0.16869099, 0.32290051, 0.34861436, 0.        , 0.        ,\n",
       "        1.        ],\n",
       "       [0.92798459, 0.48165538, 0.8646636 , 0.        , 0.        ,\n",
       "        1.        ],\n",
       "       [0.43609283, 0.73975262, 0.74861321, 1.        , 0.        ,\n",
       "        0.        ],\n",
       "       [0.12234465, 0.14165731, 0.39269043, 1.        , 0.        ,\n",
       "        0.        ],\n",
       "       [0.36974101, 0.97967389, 0.18698856, 1.        , 0.        ,\n",
       "        0.        ],\n",
       "       [0.4475048 , 0.69066401, 0.64291963, 0.        , 0.        ,\n",
       "        1.        ],\n",
       "       [0.85943772, 0.3874369 , 0.77613557, 0.        , 0.        ,\n",
       "        1.        ],\n",
       "       [0.33561668, 0.50012413, 0.45494286, 0.        , 0.        ,\n",
       "        1.        ],\n",
       "       [0.2782839 , 0.32615264, 0.43561799, 1.        , 0.        ,\n",
       "        0.        ],\n",
       "       [0.45557444, 0.89692957, 0.28413435, 0.        , 0.        ,\n",
       "        1.        ],\n",
       "       [0.2807759 , 1.02789506, 0.44680961, 0.        , 1.        ,\n",
       "        0.        ],\n",
       "       [0.55488118, 0.60752345, 0.62511553, 0.        , 0.        ,\n",
       "        1.        ],\n",
       "       [0.7880179 , 0.91039595, 0.68649342, 0.        , 0.        ,\n",
       "        1.        ],\n",
       "       [0.72539353, 1.01682022, 0.54370828, 0.        , 0.        ,\n",
       "        1.        ]])"
      ]
     },
     "execution_count": 146,
     "metadata": {},
     "output_type": "execute_result"
    }
   ],
   "source": [
    "X_test"
   ]
  },
  {
   "cell_type": "code",
   "execution_count": 147,
   "metadata": {},
   "outputs": [
    {
     "data": {
      "text/plain": [
       "array([111616.64259451, 132709.39466316, 140155.11033793,  76099.20398184,\n",
       "       186329.94240372, 112822.19807255,  63002.00394804,  99107.10428091,\n",
       "       119287.75473383, 175522.83864739, 101000.698615  ,  85772.99293235,\n",
       "       117713.76481525,  90230.88085201, 133375.04389452, 167530.54765828,\n",
       "       158013.54602063])"
      ]
     },
     "execution_count": 147,
     "metadata": {},
     "output_type": "execute_result"
    }
   ],
   "source": [
    "y_pred"
   ]
  },
  {
   "cell_type": "code",
   "execution_count": 148,
   "metadata": {},
   "outputs": [
    {
     "data": {
      "text/plain": [
       "array([103282.38, 144259.4 , 146121.95,  77798.83, 191050.39, 105008.31,\n",
       "        81229.06,  97483.56, 110352.25, 166187.94,  96778.92,  96479.51,\n",
       "       105733.54,  96712.8 , 124266.9 , 155752.6 , 132602.65])"
      ]
     },
     "execution_count": 148,
     "metadata": {},
     "output_type": "execute_result"
    }
   ],
   "source": [
    "y_test"
   ]
  },
  {
   "cell_type": "code",
   "execution_count": 149,
   "metadata": {},
   "outputs": [],
   "source": [
    "#regressor.predict([[165349.20],[136897.80],[471784.10],[1,0,0]])"
   ]
  },
  {
   "cell_type": "code",
   "execution_count": null,
   "metadata": {},
   "outputs": [],
   "source": []
  },
  {
   "cell_type": "code",
   "execution_count": null,
   "metadata": {},
   "outputs": [],
   "source": []
  },
  {
   "cell_type": "code",
   "execution_count": null,
   "metadata": {},
   "outputs": [],
   "source": []
  }
 ],
 "metadata": {
  "kernelspec": {
   "display_name": "Python 3",
   "language": "python",
   "name": "python3"
  },
  "language_info": {
   "codemirror_mode": {
    "name": "ipython",
    "version": 3
   },
   "file_extension": ".py",
   "mimetype": "text/x-python",
   "name": "python",
   "nbconvert_exporter": "python",
   "pygments_lexer": "ipython3",
   "version": "3.8.5"
  }
 },
 "nbformat": 4,
 "nbformat_minor": 4
}
