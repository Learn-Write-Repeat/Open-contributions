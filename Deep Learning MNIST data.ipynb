{
 "cells": [
  {
   "cell_type": "markdown",
   "metadata": {},
   "source": [
    "# Deep Learning Computation using MNIST dataset"
   ]
  },
  {
   "cell_type": "code",
   "execution_count": 1,
   "metadata": {},
   "outputs": [],
   "source": [
    "#Importing tensorflow\n",
    "import tensorflow as tf"
   ]
  },
  {
   "cell_type": "code",
   "execution_count": 2,
   "metadata": {
    "colab": {
     "base_uri": "https://localhost:8080/",
     "height": 34
    },
    "colab_type": "code",
    "executionInfo": {
     "elapsed": 876,
     "status": "ok",
     "timestamp": 1581787650399,
     "user": {
      "displayName": "Prof. Mukesh Rao",
      "photoUrl": "",
      "userId": "02134472667302377777"
     },
     "user_tz": -330
    },
    "id": "tuPRUnoK42PZ",
    "outputId": "ea931dbb-7678-4b40-e7a6-136e2678efe7"
   },
   "outputs": [
    {
     "name": "stdout",
     "output_type": "stream",
     "text": [
      "2.0.0\n"
     ]
    }
   ],
   "source": [
    "#Check the version of the tensorflow installed \n",
    "print(tf.__version__)"
   ]
  },
  {
   "cell_type": "code",
   "execution_count": 3,
   "metadata": {
    "colab": {
     "base_uri": "https://localhost:8080/",
     "height": 34
    },
    "colab_type": "code",
    "executionInfo": {
     "elapsed": 1203,
     "status": "ok",
     "timestamp": 1581787800121,
     "user": {
      "displayName": "Prof. Mukesh Rao",
      "photoUrl": "",
      "userId": "02134472667302377777"
     },
     "user_tz": -330
    },
    "id": "vA5_mIo78Afu",
    "outputId": "e53dfeb6-eb4d-48dd-f881-990133c6c734"
   },
   "outputs": [],
   "source": [
    "import numpy as np\n",
    "import pandas as pd\n",
    "from sklearn import metrics\n",
    "import matplotlib.pyplot as plt\n",
    "%matplotlib inline\n",
    "\n",
    "\n",
    "\n",
    "# Using Tensorflow Keras instead of the original Keras we are importing the required layers \n",
    "\n",
    "from tensorflow.keras.datasets import mnist\n",
    "from tensorflow.keras import Sequential  #importing sequential layer \n",
    "from tensorflow.keras.layers import Dense  #importing the dense layer \n",
    "\n",
    "from tensorflow.keras.layers import BatchNormalization\n"
   ]
  },
  {
   "cell_type": "code",
   "execution_count": 4,
   "metadata": {
    "colab": {
     "base_uri": "https://localhost:8080/",
     "height": 50
    },
    "colab_type": "code",
    "executionInfo": {
     "elapsed": 1785,
     "status": "ok",
     "timestamp": 1581787805260,
     "user": {
      "displayName": "Prof. Mukesh Rao",
      "photoUrl": "",
      "userId": "02134472667302377777"
     },
     "user_tz": -330
    },
    "id": "tEKugk2a8Afy",
    "outputId": "b12bf75b-8fe2-4e42-89a8-f0f2751e18f3"
   },
   "outputs": [],
   "source": [
    "(xtrain,ytrain),(xtest,ytest)=mnist.load_data()"
   ]
  },
  {
   "cell_type": "code",
   "execution_count": 5,
   "metadata": {
    "colab": {
     "base_uri": "https://localhost:8080/",
     "height": 34
    },
    "colab_type": "code",
    "executionInfo": {
     "elapsed": 1127,
     "status": "ok",
     "timestamp": 1581787805263,
     "user": {
      "displayName": "Prof. Mukesh Rao",
      "photoUrl": "",
      "userId": "02134472667302377777"
     },
     "user_tz": -330
    },
    "id": "kwGbI1p18Af0",
    "outputId": "afd30fd4-c2b6-423b-8bc4-750de36c0c1c"
   },
   "outputs": [
    {
     "data": {
      "text/plain": [
       "(60000, 28, 28)"
      ]
     },
     "execution_count": 5,
     "metadata": {},
     "output_type": "execute_result"
    }
   ],
   "source": [
    "xtrain.shape"
   ]
  },
  {
   "cell_type": "code",
   "execution_count": 6,
   "metadata": {
    "colab": {
     "base_uri": "https://localhost:8080/",
     "height": 282
    },
    "colab_type": "code",
    "executionInfo": {
     "elapsed": 1803,
     "status": "ok",
     "timestamp": 1581787806388,
     "user": {
      "displayName": "Prof. Mukesh Rao",
      "photoUrl": "",
      "userId": "02134472667302377777"
     },
     "user_tz": -330
    },
    "id": "hT3TVhgF8Af3",
    "outputId": "e6ba82e8-a051-4398-d2c0-d84c1b5b1e2e"
   },
   "outputs": [
    {
     "data": {
      "text/plain": [
       "<matplotlib.image.AxesImage at 0x806e89d108>"
      ]
     },
     "execution_count": 6,
     "metadata": {},
     "output_type": "execute_result"
    },
    {
     "data": {
      "image/png": "[encoded data removed]",
      "text/plain": [
       "<Figure size 432x288 with 1 Axes>"
      ]
     },
     "metadata": {
      "needs_background": "light"
     },
     "output_type": "display_data"
    }
   ],
   "source": [
    "plt.imshow(xtrain[1,:,:],cmap='gray')"
   ]
  },
  {
   "cell_type": "code",
   "execution_count": 7,
   "metadata": {
    "colab": {
     "base_uri": "https://localhost:8080/",
     "height": 34
    },
    "colab_type": "code",
    "executionInfo": {
     "elapsed": 2820,
     "status": "ok",
     "timestamp": 1581787810231,
     "user": {
      "displayName": "Prof. Mukesh Rao",
      "photoUrl": "",
      "userId": "02134472667302377777"
     },
     "user_tz": -330
    },
    "id": "OGFV6ECu8Af5",
    "outputId": "0660dc82-8bf4-4ae2-b5d8-27f2547b12ac"
   },
   "outputs": [
    {
     "data": {
      "text/plain": [
       "0"
      ]
     },
     "execution_count": 7,
     "metadata": {},
     "output_type": "execute_result"
    }
   ],
   "source": [
    "ytrain[1]"
   ]
  },
  {
   "cell_type": "code",
   "execution_count": 8,
   "metadata": {
    "colab": {
     "base_uri": "https://localhost:8080/",
     "height": 282
    },
    "colab_type": "code",
    "executionInfo": {
     "elapsed": 2278,
     "status": "ok",
     "timestamp": 1581787810235,
     "user": {
      "displayName": "Prof. Mukesh Rao",
      "photoUrl": "",
      "userId": "02134472667302377777"
     },
     "user_tz": -330
    },
    "id": "J3RndLvO8Af8",
    "outputId": "b4be443e-ff2f-4373-ed36-fa825942cfe0"
   },
   "outputs": [
    {
     "data": {
      "text/plain": [
       "<matplotlib.image.AxesImage at 0x806e94f688>"
      ]
     },
     "execution_count": 8,
     "metadata": {},
     "output_type": "execute_result"
    },
    {
     "data": {
      "image/png": "[encoded data removed]",
      "text/plain": [
       "<Figure size 432x288 with 1 Axes>"
      ]
     },
     "metadata": {
      "needs_background": "light"
     },
     "output_type": "display_data"
    }
   ],
   "source": [
    "plt.imshow(xtest[0,:,:],cmap='gray')"
   ]
  },
  {
   "cell_type": "code",
   "execution_count": 9,
   "metadata": {
    "colab": {
     "base_uri": "https://localhost:8080/",
     "height": 67
    },
    "colab_type": "code",
    "executionInfo": {
     "elapsed": 2396,
     "status": "ok",
     "timestamp": 1581787811009,
     "user": {
      "displayName": "Prof. Mukesh Rao",
      "photoUrl": "",
      "userId": "02134472667302377777"
     },
     "user_tz": -330
    },
    "id": "rWKzG0Uz8Af-",
    "outputId": "a253d048-3115-4717-9295-142b47c78c5d"
   },
   "outputs": [
    {
     "data": {
      "text/plain": [
       "array([5, 0, 4, 1, 9, 2, 1, 3, 1, 4, 3, 5, 3, 6, 1, 7, 2, 8, 6, 9, 4, 0,\n",
       "       9, 1, 1, 2, 4, 3, 2, 7, 3, 8, 6, 9, 0, 5, 6, 0, 7, 6, 1, 8, 7, 9,\n",
       "       3, 9, 8, 5, 9, 3], dtype=uint8)"
      ]
     },
     "execution_count": 9,
     "metadata": {},
     "output_type": "execute_result"
    }
   ],
   "source": [
    "ytrain[:50]"
   ]
  },
  {
   "cell_type": "code",
   "execution_count": 10,
   "metadata": {
    "colab": {
     "base_uri": "https://localhost:8080/",
     "height": 202
    },
    "colab_type": "code",
    "executionInfo": {
     "elapsed": 1557,
     "status": "ok",
     "timestamp": 1581787811481,
     "user": {
      "displayName": "Prof. Mukesh Rao",
      "photoUrl": "",
      "userId": "02134472667302377777"
     },
     "user_tz": -330
    },
    "id": "eUlVvVev8AgA",
    "outputId": "184c3e6b-b589-48ad-d6c2-e00dafc1ff5b"
   },
   "outputs": [
    {
     "data": {
      "text/plain": [
       "1    6742\n",
       "7    6265\n",
       "3    6131\n",
       "2    5958\n",
       "9    5949\n",
       "0    5923\n",
       "6    5918\n",
       "8    5851\n",
       "4    5842\n",
       "5    5421\n",
       "Name: 0, dtype: int64"
      ]
     },
     "execution_count": 10,
     "metadata": {},
     "output_type": "execute_result"
    }
   ],
   "source": [
    "L=pd.DataFrame(ytrain)\n",
    "L[0].value_counts()"
   ]
  },
  {
   "cell_type": "code",
   "execution_count": 11,
   "metadata": {
    "colab": {},
    "colab_type": "code",
    "id": "WQYuYZGd8AgD"
   },
   "outputs": [],
   "source": [
    "#Represent Training & Testing samples suitable for #tensorflow backend\n",
    "x_train=xtrain.reshape(xtrain.shape[0],784).astype('float32')\n",
    "x_test=xtest.reshape(xtest.shape[0],784).astype('float32')\n"
   ]
  },
  {
   "cell_type": "code",
   "execution_count": 12,
   "metadata": {
    "colab": {
     "base_uri": "https://localhost:8080/",
     "height": 34
    },
    "colab_type": "code",
    "executionInfo": {
     "elapsed": 1064,
     "status": "ok",
     "timestamp": 1581787813214,
     "user": {
      "displayName": "Prof. Mukesh Rao",
      "photoUrl": "",
      "userId": "02134472667302377777"
     },
     "user_tz": -330
    },
    "id": "v1QWQjmZ8AgF",
    "outputId": "2812be52-52b4-48b6-d406-824b73e41e3d"
   },
   "outputs": [
    {
     "data": {
      "text/plain": [
       "(10000, 784)"
      ]
     },
     "execution_count": 12,
     "metadata": {},
     "output_type": "execute_result"
    }
   ],
   "source": [
    "x_test.shape"
   ]
  },
  {
   "cell_type": "code",
   "execution_count": 13,
   "metadata": {
    "colab": {},
    "colab_type": "code",
    "id": "5qajCj7-8AgH"
   },
   "outputs": [],
   "source": [
    "x_train/=255\n",
    "x_test/=255"
   ]
  },
  {
   "cell_type": "code",
   "execution_count": 14,
   "metadata": {
    "colab": {},
    "colab_type": "code",
    "id": "mZnZ2Dq78AgL"
   },
   "outputs": [],
   "source": [
    "from tensorflow import keras\n",
    "\n",
    "y_train = keras.utils.to_categorical(ytrain, 10)\n",
    "y_test = keras.utils.to_categorical(ytest, 10)"
   ]
  },
  {
   "cell_type": "code",
   "execution_count": 15,
   "metadata": {
    "colab": {},
    "colab_type": "code",
    "id": "19kdw8qz8AgV"
   },
   "outputs": [],
   "source": [
    "# Initialize the constructor\n",
    "\n",
    "model = Sequential()\n",
    "\n",
    "# Define model architecture\n",
    "#Dense layers are used in this architecture in a sequential manner\n",
    "\n",
    "model.add(Dense(784,activation='relu'))\n",
    "model.add(Dense(100, activation ='relu'))\n",
    "model.add(Dense(10,activation='softmax'))"
   ]
  },
  {
   "cell_type": "code",
   "execution_count": 16,
   "metadata": {
    "colab": {},
    "colab_type": "code",
    "id": "MKKOQijJ8AgY"
   },
   "outputs": [],
   "source": [
    "model.compile(loss='categorical_crossentropy',optimizer='adam',metrics=['accuracy'])"
   ]
  },
  {
   "cell_type": "code",
   "execution_count": 17,
   "metadata": {
    "colab": {
     "base_uri": "https://localhost:8080/",
     "height": 706
    },
    "colab_type": "code",
    "executionInfo": {
     "elapsed": 90303,
     "status": "ok",
     "timestamp": 1581787911192,
     "user": {
      "displayName": "Prof. Mukesh Rao",
      "photoUrl": "",
      "userId": "02134472667302377777"
     },
     "user_tz": -330
    },
    "id": "7jWMYY138Aga",
    "outputId": "b6035628-b5cf-4543-9156-a4ae15267eda"
   },
   "outputs": [
    {
     "name": "stdout",
     "output_type": "stream",
     "text": [
      "Train on 54000 samples, validate on 6000 samples\n",
      "Epoch 1/20\n",
      "54000/54000 [==============================] - 8s 157us/sample - loss: 0.3658 - accuracy: 0.8990 - val_loss: 0.1336 - val_accuracy: 0.9630\n",
      "Epoch 2/20\n",
      "54000/54000 [==============================] - 6s 109us/sample - loss: 0.1293 - accuracy: 0.9620 - val_loss: 0.0913 - val_accuracy: 0.9742\n",
      "Epoch 3/20\n",
      "54000/54000 [==============================] - 6s 109us/sample - loss: 0.0830 - accuracy: 0.9759 - val_loss: 0.0823 - val_accuracy: 0.9775\n",
      "Epoch 4/20\n",
      "54000/54000 [==============================] - 6s 108us/sample - loss: 0.0569 - accuracy: 0.9834 - val_loss: 0.0814 - val_accuracy: 0.9758\n",
      "Epoch 5/20\n",
      "54000/54000 [==============================] - 6s 109us/sample - loss: 0.0427 - accuracy: 0.9877 - val_loss: 0.0703 - val_accuracy: 0.9793\n",
      "Epoch 6/20\n",
      "54000/54000 [==============================] - 6s 114us/sample - loss: 0.0312 - accuracy: 0.9917 - val_loss: 0.0670 - val_accuracy: 0.9812\n",
      "Epoch 7/20\n",
      "54000/54000 [==============================] - 6s 119us/sample - loss: 0.0223 - accuracy: 0.9940 - val_loss: 0.0696 - val_accuracy: 0.9798\n",
      "Epoch 8/20\n",
      "54000/54000 [==============================] - 7s 126us/sample - loss: 0.0167 - accuracy: 0.9958 - val_loss: 0.0694 - val_accuracy: 0.9813\n",
      "Epoch 9/20\n",
      "54000/54000 [==============================] - 7s 130us/sample - loss: 0.0121 - accuracy: 0.9975 - val_loss: 0.0721 - val_accuracy: 0.9813\n",
      "Epoch 10/20\n",
      "54000/54000 [==============================] - 7s 132us/sample - loss: 0.0085 - accuracy: 0.9984 - val_loss: 0.0667 - val_accuracy: 0.9833\n",
      "Epoch 11/20\n",
      "54000/54000 [==============================] - 7s 134us/sample - loss: 0.0061 - accuracy: 0.9992 - val_loss: 0.0704 - val_accuracy: 0.9835\n",
      "Epoch 12/20\n",
      "54000/54000 [==============================] - 7s 135us/sample - loss: 0.0043 - accuracy: 0.9994 - val_loss: 0.0687 - val_accuracy: 0.9835\n",
      "Epoch 13/20\n",
      "54000/54000 [==============================] - 8s 141us/sample - loss: 0.0032 - accuracy: 0.9997 - val_loss: 0.0677 - val_accuracy: 0.9833\n",
      "Epoch 14/20\n",
      "54000/54000 [==============================] - 8s 140us/sample - loss: 0.0019 - accuracy: 0.9999 - val_loss: 0.0714 - val_accuracy: 0.9842\n",
      "Epoch 15/20\n",
      "54000/54000 [==============================] - 7s 138us/sample - loss: 0.0013 - accuracy: 1.0000 - val_loss: 0.0701 - val_accuracy: 0.9840\n",
      "Epoch 16/20\n",
      "54000/54000 [==============================] - 8s 139us/sample - loss: 0.0010 - accuracy: 1.0000 - val_loss: 0.0716 - val_accuracy: 0.9847\n",
      "Epoch 17/20\n",
      "54000/54000 [==============================] - 8s 139us/sample - loss: 8.2963e-04 - accuracy: 1.0000 - val_loss: 0.0711 - val_accuracy: 0.9848\n",
      "Epoch 18/20\n",
      "54000/54000 [==============================] - 8s 140us/sample - loss: 6.9939e-04 - accuracy: 1.0000 - val_loss: 0.0710 - val_accuracy: 0.9850\n",
      "Epoch 19/20\n",
      "54000/54000 [==============================] - 8s 141us/sample - loss: 6.1606e-04 - accuracy: 1.0000 - val_loss: 0.0721 - val_accuracy: 0.9852\n",
      "Epoch 20/20\n",
      "54000/54000 [==============================] - 8s 143us/sample - loss: 5.1559e-04 - accuracy: 1.0000 - val_loss: 0.0760 - val_accuracy: 0.9843\n"
     ]
    }
   ],
   "source": [
    "epochs = 20\n",
    "batch_size = 512\n",
    "\n",
    "\n",
    "history = model.fit(x_train, y_train, batch_size=batch_size, epochs=epochs, validation_split=.1, verbose=True)\n",
    "loss,accuracy  = model.evaluate(x_test, y_test, verbose=False)"
   ]
  },
  {
   "cell_type": "code",
   "execution_count": 18,
   "metadata": {
    "colab": {
     "base_uri": "https://localhost:8080/",
     "height": 335
    },
    "colab_type": "code",
    "executionInfo": {
     "elapsed": 930,
     "status": "ok",
     "timestamp": 1581787922167,
     "user": {
      "displayName": "Prof. Mukesh Rao",
      "photoUrl": "",
      "userId": "02134472667302377777"
     },
     "user_tz": -330
    },
    "id": "pZonsll94n5q",
    "outputId": "93bc1338-ad41-4620-e6bc-333713954c27"
   },
   "outputs": [
    {
     "name": "stdout",
     "output_type": "stream",
     "text": [
      "[0.963, 0.9741667, 0.9775, 0.97583336, 0.97933334, 0.98116666, 0.9798333, 0.9813333, 0.9813333, 0.98333335, 0.9835, 0.9835, 0.98333335, 0.9841667, 0.984, 0.98466665, 0.98483336, 0.985, 0.98516667, 0.98433334]\n",
      "[0.898963, 0.96196294, 0.9758889, 0.9834074, 0.98766667, 0.9916667, 0.99396294, 0.99583334, 0.997463, 0.99837035, 0.99916667, 0.99935186, 0.9997407, 0.99990743, 0.99998146, 0.99998146, 1.0, 1.0, 1.0, 1.0]\n"
     ]
    },
    {
     "data": {
      "text/plain": [
       "<matplotlib.axes._subplots.AxesSubplot at 0x80002cb848>"
      ]
     },
     "execution_count": 18,
     "metadata": {},
     "output_type": "execute_result"
    },
    {
     "data": {
      "image/png": "[encoded data removed]",
      "text/plain": [
       "<Figure size 432x288 with 1 Axes>"
      ]
     },
     "metadata": {
      "needs_background": "light"
     },
     "output_type": "display_data"
    }
   ],
   "source": [
    "print(history.history['val_accuracy'])\n",
    "\n",
    "print(history.history['accuracy'])\n",
    "\n",
    "ta = pd.DataFrame(history.history['accuracy'])\n",
    "va = pd.DataFrame(history.history['val_accuracy'])\n",
    "\n",
    "tva = pd.concat([ta,va] , axis=1)\n",
    "\n",
    "tva.boxplot()"
   ]
  },
  {
   "cell_type": "code",
   "execution_count": 19,
   "metadata": {
    "colab": {
     "base_uri": "https://localhost:8080/",
     "height": 50
    },
    "colab_type": "code",
    "executionInfo": {
     "elapsed": 2105,
     "status": "ok",
     "timestamp": 1581787927848,
     "user": {
      "displayName": "Prof. Mukesh Rao",
      "photoUrl": "",
      "userId": "02134472667302377777"
     },
     "user_tz": -330
    },
    "id": "eooLx3Mp8Agd",
    "outputId": "b1bb8914-4702-4ed8-8ddf-99a34a39f210"
   },
   "outputs": [
    {
     "name": "stdout",
     "output_type": "stream",
     "text": [
      "Accuracy: 0.983\n",
      "Loss: 0.069\n"
     ]
    }
   ],
   "source": [
    "loss, acc = model.evaluate(x_test, y_test, verbose=0)\n",
    "print('Accuracy: %.3f'  % acc)\n",
    "print('Loss: %.3f' % loss)"
   ]
  },
  {
   "cell_type": "code",
   "execution_count": 20,
   "metadata": {
    "colab": {},
    "colab_type": "code",
    "id": "yMANVqX58Agj"
   },
   "outputs": [],
   "source": [
    "y_predict = model.predict(x_test)"
   ]
  },
  {
   "cell_type": "code",
   "execution_count": 21,
   "metadata": {
    "colab": {
     "base_uri": "https://localhost:8080/",
     "height": 67
    },
    "colab_type": "code",
    "executionInfo": {
     "elapsed": 945,
     "status": "ok",
     "timestamp": 1581787929110,
     "user": {
      "displayName": "Prof. Mukesh Rao",
      "photoUrl": "",
      "userId": "02134472667302377777"
     },
     "user_tz": -330
    },
    "id": "yOgumyig8Agm",
    "outputId": "a516c9ea-5b4f-4cdf-b359-4f88e17c8bf7"
   },
   "outputs": [
    {
     "data": {
      "text/plain": [
       "array([1.1531187e-10, 1.0339329e-10, 9.5322195e-10, 3.4682409e-06,\n",
       "       1.7068695e-14, 1.4741786e-09, 9.1904901e-17, 9.9999630e-01,\n",
       "       6.2887340e-09, 2.0655480e-07], dtype=float32)"
      ]
     },
     "execution_count": 21,
     "metadata": {},
     "output_type": "execute_result"
    }
   ],
   "source": [
    "y_predict[0]"
   ]
  },
  {
   "cell_type": "code",
   "execution_count": 22,
   "metadata": {
    "colab": {
     "base_uri": "https://localhost:8080/",
     "height": 34
    },
    "colab_type": "code",
    "executionInfo": {
     "elapsed": 689,
     "status": "ok",
     "timestamp": 1581787929488,
     "user": {
      "displayName": "Prof. Mukesh Rao",
      "photoUrl": "",
      "userId": "02134472667302377777"
     },
     "user_tz": -330
    },
    "id": "lbbqEylx8Agp",
    "outputId": "9d429a64-a95c-4517-c7a6-f0a361dfe7da"
   },
   "outputs": [
    {
     "data": {
      "text/plain": [
       "7"
      ]
     },
     "execution_count": 22,
     "metadata": {},
     "output_type": "execute_result"
    }
   ],
   "source": [
    "np.argmax(y_predict[0])"
   ]
  },
  {
   "cell_type": "code",
   "execution_count": 23,
   "metadata": {
    "colab": {
     "base_uri": "https://localhost:8080/",
     "height": 185
    },
    "colab_type": "code",
    "executionInfo": {
     "elapsed": 719,
     "status": "ok",
     "timestamp": 1581787930449,
     "user": {
      "displayName": "Prof. Mukesh Rao",
      "photoUrl": "",
      "userId": "02134472667302377777"
     },
     "user_tz": -330
    },
    "id": "Blqo-6lQ8Agr",
    "outputId": "cb5d4b35-7395-4980-ad29-33fd3b90e386"
   },
   "outputs": [
    {
     "name": "stdout",
     "output_type": "stream",
     "text": [
      "[[ 972    1    1    0    1    0    2    1    2    0]\n",
      " [   0 1125    4    0    0    1    2    1    2    0]\n",
      " [   2    2 1013    2    1    0    2    4    5    1]\n",
      " [   0    0    3  994    0    4    0    2    4    3]\n",
      " [   0    0    2    1  967    0    4    1    1    6]\n",
      " [   2    0    0    6    1  873    5    1    2    2]\n",
      " [   2    2    1    1    6    3  943    0    0    0]\n",
      " [   1    4   10    3    0    0    0 1005    1    4]\n",
      " [   4    0    3    5    3    2    4    2  948    3]\n",
      " [   1    3    0    3    3    2    2    3    1  991]]\n"
     ]
    }
   ],
   "source": [
    "y_pred = []\n",
    "for val in y_predict:\n",
    "    y_pred.append(np.argmax(val))\n",
    "#print(y_pred)    \n",
    "#convert 0 1 to 1 and 1 0 as 0\n",
    "cm = metrics.confusion_matrix(ytest,y_pred)\n",
    "print(cm)"
   ]
  },
  {
   "cell_type": "code",
   "execution_count": 24,
   "metadata": {
    "colab": {
     "base_uri": "https://localhost:8080/",
     "height": 302
    },
    "colab_type": "code",
    "executionInfo": {
     "elapsed": 865,
     "status": "ok",
     "timestamp": 1581787933946,
     "user": {
      "displayName": "Prof. Mukesh Rao",
      "photoUrl": "",
      "userId": "02134472667302377777"
     },
     "user_tz": -330
    },
    "id": "oLEPbJmv8Agt",
    "outputId": "c4eaaf3f-18b4-444e-a848-c5fe227b5244"
   },
   "outputs": [
    {
     "name": "stdout",
     "output_type": "stream",
     "text": [
      "              precision    recall  f1-score   support\n",
      "\n",
      "           0       0.99      0.99      0.99       980\n",
      "           1       0.99      0.99      0.99      1135\n",
      "           2       0.98      0.98      0.98      1032\n",
      "           3       0.98      0.98      0.98      1010\n",
      "           4       0.98      0.98      0.98       982\n",
      "           5       0.99      0.98      0.98       892\n",
      "           6       0.98      0.98      0.98       958\n",
      "           7       0.99      0.98      0.98      1028\n",
      "           8       0.98      0.97      0.98       974\n",
      "           9       0.98      0.98      0.98      1009\n",
      "\n",
      "    accuracy                           0.98     10000\n",
      "   macro avg       0.98      0.98      0.98     10000\n",
      "weighted avg       0.98      0.98      0.98     10000\n",
      "\n"
     ]
    }
   ],
   "source": [
    "cr=metrics.classification_report(ytest,y_pred)\n",
    "print(cr)"
   ]
  }
 ],
 "metadata": {
  "colab": {
   "name": "DeepLearningMnist.ipynb",
   "provenance": []
  },
  "kernelspec": {
   "display_name": "Python 3",
   "language": "python",
   "name": "python3"
  },
  "language_info": {
   "codemirror_mode": {
    "name": "ipython",
    "version": 3
   },
   "file_extension": ".py",
   "mimetype": "text/x-python",
   "name": "python",
   "nbconvert_exporter": "python",
   "pygments_lexer": "ipython3",
   "version": "3.8.3"
  }
 },
 "nbformat": 4,
 "nbformat_minor": 1
}
