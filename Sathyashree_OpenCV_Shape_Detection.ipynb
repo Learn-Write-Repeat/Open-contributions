{
 "cells": [
  {
   "cell_type": "markdown",
   "metadata": {},
   "source": [
    "## Shape Detection"
   ]
  },
  {
   "cell_type": "markdown",
   "metadata": {},
   "source": [
    "### Shape Detection"
   ]
  },
  {
   "cell_type": "markdown",
   "metadata": {},
   "source": [
    "### Installation of pip and imutils"
   ]
  },
  {
   "cell_type": "code",
   "execution_count": null,
   "metadata": {},
   "outputs": [],
   "source": [
    "conda install pip\n",
    "pip install imutils"
   ]
  },
  {
   "cell_type": "markdown",
   "metadata": {},
   "source": [
    "### Importing the necessary libraries"
   ]
  },
  {
   "cell_type": "code",
   "execution_count": 1,
   "metadata": {},
   "outputs": [],
   "source": [
    "#Import the necessary libraries\n",
    "import cv2\n",
    "import imutils"
   ]
  },
  {
   "cell_type": "markdown",
   "metadata": {},
   "source": [
    "### Defining the ShapeDetector Class"
   ]
  },
  {
   "cell_type": "code",
   "execution_count": 12,
   "metadata": {},
   "outputs": [],
   "source": [
    "#Define the ShapeDetector class\n",
    "class ShapeDetector:\n",
    "    #Constructor\n",
    "    def __init__(self):\n",
    "        #Since there is nothing to initialise, pass\n",
    "        pass\n",
    "    #Function to detect the shape\n",
    "    #Takes contours as the second argument\n",
    "    def detect(self , c):\n",
    "        #Basically, the shape is unidentified\n",
    "        shape = \"unidentified\"\n",
    "        #Find the perimeter of the shape\n",
    "        peri = cv2.arcLength(c , True)\n",
    "        #Approximate the contours to get the number of vertices\n",
    "        approx = cv2.approxPolyDP(c , 0.04 * peri , True)\n",
    "        \n",
    "        #Start detecting the shape based on the number of vertices\n",
    "        #If the number of vertices is 3, its a triagle\n",
    "        if len(approx) == 3:\n",
    "            shape = \"Triangle\"\n",
    "        #If the number number of vertices is 4, the shape can either be a square or a rectangle\n",
    "        elif len(approx) == 4:\n",
    "            #Draw an approximate rectangle around the contours \n",
    "            (x , y , w , h) = cv2.boundingRect(approx)\n",
    "            #Calculate the ratio of width to height\n",
    "            av = w / float(h)\n",
    "            #If the ratio is approximately equal to 1, then the shape is a square, else a rectangle\n",
    "            shape = \"Square\" if av >= 0.95 and av <= 1.05 else \"Rectangle\"\n",
    "        #If the number of vertices is 5, its a pentagon\n",
    "        elif len(approx) == 5:\n",
    "            shape = \"Pentagon\"\n",
    "        #If the shape is none of the above, then its a circle\n",
    "        else:\n",
    "            shape = \"Circle\"\n",
    "        #Return the shape of the object\n",
    "        return shape"
   ]
  },
  {
   "cell_type": "markdown",
   "metadata": {},
   "source": [
    "### Loading and processing the image to make it easier to detect shapes, finding the contours"
   ]
  },
  {
   "cell_type": "code",
   "execution_count": 13,
   "metadata": {},
   "outputs": [],
   "source": [
    "#Load the image to a variable\n",
    "image = cv2.imread('extras/shapes_and_colors.jpg')\n",
    "#Resize the image to get better approximation\n",
    "resized = imutils.resize(image , width=300)\n",
    "#Obtain factor by which the image is resized\n",
    "ratio = image.shape[0] / float(resized.shape[0])\n",
    "#Convert the resized image into Grayscale image\n",
    "gray = cv2.cvtColor(resized , cv2.COLOR_BGR2GRAY)\n",
    "#Apply Gaussian blur to the Grayscaled image\n",
    "blurred = cv2.GaussianBlur(gray , (5, 5) , 0)\n",
    "#Threshold the blurred image\n",
    "thresh = cv2.threshold(blurred , 60 , 255 , cv2.THRESH_BINARY)[1]\n",
    "#Find the contours of the copy of the threshold image\n",
    "cnts = cv2.findContours(thresh.copy() , cv2.RETR_EXTERNAL , cv2.CHAIN_APPROX_SIMPLE)\n",
    "cnts = imutils.grab_contours(cnts)\n",
    "#Create a ShapeDetector object\n",
    "sd = ShapeDetector()"
   ]
  },
  {
   "cell_type": "markdown",
   "metadata": {},
   "source": [
    "### Iterating over the contours to detect shapes and displaying the final output"
   ]
  },
  {
   "cell_type": "code",
   "execution_count": 7,
   "metadata": {},
   "outputs": [],
   "source": [
    "#Iterate over every point in contours\n",
    "for c in cnts:\n",
    "    #Find the moments of the contour\n",
    "    M = cv2.moments(c)\n",
    "    #Obtain the x and y co-ordinates of the centre of the contour\n",
    "    cX = int((M[\"m10\"] / M[\"m00\"]) * ratio)\n",
    "    cY = int((M[\"m01\"] / M[\"m00\"]) * ratio)\n",
    "    #Detect the shape using the contour\n",
    "    shape = sd.detect(c)\n",
    "    #Convert c to float\n",
    "    c = c.astype(\"float\")\n",
    "    #Multiply the contour by the ratio to get the co-ordinates of the original image\n",
    "    c *= ratio\n",
    "    #Convert c to int\n",
    "    c = c.astype(\"int\")\n",
    "    #Draw the contour\n",
    "    cv2.drawContours(image , [c] , -1 , (0 , 255 , 0) , 2)\n",
    "    #Put the name of the shape as text\n",
    "    cv2.putText(image , shape , (cX , cY) , cv2.FONT_HERSHEY_SIMPLEX , 0.5 , (255 , 255 , 255) , 2)\n",
    "    # Display the output image that has both the contours and the name of the shape\n",
    "    cv2.imshow(\"Image\", image)\n",
    "    cv2.waitKey(0)"
   ]
  },
  {
   "cell_type": "code",
   "execution_count": null,
   "metadata": {},
   "outputs": [],
   "source": []
  }
 ],
 "metadata": {
  "kernelspec": {
   "display_name": "Python 3",
   "language": "python",
   "name": "python3"
  },
  "language_info": {
   "codemirror_mode": {
    "name": "ipython",
    "version": 3
   },
   "file_extension": ".py",
   "mimetype": "text/x-python",
   "name": "python",
   "nbconvert_exporter": "python",
   "pygments_lexer": "ipython3",
   "version": "3.7.3"
  }
 },
 "nbformat": 4,
 "nbformat_minor": 2
}
