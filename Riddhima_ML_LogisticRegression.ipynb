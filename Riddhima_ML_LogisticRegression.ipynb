{
 "cells": [
  {
   "cell_type": "markdown",
   "metadata": {},
   "source": [
    "# Implementation of Logistic Regression \n",
    "\n",
    "### How to Implement Logistic Regression?\n",
    "\n",
    "\n"
   ]
  },
  {
   "cell_type": "markdown",
   "metadata": {},
   "source": [
    "##### Logistic regression is the go-to linear classification algorithm for two-class problems.\n",
    "##### It is easy to implement, easy to understand and gets great results on a wide variety of problems, even when the expectations the method has of your data are violated."
   ]
  },
  {
   "cell_type": "code",
   "execution_count": 1,
   "metadata": {},
   "outputs": [],
   "source": [
    "# Logistic Regression\n",
    "\n",
    "# Importing the libraries\n",
    "\n",
    "import numpy as np\n",
    "import matplotlib.pyplot as plt\n",
    "import pandas as pd\n"
   ]
  },
  {
   "cell_type": "code",
   "execution_count": 2,
   "metadata": {},
   "outputs": [],
   "source": [
    "# Importing the datasets\n",
    "\n",
    "datasets = pd.read_csv('Social_Network_Ads.csv')\n",
    "X = datasets.iloc[:, [2,3]].values\n",
    "Y = datasets.iloc[:, 4].values"
   ]
  },
  {
   "cell_type": "code",
   "execution_count": 3,
   "metadata": {},
   "outputs": [],
   "source": [
    "# Splitting the dataset into the Training set and Test set\n",
    "\n",
    "from sklearn.model_selection import train_test_split\n",
    "X_Train, X_Test, Y_Train, Y_Test = train_test_split(X, Y, test_size = 0.25, random_state = 0)\n"
   ]
  },
  {
   "cell_type": "code",
   "execution_count": 4,
   "metadata": {},
   "outputs": [],
   "source": [
    "# Feature Scaling\n",
    "\n",
    "from sklearn.preprocessing import StandardScaler\n",
    "sc_X = StandardScaler()\n",
    "X_Train = sc_X.fit_transform(X_Train)\n",
    "X_Test = sc_X.transform(X_Test)\n"
   ]
  },
  {
   "cell_type": "markdown",
   "metadata": {},
   "source": [
    "### Import Logistic Regression from sklearn"
   ]
  },
  {
   "cell_type": "code",
   "execution_count": 5,
   "metadata": {},
   "outputs": [
    {
     "name": "stderr",
     "output_type": "stream",
     "text": [
      "C:\\Users\\hp\\Anaconda3\\lib\\site-packages\\sklearn\\linear_model\\logistic.py:432: FutureWarning: Default solver will be changed to 'lbfgs' in 0.22. Specify a solver to silence this warning.\n",
      "  FutureWarning)\n"
     ]
    },
    {
     "data": {
      "text/plain": [
       "LogisticRegression(C=1.0, class_weight=None, dual=False, fit_intercept=True,\n",
       "                   intercept_scaling=1, l1_ratio=None, max_iter=100,\n",
       "                   multi_class='warn', n_jobs=None, penalty='l2',\n",
       "                   random_state=0, solver='warn', tol=0.0001, verbose=0,\n",
       "                   warm_start=False)"
      ]
     },
     "execution_count": 5,
     "metadata": {},
     "output_type": "execute_result"
    }
   ],
   "source": [
    "# Fitting the Logistic Regression into the Training set\n",
    "\n",
    "from sklearn.linear_model import LogisticRegression\n",
    "classifier = LogisticRegression(random_state = 0)\n",
    "classifier.fit(X_Train, Y_Train)"
   ]
  },
  {
   "cell_type": "code",
   "execution_count": 6,
   "metadata": {},
   "outputs": [],
   "source": [
    "# Predicting the test set results\n",
    "\n",
    "Y_Pred = classifier.predict(X_Test)\n"
   ]
  },
  {
   "cell_type": "code",
   "execution_count": 7,
   "metadata": {},
   "outputs": [],
   "source": [
    "# Making the Confusion Matrix \n",
    "\n",
    "from sklearn.metrics import confusion_matrix\n",
    "cm = confusion_matrix(Y_Test, Y_Pred)"
   ]
  },
  {
   "cell_type": "code",
   "execution_count": 8,
   "metadata": {},
   "outputs": [
    {
     "data": {
      "text/plain": [
       "(-2.5825424477554764, 3.3274575522443977)"
      ]
     },
     "execution_count": 8,
     "metadata": {},
     "output_type": "execute_result"
    },
    {
     "data": {
      "image/png": "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\n",
      "text/plain": [
       "<Figure size 432x288 with 1 Axes>"
      ]
     },
     "metadata": {
      "needs_background": "light"
     },
     "output_type": "display_data"
    }
   ],
   "source": [
    "# Visualising the Training set results \n",
    "\n",
    "from matplotlib.colors import ListedColormap\n",
    "X_Set, Y_Set = X_Train, Y_Train\n",
    "X1, X2 = np.meshgrid(np.arange(start = X_Set[:,0].min() -1, stop = X_Set[:, 0].max() +1, step = 0.01),\n",
    "                     np.arange(start = X_Set[:,1].min() -1, stop = X_Set[:, 1].max() +1, step = 0.01))\n",
    "\n",
    "plt.contourf(X1,X2, classifier.predict(np.array([X1.ravel(), X2.ravel()]).T).reshape(X1.shape),\n",
    "             alpha = 0.75, cmap = ListedColormap(('red', 'green')))\n",
    "\n",
    "plt.xlim(X1.min(), X2.max())\n",
    "plt.ylim(X2.min(), X2.max())"
   ]
  },
  {
   "cell_type": "code",
   "execution_count": 17,
   "metadata": {},
   "outputs": [
    {
     "name": "stderr",
     "output_type": "stream",
     "text": [
      "'c' argument looks like a single numeric RGB or RGBA sequence, which should be avoided as value-mapping will have precedence in case its length matches with 'x' & 'y'.  Please use a 2-D array with a single row if you really want to specify the same RGB or RGBA value for all points.\n",
      "'c' argument looks like a single numeric RGB or RGBA sequence, which should be avoided as value-mapping will have precedence in case its length matches with 'x' & 'y'.  Please use a 2-D array with a single row if you really want to specify the same RGB or RGBA value for all points.\n"
     ]
    },
    {
     "data": {
      "image/png": "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\n",
      "text/plain": [
       "<Figure size 432x288 with 1 Axes>"
      ]
     },
     "metadata": {
      "needs_background": "light"
     },
     "output_type": "display_data"
    }
   ],
   "source": [
    "for i, j in enumerate(np.unique(Y_Set)):\n",
    "    plt.scatter(X_Set[Y_Set == j, 0], X_Set[Y_Set == j,1],c = ListedColormap(('red', 'green'))(i), label = j)\n",
    "    \n",
   
    "### Now let us name this plot as Logistic Regression and the x axis is labeled as Age and y-axis will display and labeled as Estimated Salary"
    "### Here, we represent 0 with red coloured dots and 1 with green coloured dots."
   
    
    "plt.title('Logistic Regression ( Training set)')\n",
    "plt.xlabel('Age')\n",
    "plt.ylabel('Estimated Salary')\n",
    "plt.legend()\n",
    "plt.show()"
   ]
  },
  {
   "cell_type": "markdown",
   "metadata": {},
   "source": [
    "### This is how we implement Logistic Regression and predict the outcome for the dependent variable."
   ]
  }
 ],
 "metadata": {
  "kernelspec": {
   "display_name": "Python 3",
   "language": "python",
   "name": "python3"
  },
  "language_info": {
   "codemirror_mode": {
    "name": "ipython",
    "version": 3
   },
   "file_extension": ".py",
   "mimetype": "text/x-python",
   "name": "python",
   "nbconvert_exporter": "python",
   "pygments_lexer": "ipython3",
   "version": "3.7.4"
  }
 },
 "nbformat": 4,
 "nbformat_minor": 2
}
