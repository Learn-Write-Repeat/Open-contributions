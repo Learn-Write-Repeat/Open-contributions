import cv2
import numpy as np
import requests

class VideoCamera(object):
    def __init__(self):

        self.video = cv2.VideoCapture(0)

    
    def __del__(self):
        self.video.release()
    
    def get_frame(self):
        face_cascade = cv2.CascadeClassifier(cv2.data.haarcascades + 'haarcascade_frontalface_default.xml')

        success, image = self.video.read()
        image = cv2.flip(image,180)
        faces = face_cascade.detectMultiScale(image, 1.3, 5)
        for (x,y,w,h) in faces:
            cv2.rectangle(image,(x,y),(x+w,y+h),(255,0,0),2)
            roi_color = image[y:y+h, x:x+w]
        ret, jpeg = cv2.imencode('.jpg', image)

        return jpeg.tobytes()

from flask import Flask, render_template, Response
from camera import VideoCamera

app = Flask(__name__)

@app.route('/')
def index():
    return render_template('index.html')

def gen(camera):
    while True:
        frame = camera.get_frame()
        yield (b'--frame\r\n'
               b'Content-Type: image/jpeg\r\n\r\n' + frame + b'\r\n\r\n')

@app.route('/video_feed')
def video_feed():
    return Response(gen(VideoCamera()),
                    mimetype='multipart/x-mixed-replace; boundary=frame')

if __name__ == '__main__':
    app.run(debug = True)

<html>
  <head>
    <title>Face Detection</title>
  </head>
  <body>
    <h1>Face Detection Using OpenCV</h1>
    <img id="bg" src="{{ url_for('video_feed') }}">
  </body>
</html>
