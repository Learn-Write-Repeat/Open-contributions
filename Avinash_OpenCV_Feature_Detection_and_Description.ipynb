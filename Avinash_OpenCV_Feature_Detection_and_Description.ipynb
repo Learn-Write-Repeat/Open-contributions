{
 "cells": [
  {
   "cell_type": "code",
   "execution_count": 1,
   "metadata": {},
   "outputs": [
    {
     "name": "stderr",
     "output_type": "stream",
     "text": [
      "E:\\Anaconda\\envs\\djangoProject\\lib\\site-packages\\numpy\\_distributor_init.py:32: UserWarning: loaded more than 1 DLL from .libs:\n",
      "E:\\Anaconda\\envs\\djangoProject\\lib\\site-packages\\numpy\\.libs\\libopenblas.NOIJJG62EMASZI6NYURL6JBKM4EVBGM7.gfortran-win_amd64.dll\n",
      "E:\\Anaconda\\envs\\djangoProject\\lib\\site-packages\\numpy\\.libs\\libopenblas.PYQHXLVVQ7VESDPUVUADXEVJOBGHJPAY.gfortran-win_amd64.dll\n",
      "  stacklevel=1)\n"
     ]
    }
   ],
   "source": [
    "# Feature detection and description\n",
    "import numpy as np\n",
    "import cv2 as cv\n",
    "\n",
    "# load the image using cv2.imread function in grayscale\n",
    "img = cv.imread(\"D:/Wallpapers/1.jpeg\",cv.IMREAD_GRAYSCALE)\n",
    "\n",
    "#create ORB object\n",
    "orb = cv.ORB_create(nfeatures=1500)\n",
    "\n",
    "# detecting the feature\n",
    "keypoints, descriptors = orb.detectAndCompute(img, None)\n",
    "\n",
    "# it will draw the Keypoints that detect using ORB\n",
    "img = cv.drawKeypoints(img, keypoints, None)\n",
    "\n",
    "#show the image as output\n",
    "cv.imshow(\"Image\", img)\n",
    "cv.waitKey(0)\n",
    "cv.destroyAllWindows()"
   ]
  },
  {
   "cell_type": "code",
   "execution_count": 2,
   "metadata": {},
   "outputs": [],
   "source": [
    "# Feature detection , description and Matching using Brout-Force matching method\n",
    "import cv2 as cv\n",
    "import numpy as np\n",
    "\n",
    "img1 = cv.imread(\"D:/Wallpapers/1.jpeg\",cv.IMREAD_GRAYSCALE)\n",
    "img2 = cv.imread(\"D:/Wallpapers/2.jpeg\",cv.IMREAD_GRAYSCALE)\n",
    "\n",
    "# ORB Detector\n",
    "orb = cv.ORB_create()\n",
    "kp1, des1 = orb.detectAndCompute(img1, None)\n",
    "kp2, des2 = orb.detectAndCompute(img2, None)\n",
    "\n",
    "#Brute Force Matching\n",
    "bf = cv.BFMatcher(cv.NORM_HAMMING, crossCheck = True)\n",
    "matches = bf.match(des1,des2)\n",
    "matches = sorted(matches,key = lambda x:x.distance)\n",
    "\n",
    "# Draw the macthing features\n",
    "matchesing_result = cv.drawMatches(img1, kp1, img2, kp2, matches[:50], None,flags=2)\n",
    "\n",
    "# Display the Output\n",
    "cv.imshow(\"Img1\",img1)\n",
    "cv.imshow(\"Img2\",img2)\n",
    "cv.imshow(\"Result\",matchesing_result)\n",
    "cv.waitKey(0)\n",
    "cv.destroyAllWindows()"
   ]
  },
  {
   "cell_type": "code",
   "execution_count": null,
   "metadata": {},
   "outputs": [],
   "source": []
  }
 ],
 "metadata": {
  "kernelspec": {
   "display_name": "Python 3.7.6 64-bit ('djangoProject': conda)",
   "language": "python",
   "name": "python37664bitdjangoprojectconda6b36c2a086f74a4487d0008552a080c8"
  },
  "language_info": {
   "codemirror_mode": {
    "name": "ipython",
    "version": 3
   },
   "file_extension": ".py",
   "mimetype": "text/x-python",
   "name": "python",
   "nbconvert_exporter": "python",
   "pygments_lexer": "ipython3",
   "version": "3.7.6"
  }
 },
 "nbformat": 4,
 "nbformat_minor": 4
}
