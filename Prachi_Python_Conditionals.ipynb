{
 "cells": [
  {
   "cell_type": "markdown",
   "metadata": {},
   "source": [
    "How to use conditional statements?"
   ]
  },
  {
   "cell_type": "markdown",
   "metadata": {},
   "source": [
    "## 1.if statements:"
   ]
  },
  {
   "attachments": {},
   "cell_type": "markdown",
   "metadata": {},
   "source": [
    "\n",
    "Syntax:<br>\n",
    "    &ensp; if (expression):<br>\n",
    "        &emsp;  statement(s)\n",
    " - Here, the expression is the boolean condition we use.\n",
    " - After the if statement, we have indentations for all the lines of code present inside the if block. This indentation helps a user to understand , which python lines are inside the if block.\n",
    " - If the expression returns True , the if block is executed.\n",
    " - It is not required to enclose the expression inside any parentheses.\n",
    " - Colon(:), is very important , if missed , an error will occur. Colon , marks the beginning of the if block.\n"
   ]
  },
  {
   "cell_type": "markdown",
   "metadata": {},
   "source": [
    "Let us take a few examples:"
   ]
  },
  {
   "cell_type": "code",
   "execution_count": 1,
   "metadata": {},
   "outputs": [],
   "source": [
    "a = 0\n",
    "b = 20"
   ]
  },
  {
   "cell_type": "code",
   "execution_count": 2,
   "metadata": {},
   "outputs": [
    {
     "name": "stdout",
     "output_type": "stream",
     "text": [
      "True\n"
     ]
    }
   ],
   "source": [
    "if a<b:\n",
    "    print(\"True\")"
   ]
  },
  {
   "cell_type": "code",
   "execution_count": 3,
   "metadata": {},
   "outputs": [],
   "source": [
    "if a:\n",
    "    print(\"True\")"
   ]
  },
  {
   "cell_type": "markdown",
   "metadata": {},
   "source": [
    "Here , we can see that the condition returned is False so the if block is not executed."
   ]
  },
  {
   "cell_type": "code",
   "execution_count": 4,
   "metadata": {},
   "outputs": [
    {
     "name": "stdout",
     "output_type": "stream",
     "text": [
      "Atleast one greater than zero.\n"
     ]
    }
   ],
   "source": [
    "if a or b:\n",
    "    print(\"Atleast one greater than zero.\")"
   ]
  },
  {
   "cell_type": "code",
   "execution_count": 6,
   "metadata": {},
   "outputs": [],
   "source": [
    "if a and b:\n",
    "    print(\"Both greater than zero.\")"
   ]
  },
  {
   "cell_type": "code",
   "execution_count": 7,
   "metadata": {},
   "outputs": [
    {
     "name": "stdout",
     "output_type": "stream",
     "text": [
      "True\n"
     ]
    }
   ],
   "source": [
    "if \"Dev\" in \"DevIncept\":\n",
    "    print(\"True\")"
   ]
  },
  {
   "cell_type": "code",
   "execution_count": 8,
   "metadata": {},
   "outputs": [
    {
     "name": "stdout",
     "output_type": "stream",
     "text": [
      "blue is present\n"
     ]
    }
   ],
   "source": [
    "if 'blue' in ['yellow','orange','blue','red']:\n",
    "    print(\"blue is present\")"
   ]
  },
  {
   "cell_type": "code",
   "execution_count": 10,
   "metadata": {},
   "outputs": [
    {
     "name": "stdout",
     "output_type": "stream",
     "text": [
      "True\n"
     ]
    }
   ],
   "source": [
    "if True:\n",
    "    print(\"True\")"
   ]
  },
  {
   "cell_type": "code",
   "execution_count": 11,
   "metadata": {},
   "outputs": [],
   "source": [
    "if False:\n",
    "    print(\"True\")"
   ]
  },
  {
   "cell_type": "code",
   "execution_count": 12,
   "metadata": {},
   "outputs": [
    {
     "name": "stdout",
     "output_type": "stream",
     "text": [
      "True\n"
     ]
    }
   ],
   "source": [
    "if not False:\n",
    "    print(\"True\")"
   ]
  },
  {
   "cell_type": "markdown",
   "metadata": {},
   "source": [
    "## 2.if-else statement:"
   ]
  },
  {
   "attachments": {},
   "cell_type": "markdown",
   "metadata": {},
   "source": [
    "Syntax:<br>\n",
    "    &ensp; if (expression):<br>\n",
    "        &emsp;  statement(s)<br>\n",
    "    &ensp; else:<br>\n",
    "        &emsp;  statement(s)<br>\n",
    "        \n",
    "- Here, the expression is the boolean condition we use.\n",
    " - After the if statement, we have indentations for all the lines of code present inside the if block. This indentation helps a user to understand , which python lines are inside the if block , same for the else block.\n",
    " - If the expression returns True , the if block is executed , otherwise , else block is executed.\n",
    " - It is not required to enclose the expression inside any parentheses.\n",
    " - Colon(:), is very important , if missed , an error will occur. Colon , marks the beginning of the any block.\n"
   ]
  },
  {
   "cell_type": "markdown",
   "metadata": {},
   "source": [
    "Let us take a few examples:"
   ]
  },
  {
   "cell_type": "code",
   "execution_count": 15,
   "metadata": {},
   "outputs": [],
   "source": [
    "a = 30\n",
    "b = 5"
   ]
  },
  {
   "cell_type": "code",
   "execution_count": 16,
   "metadata": {},
   "outputs": [
    {
     "name": "stdout",
     "output_type": "stream",
     "text": [
      "5\n"
     ]
    }
   ],
   "source": [
    "if a<b:\n",
    "    print(a)\n",
    "else:\n",
    "    print(b)"
   ]
  },
  {
   "cell_type": "code",
   "execution_count": 17,
   "metadata": {},
   "outputs": [
    {
     "name": "stdout",
     "output_type": "stream",
     "text": [
      "Atleast one greater than zero\n"
     ]
    }
   ],
   "source": [
    "if a or b:\n",
    "    print(\"Atleast one greater than zero\")\n",
    "else:\n",
    "    print(\"Both less than zero\")"
   ]
  },
  {
   "cell_type": "code",
   "execution_count": 18,
   "metadata": {},
   "outputs": [
    {
     "name": "stdout",
     "output_type": "stream",
     "text": [
      "Both greater than zero\n"
     ]
    }
   ],
   "source": [
    "if a and b:\n",
    "    print(\"Both greater than zero\")\n",
    "else:\n",
    "    print(\"Cannot comment\")"
   ]
  },
  {
   "cell_type": "code",
   "execution_count": 20,
   "metadata": {},
   "outputs": [
    {
     "name": "stdout",
     "output_type": "stream",
     "text": [
      "a>0\n"
     ]
    }
   ],
   "source": [
    "if a:\n",
    "    print(\"a>0\")\n",
    "else:\n",
    "    print(\"a<=0\")"
   ]
  },
  {
   "cell_type": "code",
   "execution_count": 21,
   "metadata": {},
   "outputs": [
    {
     "name": "stdout",
     "output_type": "stream",
     "text": [
      "Not present\n"
     ]
    }
   ],
   "source": [
    "if \"fruits\" in [\"idea\",\"DevIncept\",\"boAt\"]:\n",
    "    print(\"present\")\n",
    "else:\n",
    "    print(\"Not present\")"
   ]
  },
  {
   "cell_type": "code",
   "execution_count": 22,
   "metadata": {},
   "outputs": [
    {
     "name": "stdout",
     "output_type": "stream",
     "text": [
      "o is not present\n"
     ]
    }
   ],
   "source": [
    "if 'o' in \"Prachi\":\n",
    "    print(\"o is present in Prachi\")\n",
    "else:\n",
    "    print(\"o is not present\")"
   ]
  },
  {
   "cell_type": "code",
   "execution_count": 30,
   "metadata": {},
   "outputs": [],
   "source": [
    "p=\"Selected\""
   ]
  },
  {
   "cell_type": "code",
   "execution_count": 32,
   "metadata": {},
   "outputs": [
    {
     "name": "stdout",
     "output_type": "stream",
     "text": [
      "Congratulations!\n"
     ]
    }
   ],
   "source": [
    "if p==\"Selected\":\n",
    "    print(\"Congratulations!\")\n",
    "else:\n",
    "    print(\"Sorry!\")"
   ]
  },
  {
   "cell_type": "markdown",
   "metadata": {},
   "source": [
    "## 3.Chained conditional statements "
   ]
  },
  {
   "attachments": {},
   "cell_type": "markdown",
   "metadata": {},
   "source": [
    "Syntax:<br>\n",
    "    &ensp; if (expression):<br>\n",
    "        &emsp;  statement(s)<br>\n",
    "    &ensp; elif (expression):<br>\n",
    "        &emsp; statements(s):<br>\n",
    "    &ensp; else :<br>\n",
    "        &emsp;  statement(s)<br>\n",
    "        \n",
    "- Here, the expression is the boolean condition we use.\n",
    " - After the if statement, we have indentations for all the lines of code present inside the if block. This indentation helps a user to understand , which python lines are inside the if block , same is applied for elif and else block.\n",
    " - If the expression in the if statement returns True , the if block is executed , otherwise , the control is shifted to else block.\n",
    " - If the expression in the elif statement returns True , then elif block is executed , otherwise the control is shifted to else block.\n",
    " - If the control is in else block , then else block will be executed.\n",
    " - It is not required to enclose the expression inside any parentheses.\n",
    " - Colon(:), is very important , if missed , an error will occur. Colon , marks the beginning of the any block.\n"
   ]
  },
  {
   "cell_type": "markdown",
   "metadata": {},
   "source": [
    "Let us take a few examples:"
   ]
  },
  {
   "cell_type": "code",
   "execution_count": 23,
   "metadata": {},
   "outputs": [],
   "source": [
    "a = 50\n",
    "b = -10"
   ]
  },
  {
   "cell_type": "code",
   "execution_count": 24,
   "metadata": {},
   "outputs": [
    {
     "name": "stdout",
     "output_type": "stream",
     "text": [
      "a is greater than b\n"
     ]
    }
   ],
   "source": [
    "if a<b:\n",
    "    print(\"a is less than b\")\n",
    "elif a>b:\n",
    "    print(\"a is greater than b\")\n",
    "else:\n",
    "    print(\"a is equal to b\")"
   ]
  },
  {
   "cell_type": "code",
   "execution_count": 25,
   "metadata": {},
   "outputs": [
    {
     "name": "stdout",
     "output_type": "stream",
     "text": [
      "Both greater than zero\n"
     ]
    }
   ],
   "source": [
    "if a and b:\n",
    "    print(\"Both greater than zero\")\n",
    "elif a or b:\n",
    "    print(\"Atleast one greater than zero\")\n",
    "else:\n",
    "    print(\"Both less than zero\")"
   ]
  },
  {
   "cell_type": "code",
   "execution_count": 26,
   "metadata": {},
   "outputs": [],
   "source": [
    "a = 5"
   ]
  },
  {
   "cell_type": "code",
   "execution_count": 27,
   "metadata": {},
   "outputs": [
    {
     "name": "stdout",
     "output_type": "stream",
     "text": [
      "a is neither divisible by 3 nor 2\n"
     ]
    }
   ],
   "source": [
    "if a%3==0:\n",
    "    print(\"a is divisible by 3\")\n",
    "elif a%2==0:\n",
    "    print(\"a is divisible by 2 but not 3\")\n",
    "else:\n",
    "    print(\"a is neither divisible by 3 nor 2\")"
   ]
  },
  {
   "cell_type": "code",
   "execution_count": 28,
   "metadata": {},
   "outputs": [],
   "source": [
    "p=\"Selected\""
   ]
  },
  {
   "cell_type": "code",
   "execution_count": 29,
   "metadata": {},
   "outputs": [
    {
     "name": "stdout",
     "output_type": "stream",
     "text": [
      "Congratulations!!\n"
     ]
    }
   ],
   "source": [
    "if p==\"Selected\":\n",
    "    print(\"Congratulations!!\")\n",
    "elif p==\"On hold\":\n",
    "    print(\"Currently your application is on hold\")\n",
    "else:\n",
    "    print(\"Sorry , not selected\")"
   ]
  },
  {
   "cell_type": "markdown",
   "metadata": {},
   "source": [
    "<i>This contribution has been made by Prachi Agarwal. Contact me directly on my e-mail:agarwal.ashu.21@gmail.com . Or ping me at, https://www.instagram.com/prachi_diwan21/ . </i>"
   ]
  }
 ],
 "metadata": {
  "kernelspec": {
   "display_name": "Python 3",
   "language": "python",
   "name": "python3"
  },
  "language_info": {
   "codemirror_mode": {
    "name": "ipython",
    "version": 3
   },
   "file_extension": ".py",
   "mimetype": "text/x-python",
   "name": "python",
   "nbconvert_exporter": "python",
   "pygments_lexer": "ipython3",
   "version": "3.7.4"
  }
 },
 "nbformat": 4,
 "nbformat_minor": 2
}
