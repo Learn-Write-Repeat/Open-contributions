{
  "nbformat": 4,
  "nbformat_minor": 0,
  "metadata": {
    "colab": {
      "name": "Harish_NLP_Regular expression.ipynb",
      "provenance": []
    },
    "kernelspec": {
      "name": "python3",
      "display_name": "Python 3"
    }
  },
  "cells": [
    {
      "cell_type": "code",
      "metadata": {
        "id": "J7V5lYWQiyae",
        "colab_type": "code",
        "colab": {}
      },
      "source": [
        "import re\n",
        "import regex"
      ],
      "execution_count": 34,
      "outputs": []
    },
    {
      "cell_type": "code",
      "metadata": {
        "id": "B63SIkHfjVFo",
        "colab_type": "code",
        "colab": {}
      },
      "source": [
        "text = \"Python is an interpreted, high-level and general-purpose programming language. Created by Guido van Rossum and first released in 1991\""
      ],
      "execution_count": 2,
      "outputs": []
    },
    {
      "cell_type": "markdown",
      "metadata": {
        "id": "C19gKcJtj35p",
        "colab_type": "text"
      },
      "source": [
        "# RegEx Character Class Demo"
      ]
    },
    {
      "cell_type": "code",
      "metadata": {
        "id": "AMpqesQskKKF",
        "colab_type": "code",
        "colab": {
          "base_uri": "https://localhost:8080/",
          "height": 343
        },
        "outputId": "21c56cae-7ee6-4e4b-ad3c-b432780e7505"
      },
      "source": [
        "# Matching all the characters \n",
        "# Returns list of all characters except digits in given text\n",
        "all_char_find = re.findall(r\"[a-zA-z]\",text)\n",
        "print(f\"matches all character except digits in text and returns a list:- \\n {all_char_find} \\n\")\n",
        "\n",
        "# Using \\w matches all the charcters in the string \n",
        "all_word = re.findall(r\"[\\w]\",text)\n",
        "print(f\"matches all character in text and returns a list:- \\n {all_word} \\n\")\n",
        "\n",
        "# Using \\d matches all digits\n",
        "all_digits = re.findall(r\"[\\d]\",text)\n",
        "print(f\"matches all digits and returns a list:- \\n {all_digits} \\n\")\n",
        "\n",
        "# Using [^a-zA-Z] return non alphabet\n",
        "non_alpha = re.findall(r\"[^a-zA-Z]\",text)\n",
        "print(f\" Return list of non-alpha but returns digits \\n {non_alpha} \\n\")\n",
        "\n",
        "# Using \\s matches spaces in text\n",
        "space = re.findall(r\"\\s\",text)\n",
        "print(f\"matches all spaces in text:- \\n {space} \\n\")\n",
        "\n",
        "# Using \\W matches non-character\n",
        "non_char = re.findall(r\"\\W\",text)\n",
        "print(f\"matches non-char:- \\n {non_char} \\n\")"
      ],
      "execution_count": 28,
      "outputs": [
        {
          "output_type": "stream",
          "text": [
            "matches all character except digits in text and returns a list:- \n",
            " ['P', 'y', 't', 'h', 'o', 'n', 'i', 's', 'a', 'n', 'i', 'n', 't', 'e', 'r', 'p', 'r', 'e', 't', 'e', 'd', 'h', 'i', 'g', 'h', 'l', 'e', 'v', 'e', 'l', 'a', 'n', 'd', 'g', 'e', 'n', 'e', 'r', 'a', 'l', 'p', 'u', 'r', 'p', 'o', 's', 'e', 'p', 'r', 'o', 'g', 'r', 'a', 'm', 'm', 'i', 'n', 'g', 'l', 'a', 'n', 'g', 'u', 'a', 'g', 'e', 'C', 'r', 'e', 'a', 't', 'e', 'd', 'b', 'y', 'G', 'u', 'i', 'd', 'o', 'v', 'a', 'n', 'R', 'o', 's', 's', 'u', 'm', 'a', 'n', 'd', 'f', 'i', 'r', 's', 't', 'r', 'e', 'l', 'e', 'a', 's', 'e', 'd', 'i', 'n'] \n",
            "\n",
            "matches all character in text and returns a list:- \n",
            " ['P', 'y', 't', 'h', 'o', 'n', 'i', 's', 'a', 'n', 'i', 'n', 't', 'e', 'r', 'p', 'r', 'e', 't', 'e', 'd', 'h', 'i', 'g', 'h', 'l', 'e', 'v', 'e', 'l', 'a', 'n', 'd', 'g', 'e', 'n', 'e', 'r', 'a', 'l', 'p', 'u', 'r', 'p', 'o', 's', 'e', 'p', 'r', 'o', 'g', 'r', 'a', 'm', 'm', 'i', 'n', 'g', 'l', 'a', 'n', 'g', 'u', 'a', 'g', 'e', 'C', 'r', 'e', 'a', 't', 'e', 'd', 'b', 'y', 'G', 'u', 'i', 'd', 'o', 'v', 'a', 'n', 'R', 'o', 's', 's', 'u', 'm', 'a', 'n', 'd', 'f', 'i', 'r', 's', 't', 'r', 'e', 'l', 'e', 'a', 's', 'e', 'd', 'i', 'n', '1', '9', '9', '1'] \n",
            "\n",
            "matches all digits and returns a list:- \n",
            " ['1', '9', '9', '1'] \n",
            "\n",
            " Return list of non-alpha but returns digits \n",
            " [' ', ' ', ' ', ',', ' ', '-', ' ', ' ', '-', ' ', ' ', '.', ' ', ' ', ' ', ' ', ' ', ' ', ' ', ' ', ' ', ' ', '1', '9', '9', '1'] \n",
            "\n",
            "matches all spaces in text:- \n",
            " [' ', ' ', ' ', ' ', ' ', ' ', ' ', ' ', ' ', ' ', ' ', ' ', ' ', ' ', ' ', ' ', ' ', ' '] \n",
            "\n",
            "matches non-char:- \n",
            " [' ', ' ', ' ', ',', ' ', '-', ' ', ' ', '-', ' ', ' ', '.', ' ', ' ', ' ', ' ', ' ', ' ', ' ', ' ', ' ', ' '] \n",
            "\n"
          ],
          "name": "stdout"
        }
      ]
    },
    {
      "cell_type": "markdown",
      "metadata": {
        "id": "SVUD1tLstjQQ",
        "colab_type": "text"
      },
      "source": [
        "# Quantifier Demo"
      ]
    },
    {
      "cell_type": "code",
      "metadata": {
        "id": "FFalfNvskfux",
        "colab_type": "code",
        "colab": {
          "base_uri": "https://localhost:8080/",
          "height": 156
        },
        "outputId": "7d25beb5-b904-484d-b0b1-f7692c92115a"
      },
      "source": [
        "# Using \\w with quantifiers\n",
        "# bellow code returns the year 1991 \n",
        "most_4_word = re.findall(r\"\\d{,4}\",text)\n",
        "print(f\"Matches a digit:- \\n {most_4_word} \\n\")\n",
        "\n",
        "# Using + quantifier\n",
        "using_plus = re.findall(r\"[\\w]+\",text)\n",
        "print(f\"Matches the words in text:- \\n {using_plus} \\n\") \n",
        "\n",
        "re.findall(r\"([w]{3})?\",\"demo.com\")"
      ],
      "execution_count": 46,
      "outputs": [
        {
          "output_type": "stream",
          "text": [
            "Matches a digit:- \n",
            " ['', '', '', '', '', '', '', '', '', '', '', '', '', '', '', '', '', '', '', '', '', '', '', '', '', '', '', '', '', '', '', '', '', '', '', '', '', '', '', '', '', '', '', '', '', '', '', '', '', '', '', '', '', '', '', '', '', '', '', '', '', '', '', '', '', '', '', '', '', '', '', '', '', '', '', '', '', '', '', '', '', '', '', '', '', '', '', '', '', '', '', '', '', '', '', '', '', '', '', '', '', '', '', '', '', '', '', '', '', '', '', '', '', '', '', '', '', '', '', '', '', '', '', '', '', '', '', '', '', '1991', ''] \n",
            "\n",
            "Matches the words in text:- \n",
            " ['Python', 'is', 'an', 'interpreted', 'high', 'level', 'and', 'general', 'purpose', 'programming', 'language', 'Created', 'by', 'Guido', 'van', 'Rossum', 'and', 'first', 'released', 'in', '1991'] \n",
            "\n"
          ],
          "name": "stdout"
        },
        {
          "output_type": "execute_result",
          "data": {
            "text/plain": [
              "['', '', '', '', '', '', '', '', '']"
            ]
          },
          "metadata": {
            "tags": []
          },
          "execution_count": 46
        }
      ]
    },
    {
      "cell_type": "markdown",
      "metadata": {
        "id": "QIuHG_0HyMXk",
        "colab_type": "text"
      },
      "source": [
        "# Finding URLS and Hashtags in text"
      ]
    },
    {
      "cell_type": "code",
      "metadata": {
        "id": "JiN4iVKvptZN",
        "colab_type": "code",
        "colab": {}
      },
      "source": [
        "test = \"https://www.demo.com  is a demo website . https://github.com is githubs url\""
      ],
      "execution_count": 51,
      "outputs": []
    },
    {
      "cell_type": "code",
      "metadata": {
        "id": "AVgu-ienuoBx",
        "colab_type": "code",
        "colab": {
          "base_uri": "https://localhost:8080/",
          "height": 34
        },
        "outputId": "6d4d0fb0-e467-4114-825a-25e498a42c71"
      },
      "source": [
        "re.findall(r\"http[s]?://(?:[w]{3})?(?:[a-zA-Z]|[0-9]|[$-_@.&+]|[!*\\(\\),]|(?:%[0-9a-fA-F][0-9a-fA-F]))+\",test)\n",
        "# Here ?: inside () means non-capturing groups"
      ],
      "execution_count": 52,
      "outputs": [
        {
          "output_type": "execute_result",
          "data": {
            "text/plain": [
              "['https://www.demo.com', 'https://github.com']"
            ]
          },
          "metadata": {
            "tags": []
          },
          "execution_count": 52
        }
      ]
    },
    {
      "cell_type": "code",
      "metadata": {
        "id": "6l8aqNmpvn9I",
        "colab_type": "code",
        "colab": {}
      },
      "source": [
        "twitter = \"hello world #Demo #RegEx \""
      ],
      "execution_count": 53,
      "outputs": []
    },
    {
      "cell_type": "code",
      "metadata": {
        "id": "spm2DFB5xWZ_",
        "colab_type": "code",
        "colab": {
          "base_uri": "https://localhost:8080/",
          "height": 34
        },
        "outputId": "248c8dad-5937-4b1e-ab23-b8fb0c66794b"
      },
      "source": [
        "re.findall(r\"#[\\w]+\",twitter)"
      ],
      "execution_count": 59,
      "outputs": [
        {
          "output_type": "execute_result",
          "data": {
            "text/plain": [
              "['#Demo', '#RegEx']"
            ]
          },
          "metadata": {
            "tags": []
          },
          "execution_count": 59
        }
      ]
    },
    {
      "cell_type": "code",
      "metadata": {
        "id": "ZrIuAO-Xxngf",
        "colab_type": "code",
        "colab": {
          "base_uri": "https://localhost:8080/",
          "height": 35
        },
        "outputId": "cfddb195-e005-4ea8-fa1f-8ddfdb6da967"
      },
      "source": [
        "# Substitute the link with URL\n",
        "re.sub(r\"http[s]?://(?:[w]{3})?(?:[a-zA-Z]|[0-9]|[$-_@.&+]|[!*\\(\\),]|(?:%[0-9a-fA-F][0-9a-fA-F]))+\",\"<URL>\",test)"
      ],
      "execution_count": 60,
      "outputs": [
        {
          "output_type": "execute_result",
          "data": {
            "application/vnd.google.colaboratory.intrinsic+json": {
              "type": "string"
            },
            "text/plain": [
              "'<URL>  is a demo website . <URL> is githubs url'"
            ]
          },
          "metadata": {
            "tags": []
          },
          "execution_count": 60
        }
      ]
    },
    {
      "cell_type": "code",
      "metadata": {
        "id": "jQ8Psxz0yd-r",
        "colab_type": "code",
        "colab": {
          "base_uri": "https://localhost:8080/",
          "height": 35
        },
        "outputId": "a71e7ad4-2576-47bc-d033-24ebbd0d9fc3"
      },
      "source": [
        "# Substitute the hashtags with String Hashtag\n",
        "re.sub(r\"http[s]?://(?:[w]{3})?(?:[a-zA-Z]|[0-9]|[$-_@.&+]|[!*\\(\\),]|(?:%[0-9a-fA-F][0-9a-fA-F]))+\",\"<Hashtag>\",test)"
      ],
      "execution_count": 61,
      "outputs": [
        {
          "output_type": "execute_result",
          "data": {
            "application/vnd.google.colaboratory.intrinsic+json": {
              "type": "string"
            },
            "text/plain": [
              "'<Hashtag>  is a demo website . <Hashtag> is githubs url'"
            ]
          },
          "metadata": {
            "tags": []
          },
          "execution_count": 61
        }
      ]
    },
    {
      "cell_type": "code",
      "metadata": {
        "id": "wOHkw-zlykQo",
        "colab_type": "code",
        "colab": {}
      },
      "source": [
        ""
      ],
      "execution_count": null,
      "outputs": []
    }
  ]
}