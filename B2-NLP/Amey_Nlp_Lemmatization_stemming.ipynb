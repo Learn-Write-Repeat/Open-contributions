{
  "nbformat": 4,
  "nbformat_minor": 0,
  "metadata": {
    "colab": {
      "name": "Amey_nlp_Lemmatization_stemming.ipynb",
      "provenance": [],
      "authorship_tag": "ABX9TyNR4kG+mkyp0gn1+zFT7MDq",
      "include_colab_link": true
    },
    "kernelspec": {
      "name": "python3",
      "display_name": "Python 3"
    }
  },
  "cells": [
    {
      "cell_type": "markdown",
      "metadata": {
        "id": "view-in-github",
        "colab_type": "text"
      },
      "source": [
        "<a href=\"https://colab.research.google.com/github/gd1m3y/Open-contributions/blob/master/Amey_nlp_Lemmatization_stemming.ipynb\" target=\"_parent\"><img src=\"https://colab.research.google.com/assets/colab-badge.svg\" alt=\"Open In Colab\"/></a>"
      ]
    },
    {
      "cell_type": "markdown",
      "metadata": {
        "id": "uwBbeZC9M0Df",
        "colab_type": "text"
      },
      "source": [
        "# Lemmatization and Stemming in NLTK\n"
      ]
    },
    {
      "cell_type": "markdown",
      "metadata": {
        "id": "XhsgC5YLM8UR",
        "colab_type": "text"
      },
      "source": [
        "## Imports\n",
        "*we assume that the reader has basic Knowledge of Python syntaxes and Jupter notebook enviorment*\n",
        "\n",
        "\n"
      ]
    },
    {
      "cell_type": "markdown",
      "metadata": {
        "id": "t-6J15rnNd5M",
        "colab_type": "text"
      },
      "source": [
        "## nltk\n",
        "nltk or Natural language toolkit is a collection of libraries and program for statistical natural language processing in python language\n",
        "\n",
        "we will begin by installing the library using pip command"
      ]
    },
    {
      "cell_type": "code",
      "metadata": {
        "id": "eFb56x-g56Gf",
        "colab_type": "code",
        "colab": {
          "base_uri": "https://localhost:8080/",
          "height": 50
        },
        "outputId": "727797b0-85a8-4cd2-abce-6f4b81809ff8"
      },
      "source": [
        "#first we will install the nltk library\n",
        "!pip install nltk"
      ],
      "execution_count": 1,
      "outputs": [
        {
          "output_type": "stream",
          "text": [
            "Requirement already satisfied: nltk in /usr/local/lib/python3.6/dist-packages (3.2.5)\n",
            "Requirement already satisfied: six in /usr/local/lib/python3.6/dist-packages (from nltk) (1.15.0)\n"
          ],
          "name": "stdout"
        }
      ]
    },
    {
      "cell_type": "code",
      "metadata": {
        "id": "QX9ddxYINXaQ",
        "colab_type": "code",
        "colab": {}
      },
      "source": [
        "import nltk \n",
        "# nltk.download('all')\n",
        "import string\n",
        "import pandas"
      ],
      "execution_count": null,
      "outputs": []
    },
    {
      "cell_type": "markdown",
      "metadata": {
        "id": "w9NMTdZWOGS3",
        "colab_type": "text"
      },
      "source": [
        "#Stemming\n",
        "\n",
        "\"Stemming is the process of reducing inflection in words to their root forms such as mapping a group of words to the same stem even if the stem itself is not a valid word in the Language.\"\n",
        "\n",
        "There are 3 types of major stemming techniques-\n",
        "\n",
        "1.Porter Stemmer\n",
        "\n",
        "2.Lancaster Stemmer\n",
        "\n",
        "3.SnowBall Stemmer\n"
      ]
    },
    {
      "cell_type": "code",
      "metadata": {
        "id": "RuAQb0J0Ndcg",
        "colab_type": "code",
        "colab": {
          "base_uri": "https://localhost:8080/",
          "height": 185
        },
        "outputId": "4a20dede-4fd2-469a-8371-4698ff7e58fc"
      },
      "source": [
        "\n",
        "# porter stemming\n",
        "\n",
        "#importing PorterStemmer class from ntlk.stem\n",
        "from nltk.stem import PorterStemmer\n",
        "word_stemmer = PorterStemmer()\n",
        "word = ['writing','running','walked','loving','caring']\n",
        "for i in word:\n",
        "  result = word_stemmer.stem(i)\n",
        "\n",
        "  print(f'Orginal Word : {i} \\nStemmed Word : {result}')"
      ],
      "execution_count": 31,
      "outputs": [
        {
          "output_type": "stream",
          "text": [
            "Orginal Word : writing \n",
            "Stemmed Word : write\n",
            "Orginal Word : running \n",
            "Stemmed Word : run\n",
            "Orginal Word : walked \n",
            "Stemmed Word : walk\n",
            "Orginal Word : loving \n",
            "Stemmed Word : love\n",
            "Orginal Word : caring \n",
            "Stemmed Word : care\n"
          ],
          "name": "stdout"
        }
      ]
    },
    {
      "cell_type": "code",
      "metadata": {
        "id": "mcNmwymvP9mo",
        "colab_type": "code",
        "colab": {
          "base_uri": "https://localhost:8080/",
          "height": 185
        },
        "outputId": "26b014c8-4554-403e-b36f-9c84cefc71a4"
      },
      "source": [
        "\n",
        "#importing Lancaster Stemmer\n",
        "from nltk.stem.lancaster import LancasterStemmer\n",
        "Lanc_stemmer = LancasterStemmer()\n",
        "word = ['writing','running','walked','loving','caring']\n",
        "for i in word:\n",
        "  result = Lanc_stemmer.stem(i)\n",
        "# we can see some words like love are taken as lov which dont have any meaning\n",
        "  print(f'Orginal Word : {i} \\nStemmed Word : {result}')"
      ],
      "execution_count": 32,
      "outputs": [
        {
          "output_type": "stream",
          "text": [
            "Orginal Word : writing \n",
            "Stemmed Word : writ\n",
            "Orginal Word : running \n",
            "Stemmed Word : run\n",
            "Orginal Word : walked \n",
            "Stemmed Word : walk\n",
            "Orginal Word : loving \n",
            "Stemmed Word : lov\n",
            "Orginal Word : caring \n",
            "Stemmed Word : car\n"
          ],
          "name": "stdout"
        }
      ]
    },
    {
      "cell_type": "code",
      "metadata": {
        "id": "_ikWZA5uRovw",
        "colab_type": "code",
        "colab": {
          "base_uri": "https://localhost:8080/",
          "height": 286
        },
        "outputId": "dcb1a46c-d80e-478c-b0f2-8c928ddb25c3"
      },
      "source": [
        "#snowball stemmer\n",
        "from nltk.stem import SnowballStemmer\n",
        "#before using SnowballStemer we have to mention the particular language we are going to feed it\n",
        "SnowballStemmer.languages"
      ],
      "execution_count": 33,
      "outputs": [
        {
          "output_type": "execute_result",
          "data": {
            "text/plain": [
              "('arabic',\n",
              " 'danish',\n",
              " 'dutch',\n",
              " 'english',\n",
              " 'finnish',\n",
              " 'french',\n",
              " 'german',\n",
              " 'hungarian',\n",
              " 'italian',\n",
              " 'norwegian',\n",
              " 'porter',\n",
              " 'portuguese',\n",
              " 'romanian',\n",
              " 'russian',\n",
              " 'spanish',\n",
              " 'swedish')"
            ]
          },
          "metadata": {
            "tags": []
          },
          "execution_count": 33
        }
      ]
    },
    {
      "cell_type": "code",
      "metadata": {
        "id": "Zkn7agFiTIJ0",
        "colab_type": "code",
        "colab": {
          "base_uri": "https://localhost:8080/",
          "height": 185
        },
        "outputId": "57a8148c-94b2-42d7-b794-48069e9e6781"
      },
      "source": [
        "\n",
        "model = SnowballStemmer('english')\n",
        "word = ['writing','running','walked','loving','caring']\n",
        "for i in word:\n",
        "  result = model.stem(i)\n",
        "# we can see some words like love are taken as lov which dont have any meaning\n",
        "  print(f'Orginal Word : {i} \\nStemmed Word : {result}')"
      ],
      "execution_count": 34,
      "outputs": [
        {
          "output_type": "stream",
          "text": [
            "Orginal Word : writing \n",
            "Stemmed Word : write\n",
            "Orginal Word : running \n",
            "Stemmed Word : run\n",
            "Orginal Word : walked \n",
            "Stemmed Word : walk\n",
            "Orginal Word : loving \n",
            "Stemmed Word : love\n",
            "Orginal Word : caring \n",
            "Stemmed Word : care\n"
          ],
          "name": "stdout"
        }
      ]
    },
    {
      "cell_type": "markdown",
      "metadata": {
        "id": "y54uabX3Tt0R",
        "colab_type": "text"
      },
      "source": [
        "# Lemmatizatizer\n",
        "Lemmatization, unlike Stemming, reduces the inflected words properly ensuring that the root word belongs to the language. In Lemmatization root word is called Lemma. A lemma (plural lemmas or lemmata) is the canonical form, dictionary form, or citation form of a set of words.\"\n"
      ]
    },
    {
      "cell_type": "code",
      "metadata": {
        "id": "6VTQSD7QTo_l",
        "colab_type": "code",
        "colab": {
          "base_uri": "https://localhost:8080/",
          "height": 185
        },
        "outputId": "a58e40fb-34d7-41c3-b2b4-03a1eadcd971"
      },
      "source": [
        "\n",
        "#importing the WordNetLemmatizer class nltk.stem class\n",
        "from nltk.stem import WordNetLemmatizer\n",
        "lemmatizer = WordNetLemmatizer()\n",
        "word = ['books','cooks','shooks','loves','gazes']\n",
        "for i in word:\n",
        "  result = lemmatizer.lemmatize(i)\n",
        "  print(f'Orginal Word : {i} \\nStemmed Word : {result}')"
      ],
      "execution_count": 39,
      "outputs": [
        {
          "output_type": "stream",
          "text": [
            "Orginal Word : books \n",
            "Stemmed Word : book\n",
            "Orginal Word : cooks \n",
            "Stemmed Word : cook\n",
            "Orginal Word : shooks \n",
            "Stemmed Word : shook\n",
            "Orginal Word : loves \n",
            "Stemmed Word : love\n",
            "Orginal Word : gazes \n",
            "Stemmed Word : gaze\n"
          ],
          "name": "stdout"
        }
      ]
    },
    {
      "cell_type": "markdown",
      "metadata": {
        "id": "2w6UMs4NVON1",
        "colab_type": "text"
      },
      "source": [
        "#Lemmatization vs Stemming\n",
        "\n",
        "The major difference between both is that Lemmatization tries to find the root word rather than the root stem "
      ]
    },
    {
      "cell_type": "code",
      "metadata": {
        "id": "1QYvoApgUTwK",
        "colab_type": "code",
        "colab": {
          "base_uri": "https://localhost:8080/",
          "height": 35
        },
        "outputId": "4c757860-f9cb-4a9d-fc1e-cc0fdd16aeac"
      },
      "source": [
        "import nltk\n",
        "from nltk.stem import PorterStemmer\n",
        "word_stemmer = PorterStemmer()\n",
        "word_stemmer.stem('believes')"
      ],
      "execution_count": 40,
      "outputs": [
        {
          "output_type": "execute_result",
          "data": {
            "application/vnd.google.colaboratory.intrinsic+json": {
              "type": "string"
            },
            "text/plain": [
              "'believ'"
            ]
          },
          "metadata": {
            "tags": []
          },
          "execution_count": 40
        }
      ]
    },
    {
      "cell_type": "code",
      "metadata": {
        "id": "WmFRXlkOV61W",
        "colab_type": "code",
        "colab": {
          "base_uri": "https://localhost:8080/",
          "height": 35
        },
        "outputId": "52e5549e-601e-4098-e19a-a0ba684ff82a"
      },
      "source": [
        "import nltk\n",
        "from nltk.stem import WordNetLemmatizer\n",
        "lemmatizer = WordNetLemmatizer()\n",
        "lemmatizer.lemmatize(' believes ')"
      ],
      "execution_count": 41,
      "outputs": [
        {
          "output_type": "execute_result",
          "data": {
            "application/vnd.google.colaboratory.intrinsic+json": {
              "type": "string"
            },
            "text/plain": [
              "' believes '"
            ]
          },
          "metadata": {
            "tags": []
          },
          "execution_count": 41
        }
      ]
    },
    {
      "cell_type": "markdown",
      "metadata": {
        "id": "7mxIbumWWDMN",
        "colab_type": "text"
      },
      "source": [
        "### **The output of both programs tells the major difference between stemming and lemmatization. PorterStemmer class chops off the ‘es’ from the word. On the other hand, WordNetLemmatizer class finds a valid word. In simple words, stemming technique only looks at the form of the word whereas lemmatization technique looks at the meaning of the word. It means after applying lemmatization, we will always get a valid word.**"
      ]
    },
    {
      "cell_type": "code",
      "metadata": {
        "id": "BiZXgJP3V9MS",
        "colab_type": "code",
        "colab": {}
      },
      "source": [
        ""
      ],
      "execution_count": null,
      "outputs": []
    }
  ]
}
