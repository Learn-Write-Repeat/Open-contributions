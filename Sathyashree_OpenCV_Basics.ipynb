{
 "cells": [
  {
   "cell_type": "markdown",
   "metadata": {},
   "source": [
    "## OpenCV Basics"
   ]
  },
  {
   "cell_type": "markdown",
   "metadata": {},
   "source": [
    "### Loading and displaying a single image\n",
    "**Importing the OpenCV library**\n",
    "\n",
    "**Loading the image into a variable**\n",
    "\n",
    "**Displaying the image through a window**"
   ]
  },
  {
   "cell_type": "code",
   "execution_count": 1,
   "metadata": {},
   "outputs": [],
   "source": [
    "#Import OpenCV library\n",
    "import cv2"
   ]
  },
  {
   "cell_type": "code",
   "execution_count": 2,
   "metadata": {},
   "outputs": [],
   "source": [
    "#Read and load the image to img variable\n",
    "img = cv2.imread('extras/5X5_empty_grid.png')"
   ]
  },
  {
   "cell_type": "code",
   "execution_count": 3,
   "metadata": {},
   "outputs": [],
   "source": [
    "#Resizing the image to required ratio\n",
    "resize = cv2.resize(img, (240, 240)) "
   ]
  },
  {
   "cell_type": "code",
   "execution_count": 4,
   "metadata": {},
   "outputs": [
    {
     "data": {
      "text/plain": [
       "-1"
      ]
     },
     "execution_count": 4,
     "metadata": {},
     "output_type": "execute_result"
    }
   ],
   "source": [
    "#Show the image through the window\n",
    "cv2.imshow(\"Output\" , resize)\n",
    "#Image stays on the window until a key on the keyboard is pressed\n",
    "cv2.waitKey(0)"
   ]
  },
  {
   "cell_type": "markdown",
   "metadata": {},
   "source": [
    "### Loading and displaying multiple images\n",
    "**Importing the OpenCV library and the numpy library**\n",
    "\n",
    "**Loading the images into  variables**\n",
    "\n",
    "**Concatenate images both horizontally and vertically**\n",
    "\n",
    "**Displaying concatenated images through a single window**"
   ]
  },
  {
   "cell_type": "code",
   "execution_count": 5,
   "metadata": {},
   "outputs": [],
   "source": [
    "#Import OpenCV library\n",
    "import cv2\n",
    "#Import numpy library\n",
    "import numpy as np"
   ]
  },
  {
   "cell_type": "code",
   "execution_count": 6,
   "metadata": {},
   "outputs": [],
   "source": [
    "#Read and load the first image to img1 variable\n",
    "img1 = cv2.imread('extras/5X5_empty_grid.png')\n",
    "#Read and load the second image to img2 variable\n",
    "img2 = cv2.imread('extras/5X5_colored_grid.png')"
   ]
  },
  {
   "cell_type": "code",
   "execution_count": 7,
   "metadata": {},
   "outputs": [],
   "source": [
    "#Resize both the images to the required ratio\n",
    "resize1 = cv2.resize(img1 , (240, 240)) \n",
    "resize2 = cv2.resize(img2 , (240, 240)) "
   ]
  },
  {
   "cell_type": "code",
   "execution_count": 8,
   "metadata": {},
   "outputs": [],
   "source": [
    "#Concatanate image horizontally\n",
    "hori_concatenated = np.concatenate((resize1,resize2),axis=1)\n",
    "#Concatanate image vertically\n",
    "verti_concatenated = np.concatenate((resize1,resize2),axis=0)"
   ]
  },
  {
   "cell_type": "code",
   "execution_count": 9,
   "metadata": {},
   "outputs": [
    {
     "data": {
      "text/plain": [
       "-1"
      ]
     },
     "execution_count": 9,
     "metadata": {},
     "output_type": "execute_result"
    }
   ],
   "source": [
    "#Display concatenated images\n",
    "cv2.imshow('Horizontally_Concatenated' , hori_concatenated)\n",
    "cv2.imshow('Vertically_Concatenated' , verti_concatenated)\n",
    "cv2.waitKey(0)"
   ]
  },
  {
   "cell_type": "code",
   "execution_count": null,
   "metadata": {},
   "outputs": [],
   "source": []
  }
 ],
 "metadata": {
  "kernelspec": {
   "display_name": "Python 3",
   "language": "python",
   "name": "python3"
  },
  "language_info": {
   "codemirror_mode": {
    "name": "ipython",
    "version": 3
   },
   "file_extension": ".py",
   "mimetype": "text/x-python",
   "name": "python",
   "nbconvert_exporter": "python",
   "pygments_lexer": "ipython3",
   "version": "3.7.3"
  }
 },
 "nbformat": 4,
 "nbformat_minor": 2
}
