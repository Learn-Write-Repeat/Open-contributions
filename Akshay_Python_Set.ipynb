{
 "cells": [
  {
   "cell_type": "markdown",
   "metadata": {},
   "source": [
    "# Now we will learn about Set practically"
   ]
  },
  {
   "cell_type": "code",
   "execution_count": 1,
   "metadata": {},
   "outputs": [
    {
     "name": "stdout",
     "output_type": "stream",
     "text": [
      "{'Japan', 'India', 'France'}\n"
     ]
    }
   ],
   "source": [
    "# Creating Set\n",
    "\n",
    "set1 = {'India','Japan','France'}\n",
    "\n",
    "print(set1)"
   ]
  },
  {
   "cell_type": "code",
   "execution_count": 2,
   "metadata": {},
   "outputs": [
    {
     "name": "stdout",
     "output_type": "stream",
     "text": [
      "{1, 2, 3}\n"
     ]
    }
   ],
   "source": [
    "# we can make set from a list\n",
    "\n",
    "set1 = set([1, 2, 3, 2])\n",
    "print(set1) # set cannot have duplicates item will only display once"
   ]
  },
  {
   "cell_type": "markdown",
   "metadata": {},
   "source": [
    "##### Empty curly braces {} will make an empty dictionary in Python. To make a set without any elements, we use the set() function without any argument."
   ]
  },
  {
   "cell_type": "code",
   "execution_count": 4,
   "metadata": {},
   "outputs": [
    {
     "name": "stdout",
     "output_type": "stream",
     "text": [
      "<class 'dict'>\n",
      "<class 'set'>\n"
     ]
    }
   ],
   "source": [
    "set1 = {}\n",
    "\n",
    "# check data type of set1\n",
    "print(type(set1))\n",
    "\n",
    "# initialize set1 with set()\n",
    "set1 = set()\n",
    "\n",
    "print(type(set1))"
   ]
  },
  {
   "cell_type": "markdown",
   "metadata": {},
   "source": [
    "## Modifying Set"
   ]
  },
  {
   "cell_type": "code",
   "execution_count": 6,
   "metadata": {},
   "outputs": [
    {
     "name": "stdout",
     "output_type": "stream",
     "text": [
      "{'pune', 'goa', 'manali', 'delhi'}\n"
     ]
    }
   ],
   "source": [
    "# Once a set is created, you cannot change its items, but you can add new items.\n",
    "# add() method only adds 1 item\n",
    "\n",
    "set1 = {'delhi','goa','manali'}\n",
    "\n",
    "set1.add('pune')\n",
    "\n",
    "print(set1)\n"
   ]
  },
  {
   "cell_type": "code",
   "execution_count": 9,
   "metadata": {},
   "outputs": [
    {
     "name": "stdout",
     "output_type": "stream",
     "text": [
      "{'manali', 'sikkim', 'pune', 'goa', 'kolkata', 'delhi'}\n"
     ]
    }
   ],
   "source": [
    "# We can use update() method more than 1 item\n",
    "\n",
    "set1 = {'delhi','goa','manali'}\n",
    "\n",
    "set1.update(['pune','kolkata','sikkim'])\n",
    "\n",
    "print(set1)"
   ]
  },
  {
   "cell_type": "markdown",
   "metadata": {},
   "source": [
    "## Remove item from set "
   ]
  },
  {
   "cell_type": "code",
   "execution_count": 10,
   "metadata": {},
   "outputs": [
    {
     "name": "stdout",
     "output_type": "stream",
     "text": [
      "{2, 4, 6, 9}\n"
     ]
    }
   ],
   "source": [
    "set1 = {6,2,9,0,4}\n",
    "\n",
    "set1.remove(0)\n",
    "#If the item to remove does not exist, remove() will raise an error\n",
    "print(set1)"
   ]
  },
  {
   "cell_type": "code",
   "execution_count": 17,
   "metadata": {},
   "outputs": [
    {
     "name": "stdout",
     "output_type": "stream",
     "text": [
      "{0, 2, 4, 6, 9}\n"
     ]
    }
   ],
   "source": [
    "set1 = {6,2,9,0,4}\n",
    "\n",
    "set1.discard(1)\n",
    "#If the item to remove does not exist, discard() will not raise an error\n",
    "print(set1)"
   ]
  },
  {
   "cell_type": "code",
   "execution_count": 19,
   "metadata": {},
   "outputs": [
    {
     "name": "stdout",
     "output_type": "stream",
     "text": [
      "{2, 4, 6, 9}\n"
     ]
    }
   ],
   "source": [
    "set1 = {6,2,9,0,4}\n",
    "\n",
    "set1.pop()\n",
    "#Set are unordered so we cannot guess which item will be removed\n",
    "print(set1)"
   ]
  },
  {
   "cell_type": "code",
   "execution_count": 21,
   "metadata": {},
   "outputs": [
    {
     "name": "stdout",
     "output_type": "stream",
     "text": [
      "set()\n"
     ]
    }
   ],
   "source": [
    "set1 = {6,2,9,0,4}\n",
    "\n",
    "set1.clear()\n",
    "#It will remove all item not set()\n",
    "print(set1)"
   ]
  },
  {
   "cell_type": "markdown",
   "metadata": {},
   "source": [
    "# Set Operations"
   ]
  },
  {
   "cell_type": "code",
   "execution_count": 26,
   "metadata": {},
   "outputs": [
    {
     "name": "stdout",
     "output_type": "stream",
     "text": [
      "{0, 1, 2, 3, 5, 6, 7, 8, 9}\n"
     ]
    }
   ],
   "source": [
    "# Union operation\n",
    "\n",
    "set1 = {1,5,8,2,9}\n",
    "set2 = {8,3,7,0,6}\n",
    "\n",
    "print(set1|set2)"
   ]
  },
  {
   "cell_type": "code",
   "execution_count": 27,
   "metadata": {},
   "outputs": [
    {
     "name": "stdout",
     "output_type": "stream",
     "text": [
      "{8}\n"
     ]
    }
   ],
   "source": [
    "# Intersection operation\n",
    "\n",
    "set1 = {1,5,8,2,9}\n",
    "set2 = {8,3,7,0,6}\n",
    "\n",
    "print(set1&set2)"
   ]
  },
  {
   "cell_type": "code",
   "execution_count": 30,
   "metadata": {},
   "outputs": [
    {
     "name": "stdout",
     "output_type": "stream",
     "text": [
      "{9, 2, 5}\n"
     ]
    }
   ],
   "source": [
    "# Difference operation\n",
    "\n",
    "set1 = {1,5,8,2,9}\n",
    "set2 = {8,3,7,0,1}\n",
    "\n",
    "print(set1-set2)"
   ]
  },
  {
   "cell_type": "code",
   "execution_count": 31,
   "metadata": {},
   "outputs": [
    {
     "name": "stdout",
     "output_type": "stream",
     "text": [
      "{0, 2, 3, 5, 7, 9}\n"
     ]
    }
   ],
   "source": [
    "# Symmetric Difference operation\n",
    "\n",
    "set1 = {1,5,8,2,9}\n",
    "set2 = {8,3,7,0,1}\n",
    "\n",
    "print(set1^set2)"
   ]
  },
  {
   "cell_type": "markdown",
   "metadata": {},
   "source": [
    "## Some more Set method"
   ]
  },
  {
   "cell_type": "code",
   "execution_count": 33,
   "metadata": {},
   "outputs": [
    {
     "name": "stdout",
     "output_type": "stream",
     "text": [
      "False\n"
     ]
    }
   ],
   "source": [
    "set1 = {1,5,8,2,9}\n",
    "set2 = {8,3,7,0,1}\n",
    "\n",
    "set3 = set1.isdisjoint(set2)\n",
    "#Returns True if two sets have a null intersection\n",
    "print(set3)"
   ]
  },
  {
   "cell_type": "code",
   "execution_count": 35,
   "metadata": {},
   "outputs": [
    {
     "name": "stdout",
     "output_type": "stream",
     "text": [
      "True\n"
     ]
    }
   ],
   "source": [
    "set1 = {1,5,8,2,9}\n",
    "set2 = {8,3,7,0,1,5,2,9}\n",
    "\n",
    "set3 = set1.issubset(set2)\n",
    "#Returns True if all items in the set exists in the specified set, otherwise it retuns False.\n",
    "print(set3)"
   ]
  },
  {
   "cell_type": "code",
   "execution_count": 36,
   "metadata": {},
   "outputs": [
    {
     "name": "stdout",
     "output_type": "stream",
     "text": [
      "False\n"
     ]
    }
   ],
   "source": [
    "set1 = {1,5,8,2,9}\n",
    "set2 = {8,3,7,0,1,5,2,9}\n",
    "\n",
    "set3 = set1.issuperset(set2)\n",
    "#Returns True if all items in the specified set exists in the original set, otherwise it retuns False.\n",
    "print(set3)"
   ]
  }
 ],
 "metadata": {
  "kernelspec": {
   "display_name": "Python 3",
   "language": "python",
   "name": "python3"
  },
  "language_info": {
   "codemirror_mode": {
    "name": "ipython",
    "version": 3
   },
   "file_extension": ".py",
   "mimetype": "text/x-python",
   "name": "python",
   "nbconvert_exporter": "python",
   "pygments_lexer": "ipython3",
   "version": "3.8.3"
  }
 },
 "nbformat": 4,
 "nbformat_minor": 4
}
