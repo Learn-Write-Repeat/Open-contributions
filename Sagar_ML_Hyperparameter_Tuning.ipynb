{
  "nbformat": 4,
  "nbformat_minor": 0,
  "metadata": {
    "kernelspec": {
      "display_name": "Python 3.7 (tensorflow)",
      "language": "python",
      "name": "tensorflow"
    },
    "language_info": {
      "codemirror_mode": {
        "name": "ipython",
        "version": 3
      },
      "file_extension": ".py",
      "mimetype": "text/x-python",
      "name": "python",
      "nbconvert_exporter": "python",
      "pygments_lexer": "ipython3",
      "version": "3.7.7"
    },
    "colab": {
      "name": "Sagar_ML_Hyperparameter_Tuning.ipynb",
      "provenance": [],
      "collapsed_sections": [],
      "toc_visible": true
    },
    "accelerator": "GPU"
  },
  "cells": [
    {
      "cell_type": "markdown",
      "metadata": {
        "id": "_Ed1QOkesStf",
        "colab_type": "text"
      },
      "source": [
        "* Here we are playing with all the hyperparameter techniques, we will see which gives the better performance.\n",
        "* I am taking advertisement dataset, you can download this dataset from this link  https://www.kaggle.com/bumba5341/advertisingcsv\n",
        "* Download all the libraries or dependencies \n",
        "\n"
      ]
    },
    {
      "cell_type": "markdown",
      "metadata": {
        "id": "Ecx4YbtWsStk",
        "colab_type": "text"
      },
      "source": [
        "## Import all the dependencies"
      ]
    },
    {
      "cell_type": "code",
      "metadata": {
        "id": "oCpOPbsnsStn",
        "colab_type": "code",
        "colab": {}
      },
      "source": [
        "import pandas as pd\n",
        "import numpy as np\n",
        "import matplotlib.pyplot as plt\n",
        "import seaborn as sns\n",
        "from sklearn.preprocessing import StandardScaler\n",
        "from sklearn.ensemble import RandomForestRegressor\n",
        "from sklearn.metrics import mean_squared_error\n",
        "from sklearn.model_selection import GridSearchCV, RandomizedSearchCV,train_test_split, cross_val_score\n",
        "from tensorflow.keras.wrappers.scikit_learn import KerasRegressor\n",
        "from tensorflow.keras.layers import Dense, Activation, Dropout\n",
        "from tensorflow.keras.models import Sequential\n",
        "from hyperopt import hp, fmin, tpe, STATUS_OK, Trials\n",
        "import warnings\n",
        "warnings.filterwarnings('ignore')"
      ],
      "execution_count": null,
      "outputs": []
    },
    {
      "cell_type": "markdown",
      "metadata": {
        "id": "MusNLRKZsSt3",
        "colab_type": "text"
      },
      "source": [
        "## Reading data through pandas dataframe"
      ]
    },
    {
      "cell_type": "code",
      "metadata": {
        "id": "APLZrhAFsSt5",
        "colab_type": "code",
        "colab": {}
      },
      "source": [
        "df=pd.read_csv('Advertising.csv')"
      ],
      "execution_count": null,
      "outputs": []
    },
    {
      "cell_type": "code",
      "metadata": {
        "id": "2Zg7YOuDsSuK",
        "colab_type": "code",
        "colab": {}
      },
      "source": [
        "df.drop('Unnamed: 0',axis=1,inplace=True)"
      ],
      "execution_count": null,
      "outputs": []
    },
    {
      "cell_type": "code",
      "metadata": {
        "id": "97zDN6MKsSuX",
        "colab_type": "code",
        "colab": {
          "base_uri": "https://localhost:8080/",
          "height": 204
        },
        "outputId": "c331941c-f01d-46c0-a0c7-4665a1eee4ac"
      },
      "source": [
        "df.head()"
      ],
      "execution_count": null,
      "outputs": [
        {
          "output_type": "execute_result",
          "data": {
            "text/html": [
              "<div>\n",
              "<style scoped>\n",
              "    .dataframe tbody tr th:only-of-type {\n",
              "        vertical-align: middle;\n",
              "    }\n",
              "\n",
              "    .dataframe tbody tr th {\n",
              "        vertical-align: top;\n",
              "    }\n",
              "\n",
              "    .dataframe thead th {\n",
              "        text-align: right;\n",
              "    }\n",
              "</style>\n",
              "<table border=\"1\" class=\"dataframe\">\n",
              "  <thead>\n",
              "    <tr style=\"text-align: right;\">\n",
              "      <th></th>\n",
              "      <th>TV</th>\n",
              "      <th>Radio</th>\n",
              "      <th>Newspaper</th>\n",
              "      <th>Sales</th>\n",
              "    </tr>\n",
              "  </thead>\n",
              "  <tbody>\n",
              "    <tr>\n",
              "      <th>0</th>\n",
              "      <td>230.1</td>\n",
              "      <td>37.8</td>\n",
              "      <td>69.2</td>\n",
              "      <td>22.1</td>\n",
              "    </tr>\n",
              "    <tr>\n",
              "      <th>1</th>\n",
              "      <td>44.5</td>\n",
              "      <td>39.3</td>\n",
              "      <td>45.1</td>\n",
              "      <td>10.4</td>\n",
              "    </tr>\n",
              "    <tr>\n",
              "      <th>2</th>\n",
              "      <td>17.2</td>\n",
              "      <td>45.9</td>\n",
              "      <td>69.3</td>\n",
              "      <td>9.3</td>\n",
              "    </tr>\n",
              "    <tr>\n",
              "      <th>3</th>\n",
              "      <td>151.5</td>\n",
              "      <td>41.3</td>\n",
              "      <td>58.5</td>\n",
              "      <td>18.5</td>\n",
              "    </tr>\n",
              "    <tr>\n",
              "      <th>4</th>\n",
              "      <td>180.8</td>\n",
              "      <td>10.8</td>\n",
              "      <td>58.4</td>\n",
              "      <td>12.9</td>\n",
              "    </tr>\n",
              "  </tbody>\n",
              "</table>\n",
              "</div>"
            ],
            "text/plain": [
              "      TV  Radio  Newspaper  Sales\n",
              "0  230.1   37.8       69.2   22.1\n",
              "1   44.5   39.3       45.1   10.4\n",
              "2   17.2   45.9       69.3    9.3\n",
              "3  151.5   41.3       58.5   18.5\n",
              "4  180.8   10.8       58.4   12.9"
            ]
          },
          "metadata": {
            "tags": []
          },
          "execution_count": 4
        }
      ]
    },
    {
      "cell_type": "markdown",
      "metadata": {
        "id": "4aRCFa0esSum",
        "colab_type": "text"
      },
      "source": [
        "## EDA"
      ]
    },
    {
      "cell_type": "code",
      "metadata": {
        "id": "tZ0JjCNtsSup",
        "colab_type": "code",
        "colab": {
          "base_uri": "https://localhost:8080/",
          "height": 296
        },
        "outputId": "e2437a94-ea70-42c7-e041-101c0a9d4997"
      },
      "source": [
        "sns.scatterplot(data=df,x='TV',y='Sales')"
      ],
      "execution_count": null,
      "outputs": [
        {
          "output_type": "execute_result",
          "data": {
            "text/plain": [
              "<matplotlib.axes._subplots.AxesSubplot at 0x7fe2f488cd30>"
            ]
          },
          "metadata": {
            "tags": []
          },
          "execution_count": 5
        },
        {
          "output_type": "display_data",
          "data": {
            "image/png": "[encoded data removed]",
            "text/plain": [
              "<Figure size 432x288 with 1 Axes>"
            ]
          },
          "metadata": {
            "tags": [],
            "needs_background": "light"
          }
        }
      ]
    },
    {
      "cell_type": "code",
      "metadata": {
        "id": "KswDXvessSu1",
        "colab_type": "code",
        "colab": {
          "base_uri": "https://localhost:8080/",
          "height": 296
        },
        "outputId": "7c47caee-1987-4ebd-b35d-8ebfebacb5ed"
      },
      "source": [
        "sns.scatterplot(data=df,x='Radio',y='Sales')"
      ],
      "execution_count": null,
      "outputs": [
        {
          "output_type": "execute_result",
          "data": {
            "text/plain": [
              "<matplotlib.axes._subplots.AxesSubplot at 0x7fe2f478ba58>"
            ]
          },
          "metadata": {
            "tags": []
          },
          "execution_count": 6
        },
        {
          "output_type": "display_data",
          "data": {
            "image/png": "[encoded data removed]",
            "text/plain": [
              "<Figure size 432x288 with 1 Axes>"
            ]
          },
          "metadata": {
            "tags": [],
            "needs_background": "light"
          }
        }
      ]
    },
    {
      "cell_type": "code",
      "metadata": {
        "id": "EdEgXMQKsSvD",
        "colab_type": "code",
        "colab": {
          "base_uri": "https://localhost:8080/",
          "height": 296
        },
        "outputId": "073a2ec4-a5b9-4064-9499-8d64e41b9e47"
      },
      "source": [
        "sns.scatterplot(data=df,x='Newspaper',y='Sales')"
      ],
      "execution_count": null,
      "outputs": [
        {
          "output_type": "execute_result",
          "data": {
            "text/plain": [
              "<matplotlib.axes._subplots.AxesSubplot at 0x7fe2f4302cf8>"
            ]
          },
          "metadata": {
            "tags": []
          },
          "execution_count": 7
        },
        {
          "output_type": "display_data",
          "data": {
            "image/png": "[encoded data removed]",
            "text/plain": [
              "<Figure size 432x288 with 1 Axes>"
            ]
          },
          "metadata": {
            "tags": [],
            "needs_background": "light"
          }
        }
      ]
    },
    {
      "cell_type": "markdown",
      "metadata": {
        "id": "1-bxpyLSsSvT",
        "colab_type": "text"
      },
      "source": [
        "We can see there is a upward trend in both advertising mediums (TV and Radio), opposite there is no trend in Newspaper. "
      ]
    },
    {
      "cell_type": "code",
      "metadata": {
        "id": "_YisLiEUsSvV",
        "colab_type": "code",
        "colab": {
          "base_uri": "https://localhost:8080/",
          "height": 102
        },
        "outputId": "8ba4bbe4-51a6-4061-edd4-12ccf2576267"
      },
      "source": [
        "# Check is there any null values\n",
        "df.isnull().sum()"
      ],
      "execution_count": null,
      "outputs": [
        {
          "output_type": "execute_result",
          "data": {
            "text/plain": [
              "TV           0\n",
              "Radio        0\n",
              "Newspaper    0\n",
              "Sales        0\n",
              "dtype: int64"
            ]
          },
          "metadata": {
            "tags": []
          },
          "execution_count": 8
        }
      ]
    },
    {
      "cell_type": "code",
      "metadata": {
        "id": "JrfRFZq-sSvh",
        "colab_type": "code",
        "colab": {}
      },
      "source": [
        "X=df.drop('Sales',axis=1)\n",
        "y=df['Sales']"
      ],
      "execution_count": null,
      "outputs": []
    },
    {
      "cell_type": "code",
      "metadata": {
        "id": "qmq_STP6sSvu",
        "colab_type": "code",
        "colab": {}
      },
      "source": [
        "# apply scaling to convert all the independent variables in the same range of values.\n",
        "scaler=StandardScaler()\n",
        "X=scaler.fit_transform(X)"
      ],
      "execution_count": null,
      "outputs": []
    },
    {
      "cell_type": "markdown",
      "metadata": {
        "id": "cvhetoiTsSv6",
        "colab_type": "text"
      },
      "source": [
        "## Train Test Spliting"
      ]
    },
    {
      "cell_type": "code",
      "metadata": {
        "id": "GQHJRZgXsSv8",
        "colab_type": "code",
        "colab": {}
      },
      "source": [
        "X_train,X_test,y_train,y_test=train_test_split(X,y,test_size=0.2)\n"
      ],
      "execution_count": null,
      "outputs": []
    },
    {
      "cell_type": "markdown",
      "metadata": {
        "id": "atLCHcjTsSwT",
        "colab_type": "text"
      },
      "source": [
        "## Training the model with default parameters"
      ]
    },
    {
      "cell_type": "code",
      "metadata": {
        "id": "KiYqeXIwsSwV",
        "colab_type": "code",
        "colab": {
          "base_uri": "https://localhost:8080/",
          "height": 153
        },
        "outputId": "b2c93bc2-e01a-43fe-e4ba-72f00ced5067"
      },
      "source": [
        "# I am taking Random Forest Regressor as my model\n",
        "\n",
        "rf=RandomForestRegressor()\n",
        "rf.fit(X_train,y_train)\n",
        "y_pred=rf.predict(X_test)\n",
        "rmse=np.sqrt(mean_squared_error(y_test,y_pred))\n",
        "SS_Residual = sum((y_test-y_pred)**2)       \n",
        "SS_Total = sum((y_test-np.mean(y_test))**2)     \n",
        "r_squared = 1 - (float(SS_Residual))/SS_Total\n",
        "adjusted_r_squared = 1 - (1-r_squared)*(len(y_test)-1)/(len(y_test)-X_test.shape[1]-1)\n",
        "\n",
        "print('Performance of our model')\n",
        "print('------------------------')\n",
        "print('R_Squared: {:.2f}'.format(r_squared))\n",
        "print('Adjusted R_squared: {:.2f}'.format(adjusted_r_squared))\n",
        "print('------------------------')\n",
        "print('Loss Function')\n",
        "print('RMSE Score: {:.2f}'.format(rmse))\n",
        "print('------------------------')"
      ],
      "execution_count": null,
      "outputs": [
        {
          "output_type": "stream",
          "text": [
            "Performance of our model\n",
            "------------------------\n",
            "R_Squared: 0.98\n",
            "Adjusted R_squared: 0.98\n",
            "------------------------\n",
            "Loss Function\n",
            "RMSE Score: 0.76\n",
            "------------------------\n"
          ],
          "name": "stdout"
        }
      ]
    },
    {
      "cell_type": "markdown",
      "metadata": {
        "id": "sW8VIRR9uzTO",
        "colab_type": "text"
      },
      "source": [
        "We got 0.98 adjusted r_squared which shows how our regressor line best fitted with our data."
      ]
    },
    {
      "cell_type": "markdown",
      "metadata": {
        "id": "TMvXVMOIsSwf",
        "colab_type": "text"
      },
      "source": [
        "## Applying Hyperparameter Tuning Techniques"
      ]
    },
    {
      "cell_type": "markdown",
      "metadata": {
        "id": "dMZYzoabsSwh",
        "colab_type": "text"
      },
      "source": [
        "#### What are the hyperparameters do we have in Random Forest Regressor?\n",
        "\n",
        "* max_depth = maximum number of levels allowed in each tree.\n",
        "* max_features = maximum number of features considered when splitting a node.\n",
        "* min_samples_leaf = minimum number of samples which can be stored in a tree leaf.\n",
        "* min_samples_split = minimum number of samples necessary in a node to cause node splitting.\n",
        "* n_estimators = number of trees."
      ]
    },
    {
      "cell_type": "markdown",
      "metadata": {
        "id": "sdZJRxJgsSwj",
        "colab_type": "text"
      },
      "source": [
        "### 1.  Manual Search\n",
        "\n",
        "Here we manually adjust the parameters till we get the satisfactory score."
      ]
    },
    {
      "cell_type": "code",
      "metadata": {
        "id": "EN-LbPTRsSwk",
        "colab_type": "code",
        "colab": {
          "base_uri": "https://localhost:8080/",
          "height": 153
        },
        "outputId": "d6527310-9407-4656-a49d-732a5c57cf6f"
      },
      "source": [
        "\n",
        "rf=RandomForestRegressor(n_estimators=2000,max_depth=8, max_features='sqrt')\n",
        "rf.fit(X_train,y_train)\n",
        "y_pred=rf.predict(X_test)\n",
        "rmse=np.sqrt(mean_squared_error(y_test,y_pred))\n",
        "SS_Residual = sum((y_test-y_pred)**2)       \n",
        "SS_Total = sum((y_test-np.mean(y_test))**2)     \n",
        "r_squared = 1 - (float(SS_Residual))/SS_Total\n",
        "adjusted_r_squared = 1 - (1-r_squared)*(len(y_test)-1)/(len(y_test)-X_test.shape[1]-1)\n",
        "\n",
        "print('Performance of our model')\n",
        "print('------------------------')\n",
        "print('R_Squared: {:.2f}'.format(r_squared))\n",
        "print('Adjusted R_squared: {:.2f}'.format(adjusted_r_squared))\n",
        "print('------------------------')\n",
        "print('Loss Function')\n",
        "print('RMSE Score: {:.2f}'.format(rmse))\n",
        "print('------------------------')"
      ],
      "execution_count": null,
      "outputs": [
        {
          "output_type": "stream",
          "text": [
            "Performance of our model\n",
            "------------------------\n",
            "R_Squared: 0.89\n",
            "Adjusted R_squared: 0.88\n",
            "------------------------\n",
            "Loss Function\n",
            "RMSE Score: 1.82\n",
            "------------------------\n"
          ],
          "name": "stdout"
        }
      ]
    },
    {
      "cell_type": "markdown",
      "metadata": {
        "id": "fFNobcwfvPYH",
        "colab_type": "text"
      },
      "source": [
        "I have run this code 4 times with different different parameters and this is the best score I have got."
      ]
    },
    {
      "cell_type": "markdown",
      "metadata": {
        "id": "hWKbrAMPsSwv",
        "colab_type": "text"
      },
      "source": [
        "### 2. Grid Search\n",
        "here we first create the grid of the parameters that we want to tune. then we will give these parameters to GridSearchCV function."
      ]
    },
    {
      "cell_type": "code",
      "metadata": {
        "id": "RRgSbHPgsSwy",
        "colab_type": "code",
        "colab": {
          "base_uri": "https://localhost:8080/",
          "height": 408
        },
        "outputId": "378357dc-d765-4284-b223-872521cc8cf4"
      },
      "source": [
        "params={\n",
        "               'max_depth': [2,4,6,8,10,None],\n",
        "               'max_features': ['auto', 'sqrt','log2', None],\n",
        "               'min_samples_leaf': [4, 6, 8, 12],\n",
        "               'min_samples_split': [5, 7, 10, 14],\n",
        "               'n_estimators': [i for i in range(100,2000,200)]}\n",
        "rf=RandomForestRegressor()\n",
        "\n",
        "gridsearch=GridSearchCV(rf,param_grid=params,cv=3)\n",
        "\n",
        "gridsearch.fit(X_train,y_train)"
      ],
      "execution_count": null,
      "outputs": [
        {
          "output_type": "execute_result",
          "data": {
            "text/plain": [
              "GridSearchCV(cv=3, error_score=nan,\n",
              "             estimator=RandomForestRegressor(bootstrap=True, ccp_alpha=0.0,\n",
              "                                             criterion='mse', max_depth=None,\n",
              "                                             max_features='auto',\n",
              "                                             max_leaf_nodes=None,\n",
              "                                             max_samples=None,\n",
              "                                             min_impurity_decrease=0.0,\n",
              "                                             min_impurity_split=None,\n",
              "                                             min_samples_leaf=1,\n",
              "                                             min_samples_split=2,\n",
              "                                             min_weight_fraction_leaf=0.0,\n",
              "                                             n_estimators=100, n_jobs=None,\n",
              "                                             oob_score=False, rand...\n",
              "                                             verbose=0, warm_start=False),\n",
              "             iid='deprecated', n_jobs=None,\n",
              "             param_grid={'max_depth': [2, 4, 6, 8, 10, None],\n",
              "                         'max_features': ['auto', 'sqrt', 'log2', None],\n",
              "                         'min_samples_leaf': [4, 6, 8, 12],\n",
              "                         'min_samples_split': [5, 7, 10, 14],\n",
              "                         'n_estimators': [100, 300, 500, 700, 900, 1100, 1300,\n",
              "                                          1500, 1700, 1900]},\n",
              "             pre_dispatch='2*n_jobs', refit=True, return_train_score=False,\n",
              "             scoring=None, verbose=0)"
            ]
          },
          "metadata": {
            "tags": []
          },
          "execution_count": 17
        }
      ]
    },
    {
      "cell_type": "markdown",
      "metadata": {
        "id": "C0YvgyAErmCh",
        "colab_type": "text"
      },
      "source": [
        "It took me 4-5 hrs to run this code"
      ]
    },
    {
      "cell_type": "code",
      "metadata": {
        "id": "qsjIEcvhrk-m",
        "colab_type": "code",
        "colab": {
          "base_uri": "https://localhost:8080/",
          "height": 153
        },
        "outputId": "4183391e-8e84-4570-d68a-aa0bd3f8045f"
      },
      "source": [
        "y_pred=gridsearch.predict(X_test)\n",
        "rmse=np.sqrt(mean_squared_error(y_test,y_pred))\n",
        "SS_Residual = sum((y_test-y_pred)**2)       \n",
        "SS_Total = sum((y_test-np.mean(y_test))**2)     \n",
        "r_squared = 1 - (float(SS_Residual))/SS_Total\n",
        "adjusted_r_squared = 1 - (1-r_squared)*(len(y_test)-1)/(len(y_test)-X_test.shape[1]-1)\n",
        "\n",
        "print('Performance of our model')\n",
        "print('------------------------')\n",
        "print('R_Squared: {:.2f}'.format(r_squared))\n",
        "print('Adjusted R_squared: {:.2f}'.format(adjusted_r_squared))\n",
        "print('------------------------')\n",
        "print('Loss Function')\n",
        "print('RMSE Score: {:.2f}'.format(rmse))\n",
        "print('------------------------')"
      ],
      "execution_count": null,
      "outputs": [
        {
          "output_type": "stream",
          "text": [
            "Performance of our model\n",
            "------------------------\n",
            "R_Squared: 0.96\n",
            "Adjusted R_squared: 0.96\n",
            "------------------------\n",
            "Loss Function\n",
            "RMSE Score: 1.07\n",
            "------------------------\n"
          ],
          "name": "stdout"
        }
      ]
    },
    {
      "cell_type": "markdown",
      "metadata": {
        "id": "x5Zhh5tEwBdQ",
        "colab_type": "text"
      },
      "source": [
        "We can see it's performing well as compare to manual search"
      ]
    },
    {
      "cell_type": "markdown",
      "metadata": {
        "id": "x-MaVtoQsSxB",
        "colab_type": "text"
      },
      "source": [
        "### 2. Random Search\n",
        "here we do the same as we did in the the grid search only we provide the parameters to the RandomizedSeachCV function rather than GridSeachCV"
      ]
    },
    {
      "cell_type": "code",
      "metadata": {
        "id": "1y3zPagPsSxE",
        "colab_type": "code",
        "colab": {
          "base_uri": "https://localhost:8080/",
          "height": 476
        },
        "outputId": "f63e515c-b357-4279-e99a-c76416ed47e6"
      },
      "source": [
        "params={\n",
        "               'max_depth': [2,4,6,8,10,15,20,25,30,None],\n",
        "               'max_features': ['auto', 'sqrt','log2', None],\n",
        "               'min_samples_leaf': [4, 6, 8, 12],\n",
        "               'min_samples_split': [5, 7, 10, 14],\n",
        "               'n_estimators': [i for i in range(100,2000,200)]}\n",
        "rf=RandomForestRegressor()\n",
        "\n",
        "randomsearch=RandomizedSearchCV(rf,param_distributions=params,cv=3)\n",
        "\n",
        "randomsearch.fit(X_train,y_train)"
      ],
      "execution_count": null,
      "outputs": [
        {
          "output_type": "execute_result",
          "data": {
            "text/plain": [
              "RandomizedSearchCV(cv=3, error_score=nan,\n",
              "                   estimator=RandomForestRegressor(bootstrap=True,\n",
              "                                                   ccp_alpha=0.0,\n",
              "                                                   criterion='mse',\n",
              "                                                   max_depth=None,\n",
              "                                                   max_features='auto',\n",
              "                                                   max_leaf_nodes=None,\n",
              "                                                   max_samples=None,\n",
              "                                                   min_impurity_decrease=0.0,\n",
              "                                                   min_impurity_split=None,\n",
              "                                                   min_samples_leaf=1,\n",
              "                                                   min_samples_split=2,\n",
              "                                                   min_weight_fraction_leaf=0.0,\n",
              "                                                   n_estimators=100,\n",
              "                                                   n_jobs=None, oob_score=Fals...\n",
              "                   iid='deprecated', n_iter=10, n_jobs=None,\n",
              "                   param_distributions={'max_depth': [2, 4, 6, 8, 10, 15, 20,\n",
              "                                                      25, 30, None],\n",
              "                                        'max_features': ['auto', 'sqrt', 'log2',\n",
              "                                                         None],\n",
              "                                        'min_samples_leaf': [4, 6, 8, 12],\n",
              "                                        'min_samples_split': [5, 7, 10, 14],\n",
              "                                        'n_estimators': [100, 300, 500, 700,\n",
              "                                                         900, 1100, 1300, 1500,\n",
              "                                                         1700, 1900]},\n",
              "                   pre_dispatch='2*n_jobs', random_state=None, refit=True,\n",
              "                   return_train_score=False, scoring=None, verbose=0)"
            ]
          },
          "metadata": {
            "tags": []
          },
          "execution_count": 21
        }
      ]
    },
    {
      "cell_type": "markdown",
      "metadata": {
        "id": "Oj_duOzTwQ5P",
        "colab_type": "text"
      },
      "source": [
        "it took me 10-15 seconds to run this code, we can observe how faster it is than the grid search."
      ]
    },
    {
      "cell_type": "code",
      "metadata": {
        "id": "q6Z26JsL6WkR",
        "colab_type": "code",
        "colab": {
          "base_uri": "https://localhost:8080/",
          "height": 153
        },
        "outputId": "849c64fa-7013-4570-b691-d69770898352"
      },
      "source": [
        "y_pred=randomsearch.predict(X_test)\n",
        "rmse=np.sqrt(mean_squared_error(y_test,y_pred))\n",
        "SS_Residual = sum((y_test-y_pred)**2)       \n",
        "SS_Total = sum((y_test-np.mean(y_test))**2)     \n",
        "r_squared = 1 - (float(SS_Residual))/SS_Total\n",
        "adjusted_r_squared = 1 - (1-r_squared)*(len(y_test)-1)/(len(y_test)-X_test.shape[1]-1)\n",
        "\n",
        "print('Performance of our model')\n",
        "print('------------------------')\n",
        "print('R_Squared: {:.2f}'.format(r_squared))\n",
        "print('Adjusted R_squared: {:.2f}'.format(adjusted_r_squared))\n",
        "print('------------------------')\n",
        "print('Loss Function')\n",
        "print('RMSE Score: {:.2f}'.format(rmse))\n",
        "print('------------------------')"
      ],
      "execution_count": null,
      "outputs": [
        {
          "output_type": "stream",
          "text": [
            "Performance of our model\n",
            "------------------------\n",
            "R_Squared: 0.94\n",
            "Adjusted R_squared: 0.94\n",
            "------------------------\n",
            "Loss Function\n",
            "RMSE Score: 1.29\n",
            "------------------------\n"
          ],
          "name": "stdout"
        }
      ]
    },
    {
      "cell_type": "markdown",
      "metadata": {
        "id": "dq1YaAItwhqy",
        "colab_type": "text"
      },
      "source": [
        "Performing not well compare to the grid search"
      ]
    },
    {
      "cell_type": "markdown",
      "metadata": {
        "id": "L6GLy6YJ7G2P",
        "colab_type": "text"
      },
      "source": [
        "### 3. Bayesian Optimization\n",
        "It can be implemented by giving 3 three main parameters to the function fmin().\n",
        "\n",
        "* Objective Function = defines the loss function to minimize.\n",
        "\n",
        "* Domain Space = defines the range of input values to test (in Bayesian Optimization this space creates a probability distribution for each of the used Hyperparameters).\n",
        "\n",
        "* Optimization Algorithm = defines the search algorithm to use to select the best input values to use in each new iteration."
      ]
    },
    {
      "cell_type": "code",
      "metadata": {
        "id": "p23m1cYn6-6k",
        "colab_type": "code",
        "colab": {
          "base_uri": "https://localhost:8080/",
          "height": 119
        },
        "outputId": "7007ccee-0d3f-4188-e77e-1fa6f18b5946"
      },
      "source": [
        "space = {\n",
        "        'max_depth': hp.quniform('max_depth', 10, 1200, 10),\n",
        "        'max_features': hp.choice('max_features', ['auto', 'sqrt','log2', None]),\n",
        "        'min_samples_leaf': hp.uniform ('min_samples_leaf', 0, 0.5),\n",
        "        'min_samples_split' : hp.uniform ('min_samples_split', 0, 1),\n",
        "        'n_estimators' : hp.choice('n_estimators', [100,300,500,800,1000,1200])\n",
        "    }\n",
        "\n",
        "def objective(space):\n",
        "    model = RandomForestRegressor(max_depth = space['max_depth'],\n",
        "                                 max_features = space['max_features'],\n",
        "                                 min_samples_leaf = space['min_samples_leaf'],\n",
        "                                 min_samples_split = space['min_samples_split'],\n",
        "                                 n_estimators = space['n_estimators'], \n",
        "                                 )\n",
        "    \n",
        "    accuracy = cross_val_score(model, X_train, y_train, cv = 3).mean()\n",
        "\n",
        "    # We aim to maximize accuracy, therefore we return it as a negative value\n",
        "    return {'loss': -accuracy, 'status': STATUS_OK }\n",
        "    \n",
        "trials = Trials()\n",
        "result = fmin(fn= objective,\n",
        "            space= space,\n",
        "            algo= tpe.suggest,\n",
        "            max_evals = 90,\n",
        "            trials= trials)\n",
        "\n",
        "result\n"
      ],
      "execution_count": null,
      "outputs": [
        {
          "output_type": "stream",
          "text": [
            "100%|██████████| 90/90 [03:28<00:00,  2.32s/it, best loss: -0.9651915846884708]\n"
          ],
          "name": "stdout"
        },
        {
          "output_type": "execute_result",
          "data": {
            "text/plain": [
              "{'max_depth': 200.0,\n",
              " 'max_features': 0,\n",
              " 'min_samples_leaf': 0.005662939495810759,\n",
              " 'min_samples_split': 0.01328446314477047,\n",
              " 'n_estimators': 5}"
            ]
          },
          "metadata": {
            "tags": []
          },
          "execution_count": 38
        }
      ]
    },
    {
      "cell_type": "markdown",
      "metadata": {
        "id": "FkHWdvqaxH1M",
        "colab_type": "text"
      },
      "source": [
        "Result will look like what happened with my code how can we got the max_features as value 0. don't worry 0 is the index value of that parameter. so create a dictionary for only those parameters which got 0,1 or any index values. In my case we have max_features and n_estimators are there."
      ]
    },
    {
      "cell_type": "code",
      "metadata": {
        "id": "S7q4DQ1d8ey8",
        "colab_type": "code",
        "colab": {
          "base_uri": "https://localhost:8080/",
          "height": 153
        },
        "outputId": "266f84e8-f093-49d1-8a84-58503d640532"
      },
      "source": [
        "# creating dictionary\n",
        "feat = {0: 'auto', 1: 'sqrt', 2: 'log2', 3: None}\n",
        "est = {0: 100, 1: 300, 2: 500, 3: 800, 4: 1000,5:1200}\n",
        "\n",
        "\n",
        "randomforest = RandomForestRegressor( \n",
        "                                       max_depth = result['max_depth'], \n",
        "                                       max_features = feat[result['max_features']], \n",
        "                                       min_samples_leaf = result['min_samples_leaf'], \n",
        "                                       min_samples_split = result['min_samples_split'], \n",
        "                                       n_estimators = est[result['n_estimators']]\n",
        "                                      ).fit(X_train,y_train)\n",
        "y_pred=randomforest.predict(X_test)\n",
        "rmse=np.sqrt(mean_squared_error(y_test,y_pred))\n",
        "SS_Residual = sum((y_test-y_pred)**2)       \n",
        "SS_Total = sum((y_test-np.mean(y_test))**2)     \n",
        "r_squared = 1 - (float(SS_Residual))/SS_Total\n",
        "adjusted_r_squared = 1 - (1-r_squared)*(len(y_test)-1)/(len(y_test)-X_test.shape[1]-1)\n",
        "\n",
        "print('Performance of our model')\n",
        "print('------------------------')\n",
        "print('R_Squared: {:.2f}'.format(r_squared))\n",
        "print('Adjusted R_squared: {:.2f}'.format(adjusted_r_squared))\n",
        "print('------------------------')\n",
        "print('Loss Function')\n",
        "print('RMSE Score: {:.2f}'.format(rmse))\n",
        "print('------------------------')"
      ],
      "execution_count": null,
      "outputs": [
        {
          "output_type": "stream",
          "text": [
            "Performance of our model\n",
            "------------------------\n",
            "R_Squared: 0.98\n",
            "Adjusted R_squared: 0.98\n",
            "------------------------\n",
            "Loss Function\n",
            "RMSE Score: 0.79\n",
            "------------------------\n"
          ],
          "name": "stdout"
        }
      ]
    },
    {
      "cell_type": "markdown",
      "metadata": {
        "id": "MkcXw9w8ycoY",
        "colab_type": "text"
      },
      "source": [
        "We can see the performance of Bayesian Optimization, it is performing well than 3 techniques that we have already used."
      ]
    },
    {
      "cell_type": "markdown",
      "metadata": {
        "id": "6WFuYfwsCQG6",
        "colab_type": "text"
      },
      "source": [
        "### 4. Artificial Neural Network hyperparameter tuning"
      ]
    },
    {
      "cell_type": "code",
      "metadata": {
        "id": "S1aYd5oP8iB0",
        "colab_type": "code",
        "colab": {
          "base_uri": "https://localhost:8080/",
          "height": 34
        },
        "outputId": "195f0ffa-ca11-420c-d6d7-074c7a6deec6"
      },
      "source": [
        "def ANN_Model(activation= 'linear', neurons= 5, optimizer='Adam'):\n",
        "    model = Sequential()\n",
        "    model.add(Dense(neurons, input_dim= X_train.shape[1], activation= activation))\n",
        "    model.add(Dense(neurons, activation= activation))\n",
        "    model.add(Dropout(0.3))\n",
        "    model.add(Dense(1,activation='relu'))\n",
        "    model.compile(loss='mse', optimizer= optimizer, metrics=['mse'])\n",
        "    return model\n",
        "\n",
        "# Definying grid parameters\n",
        "activation = ['softmax', 'relu', 'linear']\n",
        "neurons = [5, 10, 15, 25, 35, 50]\n",
        "optimizer = ['SGD', 'Adam', 'Adamax']\n",
        "param_grid = dict(activation = activation, neurons = neurons, optimizer = optimizer)\n",
        "\n",
        "reg = KerasRegressor(build_fn= ANN_Model,epochs= 80, batch_size=40, verbose= 0)\n",
        "\n",
        "model = GridSearchCV(estimator= reg, param_grid=param_grid, n_jobs=-1)\n",
        "model.fit(X_train,y_train)\n",
        "\n",
        "print(\"Min Loss Registred: {} using {}\".format(round(model.best_score_,3), \n",
        "                                                   model.best_params_))"
      ],
      "execution_count": null,
      "outputs": [
        {
          "output_type": "stream",
          "text": [
            "Min Loss Registred: -0.973 using {'activation': 'relu', 'neurons': 25, 'optimizer': 'SGD'}\n"
          ],
          "name": "stdout"
        }
      ]
    },
    {
      "cell_type": "markdown",
      "metadata": {
        "id": "OAo3EvHC_8zm",
        "colab_type": "text"
      },
      "source": [
        "We got the Minimum loss with the parameters that help us."
      ]
    },
    {
      "cell_type": "code",
      "metadata": {
        "id": "5eCOnNUYDVpi",
        "colab_type": "code",
        "colab": {
          "base_uri": "https://localhost:8080/",
          "height": 153
        },
        "outputId": "38b46d6c-25d9-49be-cb8a-060aa8cc1e9c"
      },
      "source": [
        "y_pred=model.predict(X_test)\n",
        "rmse=np.sqrt(mean_squared_error(y_test,y_pred))\n",
        "SS_Residual = sum((y_test-y_pred)**2)       \n",
        "SS_Total = sum((y_test-np.mean(y_test))**2)     \n",
        "r_squared = 1 - (float(SS_Residual))/SS_Total\n",
        "adjusted_r_squared = 1 - (1-r_squared)*(len(y_test)-1)/(len(y_test)-X_test.shape[1]-1)\n",
        "\n",
        "print('Performance of our model')\n",
        "print('------------------------')\n",
        "print('R_Squared: {:.2f}'.format(r_squared))\n",
        "print('Adjusted R_squared: {:.2f}'.format(adjusted_r_squared))\n",
        "print('------------------------')\n",
        "print('Loss Function')\n",
        "print('RMSE Score: {:.2f}'.format(rmse))\n",
        "print('------------------------')"
      ],
      "execution_count": null,
      "outputs": [
        {
          "output_type": "stream",
          "text": [
            "Performance of our model\n",
            "------------------------\n",
            "R_Squared: 0.99\n",
            "Adjusted R_squared: 0.98\n",
            "------------------------\n",
            "Loss Function\n",
            "RMSE Score: 0.64\n",
            "------------------------\n"
          ],
          "name": "stdout"
        }
      ]
    },
    {
      "cell_type": "markdown",
      "metadata": {
        "id": "4E7S0k1dzMrg",
        "colab_type": "text"
      },
      "source": [
        "It is performing better than all the techniques we used."
      ]
    },
    {
      "cell_type": "code",
      "metadata": {
        "id": "53oVlIxDAmMb",
        "colab_type": "code",
        "colab": {}
      },
      "source": [
        ""
      ],
      "execution_count": null,
      "outputs": []
    }
  ]
}