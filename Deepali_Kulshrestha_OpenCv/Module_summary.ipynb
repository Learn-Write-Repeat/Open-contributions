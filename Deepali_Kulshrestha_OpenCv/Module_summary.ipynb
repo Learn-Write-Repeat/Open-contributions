{
 "cells": [
  {
   "cell_type": "markdown",
   "id": "innocent-biology",
   "metadata": {},
   "source": [
    "### Explain what ever you have understood in this module: atleast 100 words"
   ]
  },
  {
   "cell_type": "markdown",
   "id": "bound-continuity",
   "metadata": {},
   "source": [
    "In this module I have learnt about different concept in computer vision like segmentation (learn how to implement marker-based</br>\n",
    " image segmentation using water shed algorithm) ,contours( Mainly it is used in Object Detection) .</br>After that I had practically implemented the first project in this module i.e, Finding an object</br>  and mark it’s extreme points.In that given blog it demonstrates that how to  find extreme points along</br> a contour with OpenCV and Python.After that understanding the concept of shape detection (Finding specific patterns in image)</br> and learnt about the concept of face detection and description and various algorithm that is used for the face detection.</br> </br>Then understanding the haar classifier and use haar classifier algorithm in programming</br> on face and eye detection.\n",
    "Learn about Flask ,WSGI,Jinja2 and how to install flask ,setFlask_App and run it then how to built ML Model using Flask and how it works.Next come to the</br>  second project of the module i.e, Face Detection Using OpenCV - used OpenCv modules and HaasarCodes</br> to identify the face from an camera feed and deploy it using Flask.\n"
   ]
  }
 ],
 "metadata": {
  "kernelspec": {
   "display_name": "Python 3",
   "language": "python",
   "name": "python3"
  },
  "language_info": {
   "codemirror_mode": {
    "name": "ipython",
    "version": 3
   },
   "file_extension": ".py",
   "mimetype": "text/x-python",
   "name": "python",
   "nbconvert_exporter": "python",
   "pygments_lexer": "ipython3",
   "version": "3.8.0"
  }
 },
 "nbformat": 4,
 "nbformat_minor": 5
}
