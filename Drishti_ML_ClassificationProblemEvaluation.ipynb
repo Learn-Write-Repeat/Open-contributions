{
  "nbformat": 4,
  "nbformat_minor": 0,
  "metadata": {
    "colab": {
      "name": "Drishti_ML_ClassificationProblemEvaluation.ipynb",
      "provenance": [],
      "collapsed_sections": [],
      "authorship_tag": "ABX9TyNjaQ5JroVfaT8UXd3G7RKB"
    },
    "kernelspec": {
      "name": "python3",
      "display_name": "Python 3"
    }
  },
  "cells": [
    {
      "cell_type": "markdown",
      "metadata": {
        "id": "BTQYp9aVsar4",
        "colab_type": "text"
      },
      "source": [
        "### Here in order to learn more about how each of the evaluation metric works I have chosen a simple dataset.   \n",
        "The dataset is Social Network Ads which predicts whether the customer will purchase a product or not given his gender, age and salary. \n",
        "To evaluate it with all the metrics I have choosen a binary classification."
      ]
    },
    {
      "cell_type": "code",
      "metadata": {
        "id": "GHxznjtHYUIG",
        "colab_type": "code",
        "colab": {}
      },
      "source": [
        "# Importing the libraries\n",
        "import numpy as np\n",
        "import matplotlib.pyplot as plt\n",
        "import pandas as pd\n",
        "\n",
        "# Importing the dataset\n",
        "dataset = pd.read_csv('Social_Network_Ads.csv')\n",
        "X = dataset.iloc[:, [2, 3]].values\n",
        "y = dataset.iloc[:, 4].values\n",
        "\n",
        "# Splitting the dataset into the Training set and Test set\n",
        "from sklearn.model_selection import train_test_split\n",
        "X_train, X_test, y_train, y_test = train_test_split(X, y, test_size = 0.25, random_state = 0)\n",
        "\n",
        "# Feature Scaling\n",
        "from sklearn.preprocessing import StandardScaler\n",
        "sc = StandardScaler()\n",
        "X_train = sc.fit_transform(X_train)\n",
        "X_test = sc.transform(X_test)\n",
        "\n",
        "# Fitting Decision Tree Classification to the Training set\n",
        "from sklearn.tree import DecisionTreeClassifier\n",
        "classifier = DecisionTreeClassifier(criterion = 'entropy', random_state = 0)\n",
        "classifier.fit(X_train, y_train)\n",
        "\n",
        "# Predicting the Test set results\n",
        "y_pred = classifier.predict(X_test)"
      ],
      "execution_count": 1,
      "outputs": []
    },
    {
      "cell_type": "markdown",
      "metadata": {
        "id": "mMyZE8Xtt2Mb",
        "colab_type": "text"
      },
      "source": [
        "### 1. Confusion Matrix Evaluation"
      ]
    },
    {
      "cell_type": "code",
      "metadata": {
        "id": "e-JIZKcjZkCi",
        "colab_type": "code",
        "colab": {
          "base_uri": "https://localhost:8080/",
          "height": 51
        },
        "outputId": "19c7787c-50f3-4302-88b9-b30eeeb40752"
      },
      "source": [
        "# Making the Confusion Matrix\n",
        "from sklearn.metrics import confusion_matrix\n",
        "cm = confusion_matrix(y_test, y_pred)\n",
        "print(cm)"
      ],
      "execution_count": 3,
      "outputs": [
        {
          "output_type": "stream",
          "text": [
            "[[62  6]\n",
            " [ 3 29]]\n"
          ],
          "name": "stdout"
        }
      ]
    },
    {
      "cell_type": "markdown",
      "metadata": {
        "id": "NSQA06L2uE8Q",
        "colab_type": "text"
      },
      "source": [
        "### 2. Accuracy Evaluation"
      ]
    },
    {
      "cell_type": "code",
      "metadata": {
        "id": "Iwjx0yeBZuDh",
        "colab_type": "code",
        "colab": {
          "base_uri": "https://localhost:8080/",
          "height": 34
        },
        "outputId": "32c4800a-0a40-47aa-9d55-2531013aa4f6"
      },
      "source": [
        "from sklearn.metrics import accuracy_score\n",
        "accuracy = accuracy_score(y_test, y_pred)\n",
        "print(accuracy)"
      ],
      "execution_count": 5,
      "outputs": [
        {
          "output_type": "stream",
          "text": [
            "0.91\n"
          ],
          "name": "stdout"
        }
      ]
    },
    {
      "cell_type": "markdown",
      "metadata": {
        "id": "8S9rPiRTuLJg",
        "colab_type": "text"
      },
      "source": [
        "### 3. Precision Evaluation"
      ]
    },
    {
      "cell_type": "code",
      "metadata": {
        "id": "kttMtW4haOo1",
        "colab_type": "code",
        "colab": {
          "base_uri": "https://localhost:8080/",
          "height": 34
        },
        "outputId": "74671aed-ec50-4cdf-aa39-70c7eee5a667"
      },
      "source": [
        "from sklearn.metrics import precision_score\n",
        "precision = precision_score(y_test, y_pred)\n",
        "print(precision)"
      ],
      "execution_count": 7,
      "outputs": [
        {
          "output_type": "stream",
          "text": [
            "0.8285714285714286\n"
          ],
          "name": "stdout"
        }
      ]
    },
    {
      "cell_type": "markdown",
      "metadata": {
        "id": "zEXj97XnuQe2",
        "colab_type": "text"
      },
      "source": [
        "### 4. Recall Evaluation"
      ]
    },
    {
      "cell_type": "code",
      "metadata": {
        "id": "nQV30tenaw3I",
        "colab_type": "code",
        "colab": {
          "base_uri": "https://localhost:8080/",
          "height": 34
        },
        "outputId": "a86ade83-7f5e-4d74-f472-8264b26b83a8"
      },
      "source": [
        "from sklearn.metrics import recall_score\n",
        "recall = recall_score(y_test, y_pred)\n",
        "print(recall)"
      ],
      "execution_count": 8,
      "outputs": [
        {
          "output_type": "stream",
          "text": [
            "0.90625\n"
          ],
          "name": "stdout"
        }
      ]
    },
    {
      "cell_type": "markdown",
      "metadata": {
        "id": "UJzDOLeDuUTg",
        "colab_type": "text"
      },
      "source": [
        "### 5. F1-score Evaluation"
      ]
    },
    {
      "cell_type": "code",
      "metadata": {
        "id": "OA8xe-cGa83k",
        "colab_type": "code",
        "colab": {
          "base_uri": "https://localhost:8080/",
          "height": 34
        },
        "outputId": "9b91fa05-a76e-45d0-8959-93af0e5f60c0"
      },
      "source": [
        "from sklearn.metrics import f1_score\n",
        "f1 = f1_score(y_test, y_pred)\n",
        "print(f1)"
      ],
      "execution_count": 9,
      "outputs": [
        {
          "output_type": "stream",
          "text": [
            "0.8656716417910447\n"
          ],
          "name": "stdout"
        }
      ]
    },
    {
      "cell_type": "markdown",
      "metadata": {
        "id": "zEaj0rJZuY9w",
        "colab_type": "text"
      },
      "source": [
        "### 6. Specificity Evaluation"
      ]
    },
    {
      "cell_type": "code",
      "metadata": {
        "id": "o9K6ExPabTb8",
        "colab_type": "code",
        "colab": {
          "base_uri": "https://localhost:8080/",
          "height": 34
        },
        "outputId": "8a962db5-0e6a-4d34-c9d4-9c0f368cbb03"
      },
      "source": [
        "specificity = cm[1,1]/(cm[1,1]+cm[0,1])\n",
        "print(specificity)"
      ],
      "execution_count": 11,
      "outputs": [
        {
          "output_type": "stream",
          "text": [
            "0.8285714285714286\n"
          ],
          "name": "stdout"
        }
      ]
    },
    {
      "cell_type": "markdown",
      "metadata": {
        "id": "upoGLr6Xude1",
        "colab_type": "text"
      },
      "source": [
        "### 7. Logarithmic Loss Evaluation"
      ]
    },
    {
      "cell_type": "code",
      "metadata": {
        "id": "XnMQY7Yodh43",
        "colab_type": "code",
        "colab": {
          "base_uri": "https://localhost:8080/",
          "height": 34
        },
        "outputId": "01616469-3e20-4e1c-fb91-a6ea1ca067ee"
      },
      "source": [
        "from math import log\n",
        "\n",
        "# calculate binary cross entropy\n",
        "def binary_cross_entropy(actual, predicted):\n",
        "\tsum_score = 0.0\n",
        "\tfor i in range(len(actual)):\n",
        "\t\tsum_score += actual[i] * log(1e-15 + predicted[i])\n",
        "\tmean_sum_score = 1.0 / len(actual) * sum_score\n",
        "\treturn -mean_sum_score\n",
        " \n",
        "loss = binary_cross_entropy(y_test, y_pred)\n",
        "print(loss)\n",
        "\n"
      ],
      "execution_count": 19,
      "outputs": [
        {
          "output_type": "stream",
          "text": [
            "1.0361632918473205\n"
          ],
          "name": "stdout"
        }
      ]
    },
    {
      "cell_type": "markdown",
      "metadata": {
        "id": "FfZoGOjoukK4",
        "colab_type": "text"
      },
      "source": [
        "### 8. Area Under Curve (AUC) Evaluation"
      ]
    },
    {
      "cell_type": "code",
      "metadata": {
        "id": "3b_nUOCEbFWP",
        "colab_type": "code",
        "colab": {
          "base_uri": "https://localhost:8080/",
          "height": 282
        },
        "outputId": "b026a08e-4293-49c1-95ac-3a847fdc2eba"
      },
      "source": [
        "from sklearn.metrics import roc_auc_score\n",
        "from sklearn.metrics import roc_curve\n",
        "import matplotlib.pyplot as plt\n",
        "\n",
        "auc = roc_auc_score(y_test, y_pred)\n",
        "print(auc)\n",
        "\n",
        "fpr,tpr,threshold=roc_curve(y_test, y_pred)\n",
        "plt.plot([0,1],[0,1],linestyle=\"-\",label=\"Generalized Model Curve\")\n",
        "plt.plot(fpr,tpr,marker=\".\",label=\"ROC CURVE\")\n",
        "plt.legend()\n",
        "plt.show()"
      ],
      "execution_count": 17,
      "outputs": [
        {
          "output_type": "stream",
          "text": [
            "0.9090073529411765\n"
          ],
          "name": "stdout"
        },
        {
          "output_type": "display_data",
          "data": {
            "image/png": "[encoded data removed]",
            "text/plain": [
              "<Figure size 432x288 with 1 Axes>"
            ]
          },
          "metadata": {
            "tags": [],
            "needs_background": "light"
          }
        }
      ]
    }
  ]
}