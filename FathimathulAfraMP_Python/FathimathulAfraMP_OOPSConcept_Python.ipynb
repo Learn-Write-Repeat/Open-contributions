{
 "cells": [
  {
   "cell_type": "markdown",
   "metadata": {},
   "source": [
    "# Object Oriented Procedure (OOPS)"
   ]
  },
  {
   "cell_type": "code",
   "execution_count": 2,
   "metadata": {},
   "outputs": [
    {
     "data": {
      "text/plain": [
       "<__main__.per at 0x1fc2afd4550>"
      ]
     },
     "execution_count": 2,
     "metadata": {},
     "output_type": "execute_result"
    }
   ],
   "source": [
    "# components / attributes of class\n",
    "# default init function\n",
    "# __main__ : start exeution of program\n",
    "# exit code 0 is the successful execution code\n",
    "class per:\n",
    "    def __init__(self):\n",
    "        pass\n",
    "al =  per()\n",
    "al\n",
    "# OOPS Concept\n",
    "# 1. Inheritance\n",
    "# 2. Polymorphism\n",
    "# 3. Encapsulation\n",
    "# 4. Abstration"
   ]
  },
  {
   "cell_type": "code",
   "execution_count": 3,
   "metadata": {},
   "outputs": [],
   "source": [
    "# Inheritance\n",
    "class Person:\n",
    "    n = 90\n",
    "    def __init__(self,name, surname, year_of_birth):\n",
    "        self.namel = name\n",
    "        self.surname = surname\n",
    "        self.year_of_birth = year_of_birth\n",
    "        print(\"in init\")\n",
    "    def test(self):\n",
    "        print(\"hey\")"
   ]
  },
  {
   "cell_type": "code",
   "execution_count": 4,
   "metadata": {},
   "outputs": [
    {
     "name": "stdout",
     "output_type": "stream",
     "text": [
      "in init\n",
      "hey\n",
      "alex al was born on 1999\n"
     ]
    },
    {
     "data": {
      "text/plain": [
       "(90, 'alex')"
      ]
     },
     "execution_count": 4,
     "metadata": {},
     "output_type": "execute_result"
    }
   ],
   "source": [
    "alex = Person(\"alex\", \"al\", 1999)\n",
    "alex.test()\n",
    "print('%s %s was born on %d' % (alex.namel, alex.surname,  alex.year_of_birth))\n",
    "alex.n, alex.namel"
   ]
  },
  {
   "cell_type": "code",
   "execution_count": 5,
   "metadata": {},
   "outputs": [],
   "source": [
    "# self - points to the current object"
   ]
  },
  {
   "cell_type": "code",
   "execution_count": 6,
   "metadata": {},
   "outputs": [
    {
     "name": "stdout",
     "output_type": "stream",
     "text": [
      "Alec Baldwin was born in 1999 .\n",
      "21\n"
     ]
    }
   ],
   "source": [
    "# No private(varible with underscore) , public keyword\n",
    "# person attributes are name, surname, year_birth\n",
    "class Person: # read only this definition\n",
    "    def __init__(self_a, name, surname, year_birth): # leave the rest\n",
    "        self_a.name = name\n",
    "        self_a.surname = surname\n",
    "        self_a.year_birth = year_birth\n",
    "    def age(self_a, current_year):\n",
    "        return current_year - self_a.year_birth\n",
    "    def __str__(self_a):\n",
    "        return \"%s %s was born in %d .\" % (self_a.name, self_a.surname, self_a.year_birth)\n",
    "alec = Person (\"Alec\", \"Baldwin\", 1999) # statement that will get executed\n",
    "print(alec)\n",
    "print(alec.age(2020))"
   ]
  },
  {
   "cell_type": "markdown",
   "metadata": {},
   "source": [
    "## Inheritance \n",
    "python support multiple inheritance:\n",
    "#### Multiple inheritance\n",
    "class A: <br>\n",
    "   &nbsp; pass <br>\n",
    "class B: <br>\n",
    "   &nbsp; pass <br>\n",
    "class C: <br>\n",
    "  &nbsp;  pass <br>\n",
    "class D(A, B, C): <br>\n",
    "   &nbsp; pass <br>\n",
    "#### Multilevel inheritance <br>\n",
    "class A: <br>\n",
    "   &nbsp; pass <br>\n",
    "class B(A): <br>\n",
    "   &nbsp; pass <br>\n",
    "class C(B): <br>\n",
    "   &nbsp; pass <br>\n",
    "class D(C): <br>\n",
    "   &nbsp; pass <br>"
   ]
  },
  {
   "cell_type": "code",
   "execution_count": 7,
   "metadata": {},
   "outputs": [
    {
     "name": "stdout",
     "output_type": "stream",
     "text": [
      "ann Annie was born in 1997 .\n",
      "1\n",
      "2\n",
      "<class '__main__.Student'>\n",
      "True\n",
      "True\n",
      "False\n",
      "True\n"
     ]
    }
   ],
   "source": [
    "# Making use of predefined class in newly defined class Student \n",
    "# *args hold all the attributes of person\n",
    "# super point to parent class, self to identify which object we pointing to\n",
    "# object is default class which is super class of all class\n",
    "class Student(Person):\n",
    "    def __init__(self, student_id, *args):\n",
    "        super(Student, self).__init__(*args)\n",
    "        self._student_id = student_id\n",
    "charlie = Student(1, \"ann\", \"Annie\", 1997)\n",
    "charl = Person(\"ann\", \"Annie\", 1997)\n",
    "print(charlie)\n",
    "print(charlie._student_id)\n",
    "print(charlie.age(1999))\n",
    "print(type(charlie))\n",
    "print(isinstance(charlie, Person))\n",
    "print(isinstance(charlie, Student))\n",
    "print(isinstance(charl, Student))\n",
    "print(isinstance(charlie, object))"
   ]
  },
  {
   "cell_type": "code",
   "execution_count": 8,
   "metadata": {},
   "outputs": [],
   "source": [
    "# Multilevel inheritance\n",
    "class Person:\n",
    "    def __init__(self_a, name, surname, year_birth):\n",
    "        self_a.name = name\n",
    "        self_a.surname = surname\n",
    "        self_a.year_birth = year_birth\n",
    "    def age(self_a, current_year):\n",
    "        return current_year - self_a.year_birth\n",
    "    def __str__(self_a):\n",
    "        return \"%s %s was born in %d .\" % (self_a.name, self_a.surname, self_a.year_birth)\n",
    "class Student(Person):\n",
    "    def __init__(self, student_id, *args):\n",
    "        super(Student, self).__init__(*args)\n",
    "        self._student_id = student_id\n",
    "class abc(Student):\n",
    "    def __init__(self, name):\n",
    "        self.name = name"
   ]
  },
  {
   "cell_type": "code",
   "execution_count": 9,
   "metadata": {},
   "outputs": [
    {
     "data": {
      "text/plain": [
       "2"
      ]
     },
     "execution_count": 9,
     "metadata": {},
     "output_type": "execute_result"
    }
   ],
   "source": [
    "# Multiple Inheritance - not allowed in python\n",
    "class Person:\n",
    "    def __init__(self_a, name, surname, year_birth):\n",
    "        self_a.name = name\n",
    "        self_a.surname = surname\n",
    "        self_a.year_birth = year_birth\n",
    "    def age(self_a, current_year):\n",
    "        return current_year - self_a.year_birth\n",
    "    def __str__(self_a):\n",
    "        return \"%s %s was born in %d .\" % (self_a.name, self_a.surname, self_a.year_birth)\n",
    "class abc:\n",
    "    def __init__(self, ab):\n",
    "        print(\"Hello\")\n",
    "class Student(Person, abc):\n",
    "    def __init__(self, student_id, *args):\n",
    "        super().__init__(*args)\n",
    "        # or  -> Person.__init__(self, *args) # not a good practice \n",
    "        self._student_id = student_id\n",
    "c = Student('a','b',2000,2000)\n",
    "c.age(2002)"
   ]
  },
  {
   "cell_type": "code",
   "execution_count": 10,
   "metadata": {},
   "outputs": [
    {
     "data": {
      "text/plain": [
       "(1, 'Brown')"
      ]
     },
     "execution_count": 10,
     "metadata": {},
     "output_type": "execute_result"
    }
   ],
   "source": [
    "# *args - order is maintained and takes all parameters so should put as end argument, *kwargs (keyword args) - no order coz key value pair\n",
    "# use *args or *kwargs\n",
    "class Student(Person):\n",
    "    def __init__(self, student_id,  *kwargs):\n",
    "        super(Student,self).__init__( *kwargs)\n",
    "        self.student_id = student_id\n",
    "    def __str__(self):\n",
    "        return super(Student, self).__str__() + \"And has ID: %d\" % self.student_id\n",
    "charlie = Student(1, 'Charlie', 'Brown', 2005)\n",
    "charlie.student_id, charlie.surname"
   ]
  },
  {
   "cell_type": "markdown",
   "metadata": {},
   "source": [
    "## Overriding methods\n",
    "happens in different class , occur when inheritence is done, override the parent class"
   ]
  },
  {
   "cell_type": "code",
   "execution_count": 11,
   "metadata": {},
   "outputs": [
    {
     "name": "stdout",
     "output_type": "stream",
     "text": [
      "2020\n"
     ]
    }
   ],
   "source": [
    "class Student(Person):\n",
    "    def __init__(self, student_id, *args):\n",
    "        super(Student, self).__init__(*args)\n",
    "        self._student_id = student_id\n",
    "    def age(self, current_year):\n",
    "        print(current_year)\n",
    "    def __str__(self):\n",
    "        return super(Student, self).__str__() + \" n has id\" + self.student_id\n",
    "charlie = Student(1, \"ann\", \"Annie\", 1997)\n",
    "charlie.age(2020)"
   ]
  },
  {
   "cell_type": "markdown",
   "metadata": {},
   "source": [
    "## Encapsulation \n",
    "All code inside class \n",
    "features --within--> function --within--> class --within--> package --within--> project\n",
    "Two reason to use enapsulation -- composition and  dynamic extension\n",
    "\n",
    "## Polymorphism\n",
    "multiple behavior (Eg: function overloading, function override)\n",
    "\n",
    "## Abstraction\n",
    "internal implementation of code such that\n",
    "client should not be aware of the services in the application.\n",
    "Enduser interact with intermediate --> intermediate will further interact with service  class\n"
   ]
  },
  {
   "cell_type": "code",
   "execution_count": 12,
   "metadata": {},
   "outputs": [],
   "source": [
    "class Person:\n",
    "    pass      #  Do nothing just skip / return\n",
    "# __init__ -- private function can call out of the class "
   ]
  },
  {
   "cell_type": "markdown",
   "metadata": {},
   "source": [
    "If __init__ is implemented by us its overriding\n",
    "-- dynamic extension/lazy loading :\n",
    "at compile time - all variable take place in memory\n",
    "at execution time - assign variable (runtime bining /lazy/dynamic binding) i.e a = 3 (no need int)\n"
   ]
  },
  {
   "cell_type": "code",
   "execution_count": 29,
   "metadata": {},
   "outputs": [
    {
     "name": "stdout",
     "output_type": "stream",
     "text": [
      "ana abc id 1\n",
      "ana 23 id 4\n"
     ]
    }
   ],
   "source": [
    "class ab:\n",
    "    def __init__(self, a, b):\n",
    "        self.a =  a\n",
    "        self.b = b\n",
    "    def __str__(self):\n",
    "        return str(self.a) + str(self.b)\n",
    "class stu:\n",
    "    def __init__(self, ana, id):\n",
    "        self.ana = ana\n",
    "        self.id = id\n",
    "    def __str__(self):\n",
    "        return \"ana \" + str(self.ana) + \" id \" + str(self.id)\n",
    "ami = ab(2,3)\n",
    "al = stu(\"abc\", 1)\n",
    "ak = stu(ami, 4) # here ami is object; type of ana, id depends on the type of argument passed. \n",
    "print(al)\n",
    "print(ak)\n"
   ]
  },
  {
   "cell_type": "markdown",
   "metadata": {},
   "source": [
    "When a value is assigned to a variable --- place of the variable is allocated based on its assigned value whether its a float or integer.\n",
    "Dynamic typed -- no need to declare  a variable with datatype"
   ]
  },
  {
   "cell_type": "code",
   "execution_count": null,
   "metadata": {},
   "outputs": [],
   "source": []
  }
 ],
 "metadata": {
  "kernelspec": {
   "display_name": "Python 3",
   "language": "python",
   "name": "python3"
  },
  "language_info": {
   "codemirror_mode": {
    "name": "ipython",
    "version": 3
   },
   "file_extension": ".py",
   "mimetype": "text/x-python",
   "name": "python",
   "nbconvert_exporter": "python",
   "pygments_lexer": "ipython3",
   "version": "3.7.9"
  }
 },
 "nbformat": 4,
 "nbformat_minor": 2
}
