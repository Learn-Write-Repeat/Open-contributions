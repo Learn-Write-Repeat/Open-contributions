{
  "nbformat": 4,
  "nbformat_minor": 0,
  "metadata": {
    "colab": {
      "name": "Inziya_Dossa_SVM.ipynb",
      "provenance": [],
      "authorship_tag": "ABX9TyM8V9hUwozquvaDL5gfBbEn",
      "include_colab_link": true
    },
    "kernelspec": {
      "name": "python3",
      "display_name": "Python 3"
    }
  },
  "cells": [
    {
      "cell_type": "markdown",
      "metadata": {
        "id": "view-in-github",
        "colab_type": "text"
      },
      "source": [
        "<a href=\"https://colab.research.google.com/github/990InziyaD/Open-contributions/blob/master/Inziya_Dossa_SVM.ipynb\" target=\"_parent\"><img src=\"https://colab.research.google.com/assets/colab-badge.svg\" alt=\"Open In Colab\"/></a>"
      ]
    },
    {
      "cell_type": "markdown",
      "metadata": {
        "id": "r51luPaUSbYa",
        "colab_type": "text"
      },
      "source": [
        "# **Support Vector Machines Walkthrough**"
      ]
    },
    {
      "cell_type": "markdown",
      "metadata": {
        "id": "7lptotCxShpB",
        "colab_type": "text"
      },
      "source": [
        "We demonstrate a hands on working example of SVM Binary Classification on Iris Data using the Scikit-Learn built-in library"
      ]
    },
    {
      "cell_type": "code",
      "metadata": {
        "id": "kJ2V7S0pS9GO",
        "colab_type": "code",
        "colab": {}
      },
      "source": [
        "#Import the basic libraries\n",
        "import pandas as pd\n",
        "import numpy as np\n",
        "import matplotlib.pyplot as plt\n",
        "%matplotlib inline\n",
        "\n",
        "#Import Scikit-Learn Libraries:\n",
        "\n",
        "from sklearn import datasets    #stores the built-in iris dataset\n",
        "from sklearn.svm import SVC     #SVM Class\n",
        "from sklearn.metrics import accuracy_score    #for calculating the accuracy of the model\n",
        "from sklearn.utils import shuffle             #to shuffle the dataset\n",
        "from sklearn.model_selection import train_test_split    #split the dataset into training and test set"
      ],
      "execution_count": 8,
      "outputs": []
    },
    {
      "cell_type": "code",
      "metadata": {
        "id": "QGZY1ROtTB1g",
        "colab_type": "code",
        "colab": {
          "base_uri": "https://localhost:8080/",
          "height": 206
        },
        "outputId": "4874e9ca-68ba-4862-ccaf-032528de6b35"
      },
      "source": [
        "#Load the built-in iris dataset:\n",
        "iris = datasets.load_iris()\n",
        "\n",
        "#Convert into a dataframe:\n",
        "iris_df = pd.DataFrame(iris.data)\n",
        "\n",
        "#Give the dataframe its column names:\n",
        "iris_df.columns = iris.feature_names\n",
        "\n",
        "#Soecify the target class\n",
        "iris_df['CLASS'] = iris.target\n",
        "\n",
        "#Display the top rows of dataset to check everything is okay\n",
        "iris_df.head()\n"
      ],
      "execution_count": 9,
      "outputs": [
        {
          "output_type": "execute_result",
          "data": {
            "text/html": [
              "<div>\n",
              "<style scoped>\n",
              "    .dataframe tbody tr th:only-of-type {\n",
              "        vertical-align: middle;\n",
              "    }\n",
              "\n",
              "    .dataframe tbody tr th {\n",
              "        vertical-align: top;\n",
              "    }\n",
              "\n",
              "    .dataframe thead th {\n",
              "        text-align: right;\n",
              "    }\n",
              "</style>\n",
              "<table border=\"1\" class=\"dataframe\">\n",
              "  <thead>\n",
              "    <tr style=\"text-align: right;\">\n",
              "      <th></th>\n",
              "      <th>sepal length (cm)</th>\n",
              "      <th>sepal width (cm)</th>\n",
              "      <th>petal length (cm)</th>\n",
              "      <th>petal width (cm)</th>\n",
              "      <th>CLASS</th>\n",
              "    </tr>\n",
              "  </thead>\n",
              "  <tbody>\n",
              "    <tr>\n",
              "      <th>0</th>\n",
              "      <td>5.1</td>\n",
              "      <td>3.5</td>\n",
              "      <td>1.4</td>\n",
              "      <td>0.2</td>\n",
              "      <td>0</td>\n",
              "    </tr>\n",
              "    <tr>\n",
              "      <th>1</th>\n",
              "      <td>4.9</td>\n",
              "      <td>3.0</td>\n",
              "      <td>1.4</td>\n",
              "      <td>0.2</td>\n",
              "      <td>0</td>\n",
              "    </tr>\n",
              "    <tr>\n",
              "      <th>2</th>\n",
              "      <td>4.7</td>\n",
              "      <td>3.2</td>\n",
              "      <td>1.3</td>\n",
              "      <td>0.2</td>\n",
              "      <td>0</td>\n",
              "    </tr>\n",
              "    <tr>\n",
              "      <th>3</th>\n",
              "      <td>4.6</td>\n",
              "      <td>3.1</td>\n",
              "      <td>1.5</td>\n",
              "      <td>0.2</td>\n",
              "      <td>0</td>\n",
              "    </tr>\n",
              "    <tr>\n",
              "      <th>4</th>\n",
              "      <td>5.0</td>\n",
              "      <td>3.6</td>\n",
              "      <td>1.4</td>\n",
              "      <td>0.2</td>\n",
              "      <td>0</td>\n",
              "    </tr>\n",
              "  </tbody>\n",
              "</table>\n",
              "</div>"
            ],
            "text/plain": [
              "   sepal length (cm)  sepal width (cm)  ...  petal width (cm)  CLASS\n",
              "0                5.1               3.5  ...               0.2      0\n",
              "1                4.9               3.0  ...               0.2      0\n",
              "2                4.7               3.2  ...               0.2      0\n",
              "3                4.6               3.1  ...               0.2      0\n",
              "4                5.0               3.6  ...               0.2      0\n",
              "\n",
              "[5 rows x 5 columns]"
            ]
          },
          "metadata": {
            "tags": []
          },
          "execution_count": 9
        }
      ]
    },
    {
      "cell_type": "code",
      "metadata": {
        "id": "J1HXHqCRXKwh",
        "colab_type": "code",
        "colab": {}
      },
      "source": [
        "#Define our features(X) and target class(Y):\n",
        "#We demonstrate SVM for Binary Classification..\n",
        "\n",
        "X = iris_df[['sepal length (cm)','petal width (cm)']]\n",
        "Y = iris_df['CLASS']"
      ],
      "execution_count": 17,
      "outputs": []
    },
    {
      "cell_type": "code",
      "metadata": {
        "id": "rSInII0VUhiZ",
        "colab_type": "code",
        "colab": {}
      },
      "source": [
        "#Shuffle the dataset before training \n",
        "X, Y = shuffle(X,Y)\n",
        "\n",
        "#Split the dataset, 90% goes for the test set and remaining 10% for testing purposes:\n",
        "x_train, x_test, y_train, y_test = train_test_split(X, Y, train_size=0.9)"
      ],
      "execution_count": 18,
      "outputs": []
    },
    {
      "cell_type": "code",
      "metadata": {
        "id": "Cl-okRyzTV5g",
        "colab_type": "code",
        "colab": {
          "base_uri": "https://localhost:8080/",
          "height": 35
        },
        "outputId": "9e94f327-ddb2-4f2e-c81f-e6e4974ed06d"
      },
      "source": [
        "#Instantiate the SVM class for using the Linear Kernal\n",
        "#Linear Kernel is similar to the regression line, except it is used for classification not regression\n",
        "clf = SVC(kernel='linear')\n",
        "\n",
        "#Fit the data to the model:\n",
        "clf.fit(x_train,y_train)\n",
        "\n",
        "#Predict the classes for the test set\n",
        "y_pred = clf.predict(x_test)\n",
        "\n",
        "#print the model accuracy\n",
        "print(accuracy_score(y_test,y_pred))"
      ],
      "execution_count": 19,
      "outputs": [
        {
          "output_type": "stream",
          "text": [
            "0.9333333333333333\n"
          ],
          "name": "stdout"
        }
      ]
    }
  ]
}