{
 "metadata": {
  "language_info": {
   "codemirror_mode": {
    "name": "ipython",
    "version": 3
   },
   "file_extension": ".py",
   "mimetype": "text/x-python",
   "name": "python",
   "nbconvert_exporter": "python",
   "pygments_lexer": "ipython3",
   "version": "3.9.0"
  },
  "orig_nbformat": 4,
  "kernelspec": {
   "name": "python3",
   "display_name": "Python 3.9.0 64-bit"
  },
  "interpreter": {
   "hash": "61b8cd660cdffd3bdbe0d55b952bbc0d159fcf6e2f5056e00d85f47a3f649fcf"
  }
 },
 "nbformat": 4,
 "nbformat_minor": 2,
 "cells": [
  {
   "source": [
    "## Importing the libraries"
   ],
   "cell_type": "markdown",
   "metadata": {}
  },
  {
   "cell_type": "code",
   "execution_count": 3,
   "metadata": {},
   "outputs": [],
   "source": [
    "import numpy as np\n",
    "import cv2 as cv"
   ]
  },
  {
   "source": [
    "## Loading the Haar Cascade Classifier (xml) files and images"
   ],
   "cell_type": "markdown",
   "metadata": {}
  },
  {
   "cell_type": "code",
   "execution_count": null,
   "metadata": {},
   "outputs": [],
   "source": [
    "# Loading all the classifiers\n",
    "face_cascade = cv.CascadeClassifier('haarcascade_frontalface_default.xml')\n",
    "eye_cascade = cv.CascadeClassifier('haarcascade_eye.xml')\n",
    "fullbody_cascade = cv.CascadeClassifier('haarcascade_fullbody.xml')\n",
    "cars_cascade = cv.CascadeClassifier('cars.xml')\n",
    "bus_cascade = cv.CascadeClassifier('bus.xml')\n",
    "\n",
    "# Loading all the images\n",
    "img = cv.imread('face.jpg')\n",
    "body = cv.imread('body1.jpg')\n",
    "car = cv.imread('cars1.jpeg')"
   ]
  },
  {
   "source": [
    "## Defining object detection function"
   ],
   "cell_type": "markdown",
   "metadata": {}
  },
  {
   "cell_type": "code",
   "execution_count": null,
   "metadata": {},
   "outputs": [],
   "source": [
    "def object_detection(image, cascade, text, color = (255, 0, 0)):\n",
    "    \n",
    "    # Our operations on the frame come here\n",
    "    gray = cv.cvtColor(image, cv.COLOR_BGR2GRAY)\n",
    "    objects = cascade.detectMultiScale(gray, 1.3, 5)\n",
    "    for (x, y, w, h) in objects:\n",
    "        \n",
    "        # Draws rectangle around the objects\n",
    "        image = cv.rectangle(image, (x,y), (x+w , y+h), color, 2)\n",
    "        \n",
    "        # Display text on top of rectangle\n",
    "        cv.putText(image, text, (x, y-10), cv.FONT_HERSHEY_SIMPLEX, 0.9, color, 2)\n",
    "        \n",
    "    # Display the resulting frame\n",
    "    cv.imshow('img', image)"
   ]
  },
  {
   "source": [
    "## Face detection and Eye detection"
   ],
   "cell_type": "markdown",
   "metadata": {}
  },
  {
   "cell_type": "code",
   "execution_count": null,
   "metadata": {},
   "outputs": [],
   "source": [
    "# Detects the faces\n",
    "object_detection(img, face_cascade, 'face')\n",
    "cv.waitKey(0)\n",
    "# Closes the image window\n",
    "cv.destroyAllWindows()\n",
    "\n",
    "# Detects the eyes\n",
    "object_detection(img, eye_cascade, 'eye')\n",
    "cv.waitKey(0)\n",
    "# Closes the image window\n",
    "cv.destroyAllWindows()"
   ]
  },
  {
   "cell_type": "code",
   "execution_count": null,
   "metadata": {},
   "outputs": [],
   "source": [
    "cap = cv.VideoCapture(0)\n",
    "\n",
    "while(True):\n",
    "    # Capture frame-by-frame\n",
    "    ret, frame = cap.read()\n",
    "\n",
    "    # Our operations on the frame come here\n",
    "#     gray = cv.cvtColor(frame, cv.COLOR_BGR2GRAY)\n",
    "    \n",
    "#     faces = face_cascade.detectMultiScale(gray, 1.3, 5)\n",
    "#     for (x, y, w, h) in faces:\n",
    "#         frame = cv.rectangle(frame, (x,y), (x+w , y+h), (255, 0, 0), 2)\n",
    "#         roi_gray = gray[y:y+h, x:x+w]\n",
    "#         roi_color = frame[y:y+h, x:x+w]\n",
    "#         eyes = eye_cascade.detectMultiScale(roi_gray)\n",
    "#         for (ex, ey, ew, eh) in eyes:\n",
    "#             cv.rectangle(roi_color, (ex,ey), (ex+ew , ey+eh), (0, 255, 0), 2)\n",
    "\n",
    "#     # Display the resulting frame\n",
    "#     cv.imshow('frame', frame)\n",
    "\n",
    "    object_detection(frame, face_cascade, 'face')\n",
    "    # Waits for Q key to quit\n",
    "    if cv.waitKey(1) & 0xFF == ord('q'):\n",
    "        break\n",
    "\n",
    "# When everything done, release the capture\n",
    "cap.release()\n",
    "cv.destroyAllWindows()"
   ]
  },
  {
   "source": [
    "## Detection of Car"
   ],
   "cell_type": "markdown",
   "metadata": {}
  },
  {
   "cell_type": "code",
   "execution_count": null,
   "metadata": {},
   "outputs": [],
   "source": [
    "# Loads the video\n",
    "cap = cv.VideoCapture('cars.avi')\n",
    "\n",
    "while(True):\n",
    "    \n",
    "    # Capture frame-by-frame\n",
    "    ret, frame = cap.read()\n",
    "    \n",
    "    # Breaks at the end of video\n",
    "    if (type(frame) == type(None)):\n",
    "        break\n",
    "        \n",
    "    # Calls the object detection function\n",
    "    object_detection(frame, cars_cascade, 'car')\n",
    "    \n",
    "    if cv.waitKey(1) & 0xFF == ord('q'):\n",
    "        break\n",
    "\n",
    "# When everything done, release the capture\n",
    "cap.release()\n",
    "cv.destroyAllWindows()"
   ]
  },
  {
   "source": [
    "## Human Detection"
   ],
   "cell_type": "markdown",
   "metadata": {}
  },
  {
   "cell_type": "code",
   "execution_count": null,
   "metadata": {},
   "outputs": [],
   "source": [
    "# Loads the video\n",
    "cap = cv.VideoCapture('pedestrians.avi')\n",
    "\n",
    "while(True):\n",
    "    \n",
    "    # Capture frame-by-frame\n",
    "    ret, frame = cap.read()\n",
    "    \n",
    "    # Breaks at the end of video\n",
    "    if (type(frame) == type(None)):\n",
    "        break\n",
    "        \n",
    "    # Calls the object detection function\n",
    "    object_detection(frame, fullbody_cascade, 'human')\n",
    "    \n",
    "    if cv.waitKey(1) & 0xFF == ord('q'):\n",
    "        break\n",
    "\n",
    "# When everything done, release the capture\n",
    "cap.release()\n",
    "cv.destroyAllWindows()"
   ]
  },
  {
   "source": [
    "## Bus Detection"
   ],
   "cell_type": "markdown",
   "metadata": {}
  },
  {
   "cell_type": "code",
   "execution_count": null,
   "metadata": {},
   "outputs": [],
   "source": [
    "# Loads the video\n",
    "cap = cv.VideoCapture('bus1.mp4')\n",
    "\n",
    "while(True):\n",
    "    \n",
    "    # Capture frame-by-frame\n",
    "    ret, frame = cap.read()\n",
    "    \n",
    "    # Breaks at the end of video\n",
    "    if (type(frame) == type(None)):\n",
    "        break\n",
    "        \n",
    "    # Calls the object detection function\n",
    "    object_detection(frame, bus_cascade, 'bus')\n",
    "    \n",
    "    if cv.waitKey(1) & 0xFF == ord('q'):\n",
    "        break\n",
    "\n",
    "# When everything done, release the capture\n",
    "cap.release()\n",
    "cv.destroyAllWindows()"
   ]
  }
 ]
}