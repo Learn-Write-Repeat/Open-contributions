{
 "cells": [
  {
   "cell_type": "markdown",
   "metadata": {},
   "source": [
    "# We will Learn Dictionary Practical"
   ]
  },
  {
   "cell_type": "code",
   "execution_count": 1,
   "metadata": {},
   "outputs": [
    {
     "name": "stdout",
     "output_type": "stream",
     "text": [
      "{1: 'first', 2: 'second', 3: 'third'}\n"
     ]
    }
   ],
   "source": [
    "# Creating Dictionary\n",
    "\n",
    "dict1 = {\n",
    "    1:'first',\n",
    "    2:'second',\n",
    "    3:'third'\n",
    "}\n",
    "\n",
    "print(dict1)"
   ]
  },
  {
   "cell_type": "code",
   "execution_count": 2,
   "metadata": {},
   "outputs": [
    {
     "name": "stdout",
     "output_type": "stream",
     "text": [
      "Delhi\n"
     ]
    }
   ],
   "source": [
    "# Accessing Dictionary\n",
    "\n",
    "dict1 = {\n",
    "    \"city\":\"Delhi\",\n",
    "    \"countary\":\"India\"\n",
    "}\n",
    "\n",
    "print(dict1[\"city\"])"
   ]
  },
  {
   "cell_type": "code",
   "execution_count": 5,
   "metadata": {},
   "outputs": [
    {
     "name": "stdout",
     "output_type": "stream",
     "text": [
      "{'fruit': 'Grapes', 'season': 'Winter', 'month': 'January'}\n",
      "{'fruit': 'Grapes', 'season': 'Winter', 'month': 'January', 'taste': 'Sweet'}\n"
     ]
    }
   ],
   "source": [
    "# Changing & Adding item to Dictionary\n",
    "\n",
    "dict1 = {\n",
    "    \"fruit\":\"Grapes\",\n",
    "    \"season\":\"Winter\",\n",
    "    \"month\":\"December\"\n",
    "}\n",
    "\n",
    "#changing\n",
    "dict1[\"month\"] = \"January\"\n",
    "print(dict1)\n",
    "\n",
    "#adding\n",
    "dict1[\"taste\"] = \"Sweet\"\n",
    "print(dict1)"
   ]
  },
  {
   "cell_type": "markdown",
   "metadata": {},
   "source": [
    "## Remove in Dictionary"
   ]
  },
  {
   "cell_type": "code",
   "execution_count": 8,
   "metadata": {},
   "outputs": [
    {
     "name": "stdout",
     "output_type": "stream",
     "text": [
      "{'fruit': 'Grapes', 'month': 'December', 'taste': 'sweet'}\n"
     ]
    }
   ],
   "source": [
    "#pop() method removes the item with the specified key name\n",
    "\n",
    "dict1 = {\n",
    "    \"fruit\":\"Grapes\",\n",
    "    \"season\":\"Winter\",\n",
    "    \"month\":\"December\",\n",
    "    \"taste\":\"sweet\"\n",
    "}\n",
    "\n",
    "dict1.pop(\"season\")\n",
    "print(dict1)"
   ]
  },
  {
   "cell_type": "code",
   "execution_count": 7,
   "metadata": {},
   "outputs": [
    {
     "name": "stdout",
     "output_type": "stream",
     "text": [
      "{'fruit': 'Grapes', 'season': 'Winter', 'month': 'December'}\n"
     ]
    }
   ],
   "source": [
    "#popitem() method removes the last inserted item\n",
    "dict1 = {\n",
    "    \"fruit\":\"Grapes\",\n",
    "    \"season\":\"Winter\",\n",
    "    \"month\":\"December\",\n",
    "    \"taste\":\"sweet\"\n",
    "}\n",
    "\n",
    "dict1.popitem()\n",
    "print(dict1)\n"
   ]
  },
  {
   "cell_type": "code",
   "execution_count": 10,
   "metadata": {},
   "outputs": [
    {
     "ename": "NameError",
     "evalue": "name 'dict1' is not defined",
     "output_type": "error",
     "traceback": [
      "\u001b[1;31m---------------------------------------------------------------------------\u001b[0m",
      "\u001b[1;31mNameError\u001b[0m                                 Traceback (most recent call last)",
      "\u001b[1;32m<ipython-input-10-43ae98572250>\u001b[0m in \u001b[0;36m<module>\u001b[1;34m\u001b[0m\n\u001b[0;32m      8\u001b[0m \u001b[1;32mdel\u001b[0m \u001b[0mdict1\u001b[0m\u001b[1;33m\u001b[0m\u001b[1;33m\u001b[0m\u001b[0m\n\u001b[0;32m      9\u001b[0m \u001b[1;31m# it will give an error because dictionary is not present after this\u001b[0m\u001b[1;33m\u001b[0m\u001b[1;33m\u001b[0m\u001b[1;33m\u001b[0m\u001b[0m\n\u001b[1;32m---> 10\u001b[1;33m \u001b[0mprint\u001b[0m\u001b[1;33m(\u001b[0m\u001b[0mdict1\u001b[0m\u001b[1;33m)\u001b[0m\u001b[1;33m\u001b[0m\u001b[1;33m\u001b[0m\u001b[0m\n\u001b[0m",
      "\u001b[1;31mNameError\u001b[0m: name 'dict1' is not defined"
     ]
    }
   ],
   "source": [
    "dict1 = {\n",
    "    \"fruit\":\"Grapes\",\n",
    "    \"season\":\"Winter\",\n",
    "    \"month\":\"December\",\n",
    "    \"taste\":\"sweet\"\n",
    "}\n",
    "\n",
    "del dict1\n",
    "# it will give an error because dictionary is not present after this\n",
    "print(dict1)"
   ]
  },
  {
   "cell_type": "code",
   "execution_count": 11,
   "metadata": {},
   "outputs": [
    {
     "name": "stdout",
     "output_type": "stream",
     "text": [
      "{}\n"
     ]
    }
   ],
   "source": [
    "dict1 = {\n",
    "    \"fruit\":\"Grapes\",\n",
    "    \"season\":\"Winter\",\n",
    "    \"month\":\"December\",\n",
    "    \"taste\":\"sweet\"\n",
    "}\n",
    "\n",
    "dict1.clear() #it will give empty dictionary\n",
    "print(dict1)"
   ]
  }
 ],
 "metadata": {
  "kernelspec": {
   "display_name": "Python 3",
   "language": "python",
   "name": "python3"
  },
  "language_info": {
   "codemirror_mode": {
    "name": "ipython",
    "version": 3
   },
   "file_extension": ".py",
   "mimetype": "text/x-python",
   "name": "python",
   "nbconvert_exporter": "python",
   "pygments_lexer": "ipython3",
   "version": "3.8.3"
  }
 },
 "nbformat": 4,
 "nbformat_minor": 4
}
