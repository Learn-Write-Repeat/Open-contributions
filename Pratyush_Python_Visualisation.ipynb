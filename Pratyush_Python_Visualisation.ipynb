{
 "cells": [
  {
   "cell_type": "code",
   "execution_count": 11,
   "metadata": {},
   "outputs": [
    {
     "name": "stdout",
     "output_type": "stream",
     "text": [
      "Press '1' for population analysis of a country\n",
      "Press '2' for population graph comparision between two countries\n",
      " \n",
      "Enter Choice:1\n",
      "Enter Name of the Country:india\n"
     ]
    },
    {
     "data": {
      "image/png": "[encoded data removed]",
      "text/plain": [
       "<Figure size 432x288 with 1 Axes>"
      ]
     },
     "metadata": {
      "needs_background": "light"
     },
     "output_type": "display_data"
    },
    {
     "name": "stdout",
     "output_type": "stream",
     "text": [
      "    country  year  population\n",
      "696   India  1952   372000000\n",
      "697   India  1957   409000000\n",
      "698   India  1962   454000000\n",
      "699   India  1967   506000000\n",
      "700   India  1972   567000000\n",
      "701   India  1977   634000000\n",
      "702   India  1982   708000000\n",
      "703   India  1987   788000000\n",
      "704   India  1992   872000000\n",
      "705   India  1997   959000000\n",
      "706   India  2002  1034172547\n",
      "707   India  2007  1110396331\n"
     ]
    }
   ],
   "source": [
    "import pandas as pd\n",
    "from matplotlib import pyplot as plt\n",
    "\n",
    "\n",
    "print(\"Press '1' for population analysis of a country\")\n",
    "print(\"Press '2' for population graph comparision between two countries\")\n",
    "print(\" \")\n",
    "choice=input(\"Enter Choice:\")\n",
    "if choice=='1':\n",
    "    name=input(\"Enter Name of the Country:\")\n",
    "    namelst=name.split(' ')\n",
    "    if len(namelst)==1:\n",
    "        place=str(namelst[0].capitalize())\n",
    "    elif len(namelst)==2:\n",
    "        place=str(namelst[0].capitalize()+' '+namelst[1].capitalize())\n",
    "        \n",
    "    #analysing and visualising\n",
    "    data=pd.read_csv(\"countries.csv\")\n",
    "    x=data[data.country==place]\n",
    "    #visual analysis\n",
    "    plt.plot(x.year,x.population/(10**6))\n",
    "    plt.xlabel(\"Year\")\n",
    "    plt.ylabel(\"Population (Millions)\")\n",
    "    plt.legend([place])\n",
    "    plt.show()\n",
    "    \n",
    "    #data\n",
    "    print(x)\n",
    "\n",
    "elif choice=='2':\n",
    "    name1=input(\"Enter Name of 1st Country:\")\n",
    "    name2=input(\"Enter Name of 2nd Country:\")\n",
    "    namelst1=name1.split(' ')\n",
    "    namelast2=name2.split(' ')\n",
    "    if len(namelst1)==1:\n",
    "        place1=str(namelst1[0].capitalize())\n",
    "    elif len(namelst1)==2:\n",
    "        place1=str(namelst1[0].capitalize()+' '+namelst1[1].capitalize())\n",
    "    \n",
    "    namelst2=name2.split(' ')\n",
    "    if len(namelst2)==1:\n",
    "        place2=str(namelst2[0].capitalize())\n",
    "    elif len(namelst2)==2:\n",
    "        place2=str(namelst2[0].capitalize()+' '+namelst2[1].capitalize())\n",
    "    \n",
    "    #analysing and visualising\n",
    "    data=pd.read_csv(\"countries.csv\")\n",
    "    a=data[data.country==place1]\n",
    "    b=data[data.country==place2]\n",
    "    #visual analysis\n",
    "    plt.plot(a.year,a.population/(10**6))\n",
    "    plt.plot(b.year,b.population/(10**6))\n",
    "    plt.xlabel(\"Year\")\n",
    "    plt.ylabel(\"Population (Millions)\")\n",
    "    plt.legend([place1,place2])\n",
    "    plt.show()\n",
    "    \n",
    "else:\n",
    "    print(\"Enter Valid Input!!\")\n",
    "    "
   ]
  },
  {
   "cell_type": "code",
   "execution_count": null,
   "metadata": {},
   "outputs": [],
   "source": []
  }
 ],
 "metadata": {
  "kernelspec": {
   "display_name": "Python 3",
   "language": "python",
   "name": "python3"
  },
  "language_info": {
   "codemirror_mode": {
    "name": "ipython",
    "version": 3
   },
   "file_extension": ".py",
   "mimetype": "text/x-python",
   "name": "python",
   "nbconvert_exporter": "python",
   "pygments_lexer": "ipython3",
   "version": "3.7.6"
  }
 },
 "nbformat": 4,
 "nbformat_minor": 4
}
