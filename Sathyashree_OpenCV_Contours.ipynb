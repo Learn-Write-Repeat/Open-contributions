{
 "cells": [
  {
   "cell_type": "markdown",
   "metadata": {},
   "source": [
    "## Contours"
   ]
  },
  {
   "cell_type": "markdown",
   "metadata": {},
   "source": [
    "**Displaying Contours of an image**\n",
    "\n",
    "*Read and store the image*\n",
    "\n",
    "*Obtain the HSV image or Grayscale image of the loaded image*\n",
    "\n",
    "*Obtain the contoural edges of the image*\n",
    "\n",
    "*Find the contoural points*\n",
    "\n",
    "***Draw the contour of the image***"
   ]
  },
  {
   "cell_type": "code",
   "execution_count": 2,
   "metadata": {},
   "outputs": [],
   "source": [
    "#Import cv2 and numpy libraries\n",
    "import cv2\n",
    "import numpy as np"
   ]
  },
  {
   "cell_type": "code",
   "execution_count": 48,
   "metadata": {},
   "outputs": [],
   "source": [
    "#Read and load the image to a variable\n",
    "img = cv2.imread('extras/6_squares')"
   ]
  },
  {
   "cell_type": "code",
   "execution_count": 49,
   "metadata": {},
   "outputs": [],
   "source": [
    "#Convert the image to HSV\n",
    "hsv = cv2.cvtColor(img , cv2.COLOR_BGR2HSV)"
   ]
  },
  {
   "cell_type": "code",
   "execution_count": 50,
   "metadata": {},
   "outputs": [],
   "source": [
    "#Find the contoural edges in the image\n",
    "cedges = cv2.Canny(hsv , 30 , 200)"
   ]
  },
  {
   "cell_type": "code",
   "execution_count": 51,
   "metadata": {},
   "outputs": [
    {
     "data": {
      "text/plain": [
       "-1"
      ]
     },
     "execution_count": 51,
     "metadata": {},
     "output_type": "execute_result"
    }
   ],
   "source": [
    "#Display the image of edges\n",
    "cv2.imshow(\"Edged Image\" , cedges)\n",
    "cv2.waitKey(0)"
   ]
  },
  {
   "cell_type": "code",
   "execution_count": 52,
   "metadata": {},
   "outputs": [],
   "source": [
    "#Find the contoural points of the edges\n",
    "contours , heirarchy = cv2.findContours(cedges , cv2.RETR_EXTERNAL , cv2.CHAIN_APPROX_NONE)"
   ]
  },
  {
   "cell_type": "code",
   "execution_count": 55,
   "metadata": {},
   "outputs": [
    {
     "data": {
      "text/plain": [
       "-1"
      ]
     },
     "execution_count": 55,
     "metadata": {},
     "output_type": "execute_result"
    }
   ],
   "source": [
    "#Draw the contours\n",
    "cv2.drawContours(img , contours , -1 , (0 , 255 , 0) , 3)\n",
    "cv2.waitKey(0)"
   ]
  },
  {
   "cell_type": "code",
   "execution_count": 56,
   "metadata": {},
   "outputs": [
    {
     "data": {
      "text/plain": [
       "-1"
      ]
     },
     "execution_count": 56,
     "metadata": {},
     "output_type": "execute_result"
    }
   ],
   "source": [
    "cv2.imshow('Contours' , img)\n",
    "cv2.waitKey(0)\n",
    "#Destroy all windows\n",
    "cv2.destroyAllWindows()"
   ]
  },
  {
   "cell_type": "markdown",
   "metadata": {},
   "source": [
    "**Displaying contours of a video of the webcam**\n",
    "\n",
    "*Activate the webcam*\n",
    "\n",
    "*Extract individual frames*\n",
    "\n",
    "*Convert frames to either hsv or grayscale*\n",
    "\n",
    "*Obtain the contoural edges of the image*\n",
    "\n",
    "*Find the contoural points*\n",
    "\n",
    "*If area of the contoural area is greater than a threshold, draw the contours*\n",
    "\n",
    "***Draw the contour of individual frames so that it results in the contours of the video***\n",
    "\n",
    "*Release the capture*\n"
   ]
  },
  {
   "cell_type": "code",
   "execution_count": 1,
   "metadata": {},
   "outputs": [],
   "source": [
    "#Import cv2 and numpy libraries\n",
    "import cv2\n",
    "import numpy as np"
   ]
  },
  {
   "cell_type": "code",
   "execution_count": 5,
   "metadata": {},
   "outputs": [],
   "source": [
    "#Video through the webcam\n",
    "cap = cv2.VideoCapture(0)\n",
    "\n",
    "while True:\n",
    "    #Capture the frames from the video\n",
    "    ret , frame = cap.read()\n",
    "    #Convert each frame to hsv\n",
    "    hsv = cv2.cvtColor(frame , cv2.COLOR_BGR2HSV)\n",
    "    #Find the contoural edges in the image\n",
    "    cedges = cv2.Canny(hsv , 30 , 200)\n",
    "    #Obtain the contours\n",
    "    contours , heirarchy = cv2.findContours(cedges , cv2.RETR_EXTERNAL , cv2.CHAIN_APPROX_NONE)\n",
    "    #Iterate over each contour co-ordinate\n",
    "    for contour in contours:\n",
    "        #Find the area of the contour\n",
    "        area = cv2.contourArea(contour)\n",
    "        #Take into consideration the contour only if the area is greater than 850 so that noises are rejected\n",
    "        if area > 850:\n",
    "            cv2.drawContours(frame , contours , -1 , (0 , 255 , 0) , 3)\n",
    "    #Display contour of the frame that is captured\n",
    "    cv2.imshow(\"Contours\" , frame)\n",
    "    #Wait for user to press 'q'\n",
    "    if cv2.waitKey(1) & 0xFF == ord('q'):\n",
    "        #break the loop for displaying frames\n",
    "        break\n",
    "#Stop capturing\n",
    "cap.release()\n",
    "#Destroy all windows\n",
    "cv2.destroyAllWindows()"
   ]
  }
 ],
 "metadata": {
  "kernelspec": {
   "display_name": "Python 3",
   "language": "python",
   "name": "python3"
  },
  "language_info": {
   "codemirror_mode": {
    "name": "ipython",
    "version": 3
   },
   "file_extension": ".py",
   "mimetype": "text/x-python",
   "name": "python",
   "nbconvert_exporter": "python",
   "pygments_lexer": "ipython3",
   "version": "3.7.3"
  }
 },
 "nbformat": 4,
 "nbformat_minor": 2
}
