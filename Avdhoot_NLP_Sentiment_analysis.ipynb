{
  "nbformat": 4,
  "nbformat_minor": 0,
  "metadata": {
    "colab": {
      "name": "Avdhoot_NLP_Sentiment_analysis.ipynb",
      "provenance": [],
      "collapsed_sections": []
    },
    "kernelspec": {
      "name": "python3",
      "display_name": "Python 3"
    }
  },
  "cells": [
    {
      "cell_type": "markdown",
      "metadata": {
        "id": "S6jS38oi1oGT",
        "colab_type": "text"
      },
      "source": [
        "### SENTIMENT ANALYSIS USING NLP APPROACH TO DETECT SARCASM"
      ]
    },
    {
      "cell_type": "markdown",
      "metadata": {
        "id": "5xnaspFA1-Zq",
        "colab_type": "text"
      },
      "source": [
        "**Import all the required libraries.**"
      ]
    },
    {
      "cell_type": "code",
      "metadata": {
        "id": "krw_ztl-1mqp",
        "colab_type": "code",
        "colab": {}
      },
      "source": [
        "import tensorflow as tf\n",
        "from tensorflow import keras\n",
        "from tensorflow.keras.preprocessing.text import Tokenizer\n",
        "from tensorflow.keras.preprocessing.sequence import pad_sequences\n",
        "import json\n",
        "import numpy as np\n",
        "import matplotlib.pyplot as plt"
      ],
      "execution_count": 16,
      "outputs": []
    },
    {
      "cell_type": "markdown",
      "metadata": {
        "id": "F_cKehOu8Xgy",
        "colab_type": "text"
      },
      "source": [
        "**Let's load the data**\n",
        "<br> You can download this dataset from this [kaggle link](https://www.kaggle.com/rmisra/news-headlines-dataset-for-sarcasm-detection) or the way I've done it here.\n",
        "<br>This dataset is in json file so we need to get the data out of it first before we proceed to sentiment analysis"
      ]
    },
    {
      "cell_type": "code",
      "metadata": {
        "id": "V-IEYuwG8Vuk",
        "colab_type": "code",
        "colab": {}
      },
      "source": [
        "#creating empty lists to store the data items from the dataset\n",
        "sentences = []\n",
        "labels = [] \n",
        "urls = []\n",
        "\n",
        "link = \"https://raw.githubusercontent.com/rishabhmisra/News-Headlines-Dataset-For-Sarcasm-Detection/master/Sarcasm_Headlines_Dataset.json\"\n",
        "#This function will yeild data from  the json file by reading through it\n",
        "def parse_data(link):\n",
        "    for l in open(link,'r'):\n",
        "        yield json.loads(l)\n",
        "\n",
        "#this line will parse the yeilded json data so that we can further use it to process\n",
        "data = parse_data('Sarcasm_Headlines_Dataset.json')\n",
        "\n",
        "#looping through the data parsed above and appending into the python arrays created\n",
        "for item in data:\n",
        "  sentences.append(item['headline'])\n",
        "  labels.append(item['is_sarcastic'])\n",
        "  urls.append(item['article_link'])"
      ],
      "execution_count": 17,
      "outputs": []
    },
    {
      "cell_type": "code",
      "metadata": {
        "id": "pPphRgmz9JO2",
        "colab_type": "code",
        "colab": {}
      },
      "source": [
        "\n",
        "#defining the parameters for our model to build, in future if needed to change we can do it from here\n",
        "vocab_size = 10000\n",
        "embedding_dimension = 16\n",
        "max_length = 100\n",
        "trunc_type = 'post'\n",
        "padding_type = 'post'             \n",
        "oov_tok = '<OOV>'                  \n",
        "training_size = 20000\n",
        "\n",
        "#Training & Testing sentences\n",
        "training_sentences = sentences[0:training_size]\n",
        "testing_sentences = sentences[training_size:]\n",
        "\n",
        "#Training & Testing labels\n",
        "training_labels = labels[0:training_size]\n",
        "testing_labels = labels[training_size:]\n"
      ],
      "execution_count": 18,
      "outputs": []
    },
    {
      "cell_type": "markdown",
      "metadata": {
        "id": "i0DmFHFujFOL",
        "colab_type": "text"
      },
      "source": [
        "# Pre-process the data for training a neural network"
      ]
    },
    {
      "cell_type": "markdown",
      "metadata": {
        "id": "r_cRGFGZ2dLA",
        "colab_type": "text"
      },
      "source": [
        "\n",
        "\n",
        "In this we step of pre-processing we do these steps:-\n",
        "- **Tokenize** the text. [**Tokenizer class** allows to vectorize a text corpus, by turning each text into either a sequence of integers (each integer being the index of a token in a dictionary) or into a vector where the coefficient for each token could be binary, based on word count]<br>\n",
        "- Then use **fit_on_texts** function to fit the vocabulary size of the training sentences\n",
        "- Then create **sequences** of the tokens created in the previous step and outputs a python array of numberes with sequences of the tokens that represent the sentence numnerically in our defined way.\n",
        "- Then **pad** the sequences with zeros incase any sequence is short, as it may happen because all sentences are not of the same size.\n"
      ]
    },
    {
      "cell_type": "code",
      "metadata": {
        "colab_type": "code",
        "id": "3u8UB0MCkZ5N",
        "colab": {}
      },
      "source": [
        " # OOV tokens are the out-of-vocabulary words which could be encountered during tokenization\n",
        "tokenizer = Tokenizer(num_words=vocab_size, oov_token=oov_tok)  \n",
        "\n",
        "#this will fit the text with num_words on input sentences\n",
        "tokenizer.fit_on_texts(training_sentences)\n",
        "\n",
        "#this will create a word index dictionary of indexing of tokens.\n",
        "word_index = tokenizer.word_index\n",
        "\n",
        "#this creates sequences of tokens and outputs a python array with sequences of tokens repersenting the sentence\n",
        "training_sequences = tokenizer.texts_to_sequences(training_sentences)\n",
        "\n",
        "#this will padd the sequences with zero who has a short sequences\n",
        "training_padded = pad_sequences(training_sequences, maxlen=max_length, padding=padding_type, truncating=trunc_type)  \n",
        "\n",
        "\n",
        "#this creates sequences of tokens and outputs a python array with sequences of tokens repersenting the sentence\n",
        "testing_sequences = tokenizer.texts_to_sequences(testing_sentences)\n",
        "\n",
        "#this will padd the sequences with zero who has a short sequences\n",
        "testing_padded = pad_sequences(testing_sequences, maxlen=max_length, padding=padding_type, truncating=trunc_type)"
      ],
      "execution_count": 40,
      "outputs": []
    },
    {
      "cell_type": "markdown",
      "metadata": {
        "id": "e3OyTpWbkkv8",
        "colab_type": "text"
      },
      "source": [
        "Next step of pre-processing is the final step in this we just convert the test & train sequences to numpy array in order to feede them to our neural network."
      ]
    },
    {
      "cell_type": "code",
      "metadata": {
        "id": "PDMScpcLGE_p",
        "colab_type": "code",
        "colab": {}
      },
      "source": [
        "training_padded = np.array(training_padded)\n",
        "training_labels = np.array(training_labels)\n",
        "testing_padded = np.array(testing_padded)\n",
        "testing_labels = np.array(testing_labels)"
      ],
      "execution_count": 41,
      "outputs": []
    },
    {
      "cell_type": "markdown",
      "metadata": {
        "id": "7D0-p8TJjcgA",
        "colab_type": "text"
      },
      "source": [
        "# Build the model"
      ]
    },
    {
      "cell_type": "markdown",
      "metadata": {
        "id": "9sU0fp3DnvNF",
        "colab_type": "text"
      },
      "source": [
        "Building a neural network is the most interesting thing and also boring at the same time. \n",
        "In this we will use the layers as follows:\n",
        "- **Embedding layer:** Turns positive integers (indexes) into dense vectors of fixed size.\n",
        "e.g. [[4], [20]] -> [[0.25, 0.1], [0.6, -0.2]].\n",
        "This layer can only be used as the first layer in a model.\n",
        "- **GlobalAveragePooling1D**\n",
        "- **Dense layer:** Just your regular densely-connected NN layer.Ie've used 24 units here, you can play around by trying to add more dense layers\n",
        "Dense implements the operation: output = activation(dot(input, kernel) + bias) where activation is the element-wise activation function passed as the activation argument, kernel is a weights matrix created by the layer, and bias is a bias vector created by the layer (only applicable if use_bias is True).\n",
        "- **Dense layer** - This is a final layer with only one unit as it is the ouput layer of the entire neural network and here we've used sigmoid activation function as sigmiod function gives better realistic values than relu  between 0 to 1."
      ]
    },
    {
      "cell_type": "code",
      "metadata": {
        "id": "JOCYsXMGGVrk",
        "colab_type": "code",
        "colab": {}
      },
      "source": [
        "model = tf.keras.Sequential([\n",
        "                             tf.keras.layers.Embedding(vocab_size,embedding_dimension,\n",
        "                                                       input_length=max_length),\n",
        "                             tf.keras.layers.GlobalAveragePooling1D(),\n",
        "                             tf.keras.layers.Dense(24,activation='relu'),\n",
        "                             tf.keras.layers.Dense(1,activation='sigmoid')\n",
        "])\n",
        "model.compile(loss='binary_crossentropy',optimizer='adam',metrics=['accuracy'])"
      ],
      "execution_count": 42,
      "outputs": []
    },
    {
      "cell_type": "code",
      "metadata": {
        "id": "QmuhGv-YG5Ws",
        "colab_type": "code",
        "colab": {
          "base_uri": "https://localhost:8080/",
          "height": 289
        },
        "outputId": "ec5f311e-1ac2-4e16-e652-f414b14f1653"
      },
      "source": [
        "model.summary()"
      ],
      "execution_count": 22,
      "outputs": [
        {
          "output_type": "stream",
          "text": [
            "Model: \"sequential_1\"\n",
            "_________________________________________________________________\n",
            "Layer (type)                 Output Shape              Param #   \n",
            "=================================================================\n",
            "embedding_1 (Embedding)      (None, 100, 16)           160000    \n",
            "_________________________________________________________________\n",
            "global_average_pooling1d_1 ( (None, 16)                0         \n",
            "_________________________________________________________________\n",
            "dense_2 (Dense)              (None, 24)                408       \n",
            "_________________________________________________________________\n",
            "dense_3 (Dense)              (None, 1)                 25        \n",
            "=================================================================\n",
            "Total params: 160,433\n",
            "Trainable params: 160,433\n",
            "Non-trainable params: 0\n",
            "_________________________________________________________________\n"
          ],
          "name": "stdout"
        }
      ]
    },
    {
      "cell_type": "markdown",
      "metadata": {
        "id": "5Bs2VZr4jtwg",
        "colab_type": "text"
      },
      "source": [
        "# Train the model"
      ]
    },
    {
      "cell_type": "markdown",
      "metadata": {
        "id": "8odj4D8tth5M",
        "colab_type": "text"
      },
      "source": [
        "Training your model will finally make the neural network work in action and after training we can then use it to predict new unseen values.<br>\n",
        "**This is how the basic neural network computation works**\n",
        "- Take input\n",
        "- Forwarad propogate\n",
        "- Predict values\n",
        "- Calculate loss/error\n",
        "- Back Propogate\n",
        "\n",
        "<img src = \"https://miro.medium.com/proxy/1*mTTmfdMcFlPtyu8__vRHOQ.gif\" height=400 width =600>"
      ]
    },
    {
      "cell_type": "code",
      "metadata": {
        "id": "cWtcKYguKpvG",
        "colab_type": "code",
        "colab": {
          "base_uri": "https://localhost:8080/",
          "height": 1000
        },
        "outputId": "e0adbdde-a8c0-4959-df22-ed54f908b64c"
      },
      "source": [
        "history = model.fit(training_padded, training_labels, epochs = 30,validation_data=(testing_padded,testing_labels),verbose=2)"
      ],
      "execution_count": 43,
      "outputs": [
        {
          "output_type": "stream",
          "text": [
            "Epoch 1/30\n",
            "625/625 - 2s - loss: 0.6731 - accuracy: 0.5757 - val_loss: 0.6140 - val_accuracy: 0.6688\n",
            "Epoch 2/30\n",
            "625/625 - 2s - loss: 0.4612 - accuracy: 0.8209 - val_loss: 0.3935 - val_accuracy: 0.8365\n",
            "Epoch 3/30\n",
            "625/625 - 2s - loss: 0.3251 - accuracy: 0.8688 - val_loss: 0.3565 - val_accuracy: 0.8512\n",
            "Epoch 4/30\n",
            "625/625 - 2s - loss: 0.2697 - accuracy: 0.8938 - val_loss: 0.3449 - val_accuracy: 0.8545\n",
            "Epoch 5/30\n",
            "625/625 - 2s - loss: 0.2338 - accuracy: 0.9093 - val_loss: 0.3458 - val_accuracy: 0.8509\n",
            "Epoch 6/30\n",
            "625/625 - 2s - loss: 0.2063 - accuracy: 0.9216 - val_loss: 0.3585 - val_accuracy: 0.8456\n",
            "Epoch 7/30\n",
            "625/625 - 2s - loss: 0.1825 - accuracy: 0.9316 - val_loss: 0.3549 - val_accuracy: 0.8557\n",
            "Epoch 8/30\n",
            "625/625 - 2s - loss: 0.1648 - accuracy: 0.9373 - val_loss: 0.3670 - val_accuracy: 0.8557\n",
            "Epoch 9/30\n",
            "625/625 - 2s - loss: 0.1481 - accuracy: 0.9462 - val_loss: 0.3902 - val_accuracy: 0.8478\n",
            "Epoch 10/30\n",
            "625/625 - 2s - loss: 0.1339 - accuracy: 0.9524 - val_loss: 0.4128 - val_accuracy: 0.8468\n",
            "Epoch 11/30\n",
            "625/625 - 2s - loss: 0.1206 - accuracy: 0.9572 - val_loss: 0.4351 - val_accuracy: 0.8432\n",
            "Epoch 12/30\n",
            "625/625 - 2s - loss: 0.1106 - accuracy: 0.9631 - val_loss: 0.4511 - val_accuracy: 0.8457\n",
            "Epoch 13/30\n",
            "625/625 - 2s - loss: 0.1048 - accuracy: 0.9631 - val_loss: 0.4693 - val_accuracy: 0.8450\n",
            "Epoch 14/30\n",
            "625/625 - 2s - loss: 0.0934 - accuracy: 0.9688 - val_loss: 0.5166 - val_accuracy: 0.8344\n",
            "Epoch 15/30\n",
            "625/625 - 2s - loss: 0.0846 - accuracy: 0.9725 - val_loss: 0.5185 - val_accuracy: 0.8420\n",
            "Epoch 16/30\n",
            "625/625 - 2s - loss: 0.0789 - accuracy: 0.9737 - val_loss: 0.5501 - val_accuracy: 0.8378\n",
            "Epoch 17/30\n",
            "625/625 - 2s - loss: 0.0712 - accuracy: 0.9775 - val_loss: 0.5758 - val_accuracy: 0.8369\n",
            "Epoch 18/30\n",
            "625/625 - 2s - loss: 0.0649 - accuracy: 0.9794 - val_loss: 0.6133 - val_accuracy: 0.8323\n",
            "Epoch 19/30\n",
            "625/625 - 2s - loss: 0.0616 - accuracy: 0.9802 - val_loss: 0.6406 - val_accuracy: 0.8320\n",
            "Epoch 20/30\n",
            "625/625 - 2s - loss: 0.0548 - accuracy: 0.9826 - val_loss: 0.6705 - val_accuracy: 0.8301\n",
            "Epoch 21/30\n",
            "625/625 - 2s - loss: 0.0508 - accuracy: 0.9846 - val_loss: 0.7034 - val_accuracy: 0.8289\n",
            "Epoch 22/30\n",
            "625/625 - 2s - loss: 0.0459 - accuracy: 0.9865 - val_loss: 0.7378 - val_accuracy: 0.8281\n",
            "Epoch 23/30\n",
            "625/625 - 2s - loss: 0.0430 - accuracy: 0.9869 - val_loss: 0.7741 - val_accuracy: 0.8216\n",
            "Epoch 24/30\n",
            "625/625 - 2s - loss: 0.0411 - accuracy: 0.9881 - val_loss: 0.8179 - val_accuracy: 0.8229\n",
            "Epoch 25/30\n",
            "625/625 - 2s - loss: 0.0359 - accuracy: 0.9898 - val_loss: 0.8430 - val_accuracy: 0.8208\n",
            "Epoch 26/30\n",
            "625/625 - 2s - loss: 0.0329 - accuracy: 0.9911 - val_loss: 0.8809 - val_accuracy: 0.8185\n",
            "Epoch 27/30\n",
            "625/625 - 2s - loss: 0.0319 - accuracy: 0.9902 - val_loss: 0.9145 - val_accuracy: 0.8192\n",
            "Epoch 28/30\n",
            "625/625 - 2s - loss: 0.0293 - accuracy: 0.9915 - val_loss: 0.9495 - val_accuracy: 0.8171\n",
            "Epoch 29/30\n",
            "625/625 - 2s - loss: 0.0264 - accuracy: 0.9926 - val_loss: 0.9956 - val_accuracy: 0.8147\n",
            "Epoch 30/30\n",
            "625/625 - 2s - loss: 0.0263 - accuracy: 0.9924 - val_loss: 1.0218 - val_accuracy: 0.8150\n"
          ],
          "name": "stdout"
        }
      ]
    },
    {
      "cell_type": "markdown",
      "metadata": {
        "id": "AWPCPRL_jzUp",
        "colab_type": "text"
      },
      "source": [
        "# Evaluate the model\n",
        "Evaluating the model is the important step as it allows us to better the model and tune some hyperparameters and pump up the accuracy. There also some things to keep in mind while tuning your projects like for example **not overfitting** the dataset to pump up the accuracy on testing set, **not underfitting** the dataset too is an important and there are some other metrics to keep in my mind."
      ]
    },
    {
      "cell_type": "markdown",
      "metadata": {
        "id": "IEDbGraHw4z1",
        "colab_type": "text"
      },
      "source": [
        "Here since the model is pretty easy we've got 0.9984 accuracy on the training data and around 80% accuracy on the test data which is the reakky good and almost as perfect and it means that our model can predict correctly 99%. "
      ]
    },
    {
      "cell_type": "markdown",
      "metadata": {
        "id": "cJzbSj8vxa2L",
        "colab_type": "text"
      },
      "source": [
        "Below are the graphs:\n",
        "<br>\n",
        "- First graphs shows the training set accuracy and  what is the validation sete accuracy.<br>\n",
        "- Second graph shows the loss function's values and what was the validation loss.\n",
        "\n",
        "\n",
        "\n",
        "\n"
      ]
    },
    {
      "cell_type": "code",
      "metadata": {
        "id": "2RqNOeo8HAue",
        "colab_type": "code",
        "colab": {
          "base_uri": "https://localhost:8080/",
          "height": 541
        },
        "outputId": "6798d2ae-9121-4aee-9ec6-ef66591ef214"
      },
      "source": [
        "def plot_graphs(history, string):\n",
        "  plt.plot(history.history[string])\n",
        "  plt.plot(history.history['val_'+string])\n",
        "  plt.xlabel(\"Epochs\")\n",
        "  plt.ylabel(string)\n",
        "  plt.legend([string,'val_'+string])\n",
        "  plt.show()\n",
        "\n",
        "plot_graphs(history,'accuracy')\n",
        "plot_graphs(history,'loss')"
      ],
      "execution_count": 44,
      "outputs": [
        {
          "output_type": "display_data",
          "data": {
            "image/png": "[encoded data removed]",
            "text/plain": [
              "<Figure size 432x288 with 1 Axes>"
            ]
          },
          "metadata": {
            "tags": [],
            "needs_background": "light"
          }
        },
        {
          "output_type": "display_data",
          "data": {
            "image/png": "[encoded data removed]",
            "text/plain": [
              "<Figure size 432x288 with 1 Axes>"
            ]
          },
          "metadata": {
            "tags": [],
            "needs_background": "light"
          }
        }
      ]
    },
    {
      "cell_type": "code",
      "metadata": {
        "id": "vWrMfuq7K8ws",
        "colab_type": "code",
        "colab": {
          "base_uri": "https://localhost:8080/",
          "height": 68
        },
        "outputId": "4f54230e-8ac7-409b-e957-27c777fc1c58"
      },
      "source": [
        "sentences_to_predict = [ \"If stupidity was a profession then you’d be a billionaire.\",\n",
        "                        \"Don’t talk while I am interrupting!\",\n",
        "                        \"Today is bright and sunny day\"\n",
        "       \n",
        "]\n",
        "\n",
        "seq = tokenizer.texts_to_sequences(sentences_to_predict)\n",
        "\n",
        "pad = pad_sequences(seq,maxlen=max_length,padding=padding_type,\n",
        "                    truncating = trunc_type)\n",
        "print(model.predict(pad))\n"
      ],
      "execution_count": 48,
      "outputs": [
        {
          "output_type": "stream",
          "text": [
            "[[9.1199845e-06]\n",
            " [1.0707736e-02]\n",
            " [3.6320090e-04]]\n"
          ],
          "name": "stdout"
        }
      ]
    },
    {
      "cell_type": "markdown",
      "metadata": {
        "id": "rv2BJuhF5nr-",
        "colab_type": "text"
      },
      "source": [
        "As you can see here the three sentences differing from not a sarcastic one to sarcastic to most sarcastic the output gets higher and closer to 1 which is sarcastic sentence and the sentences that are just plain text are with values almost equal to 0 or near to 0.<br><br>\n",
        "We can from here save the model and create a system(GUI) if we want to make an interactive project.\n",
        "That's all, Thank you for staying and making it this far.<br>"
      ]
    },
    {
      "cell_type": "code",
      "metadata": {
        "id": "1LtWv5BD_AgO",
        "colab_type": "code",
        "colab": {}
      },
      "source": [
        ""
      ],
      "execution_count": 25,
      "outputs": []
    }
  ]
}