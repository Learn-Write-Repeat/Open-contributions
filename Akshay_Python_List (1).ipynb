{
 "cells": [
  {
   "cell_type": "markdown",
   "metadata": {},
   "source": [
    " # Now we will Learn here about List Practically"
   ]
  },
  {
   "cell_type": "code",
   "execution_count": 16,
   "metadata": {},
   "outputs": [
    {
     "name": "stdout",
     "output_type": "stream",
     "text": [
      "29\n",
      "6\n"
     ]
    }
   ],
   "source": [
    "# List Indexing\n",
    "\n",
    "lists = [6,5,29,6]\n",
    "print(lists[2])\n",
    "print(lists[0])\n"
   ]
  },
  {
   "cell_type": "code",
   "execution_count": 17,
   "metadata": {},
   "outputs": [
    {
     "name": "stdout",
     "output_type": "stream",
     "text": [
      "29\n",
      "5\n"
     ]
    }
   ],
   "source": [
    "# Negative list Indexing\n",
    "#Negative indexing takes elements from right hand side\n",
    "\n",
    "lists = [6,5,29,6]\n",
    "print(lists[-2])\n",
    "print(lists[1])"
   ]
  },
  {
   "cell_type": "markdown",
   "metadata": {},
   "source": [
    "##### In list slicing if we want to access a range, we need two indexes that will slice that portion from the list.\n",
    "##### We can access a range of items in a list by using the slicing operator :(colon)."
   ]
  },
  {
   "cell_type": "code",
   "execution_count": 18,
   "metadata": {},
   "outputs": [
    {
     "name": "stdout",
     "output_type": "stream",
     "text": [
      "[8, 'good', 7]\n",
      "['hello', 'world', 8, 'good', 7, 9, 1]\n",
      "['hello', 'world', 8, 'good', 7]\n"
     ]
    }
   ],
   "source": [
    "# List Slicing\n",
    "# \n",
    "\n",
    "lists = ['hello','world',8,'good',7,9,1]\n",
    "\n",
    "# elements 3rd to 5th\n",
    "print(lists[2:5])\n",
    "\n",
    "# elements start to end\n",
    "print(lists[:])\n",
    "\n",
    "# elements beginning to 4th\n",
    "print(lists[:5])"
   ]
  },
  {
   "cell_type": "markdown",
   "metadata": {},
   "source": [
    "### Change or Add elements to a list"
   ]
  },
  {
   "cell_type": "code",
   "execution_count": 19,
   "metadata": {},
   "outputs": [
    {
     "name": "stdout",
     "output_type": "stream",
     "text": [
      "['python', 6, 1, 'ram', 'sameer']\n",
      "['python', 6, 0, 5, 4]\n"
     ]
    }
   ],
   "source": [
    "# List changing element\n",
    "# List are mutable in nature it means it is changable\n",
    "\n",
    "lists = [4,6,1,'ram','sameer']\n",
    "\n",
    "lists[0] = 'python'\n",
    "print(list)\n",
    "\n",
    "lists[2:5] = [0,5,4]\n",
    "print(lists)"
   ]
  },
  {
   "cell_type": "code",
   "execution_count": 11,
   "metadata": {},
   "outputs": [
    {
     "name": "stdout",
     "output_type": "stream",
     "text": [
      "['c', 'php', 'perl', 'java', 'python']\n",
      "['c', 'php', 'perl', 'java', 'python', 'javascript', 'swift', 'goLang']\n"
     ]
    }
   ],
   "source": [
    "#We can add one item to a list using the append() method and we can add several items using extend() method.\n",
    "\n",
    "lists = ['c','php','perl','java']\n",
    "\n",
    "lists.append('python')\n",
    "print(lists)\n",
    "\n",
    "lists.extend(['javascript','swift','goLang'])\n",
    "print(lists)\n"
   ]
  },
  {
   "cell_type": "code",
   "execution_count": 12,
   "metadata": {},
   "outputs": [
    {
     "name": "stdout",
     "output_type": "stream",
     "text": [
      "[4, 7, 0, 1, 3, 9, 5]\n"
     ]
    }
   ],
   "source": [
    "# List concatination\n",
    "\n",
    "list1 = [4,7,0,1]\n",
    "\n",
    "list2 = [3,9,5]\n",
    "\n",
    "print(list1 + list2)\n"
   ]
  },
  {
   "cell_type": "code",
   "execution_count": 13,
   "metadata": {},
   "outputs": [
    {
     "name": "stdout",
     "output_type": "stream",
     "text": [
      "[11, 44, 66, 45, 12, 88]\n"
     ]
    }
   ],
   "source": [
    "# List insert() method to insert element at desired location\n",
    "\n",
    "lists = [11,66,45,12,88]\n",
    "\n",
    "lists.insert(1,44)\n",
    "print(lists)"
   ]
  },
  {
   "cell_type": "markdown",
   "metadata": {},
   "source": [
    "### Delete or Remove elements from a list"
   ]
  },
  {
   "cell_type": "code",
   "execution_count": 23,
   "metadata": {},
   "outputs": [
    {
     "name": "stdout",
     "output_type": "stream",
     "text": [
      "[518, 108, 912]\n",
      "[518, 108]\n"
     ]
    },
    {
     "ename": "NameError",
     "evalue": "name 'lists' is not defined",
     "output_type": "error",
     "traceback": [
      "\u001b[1;31m---------------------------------------------------------------------------\u001b[0m",
      "\u001b[1;31mNameError\u001b[0m                                 Traceback (most recent call last)",
      "\u001b[1;32m<ipython-input-23-c7d8da18348c>\u001b[0m in \u001b[0;36m<module>\u001b[1;34m\u001b[0m\n\u001b[0;32m     13\u001b[0m \u001b[1;33m\u001b[0m\u001b[0m\n\u001b[0;32m     14\u001b[0m \u001b[1;31m#it will give error because list is deleted\u001b[0m\u001b[1;33m\u001b[0m\u001b[1;33m\u001b[0m\u001b[1;33m\u001b[0m\u001b[0m\n\u001b[1;32m---> 15\u001b[1;33m \u001b[0mprint\u001b[0m\u001b[1;33m(\u001b[0m\u001b[0mlists\u001b[0m\u001b[1;33m)\u001b[0m\u001b[1;33m\u001b[0m\u001b[1;33m\u001b[0m\u001b[0m\n\u001b[0m",
      "\u001b[1;31mNameError\u001b[0m: name 'lists' is not defined"
     ]
    }
   ],
   "source": [
    "lists = [518,108,912,636]\n",
    "\n",
    "# delete one item\n",
    "del lists[3]\n",
    "print(lists)\n",
    "\n",
    "# delete multiple items\n",
    "del lists[2:]\n",
    "print(lists)\n",
    "\n",
    "# delete entire list\n",
    "del lists\n",
    "\n",
    "#it will give error because list is deleted\n",
    "print(lists)"
   ]
  },
  {
   "cell_type": "markdown",
   "metadata": {},
   "source": [
    "##### We can use remove() method to remove the given element or pop() method to remove an element at given index."
   ]
  },
  {
   "cell_type": "code",
   "execution_count": 32,
   "metadata": {},
   "outputs": [
    {
     "name": "stdout",
     "output_type": "stream",
     "text": [
      "['p', 't', 'h', 'o', 'n']\n",
      "['p', 't', 'o', 'n']\n",
      "['p', 't', 'o']\n",
      "[]\n"
     ]
    }
   ],
   "source": [
    "lists = ['p','y','t','h','o','n']\n",
    "\n",
    "#here we have to give item name\n",
    "lists.remove('y')\n",
    "print(lists)\n",
    "\n",
    "#here we have to give item index\n",
    "lists.pop(2)\n",
    "print(lists)\n",
    "\n",
    "#If we dont give index number it will pop the last element from list\n",
    "lists.pop()\n",
    "print(lists)\n",
    "\n",
    "# clear() method to clear list elements\n",
    "lists.clear()\n",
    "print(lists)"
   ]
  },
  {
   "cell_type": "code",
   "execution_count": null,
   "metadata": {},
   "outputs": [],
   "source": [
    "## Some more list methods"
   ]
  },
  {
   "cell_type": "code",
   "execution_count": 33,
   "metadata": {},
   "outputs": [
    {
     "name": "stdout",
     "output_type": "stream",
     "text": [
      "[0, 2, 4, 6, 8, 9]\n"
     ]
    }
   ],
   "source": [
    "#sorting the list\n",
    "\n",
    "lists = [9,2,8,4,0,6]\n",
    "\n",
    "lists.sort()\n",
    "print(lists)"
   ]
  },
  {
   "cell_type": "code",
   "execution_count": 34,
   "metadata": {},
   "outputs": [
    {
     "name": "stdout",
     "output_type": "stream",
     "text": [
      "[6, 0, 4, 8, 2, 9]\n"
     ]
    }
   ],
   "source": [
    "#reverse the list\n",
    "\n",
    "lists = [9,2,8,4,0,6]\n",
    "\n",
    "lists.reverse()\n",
    "print(lists)"
   ]
  },
  {
   "cell_type": "code",
   "execution_count": 37,
   "metadata": {},
   "outputs": [
    {
     "name": "stdout",
     "output_type": "stream",
     "text": [
      "2\n"
     ]
    }
   ],
   "source": [
    "# count() no of times particular element occurs in list \n",
    "\n",
    "lists = [9,2,8,4,0,6,9,1,5]\n",
    "\n",
    "print(lists.count(9))\n"
   ]
  },
  {
   "cell_type": "code",
   "execution_count": 39,
   "metadata": {},
   "outputs": [
    {
     "name": "stdout",
     "output_type": "stream",
     "text": [
      "6\n"
     ]
    }
   ],
   "source": [
    "# index() gives the index number of particular element\n",
    "\n",
    "lists = [9,2,8,4,0,6,1,5]\n",
    "\n",
    "print(lists.index(1))\n",
    "\n"
   ]
  },
  {
   "cell_type": "markdown",
   "metadata": {},
   "source": [
    "## Similarly you can do practice with the list and its methods"
   ]
  }
 ],
 "metadata": {
  "kernelspec": {
   "display_name": "Python 3",
   "language": "python",
   "name": "python3"
  },
  "language_info": {
   "codemirror_mode": {
    "name": "ipython",
    "version": 3
   },
   "file_extension": ".py",
   "mimetype": "text/x-python",
   "name": "python",
   "nbconvert_exporter": "python",
   "pygments_lexer": "ipython3",
   "version": "3.8.3"
  }
 },
 "nbformat": 4,
 "nbformat_minor": 4
}
