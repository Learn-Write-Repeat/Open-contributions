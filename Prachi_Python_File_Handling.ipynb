{
 "cells": [
  {
   "cell_type": "markdown",
   "metadata": {},
   "source": [
    "# File Handling"
   ]
  },
  {
   "cell_type": "markdown",
   "metadata": {},
   "source": [
    "File handling is a process through which we can create a file, store data in it, retrieve data from the file and also append more information in it.Python supports file handling and gives us many modes to operate a file. We can create a new file using python code, open existing files, write in files ,read data from files and many more such options. We have many languages which supports file handling , in some languages this topic is a bit complicated, but in python file handling is very easy.\n",
    "Python treats it's texts and binary differently in file handling."
   ]
  },
  {
   "cell_type": "markdown",
   "metadata": {},
   "source": [
    "Example 1:"
   ]
  },
  {
   "cell_type": "code",
   "execution_count": 2,
   "metadata": {},
   "outputs": [
    {
     "name": "stdout",
     "output_type": "stream",
     "text": [
      "Let us add new content!\n"
     ]
    }
   ],
   "source": [
    "f = open(\"file.txt\", \"a\")\n",
    "f.write(\"Let us add new content!\")\n",
    "f.close()\n",
    "\n",
    "#open and read the file after the appending:\n",
    "f = open(\"file.txt\", \"r\")\n",
    "print(f.read())"
   ]
  },
  {
   "cell_type": "markdown",
   "metadata": {},
   "source": [
    "Here , we open the file in append mode, append some text , close the file and open it again to read the stored contents."
   ]
  },
  {
   "cell_type": "markdown",
   "metadata": {},
   "source": [
    "Example 2:"
   ]
  },
  {
   "cell_type": "code",
   "execution_count": 4,
   "metadata": {},
   "outputs": [
    {
     "name": "stdout",
     "output_type": "stream",
     "text": [
      "Are the contents still here?\n"
     ]
    }
   ],
   "source": [
    "f = open(\"file.txt\", \"w\")\n",
    "f.write(\"Are the contents still here?\")\n",
    "f.close()\n",
    "\n",
    "#open and read the file after the appending:\n",
    "f = open(\"file.txt\", \"r\")\n",
    "print(f.read())"
   ]
  },
  {
   "cell_type": "markdown",
   "metadata": {},
   "source": [
    "Here we open the file in write mode , so the file pointer is at the beginning of the file and the file is overwritten by new contents."
   ]
  },
  {
   "cell_type": "markdown",
   "metadata": {},
   "source": [
    "Example3:"
   ]
  },
  {
   "cell_type": "code",
   "execution_count": 5,
   "metadata": {},
   "outputs": [],
   "source": [
    "f = open(\"file1.txt\")"
   ]
  },
  {
   "cell_type": "markdown",
   "metadata": {},
   "source": [
    "A new file is created but no operations are performed."
   ]
  },
  {
   "cell_type": "markdown",
   "metadata": {},
   "source": [
    "Example 4:"
   ]
  },
  {
   "cell_type": "code",
   "execution_count": 6,
   "metadata": {},
   "outputs": [],
   "source": [
    "f = open(\"file2.txt\", \"w\")"
   ]
  },
  {
   "cell_type": "markdown",
   "metadata": {},
   "source": [
    "This creates a new file if it does not exist."
   ]
  },
  {
   "cell_type": "markdown",
   "metadata": {},
   "source": [
    "Example 5:"
   ]
  },
  {
   "cell_type": "code",
   "execution_count": 7,
   "metadata": {},
   "outputs": [
    {
     "name": "stdout",
     "output_type": "stream",
     "text": [
      "Are the contents still here?\n"
     ]
    }
   ],
   "source": [
    "file = open('file.txt', 'r')\n",
    "for each in file: \n",
    "    print (each) \n",
    "file.close()"
   ]
  },
  {
   "cell_type": "markdown",
   "metadata": {},
   "source": [
    "Example 6:"
   ]
  },
  {
   "cell_type": "code",
   "execution_count": 15,
   "metadata": {
    "scrolled": true
   },
   "outputs": [
    {
     "name": "stdout",
     "output_type": "stream",
     "text": [
      "Are the contents still here?It was happy to see you here.Come back again sometimeIt was happy to see you here.Come back again sometime\n",
      "\n",
      "It was happy to see you here.\n",
      "\n",
      "Come back again sometime\n"
     ]
    }
   ],
   "source": [
    "f = open('file.txt','a')\n",
    "f.write(\"\\nIt was happy to see you here.\")\n",
    "f.write(\"\\nCome back again sometime\")\n",
    "f.close()\n",
    "file=open('file.txt','r')\n",
    "for each in file:\n",
    "    print(each)"
   ]
  },
  {
   "cell_type": "markdown",
   "metadata": {},
   "source": [
    "Example 7:"
   ]
  },
  {
   "cell_type": "code",
   "execution_count": 19,
   "metadata": {},
   "outputs": [
    {
     "name": "stdout",
     "output_type": "stream",
     "text": [
      "Are the co\n"
     ]
    }
   ],
   "source": [
    "f = open('file.txt', 'r') \n",
    "  \n",
    "#read() \n",
    "text = f.read(10) \n",
    "  \n",
    "print(text) \n",
    "f.close() "
   ]
  },
  {
   "cell_type": "markdown",
   "metadata": {},
   "source": [
    "Example 8:"
   ]
  },
  {
   "cell_type": "code",
   "execution_count": 21,
   "metadata": {},
   "outputs": [
    {
     "name": "stdout",
     "output_type": "stream",
     "text": [
      "Are the contents still here?It was happy to see you h\n"
     ]
    }
   ],
   "source": [
    "f = open('file.txt', 'r') \n",
    "  \n",
    "#read() \n",
    "text = f.read(53) \n",
    "  \n",
    "print(text) \n",
    "f.close() "
   ]
  },
  {
   "cell_type": "markdown",
   "metadata": {},
   "source": [
    "Example 9:"
   ]
  },
  {
   "cell_type": "code",
   "execution_count": 22,
   "metadata": {},
   "outputs": [
    {
     "name": "stdout",
     "output_type": "stream",
     "text": [
      "Are the contents sti\n"
     ]
    }
   ],
   "source": [
    "f = open('file.txt','r')\n",
    "text = f.readline(20) \n",
    "print(text) \n",
    "f.close() "
   ]
  },
  {
   "cell_type": "markdown",
   "metadata": {},
   "source": [
    "Example 10:"
   ]
  },
  {
   "cell_type": "code",
   "execution_count": 23,
   "metadata": {},
   "outputs": [
    {
     "name": "stdout",
     "output_type": "stream",
     "text": [
      "['Are the contents still here?It was happy to see you here.Come back again sometimeIt was happy to see you here.Come back again sometime\\n']\n"
     ]
    }
   ],
   "source": [
    "f = open('file.txt', 'r') \n",
    "  \n",
    "#readline() \n",
    "text = f.readlines(25) \n",
    "print(text) \n",
    "f.close() "
   ]
  },
  {
   "cell_type": "markdown",
   "metadata": {},
   "source": [
    "Example 11:"
   ]
  },
  {
   "cell_type": "code",
   "execution_count": 29,
   "metadata": {},
   "outputs": [
    {
     "name": "stdout",
     "output_type": "stream",
     "text": [
      "My name is Prachistill here?It was happy to s\n"
     ]
    }
   ],
   "source": [
    "f = open('file.txt', 'r+') \n",
    "lines = \"My name is Prachi\\n\"\n",
    "f.write(lines)\n",
    "print(f.read(45))\n",
    "f.close() "
   ]
  },
  {
   "cell_type": "markdown",
   "metadata": {},
   "source": [
    "Here we see how the contents are overwritten."
   ]
  },
  {
   "cell_type": "markdown",
   "metadata": {},
   "source": [
    "Example 12:"
   ]
  },
  {
   "cell_type": "code",
   "execution_count": 39,
   "metadata": {},
   "outputs": [
    {
     "name": "stdout",
     "output_type": "stream",
     "text": [
      "\n"
     ]
    }
   ],
   "source": [
    "f = open('file.txt','w+') \n",
    "lines = \"It's a new day\\n\"\n",
    "f.write(lines) \n",
    "f.close() \n"
   ]
  },
  {
   "cell_type": "markdown",
   "metadata": {},
   "source": [
    "It writes the lines in the file. If there is any content previously , it is overwritten."
   ]
  },
  {
   "cell_type": "markdown",
   "metadata": {},
   "source": [
    "Example 13:"
   ]
  },
  {
   "cell_type": "code",
   "execution_count": 42,
   "metadata": {},
   "outputs": [
    {
     "name": "stdout",
     "output_type": "stream",
     "text": [
      "\n"
     ]
    }
   ],
   "source": [
    "\n",
    "f = open('file.txt', 'a+') \n",
    "lines = \"New day!\"\n",
    "f.write(lines) \n",
    "f.close() \n"
   ]
  },
  {
   "cell_type": "markdown",
   "metadata": {},
   "source": [
    "It writes the lines in the file. If there is any content previously , it is not overwritten."
   ]
  },
  {
   "cell_type": "markdown",
   "metadata": {},
   "source": [
    "Example 14:"
   ]
  },
  {
   "cell_type": "code",
   "execution_count": 41,
   "metadata": {},
   "outputs": [
    {
     "name": "stdout",
     "output_type": "stream",
     "text": [
      "10\n"
     ]
    }
   ],
   "source": [
    "f = open('file.txt', 'r') \n",
    "lines = f.read(10) \n",
    "\n",
    "#tell() \n",
    "print(f.tell()) \n",
    "f.close() \n"
   ]
  }
 ],
 "metadata": {
  "kernelspec": {
   "display_name": "Python 3",
   "language": "python",
   "name": "python3"
  },
  "language_info": {
   "codemirror_mode": {
    "name": "ipython",
    "version": 3
   },
   "file_extension": ".py",
   "mimetype": "text/x-python",
   "name": "python",
   "nbconvert_exporter": "python",
   "pygments_lexer": "ipython3",
   "version": "3.7.4"
  }
 },
 "nbformat": 4,
 "nbformat_minor": 2
}
