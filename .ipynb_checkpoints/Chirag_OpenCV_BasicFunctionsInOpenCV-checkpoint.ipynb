{
 "cells": [
  {
   "cell_type": "markdown",
   "metadata": {},
   "source": [
    "# Basic operations on image "
   ]
  },
  {
   "cell_type": "markdown",
   "metadata": {},
   "source": [
    "# 1. Greyscaling"
   ]
  },
  {
   "cell_type": "code",
   "execution_count": 29,
   "metadata": {},
   "outputs": [],
   "source": [
    "import cv2 \n",
    "\n",
    "img = cv2.imread('extras2/sample.jpg') #taking input image \n",
    "\n",
    "cv2.imshow('Colourful Image', img) #this is original image\n",
    "cv2.waitKey() \n",
    "  \n",
    "# cv2.cvtColor() fucntion sonvert the image to grayscale \n",
    "gpic = cv2.cvtColor(img, cv2.COLOR_BGR2GRAY) \n",
    "  \n",
    "cv2.imshow('Grayscale Image', gpic) #this is greyscaled image \n",
    "cv2.waitKey(0)   \n",
    "cv2.destroyAllWindows() "
   ]
  },
  {
   "cell_type": "markdown",
   "metadata": {},
   "source": [
    "# 2. Translation "
   ]
  },
  {
   "cell_type": "code",
   "execution_count": 30,
   "metadata": {},
   "outputs": [],
   "source": [
    "import cv2 \n",
    "import numpy as np \n",
    "img = cv2.imread('extras2/sample.jpg') \n",
    "cv2.imshow(\"Originalimage\", img) #showing original image \n",
    "# Storing height and width of the image \n",
    "h, w = img.shape[:2] \n",
    "  \n",
    "qh, qw = h / 4, w / 4\n",
    "  \n",
    "T = np.float32([[1, 0, qw], [0, 1, qh]]) \n",
    "# We use warpAffine function to transform \n",
    "# the image using the matrix, T \n",
    "img_translation = cv2.warpAffine(img, T, (w, h)) \n",
    "  \n",
    "\n",
    "cv2.imshow('Translation', img_translation) \n",
    "cv2.waitKey() \n",
    "  \n",
    "cv2.destroyAllWindows() "
   ]
  },
  {
   "cell_type": "markdown",
   "metadata": {},
   "source": [
    "# 3. Rotation "
   ]
  },
  {
   "cell_type": "code",
   "execution_count": 31,
   "metadata": {
    "scrolled": true
   },
   "outputs": [
    {
     "data": {
      "text/plain": [
       "-1"
      ]
     },
     "execution_count": 31,
     "metadata": {},
     "output_type": "execute_result"
    }
   ],
   "source": [
    "import cv2 \n",
    "  \n",
    "img = cv2.imread('extras2/sample.jpg') \n",
    "cv2.imshow('Original Image', img) #original image \n",
    "\n",
    "imgs = cv2.rotate(img, cv2.cv2.ROTATE_90_CLOCKWISE) \n",
    "  \n",
    "# Displaying the image \n",
    "cv2.imshow('rotated image', imgs) #rotated image \n",
    "cv2.waitKey(0) "
   ]
  },
  {
   "cell_type": "markdown",
   "metadata": {},
   "source": [
    "# 4. Scaling"
   ]
  },
  {
   "cell_type": "code",
   "execution_count": 32,
   "metadata": {},
   "outputs": [
    {
     "data": {
      "text/plain": [
       "-1"
      ]
     },
     "execution_count": 32,
     "metadata": {},
     "output_type": "execute_result"
    }
   ],
   "source": [
    "import cv2\n",
    "filename = 'extras2/sample.jpg'\n",
    "W = 1000.\n",
    "oriimg = cv2.imread(filename)\n",
    "cv2.imshow('original image',oriimg)\n",
    "height, width, depth = oriimg.shape\n",
    "imgScale = W/width\n",
    "newX,newY = oriimg.shape[1]*imgScale, oriimg.shape[0]*imgScale\n",
    "newimg = cv2.resize(oriimg,(int(newX),int(newY)))\n",
    "cv2.imshow(\"Show by CV2\",newimg)\n",
    "cv2.waitKey(0)"
   ]
  },
  {
   "cell_type": "markdown",
   "metadata": {},
   "source": [
    "# 5.Croping"
   ]
  },
  {
   "cell_type": "code",
   "execution_count": 33,
   "metadata": {
    "scrolled": true
   },
   "outputs": [
    {
     "data": {
      "text/plain": [
       "-1"
      ]
     },
     "execution_count": 33,
     "metadata": {},
     "output_type": "execute_result"
    }
   ],
   "source": [
    "import cv2\n",
    "image = cv2.imread('extras2/sample.jpg')\n",
    "cv2.imshow(\"original\", image)# crop the image using array slices -- it's a NumPy array\n",
    "# after all!\n",
    "cropped = image[70:170, 440:540]\n",
    "cv2.imshow(\"cropped\", cropped)\n",
    "cv2.waitKey(0)"
   ]
  },
  {
   "cell_type": "markdown",
   "metadata": {},
   "source": [
    "# 6.Edge Detection"
   ]
  },
  {
   "cell_type": "code",
   "execution_count": 34,
   "metadata": {},
   "outputs": [],
   "source": [
    "import cv2 \n",
    "import numpy as np \n",
    "FILE_NAME = 'extras2/buter.jpg'\n",
    "try:  \n",
    "    img = cv2.imread(FILE_NAME) #reading image \n",
    "    edges = cv2.Canny(img, 100, 200) \n",
    "  \n",
    "    cv2.imshow('result.jpg', edges) #showing output\n",
    "except IOError: \n",
    "    print ('Error while reading files !!!') "
   ]
  },
  {
   "cell_type": "markdown",
   "metadata": {},
   "source": [
    "# 7. Sharpning"
   ]
  },
  {
   "cell_type": "code",
   "execution_count": 35,
   "metadata": {},
   "outputs": [],
   "source": [
    "import cv2\n",
    "import numpy as np\n",
    "image = cv2.imread('extras2/sample.jpg') # reading and displaying image \n",
    "cv2.imshow('Original', image)\n",
    "#creating kernal\n",
    "kernel_sharpening = np.array([[-1,-1,-1], \n",
    "                              [-1, 9,-1],\n",
    "                              [-1,-1,-1]])\n",
    "# applying the sharpening kernel to the input image & displaying it.\n",
    "sharpened = cv2.filter2D(image, -1, kernel_sharpening)\n",
    "cv2.imshow('Image Sharpening', sharpened)\n",
    "cv2.waitKey(0)\n",
    "cv2.destroyAllWindows()"
   ]
  },
  {
   "cell_type": "markdown",
   "metadata": {},
   "source": [
    "# 8. Thresholding"
   ]
  },
  {
   "cell_type": "code",
   "execution_count": 36,
   "metadata": {},
   "outputs": [],
   "source": [
    "import cv2  \n",
    "import numpy as np  \n",
    "  \n",
    "image1 = cv2.imread('extras2/chirag.png')  #taking input image \n",
    "  \n",
    "#converting image to greyscale\n",
    "img = cv2.cvtColor(image1, cv2.COLOR_BGR2GRAY) \n",
    "  \n",
    "# applying different thresholding  \n",
    "ret, thresh1 = cv2.threshold(img, 120, 255, cv2.THRESH_BINARY) \n",
    "ret, thresh2 = cv2.threshold(img, 120, 255, cv2.THRESH_BINARY_INV) \n",
    "ret, thresh3 = cv2.threshold(img, 120, 255, cv2.THRESH_TRUNC) \n",
    "ret, thresh4 = cv2.threshold(img, 120, 255, cv2.THRESH_TOZERO) \n",
    "ret, thresh5 = cv2.threshold(img, 120, 255, cv2.THRESH_TOZERO_INV) \n",
    "  \n",
    "# showing all outputs\n",
    "cv2.imshow('Binary Threshold', thresh1) \n",
    "cv2.imshow('Binary Threshold Inverted', thresh2) \n",
    "cv2.imshow('Truncated Threshold', thresh3) \n",
    "cv2.imshow('Set to 0', thresh4) \n",
    "cv2.imshow('Set to 0 Inverted', thresh5) \n",
    "    \n",
    "if cv2.waitKey(0) & 0xff == 27:  \n",
    "    cv2.destroyAllWindows()"
   ]
  },
  {
   "cell_type": "markdown",
   "metadata": {},
   "source": [
    "# 9. Erosion and Dilation"
   ]
  },
  {
   "cell_type": "code",
   "execution_count": 37,
   "metadata": {},
   "outputs": [
    {
     "data": {
      "text/plain": [
       "-1"
      ]
     },
     "execution_count": 37,
     "metadata": {},
     "output_type": "execute_result"
    }
   ],
   "source": [
    "import cv2 \n",
    "import numpy as np \n",
    "  \n",
    "img = cv2.imread('extras2/chirag.png', 0) #taking input image \n",
    "  \n",
    "# Taking a matrix of size 5 as the kernel \n",
    "kernel = np.ones((5,5), np.uint8) \n",
    "  \n",
    "# Performing erosion and dilution\n",
    "img_erosion = cv2.erode(img, kernel, iterations=1) \n",
    "img_dilation = cv2.dilate(img, kernel, iterations=1) \n",
    "  \n",
    "cv2.imshow('Input', img) \n",
    "cv2.imshow('Erosion', img_erosion) \n",
    "cv2.imshow('Dilation', img_dilation) \n",
    "  \n",
    "cv2.waitKey(0)"
   ]
  },
  {
   "cell_type": "markdown",
   "metadata": {},
   "source": [
    "# 10. Arithmatic Operations on image"
   ]
  },
  {
   "cell_type": "markdown",
   "metadata": {},
   "source": [
    "## 1.  Addition and Subtraction"
   ]
  },
  {
   "cell_type": "markdown",
   "metadata": {},
   "source": [
    "### 1) Addition"
   ]
  },
  {
   "cell_type": "code",
   "execution_count": 38,
   "metadata": {},
   "outputs": [],
   "source": [
    "import cv2  \n",
    "import numpy as np  \n",
    "    \n",
    "image1 = cv2.imread('extras2/i1.jpg')  #taking input image-1\n",
    "image2 = cv2.imread('extras2/i2.jpg') #taking input image-2\n",
    "  \n",
    "# performing addition operation\n",
    "weightedSum = cv2.addWeighted(image1, 0.5, image2, 0.4, 0) \n",
    "  \n",
    "#showing output \n",
    "cv2.imshow('Weighted Image', weightedSum) \n",
    "    \n",
    "if cv2.waitKey(0) & 0xff == 27:  \n",
    "    cv2.destroyAllWindows()"
   ]
  },
  {
   "cell_type": "markdown",
   "metadata": {},
   "source": [
    "### 2) Subtraction:"
   ]
  },
  {
   "cell_type": "code",
   "execution_count": 39,
   "metadata": {},
   "outputs": [],
   "source": [
    "import cv2  \n",
    "import numpy as np  \n",
    "    \n",
    "\n",
    "image1 = cv2.imread('extras2/i1.jpg')  #taking input image-1\n",
    "image2 = cv2.imread('extras2/i2.jpg') #taking input image-2\n",
    " \n",
    "# performing subtraction\n",
    "sub = cv2.subtract(image1, image2) \n",
    "  \n",
    "# showing output\n",
    "cv2.imshow('Subtracted Image', sub) \n",
    "  \n",
    "if cv2.waitKey(0) & 0xff == 27:  \n",
    "    cv2.destroyAllWindows()"
   ]
  },
  {
   "cell_type": "markdown",
   "metadata": {},
   "source": [
    "## 2. Bitwise Operations"
   ]
  },
  {
   "cell_type": "markdown",
   "metadata": {},
   "source": [
    "### 1) AND"
   ]
  },
  {
   "cell_type": "code",
   "execution_count": 40,
   "metadata": {},
   "outputs": [],
   "source": [
    "import cv2  \n",
    "import numpy as np  \n",
    "\n",
    "img1 = cv2.imread('extras2/in1.png')  #taking input image1\n",
    "img2 = cv2.imread('extras2/in2.png') #taking input image2\n",
    "  \n",
    "#performing and operation\n",
    "dest_and = cv2.bitwise_and(img2, img1, mask = None) \n",
    "  \n",
    "#showing output \n",
    "cv2.imshow('Bitwise And', dest_and) \n",
    "   \n",
    "\n",
    "if cv2.waitKey(0) & 0xff == 27:  \n",
    "    cv2.destroyAllWindows()  "
   ]
  },
  {
   "cell_type": "markdown",
   "metadata": {},
   "source": [
    "### 2) OR"
   ]
  },
  {
   "cell_type": "code",
   "execution_count": 41,
   "metadata": {},
   "outputs": [],
   "source": [
    "import cv2  \n",
    "import numpy as np  \n",
    "     \n",
    "img1 = cv2.imread('extras2/in1.png')  #taking input image1\n",
    "img2 = cv2.imread('extras2/in2.png') #taking input image2 \n",
    "  \n",
    "#performing or operation\n",
    "dest_or = cv2.bitwise_or(img2, img1, mask = None) \n",
    "\n",
    "#showing output \n",
    "cv2.imshow('Bitwise OR', dest_or) \n",
    "   \n",
    "# De-allocate any associated memory usage   \n",
    "if cv2.waitKey(0) & 0xff == 27:  \n",
    "    cv2.destroyAllWindows()  "
   ]
  },
  {
   "cell_type": "markdown",
   "metadata": {},
   "source": [
    "### 3) EXOR"
   ]
  },
  {
   "cell_type": "code",
   "execution_count": 42,
   "metadata": {},
   "outputs": [],
   "source": [
    "import cv2  \n",
    "import numpy as np  \n",
    "     \n",
    "img1 = cv2.imread('extras2/in1.png')  #taking input image1\n",
    "img2 = cv2.imread('extras2/in2.png') #taking input image2\n",
    "  \n",
    "#performing xor operation\n",
    "dest_xor = cv2.bitwise_xor(img1, img2, mask = None) \n",
    "  \n",
    "#showing output\n",
    "cv2.imshow('Bitwise XOR', dest_xor) \n",
    " \n",
    "if cv2.waitKey(0) & 0xff == 27:  \n",
    "    cv2.destroyAllWindows()  "
   ]
  },
  {
   "cell_type": "markdown",
   "metadata": {},
   "source": [
    "### 4) NOT"
   ]
  },
  {
   "cell_type": "code",
   "execution_count": 43,
   "metadata": {},
   "outputs": [],
   "source": [
    "import cv2  \n",
    "import numpy as np  \n",
    "     \n",
    "img1 = cv2.imread('extras2/in1.png')  #taking input image1\n",
    "img2 = cv2.imread('extras2/in2.png') #taking input image2\n",
    " \n",
    "#performing not operation\n",
    "dest_not1 = cv2.bitwise_not(img1, mask = None) \n",
    "dest_not2 = cv2.bitwise_not(img2, mask = None) \n",
    "  \n",
    "#showing output  \n",
    "cv2.imshow('Bitwise NOT on image 1', dest_not1) \n",
    "cv2.imshow('Bitwise NOT on image 2', dest_not2) \n",
    "\n",
    "if cv2.waitKey(0) & 0xff == 27:  \n",
    "    cv2.destroyAllWindows()  "
   ]
  }
 ],
 "metadata": {
  "kernelspec": {
   "display_name": "Python 3",
   "language": "python",
   "name": "python3"
  },
  "language_info": {
   "codemirror_mode": {
    "name": "ipython",
    "version": 3
   },
   "file_extension": ".py",
   "mimetype": "text/x-python",
   "name": "python",
   "nbconvert_exporter": "python",
   "pygments_lexer": "ipython3",
   "version": "3.8.6rc1"
  }
 },
 "nbformat": 4,
 "nbformat_minor": 4
}
