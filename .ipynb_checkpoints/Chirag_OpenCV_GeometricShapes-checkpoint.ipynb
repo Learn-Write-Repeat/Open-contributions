{
 "cells": [
  {
   "cell_type": "markdown",
   "metadata": {},
   "source": [
    "## In order to display text and geometric shapes on image we have to first display the image.\n",
    "#### following code read an image and display it on a screen."
   ]
  },
  {
   "cell_type": "code",
   "execution_count": 3,
   "metadata": {},
   "outputs": [],
   "source": [
    "#python program to read an image and display it on a screen using cv2.imread() and cv.imshow() functions.\n",
    "import cv2\n",
    "import numpy as np\n",
    "img = cv2.imread('extras2/blk3.jpg',1) # 1 is for coloured image and for grey-scale image it is 0.\n",
    "cv2.imshow('image',img)\n",
    "cv2.waitKey(0)\n",
    "cv2.destroyAllWindows() \n",
    "#this program will show a black image as output."
   ]
  },
  {
   "cell_type": "markdown",
   "metadata": {},
   "source": [
    "Now we will learn how to draw geometric shapes and write text on image using following functions.\n",
    "\n",
    "<br>\n",
    "\n",
    "##  1) cv2.line()\n",
    "\n",
    "###### Parameters:\n",
    "    cv2.line(img, (pt1, pt2), (pt3, pt4), color, thickness)\n",
    "    \n",
    "###### Input:"
   ]
  },
  {
   "cell_type": "code",
   "execution_count": 4,
   "metadata": {},
   "outputs": [],
   "source": [
    "#python program to draw line on image using cv2.line() function.\n",
    "import cv2\n",
    "import numpy as np\n",
    "img = cv2.imread('extras2/blk3.jpg',1)\n",
    "img = cv2.line(img,(0,0),(255,255),(255,0,0),5)\n",
    "cv2.imshow('image',img)\n",
    "cv2.waitKey(0)\n",
    "cv2.destroyAllWindows() \n",
    "#this program will show blue line on image."
   ]
  },
  {
   "cell_type": "markdown",
   "metadata": {},
   "source": [
    "\n",
    "<br>\n",
    "\n",
    "##  2) cv2.arrowedLine()\n",
    "\n",
    "###### Parameters:\n",
    "    cv2.arrowedline(img, (pt1, pt2), (pt3, pt4), color, thickness)\n",
    "   \n",
    "###### Input:"
   ]
  },
  {
   "cell_type": "code",
   "execution_count": 5,
   "metadata": {},
   "outputs": [],
   "source": [
    "#python program to draw arrowed line on image using cv2.arrowedline() function.\n",
    "import cv2\n",
    "import numpy as np\n",
    "img = cv2.imread('extras2/blk3.jpg',1)\n",
    "img = cv2.arrowedLine(img,(50,255),(255,255),(0,255,0),5) \n",
    "cv2.imshow('image',img)\n",
    "cv2.waitKey(0)\n",
    "cv2.destroyAllWindows() \n",
    "#this program will show green arrowed line on image."
   ]
  },
  {
   "cell_type": "markdown",
   "metadata": {},
   "source": [
    "\n",
    "<br>\n",
    "\n",
    "##  3) cv2.rectangle()\n",
    "\n",
    "###### Parameters:\n",
    "        cv2.rectangle(img, (pt1, pt2), (pt3, pt4), color, thickness)\n",
    "###### Input:"
   ]
  },
  {
   "cell_type": "code",
   "execution_count": 6,
   "metadata": {},
   "outputs": [],
   "source": [
    "#python program to draw rectangle on image using cv2.rectangle() function.\n",
    "import cv2\n",
    "import numpy as np\n",
    "img = cv2.imread('extras2/blk3.jpg',1)\n",
    "img = cv2.rectangle(img,(50,50),(255,255),(0,0,255),5) #if thickness is -1 then rectangle will be filled with color.\n",
    "cv2.imshow('image',img)\n",
    "cv2.waitKey(0)\n",
    "cv2.destroyAllWindows() \n",
    "#this program will show red coloured rectangle on image."
   ]
  },
  {
   "cell_type": "markdown",
   "metadata": {},
   "source": [
    "<br>\n",
    "\n",
    "##  4) cv2.circle()\n",
    "\n",
    "###### Parameters:\n",
    "    cv2.circle(img, (pt1, pt2), radius, color, thickness)\n",
    "    \n",
    "###### Input:"
   ]
  },
  {
   "cell_type": "code",
   "execution_count": 7,
   "metadata": {},
   "outputs": [],
   "source": [
    "#python program to draw line on image using cv2.circle() function.\n",
    "import cv2\n",
    "import numpy as np\n",
    "img = cv2.imread('extras2/blk3.jpg',1)\n",
    "img = cv2.circle(img,(255,255),63,(255,255,255),-1) #as the thickness is -1 the circle will be filled with color.\n",
    "cv2.imshow('image',img)\n",
    "cv2.waitKey(0)\n",
    "cv2.destroyAllWindows() \n",
    "#this program will show white coloured circle on image."
   ]
  },
  {
   "cell_type": "markdown",
   "metadata": {},
   "source": [
    "<br>\n",
    "\n",
    "##  5) cv2.ellipse()\n",
    "\n",
    "###### Parameters:\n",
    "    cv2.ellipse(img, (pt1, pt2), (h, w), r_angle, s_angle, f_angle, color, thickness)  \n",
    "###### Input:\n"
   ]
  },
  {
   "cell_type": "code",
   "execution_count": 8,
   "metadata": {},
   "outputs": [],
   "source": [
    "#python program to draw ellipse on image using cv2.ellipse() function.\n",
    "import cv2\n",
    "import numpy as np\n",
    "img = cv2.imread('extras2/blk3.jpg',1)\n",
    "img = cv2.ellipse(img,(256,256),(100,50),0,0,180,255,-1)\n",
    "cv2.imshow('image',img)\n",
    "cv2.waitKey(0)\n",
    "cv2.destroyAllWindows() \n",
    "#this program will show blue coloured ellipse on image."
   ]
  },
  {
   "cell_type": "markdown",
   "metadata": {},
   "source": [
    "<br>\n",
    "\n",
    "##  6) cv2.polylines()\n",
    "\n",
    "###### Parameters:\n",
    "    cv2.polylines(img, array, true/false, color, thickness)\n",
    "    \n",
    "###### Input:"
   ]
  },
  {
   "cell_type": "code",
   "execution_count": 9,
   "metadata": {},
   "outputs": [],
   "source": [
    "#python program to draw polygon on image using cv2.polylines function.\n",
    "import cv2\n",
    "import numpy as np\n",
    "img = cv2.imread('extras2/blk3.jpg',1)\n",
    "pts = np.array([[400,50],[20,30],[70,20],[50,10]], np.int32)\n",
    "pts = pts.reshape((-1,1,2))\n",
    "cv2.polylines(img,[pts],True,(0,0,255))\n",
    "cv2.imshow('image',img)\n",
    "cv2.waitKey(0)\n",
    "cv2.destroyAllWindows() \n",
    "#this program will show red coloured polygon on image."
   ]
  },
  {
   "cell_type": "markdown",
   "metadata": {},
   "source": [
    "<br>\n",
    "\n",
    "##  7) cv2.putText()\n",
    "\n",
    "###### Parameters:\n",
    "    cv2.putText(img, (pt1, pt2), font_style, size, color, thickness, line_style)\n",
    "###### Input:"
   ]
  },
  {
   "cell_type": "code",
   "execution_count": null,
   "metadata": {},
   "outputs": [],
   "source": [
    "#python program to write text on image using cv2.putText() function.\n",
    "import cv2\n",
    "import numpy as np\n",
    "img = cv2.imread('extras2/blk3.jpg',1)\n",
    "font = cv2.FONT_HERSHEY_SIMPLEX\n",
    "img = cv2.putText(img,'sample text',(50,50),font,2,(255,0,0),8,cv2.LINE_AA)\n",
    "cv2.imshow('image',img)\n",
    "cv2.waitKey(0)\n",
    "cv2.destroyAllWindows() \n",
    "#this program will show blue coloured text on image."
   ]
  }
 ],
 "metadata": {
  "kernelspec": {
   "display_name": "Python 3",
   "language": "python",
   "name": "python3"
  },
  "language_info": {
   "codemirror_mode": {
    "name": "ipython",
    "version": 3
   },
   "file_extension": ".py",
   "mimetype": "text/x-python",
   "name": "python",
   "nbconvert_exporter": "python",
   "pygments_lexer": "ipython3",
   "version": "3.8.6rc1"
  }
 },
 "nbformat": 4,
 "nbformat_minor": 4
}
