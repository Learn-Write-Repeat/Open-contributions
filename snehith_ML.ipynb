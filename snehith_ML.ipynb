{
 "cells": [
  {
   "cell_type": "markdown",
   "metadata": {},
   "source": [
    "1.\n",
    "From this module i basically got the defintion of machine learning,and what does machine learning and how does machine learning helps to solve real world problems.Here from this module I understood the types of machine learning.I understood the difference between supervised and unsupervised learning.I also understood in which scenario which technique is used to solve problem, such as if my outputshould be a prediction i use supervised learning algorithms,if it is a classification kind of problem i use unsupervised machine learning algorithms.I also learnt when to use which algorithm based on the data available. I learnt various statistical concepts like scaling,normalization,precision,recall etc.... Specially in this module I completely understood about regression problem and various algorithms to solve regression prolems like linear regression and polynomial regression.\n"
   ]
  },
  {
   "cell_type": "markdown",
   "metadata": {},
   "source": [
    "2.\n",
    "I completely understood about linear Regression and the math behind linear regression how the mean squared error is calculated and how gradient descent works to decrease the cost function and draw best fit line according to it."
   ]
  },
  {
   "cell_type": "markdown",
   "metadata": {},
   "source": [
    "3.In this module i completely understood how linear regression,polynomial regression and support vectors regression ,voting regression and random forest regression we cannot always fdirectly apply linearregression model on raw data because:-\n",
    "(i)The data may not be normally distributed.\n",
    "(ii)The data may contain outliers.\n",
    "(iii) If the data is really following linear relationship.\n",
    "\n",
    "we should also know which attributes are following linear relationship with the output feauture for that we use corelation technique which shows which feautures are highly corelated with the output feauture and which we can use for predicting the output canbe known usiing corelation matrix.\n",
    "And now based on corelation matrix we select specific features which are corealted.\n",
    "The most important thing is to detect and remove outliers from the data using box plot we can identify or if we normalize the data we can get the outliers and that outliers are dleted from the dataset.\n",
    "\n",
    "Now,apply linear regression algorithm intially and we predict the score if the score is high the data is perfectly following linear relationship.\n",
    "If the score is low now its time to think further and here comes into the picture the polynomial regression."
   ]
  },
  {
   "cell_type": "markdown",
   "metadata": {},
   "source": [
    "using poly_features method we can convert our data and fit the converted data into linear regression model ,here the difference is this time the best fit line looks like polynomaila curve. which causes error to decrease and prediction increases"
   ]
  },
  {
   "cell_type": "markdown",
   "metadata": {},
   "source": [
    "If the model prediction is still not good we can try on with supoort vector regression ,support vector regressor works effectively than normal linear regression and depending on the data we have we can use voting regresor as well and if all models fails to give good accuracy here comes the powerful regression technique thatis random forest regression\n",
    "where the data is fitted into various decison tree regressors and based on the all the values given by the decison tree regressors the random forest algorithm ifnds out the mean of the data andgives us the approximately nearer result.\n"
   ]
  },
  {
   "cell_type": "code",
   "execution_count": null,
   "metadata": {},
   "outputs": [],
   "source": []
  }
 ],
 "metadata": {
  "kernelspec": {
   "display_name": "Python 3",
   "language": "python",
   "name": "python3"
  },
  "language_info": {
   "codemirror_mode": {
    "name": "ipython",
    "version": 3
   },
   "file_extension": ".py",
   "mimetype": "text/x-python",
   "name": "python",
   "nbconvert_exporter": "python",
   "pygments_lexer": "ipython3",
   "version": "3.7.6"
  }
 },
 "nbformat": 4,
 "nbformat_minor": 4
}
