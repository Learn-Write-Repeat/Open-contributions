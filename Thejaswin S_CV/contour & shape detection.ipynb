{
 "cells": [
  {
   "cell_type": "code",
   "execution_count": 2,
   "metadata": {},
   "outputs": [
    {
     "data": {
      "text/plain": [
       "-1"
      ]
     },
     "execution_count": 2,
     "metadata": {},
     "output_type": "execute_result"
    }
   ],
   "source": [
    "# import the necessary packages\n",
    "import imutils\n",
    "import cv2\n",
    "# load the image, convert it to grayscale, and blur it slightly\n",
    "image = cv2.imread(\"hand1.jpg\")\n",
    "gray = cv2.cvtColor(image, cv2.COLOR_BGR2GRAY)\n",
    "gray = cv2.GaussianBlur(gray, (5, 5), 0)\n",
    "# threshold the image, then perform a series of erosions +\n",
    "# dilations to remove any small regions of noise\n",
    "thresh = cv2.threshold(gray, 45, 255, cv2.THRESH_BINARY)[1]\n",
    "thresh = cv2.erode(thresh, None, iterations=2)\n",
    "thresh = cv2.dilate(thresh, None, iterations=2)\n",
    "# find contours in thresholded image, then grab the largest\n",
    "# one\n",
    "cnts = cv2.findContours(thresh.copy(), cv2.RETR_EXTERNAL,cv2.CHAIN_APPROX_SIMPLE)\n",
    "cnts = imutils.grab_contours(cnts)\n",
    "c = max(cnts, key=cv2.contourArea)\n",
    "# determine the most extreme points along the contour\n",
    "extLeft = tuple(c[c[:, :, 0].argmin()][0])\n",
    "extRight = tuple(c[c[:, :, 0].argmax()][0])\n",
    "extTop = tuple(c[c[:, :, 1].argmin()][0])\n",
    "extBot = tuple(c[c[:, :, 1].argmax()][0])\n",
    "# draw the outline of the object, then draw each of the\n",
    "# extreme points, where the left-most is red, right-most\n",
    "# is green, top-most is blue, and bottom-most is teal\n",
    "cv2.drawContours(image, [c], -1, (0, 255, 255), 2)\n",
    "cv2.circle(image, extLeft, 8, (0, 0, 255), -1)\n",
    "cv2.circle(image, extRight, 8, (0, 255, 0), -1)\n",
    "cv2.circle(image, extTop, 8, (255, 0, 0), -1)\n",
    "cv2.circle(image, extBot, 8, (255, 255, 0), -1)\n",
    "# show the output image\n",
    "cv2.imshow(\"Image\", image)\n",
    "cv2.waitKey(0)"
   ]
  },
  {
   "cell_type": "code",
   "execution_count": 3,
   "metadata": {},
   "outputs": [],
   "source": [
    "import numpy as np \n",
    "import cv2 \n",
    "  \n",
    "# Reading image \n",
    "font = cv2.FONT_HERSHEY_COMPLEX \n",
    "img2 = cv2.imread('shapes.jpg', cv2.IMREAD_COLOR) \n",
    "  \n",
    "# Reading same image in another  \n",
    "# variable and converting to gray scale. \n",
    "img = cv2.imread('shapes.jpg', cv2.IMREAD_GRAYSCALE) \n",
    "  \n",
    "# Converting image to a binary image \n",
    "# ( black and white only image). \n",
    "_, threshold = cv2.threshold(img, 110, 255, cv2.THRESH_BINARY) \n",
    "  \n",
    "# Detecting contours in image. \n",
    "contours, _= cv2.findContours(threshold, cv2.RETR_TREE, \n",
    "                               cv2.CHAIN_APPROX_SIMPLE) \n",
    "  \n",
    "# Going through every contours found in the image. \n",
    "for cnt in contours : \n",
    "  \n",
    "    approx = cv2.approxPolyDP(cnt, 0.009 * cv2.arcLength(cnt, True), True) \n",
    "  \n",
    "    # draws boundary of contours. \n",
    "    cv2.drawContours(img2, [approx], 0, (0, 0, 255), 5)  \n",
    "  \n",
    "    # Used to flatted the array containing \n",
    "    # the co-ordinates of the vertices. \n",
    "    n = approx.ravel()  \n",
    "    i = 0\n",
    "  \n",
    "    for j in n : \n",
    "        if(i % 2 == 0): \n",
    "            x = n[i] \n",
    "            y = n[i + 1] \n",
    "  \n",
    "            # String containing the co-ordinates. \n",
    "            string = str(x) + \" \" + str(y)  \n",
    "  \n",
    "            if(i == 0): \n",
    "                # text on topmost co-ordinate. \n",
    "                cv2.putText(img2, \"Arrow tip\", (x, y), \n",
    "                                font, 0.5, (255, 0, 0))  \n",
    "            else: \n",
    "                # text on remaining co-ordinates. \n",
    "                cv2.putText(img2, string, (x, y),  \n",
    "                          font, 0.5, (0, 255, 0))  \n",
    "        i = i + 1\n",
    "  \n",
    "# Showing the final image. \n",
    "cv2.imshow('image2', img2)  \n",
    "  \n",
    "# Exiting the window if 'q' is pressed on the keyboard. \n",
    "if cv2.waitKey(0) & 0xFF == ord('q'):  \n",
    "    cv2.destroyAllWindows() "
   ]
  },
  {
   "cell_type": "code",
   "execution_count": null,
   "metadata": {},
   "outputs": [],
   "source": []
  }
 ],
 "metadata": {
  "kernelspec": {
   "display_name": "Python 3",
   "language": "python",
   "name": "python3"
  },
  "language_info": {
   "codemirror_mode": {
    "name": "ipython",
    "version": 3
   },
   "file_extension": ".py",
   "mimetype": "text/x-python",
   "name": "python",
   "nbconvert_exporter": "python",
   "pygments_lexer": "ipython3",
   "version": "3.8.5"
  }
 },
 "nbformat": 4,
 "nbformat_minor": 4
}
