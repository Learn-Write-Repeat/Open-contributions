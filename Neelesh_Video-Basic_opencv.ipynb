{
 "cells": [
  {
   "cell_type": "markdown",
   "metadata": {},
   "source": [
    "**Guide**\n",
    "\n",
    "* Create a draw_circle function for the callback function\n",
    "* Use two events cv2.EVENT_LBUTTONDOWN and cv2.EVENT_LBUTTONUP\n",
    "* Use a boolean variable to keep track if the mouse has been clicked up and down based on the events above\n",
    "* Use a tuple to keep track of the x and y where the mouse was clicked.\n",
    "* You should be able to then draw a circle on the frame based on the x,y coordinates from the Event \n",
    "\n",
    "Check out the skeleton guide below:"
   ]
  },
  {
   "cell_type": "code",
   "execution_count": 9,
   "metadata": {},
   "outputs": [],
   "source": [
    "# Create a function based on a CV2 Event (Left button click)\n",
    "\n",
    "# mouse callback function\n",
    "def draw_circle(event,x,y,flags,param):\n",
    "\n",
    "    global center,clicked\n",
    "\n",
    "    # get mouse click on down and track center\n",
    "    if event == cv2.EVENT_LBUTTONDOWN:\n",
    "        center = (x, y)\n",
    "        clicked = False\n",
    "    \n",
    "    # Use boolean variable to track if the mouse has been released\n",
    "    if event == cv2.EVENT_LBUTTONUP:\n",
    "        clicked = True\n",
    "\n",
    "        \n",
    "# Haven't drawn anything yet!\n",
    "center = (0,0)\n",
    "clicked = False\n",
    "\n",
    "\n",
    "# Capture Video\n",
    "cap = cv2.VideoCapture(0) \n",
    "\n",
    "# Create a named window for connections\n",
    "cv2.namedWindow('Test')\n",
    "\n",
    "# Bind draw_rectangle function to mouse cliks\n",
    "cv2.setMouseCallback('Test', draw_circle) \n",
    "\n",
    "\n",
    "while True:\n",
    "    # Capture frame-by-frame\n",
    "    ret, frame = cap.read()\n",
    "\n",
    "    # Use if statement to see if clicked is true\n",
    "    if clicked==True:\n",
    "        # Draw circle on frame\n",
    "        cv2.circle(frame, center=center, radius=50, color=(255,0,0), thickness=5)\n",
    "        \n",
    "    # Display the resulting frame\n",
    "    cv2.imshow('Test', frame)\n",
    "\n",
    "    # This command let's us quit with the \"q\" button on a keyboard.\n",
    "    # Simply pressing X on the window won't work!\n",
    "    if cv2.waitKey(1) & 0xFF == ord('q'):\n",
    "        break\n",
    "\n",
    "# When everything is done, release the capture\n",
    "cap.release()\n",
    "cv2.destroyAllWindows()"
   ]
  },
  {
   "cell_type": "code",
   "execution_count": null,
   "metadata": {},
   "outputs": [],
   "source": []
  }
 ],
 "metadata": {
  "kernelspec": {
   "display_name": "Python 3",
   "language": "python",
   "name": "python3"
  },
  "language_info": {
   "codemirror_mode": {
    "name": "ipython",
    "version": 3
   },
   "file_extension": ".py",
   "mimetype": "text/x-python",
   "name": "python",
   "nbconvert_exporter": "python",
   "pygments_lexer": "ipython3",
   "version": "3.7.3"
  }
 },
 "nbformat": 4,
 "nbformat_minor": 2
}
