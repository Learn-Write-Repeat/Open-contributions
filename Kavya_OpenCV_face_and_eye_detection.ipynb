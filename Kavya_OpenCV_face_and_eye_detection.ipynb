{
 "cells": [
  {
   "cell_type": "markdown",
   "metadata": {},
   "source": [
    "## Face and Eye Detection Using Haar Classifier"
   ]
  },
  {
   "cell_type": "code",
   "execution_count": 1,
   "metadata": {},
   "outputs": [],
   "source": [
    "##import OpenCV library\n",
    "import cv2  \n",
    "##load the required XML classifiers\n",
    "face_cascade = cv2.CascadeClassifier('F:/is setup/haarcascade_frontalface_default.xml')\n",
    "eye_cascade = cv2.CascadeClassifier('F:/is setup/haarcascade_eye.xml')   \n",
    "##capture the frames from camera\n",
    "cap = cv2.VideoCapture(0) \n",
    "##using while loop fetch each frame from camera\n",
    "while 1:  \n",
    "    ret, img = cap.read() \n",
    "##convert frames into grayscale     \n",
    "    gray = cv2.cvtColor(img, cv2.COLOR_BGR2GRAY) \n",
    "    faces = face_cascade.detectMultiScale(gray, 1.3, 5)\n",
    "##form a rectangle around the face and eye of the detected image from the camera   \n",
    "    for (x,y,w,h) in faces: \n",
    "        cv2.rectangle(img,(x,y),(x+w,y+h),(255,255,0),2)  \n",
    "        roi_gray = gray[y:y+h, x:x+w] \n",
    "        roi_color = img[y:y+h, x:x+w]\n",
    "        eyes = eye_cascade.detectMultiScale(roi_gray)  \n",
    "        for (ex,ey,ew,eh) in eyes: \n",
    "            cv2.rectangle(roi_color,(ex,ey),(ex+ew,ey+eh),(0,127,255),2)\n",
    "##display the detected face and eye from the camera            \n",
    "    cv2.imshow('img',img) \n",
    "###break the loop by pressing esc button    \n",
    "    k = cv2.waitKey(30) & 0xff\n",
    "    if k == 27: \n",
    "        break\n",
    "cap.release() \n",
    "cv2.destroyAllWindows()  "
   ]
  },
  {
   "cell_type": "code",
   "execution_count": null,
   "metadata": {},
   "outputs": [],
   "source": []
  }
 ],
 "metadata": {
  "kernelspec": {
   "display_name": "Python 3",
   "language": "python",
   "name": "python3"
  },
  "language_info": {
   "codemirror_mode": {
    "name": "ipython",
    "version": 3
   },
   "file_extension": ".py",
   "mimetype": "text/x-python",
   "name": "python",
   "nbconvert_exporter": "python",
   "pygments_lexer": "ipython3",
   "version": "3.8.3"
  }
 },
 "nbformat": 4,
 "nbformat_minor": 4
}
