{
  "nbformat": 4,
  "nbformat_minor": 0,
  "metadata": {
    "colab": {
      "name": "Untitled2.ipynb",
      "provenance": []
    },
    "kernelspec": {
      "name": "python3",
      "display_name": "Python 3"
    }
  },
  "cells": [
    {
      "cell_type": "markdown",
      "metadata": {
        "id": "ftFZPTFKxcSu",
        "colab_type": "text"
      },
      "source": [
        "# **PYTHON 3 Programming**"
      ]
    },
    {
      "cell_type": "markdown",
      "metadata": {
        "id": "Sn0l4ktXxxgE",
        "colab_type": "text"
      },
      "source": [
        "So lets type our first line of code.\n"
      ]
    },
    {
      "cell_type": "code",
      "metadata": {
        "id": "eWJvWfnxx3Xo",
        "colab_type": "code",
        "colab": {
          "base_uri": "https://localhost:8080/",
          "height": 51
        },
        "outputId": "04574998-6a2d-45d0-9688-4ae1fed84420"
      },
      "source": [
        "print('Hello, World!')\n",
        "print(\"DevIncept\")"
      ],
      "execution_count": 2,
      "outputs": [
        {
          "output_type": "stream",
          "text": [
            "Hello, World!\n",
            "DevIncept\n"
          ],
          "name": "stdout"
        }
      ]
    },
    {
      "cell_type": "markdown",
      "metadata": {
        "id": "ZDCUP-6OyHtl",
        "colab_type": "text"
      },
      "source": [
        "You can write your name or anything you wish to write.Tinker with the code as much as you want. \n"
      ]
    },
    {
      "cell_type": "markdown",
      "metadata": {
        "id": "96z9mC6TypIO",
        "colab_type": "text"
      },
      "source": [
        "## **Variables** \n"
      ]
    },
    {
      "cell_type": "code",
      "metadata": {
        "id": "gIXE0NaQzVpY",
        "colab_type": "code",
        "colab": {
          "base_uri": "https://localhost:8080/",
          "height": 34
        },
        "outputId": "7384c3b8-bd4f-4b00-abd4-8d4960454aab"
      },
      "source": [
        "Name= 'John'\n",
        "Age= 19\n",
        "Company= 'DevIncept'\n",
        "print(Name,Age,Company)"
      ],
      "execution_count": 3,
      "outputs": [
        {
          "output_type": "stream",
          "text": [
            "John 19 DevIncept\n"
          ],
          "name": "stdout"
        }
      ]
    },
    {
      "cell_type": "code",
      "metadata": {
        "id": "6m1njYpNzehr",
        "colab_type": "code",
        "colab": {
          "base_uri": "https://localhost:8080/",
          "height": 34
        },
        "outputId": "bad7e87e-3210-43e6-c821-37f68a5aa7f6"
      },
      "source": [
        "x=19\n",
        "x='DevIncept'\n",
        "print(x)"
      ],
      "execution_count": 4,
      "outputs": [
        {
          "output_type": "stream",
          "text": [
            "DevIncept\n"
          ],
          "name": "stdout"
        }
      ]
    },
    {
      "cell_type": "code",
      "metadata": {
        "id": "nHa_ib7bznZd",
        "colab_type": "code",
        "colab": {
          "base_uri": "https://localhost:8080/",
          "height": 34
        },
        "outputId": "d960bbbb-00b4-4802-acb7-4dc4baa4453d"
      },
      "source": [
        "x=19\n",
        "x=23\n",
        "print(x)"
      ],
      "execution_count": 5,
      "outputs": [
        {
          "output_type": "stream",
          "text": [
            "23\n"
          ],
          "name": "stdout"
        }
      ]
    },
    {
      "cell_type": "markdown",
      "metadata": {
        "id": "m_U6e04vzvdK",
        "colab_type": "text"
      },
      "source": [
        "**Again play with the code as much as you want**\n"
      ]
    },
    {
      "cell_type": "markdown",
      "metadata": {
        "id": "NMMYq7HTz7Wm",
        "colab_type": "text"
      },
      "source": [
        "### **Naming of Variables**\n"
      ]
    },
    {
      "cell_type": "markdown",
      "metadata": {
        "id": "x6kR6nLr0WUD",
        "colab_type": "text"
      },
      "source": [
        "**Valid Variable Names**\n"
      ]
    },
    {
      "cell_type": "code",
      "metadata": {
        "id": "me_WNk49z4Uk",
        "colab_type": "code",
        "colab": {
          "base_uri": "https://localhost:8080/",
          "height": 68
        },
        "outputId": "6d616f5a-477e-42c9-e6c0-4bde2aed983e"
      },
      "source": [
        "#Valid Variable names\n",
        "myvariable1=\"DevIncept\"\n",
        "my_variable=\"JaneDoe\"\n",
        "_variable=17\n",
        "print(myvariable1)\n",
        "print(my_variable)\n",
        "print(_variable)"
      ],
      "execution_count": 8,
      "outputs": [
        {
          "output_type": "stream",
          "text": [
            "DevIncept\n",
            "JaneDoe\n",
            "17\n"
          ],
          "name": "stdout"
        }
      ]
    },
    {
      "cell_type": "markdown",
      "metadata": {
        "id": "wY-BScE-0gsW",
        "colab_type": "text"
      },
      "source": [
        "**Invalid Variable Names**\n",
        "\n"
      ]
    },
    {
      "cell_type": "code",
      "metadata": {
        "id": "9n65RU8I0la0",
        "colab_type": "code",
        "colab": {
          "base_uri": "https://localhost:8080/",
          "height": 129
        },
        "outputId": "8ff0310b-46c4-4036-de71-a24541c6c3fd"
      },
      "source": [
        "invalid-variable='Mahendra'\n",
        "8variable=19\n",
        "invalid name='Doe'"
      ],
      "execution_count": 9,
      "outputs": [
        {
          "output_type": "error",
          "ename": "SyntaxError",
          "evalue": "ignored",
          "traceback": [
            "\u001b[0;36m  File \u001b[0;32m\"<ipython-input-9-a0e214e62e26>\"\u001b[0;36m, line \u001b[0;32m2\u001b[0m\n\u001b[0;31m    8variable=19\u001b[0m\n\u001b[0m            ^\u001b[0m\n\u001b[0;31mSyntaxError\u001b[0m\u001b[0;31m:\u001b[0m invalid syntax\n"
          ]
        }
      ]
    },
    {
      "cell_type": "markdown",
      "metadata": {
        "id": "j6Tp4bgi0ysn",
        "colab_type": "text"
      },
      "source": [
        "### **Short Hand for assigning multiple variables in one line**\n"
      ]
    },
    {
      "cell_type": "code",
      "metadata": {
        "id": "mfCjMfLD08cr",
        "colab_type": "code",
        "colab": {
          "base_uri": "https://localhost:8080/",
          "height": 68
        },
        "outputId": "1f2e8c03-6792-4e41-d440-52913222abd1"
      },
      "source": [
        "fruit,color,cost= \"Apple\",\"Green\",15.75\n",
        "print(fruit)\n",
        "print(color)\n",
        "print(cost)"
      ],
      "execution_count": 10,
      "outputs": [
        {
          "output_type": "stream",
          "text": [
            "Apple\n",
            "Green\n",
            "15.75\n"
          ],
          "name": "stdout"
        }
      ]
    },
    {
      "cell_type": "markdown",
      "metadata": {
        "id": "n42rtt981Krp",
        "colab_type": "text"
      },
      "source": [
        "## **Data Types**\n"
      ]
    },
    {
      "cell_type": "code",
      "metadata": {
        "id": "Z7wKctJd1PHa",
        "colab_type": "code",
        "colab": {
          "base_uri": "https://localhost:8080/",
          "height": 34
        },
        "outputId": "17d4eb7b-3803-43c0-f952-3a906b753dce"
      },
      "source": [
        "name=\"DevIncept\"\n",
        "print(type(name))"
      ],
      "execution_count": 11,
      "outputs": [
        {
          "output_type": "stream",
          "text": [
            "<class 'str'>\n"
          ],
          "name": "stdout"
        }
      ]
    },
    {
      "cell_type": "code",
      "metadata": {
        "id": "GDh67kE21VE6",
        "colab_type": "code",
        "colab": {
          "base_uri": "https://localhost:8080/",
          "height": 34
        },
        "outputId": "252da4fe-066e-4d99-d951-f1863f2c8ea1"
      },
      "source": [
        "age=20\n",
        "print(type(age))"
      ],
      "execution_count": 12,
      "outputs": [
        {
          "output_type": "stream",
          "text": [
            "<class 'int'>\n"
          ],
          "name": "stdout"
        }
      ]
    },
    {
      "cell_type": "markdown",
      "metadata": {
        "id": "3Y1MCMOq1di7",
        "colab_type": "text"
      },
      "source": [
        "### **Python Numbers**"
      ]
    },
    {
      "cell_type": "code",
      "metadata": {
        "id": "ArLstHw01gHg",
        "colab_type": "code",
        "colab": {
          "base_uri": "https://localhost:8080/",
          "height": 102
        },
        "outputId": "be198c7f-abf0-4a6d-a902-3bfd0e5d94a0"
      },
      "source": [
        "#int\n",
        "x=123\n",
        "y=-987\n",
        "z=687969176975\n",
        "  \n",
        "#float\n",
        "a=23.897\n",
        "b=-4.87970879879\n",
        "  \n",
        "print(type(x))\n",
        "print(type(y))\n",
        "print(type(z))\n",
        "print(type(a))\n",
        "print(type(b))"
      ],
      "execution_count": 13,
      "outputs": [
        {
          "output_type": "stream",
          "text": [
            "<class 'int'>\n",
            "<class 'int'>\n",
            "<class 'int'>\n",
            "<class 'float'>\n",
            "<class 'float'>\n"
          ],
          "name": "stdout"
        }
      ]
    },
    {
      "cell_type": "markdown",
      "metadata": {
        "id": "4FK_4OAa1tF6",
        "colab_type": "text"
      },
      "source": [
        "**Some Calculations for fun!!!**"
      ]
    },
    {
      "cell_type": "code",
      "metadata": {
        "id": "jho36vC01zpW",
        "colab_type": "code",
        "colab": {
          "base_uri": "https://localhost:8080/",
          "height": 68
        },
        "outputId": "bf35f08b-9704-4501-ffcb-489d08c5afb8"
      },
      "source": [
        "   a=30\n",
        "   b=20\n",
        "   sum=a+b #does the addition\n",
        "   diff=a-b #does the subtraction\n",
        "   div=a/b #does the division\n",
        "   print(sum)\n",
        "   print(diff)\n",
        "   print(div)"
      ],
      "execution_count": 14,
      "outputs": [
        {
          "output_type": "stream",
          "text": [
            "50\n",
            "10\n",
            "1.5\n"
          ],
          "name": "stdout"
        }
      ]
    },
    {
      "cell_type": "markdown",
      "metadata": {
        "id": "aRgywXkd1-XS",
        "colab_type": "text"
      },
      "source": [
        "#### **Type Conversion**"
      ]
    },
    {
      "cell_type": "code",
      "metadata": {
        "id": "RFXf2as12BOh",
        "colab_type": "code",
        "colab": {
          "base_uri": "https://localhost:8080/",
          "height": 85
        },
        "outputId": "724ab3bc-6f04-45de-9b87-6ef88aca3561"
      },
      "source": [
        "   a=5 #int\n",
        "   b=7.7 #float\n",
        "   \n",
        "   #converting from int to float:\n",
        "   x=float(a)\n",
        "   \n",
        "   #converting from float to int:\n",
        "   y=int(b)\n",
        "   \n",
        "   print(x)\n",
        "   print(y)\n",
        "   print(type(x))\n",
        "   print(type(y))"
      ],
      "execution_count": 15,
      "outputs": [
        {
          "output_type": "stream",
          "text": [
            "5.0\n",
            "7\n",
            "<class 'float'>\n",
            "<class 'int'>\n"
          ],
          "name": "stdout"
        }
      ]
    },
    {
      "cell_type": "markdown",
      "metadata": {
        "id": "Omt8NJgg2MR5",
        "colab_type": "text"
      },
      "source": [
        "**Python Casting**"
      ]
    },
    {
      "cell_type": "code",
      "metadata": {
        "id": "jgtlNdbr2O6f",
        "colab_type": "code",
        "colab": {
          "base_uri": "https://localhost:8080/",
          "height": 85
        },
        "outputId": "9042daa6-4333-4b42-da13-d9611022d753"
      },
      "source": [
        "   x=int(\"56\") # x will be 56 \n",
        "   y=int(8.9)  # y will be 8\n",
        "   z=float(56) # z will be 56.0\n",
        "   a=str(56)   # a will be '56'\n",
        "   print(x)\n",
        "   print(y)\n",
        "   print(z)\n",
        "   print(a)"
      ],
      "execution_count": 16,
      "outputs": [
        {
          "output_type": "stream",
          "text": [
            "56\n",
            "8\n",
            "56.0\n",
            "56\n"
          ],
          "name": "stdout"
        }
      ]
    },
    {
      "cell_type": "markdown",
      "metadata": {
        "id": "tfaVK0NT2fE7",
        "colab_type": "text"
      },
      "source": [
        "## **Pyhton Strings**"
      ]
    },
    {
      "cell_type": "code",
      "metadata": {
        "id": "GWn-V_Rj2kG7",
        "colab_type": "code",
        "colab": {
          "base_uri": "https://localhost:8080/",
          "height": 136
        },
        "outputId": "cd3fe2fd-d34f-4902-ac72-bd1cb34855cc"
      },
      "source": [
        "   print('hello')\n",
        "   print(\"hello\")\n",
        "   \n",
        "   #Strings assigned in variables\n",
        "   a= 'DevIncept'\n",
        "   print(a)\n",
        "   \n",
        "   #Multiline Strings\n",
        "   a = \"\"\"Lorem ipsum dolor sit amet,\n",
        "   consectetur adipiscing elit,\n",
        "   sed do eiusmod tempor incididunt\n",
        "   ut labore et dolore magna aliqua.\"\"\"\n",
        "   print(a)"
      ],
      "execution_count": 17,
      "outputs": [
        {
          "output_type": "stream",
          "text": [
            "hello\n",
            "hello\n",
            "DevIncept\n",
            "Lorem ipsum dolor sit amet,\n",
            "consectetur adipiscing elit,\n",
            "sed do eiusmod tempor incididunt\n",
            "ut labore et dolore magna aliqua.\n"
          ],
          "name": "stdout"
        }
      ]
    },
    {
      "cell_type": "markdown",
      "metadata": {
        "id": "y8Ke0_Uf2xDr",
        "colab_type": "text"
      },
      "source": [
        "### **Strings as Arrays**\n"
      ]
    },
    {
      "cell_type": "code",
      "metadata": {
        "id": "YOL8Bgba2s0k",
        "colab_type": "code",
        "colab": {
          "base_uri": "https://localhost:8080/",
          "height": 68
        },
        "outputId": "f6f25124-cc59-4002-e2e5-979a243fa2e7"
      },
      "source": [
        "   a='DevIncept'\n",
        "   print(a[0]) #prints the first letter\n",
        "   print(a[-1]) #prints the last letter\n",
        "   print(a[2]) #prints the third letter"
      ],
      "execution_count": 18,
      "outputs": [
        {
          "output_type": "stream",
          "text": [
            "D\n",
            "t\n",
            "v\n"
          ],
          "name": "stdout"
        }
      ]
    },
    {
      "cell_type": "markdown",
      "metadata": {
        "id": "BB_c3c7326lL",
        "colab_type": "text"
      },
      "source": [
        "### **String Concatenation**"
      ]
    },
    {
      "cell_type": "code",
      "metadata": {
        "id": "lGsSS3r53AT8",
        "colab_type": "code",
        "colab": {
          "base_uri": "https://localhost:8080/",
          "height": 34
        },
        "outputId": "bfab71ef-0326-4577-f482-f005d697851c"
      },
      "source": [
        "   a=\"DevIncept \"\n",
        "   b=\"is a great \"\n",
        "   c=\"Company\"\n",
        "   print(a+b+c)"
      ],
      "execution_count": 19,
      "outputs": [
        {
          "output_type": "stream",
          "text": [
            "DevIncept is a great Company\n"
          ],
          "name": "stdout"
        }
      ]
    },
    {
      "cell_type": "markdown",
      "metadata": {
        "id": "mCgD96f55ygr",
        "colab_type": "text"
      },
      "source": [
        "### **String Slicing**"
      ]
    },
    {
      "cell_type": "code",
      "metadata": {
        "id": "3EhDik0a51yN",
        "colab_type": "code",
        "colab": {
          "base_uri": "https://localhost:8080/",
          "height": 34
        },
        "outputId": "94527cac-c428-4560-ca63-373bf55d72a6"
      },
      "source": [
        "   a='DevIncept'\n",
        "   print(a[0:3])"
      ],
      "execution_count": 20,
      "outputs": [
        {
          "output_type": "stream",
          "text": [
            "Dev\n"
          ],
          "name": "stdout"
        }
      ]
    },
    {
      "cell_type": "markdown",
      "metadata": {
        "id": "YQZ1eFmD6DYw",
        "colab_type": "text"
      },
      "source": [
        "### **String Methods**"
      ]
    },
    {
      "cell_type": "code",
      "metadata": {
        "id": "2J5Kyrqk6AkT",
        "colab_type": "code",
        "colab": {
          "base_uri": "https://localhost:8080/",
          "height": 51
        },
        "outputId": "9bd97cb1-b89f-4494-9be2-9fbfa18eff54"
      },
      "source": [
        "   a='DevIncept'\n",
        "   print(a.lower()) # all lowercase\n",
        "   print(a.upper()) # all uppercase"
      ],
      "execution_count": 21,
      "outputs": [
        {
          "output_type": "stream",
          "text": [
            "devincept\n",
            "DEVINCEPT\n"
          ],
          "name": "stdout"
        }
      ]
    },
    {
      "cell_type": "markdown",
      "metadata": {
        "id": "QvMp_taZ6MBE",
        "colab_type": "text"
      },
      "source": [
        "### **Escape Characters**"
      ]
    },
    {
      "cell_type": "code",
      "metadata": {
        "id": "RJmPQxSg6RvC",
        "colab_type": "code",
        "colab": {
          "base_uri": "https://localhost:8080/",
          "height": 34
        },
        "outputId": "10844b3b-1c26-4b34-d737-ba78cd876c46"
      },
      "source": [
        "   txt = \"We are the so-called \\\"Vikings\\\" from the north.\"\n",
        "   print(txt)"
      ],
      "execution_count": 22,
      "outputs": [
        {
          "output_type": "stream",
          "text": [
            "We are the so-called \"Vikings\" from the north.\n"
          ],
          "name": "stdout"
        }
      ]
    },
    {
      "cell_type": "markdown",
      "metadata": {
        "id": "GVzavsNj6W9N",
        "colab_type": "text"
      },
      "source": [
        "## **Python Boolean**"
      ]
    },
    {
      "cell_type": "code",
      "metadata": {
        "id": "pyhxOB9i6Zhc",
        "colab_type": "code",
        "colab": {
          "base_uri": "https://localhost:8080/",
          "height": 85
        },
        "outputId": "5565f91e-57c3-4b9f-dab3-99560dcfb667"
      },
      "source": [
        "   print(10 > 9)\n",
        "   print(10 == 10)\n",
        "   print(10 < 9)\n",
        "   \n",
        "   a=100\n",
        "   b=200\n",
        "   print(a>b)"
      ],
      "execution_count": 23,
      "outputs": [
        {
          "output_type": "stream",
          "text": [
            "True\n",
            "True\n",
            "False\n",
            "False\n"
          ],
          "name": "stdout"
        }
      ]
    },
    {
      "cell_type": "markdown",
      "metadata": {
        "id": "rV82S_av6jpu",
        "colab_type": "text"
      },
      "source": [
        "# **Again you can change the code and play with it as much as you want !!!**\n"
      ]
    }
  ]
}